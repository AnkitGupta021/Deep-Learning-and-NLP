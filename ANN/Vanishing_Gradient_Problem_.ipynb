{
  "nbformat": 4,
  "nbformat_minor": 0,
  "metadata": {
    "colab": {
      "provenance": [],
      "gpuType": "T4"
    },
    "kernelspec": {
      "name": "python3",
      "display_name": "Python 3"
    },
    "language_info": {
      "name": "python"
    },
    "accelerator": "GPU"
  },
  "cells": [
    {
      "cell_type": "code",
      "execution_count": 34,
      "metadata": {
        "id": "yHdEiqyvhlSv"
      },
      "outputs": [],
      "source": [
        "## Vanishing Gradient Issue can be detected using 2 ways\n",
        "## 1. Observing the loss values, if No change then issue of Vanishinig Gradient\n",
        "## 2. Observing the weights old and new weigths after compiling, if No change then Vanishing Gradient Issue"
      ]
    },
    {
      "cell_type": "code",
      "source": [
        "import numpy as np\n",
        "import pandas as pd\n",
        "import matplotlib.pyplot as plt\n",
        "import seaborn as sns\n",
        "\n",
        "from sklearn.model_selection import train_test_split\n",
        "from sklearn.datasets import make_moons\n",
        "\n",
        "import tensorflow as tf\n",
        "from tensorflow import keras\n",
        "from keras import Sequential\n",
        "from keras.layers import Dense"
      ],
      "metadata": {
        "id": "d8t4OoyHqcBz"
      },
      "execution_count": 35,
      "outputs": []
    },
    {
      "cell_type": "code",
      "source": [
        "## Creating a Classificaiton Dataset\n",
        "\n",
        "x, y = make_moons(n_samples = 250, noise = 0.05, random_state=10 )"
      ],
      "metadata": {
        "id": "Ax_or61ciMu2"
      },
      "execution_count": 36,
      "outputs": []
    },
    {
      "cell_type": "code",
      "source": [
        "x"
      ],
      "metadata": {
        "colab": {
          "base_uri": "https://localhost:8080/"
        },
        "id": "hx1-AkKvig9q",
        "outputId": "06d6a438-fb85-471e-a2d3-674b798e1b89"
      },
      "execution_count": 37,
      "outputs": [
        {
          "output_type": "execute_result",
          "data": {
            "text/plain": [
              "array([[ 0.07817062,  1.01078238],\n",
              "       [ 0.14395651,  0.39773011],\n",
              "       [ 0.05873797,  1.00999408],\n",
              "       [ 0.16888773, -0.07181786],\n",
              "       [-0.82223785,  0.34678687],\n",
              "       [-1.02444326,  0.19608442],\n",
              "       [ 1.2289096 , -0.5037775 ],\n",
              "       [-0.70269356,  0.76707971],\n",
              "       [ 1.69798069, -0.16895002],\n",
              "       [ 0.31616766,  0.98279836],\n",
              "       [ 0.39784647, -0.2365455 ],\n",
              "       [ 0.85485805, -0.52286561],\n",
              "       [ 1.96545163,  0.29067961],\n",
              "       [ 1.69921842, -0.35711428],\n",
              "       [ 0.75056777,  0.50987914],\n",
              "       [ 1.85706753, -0.09652444],\n",
              "       [-0.04987501,  0.94523158],\n",
              "       [ 0.20572911, -0.07586066],\n",
              "       [ 1.48653026, -0.41220662],\n",
              "       [-0.65698323,  0.76582487],\n",
              "       [ 0.01858943,  1.00935161],\n",
              "       [ 1.93093368,  0.21015622],\n",
              "       [ 0.03667073,  0.23783456],\n",
              "       [ 0.16379415, -0.07994554],\n",
              "       [ 0.0705555 ,  0.47217128],\n",
              "       [ 0.10501036,  0.93427279],\n",
              "       [ 0.94457328,  0.24565085],\n",
              "       [ 0.68514267,  0.65886351],\n",
              "       [ 1.93853632,  0.09990343],\n",
              "       [-0.86918397,  0.4474754 ],\n",
              "       [ 0.04565209,  0.20069296],\n",
              "       [ 1.35199571, -0.43814634],\n",
              "       [-0.47940714,  0.85767814],\n",
              "       [ 1.87636595,  0.21857792],\n",
              "       [ 1.03300218, -0.52064459],\n",
              "       [ 0.97327634,  0.17785938],\n",
              "       [ 0.45464713, -0.39243303],\n",
              "       [ 0.75638981,  0.46367105],\n",
              "       [-0.31394635,  0.98164791],\n",
              "       [-0.82902475,  0.41306733],\n",
              "       [ 0.84630201,  0.37319146],\n",
              "       [-0.91627674,  0.23924352],\n",
              "       [ 0.08473099,  0.95030582],\n",
              "       [-1.03454922,  0.00823663],\n",
              "       [ 1.55728759, -0.41613922],\n",
              "       [ 1.07469246,  0.00509177],\n",
              "       [ 0.75082102, -0.53382354],\n",
              "       [ 0.96689967, -0.55483359],\n",
              "       [ 0.39537051, -0.30507998],\n",
              "       [-0.02022637,  1.01303055],\n",
              "       [ 0.78213152, -0.46243754],\n",
              "       [-0.19471767,  0.98886391],\n",
              "       [ 1.02061617, -0.49580723],\n",
              "       [ 0.42322916,  0.85213508],\n",
              "       [-0.78001206,  0.68949726],\n",
              "       [ 0.60942496, -0.4428185 ],\n",
              "       [ 0.17115471, -0.22698714],\n",
              "       [-0.90465032,  0.45894013],\n",
              "       [ 0.89450223,  0.57736808],\n",
              "       [ 0.28047334,  0.90340344],\n",
              "       [ 0.95379471, -0.43251828],\n",
              "       [ 1.00475189,  0.17651803],\n",
              "       [ 0.29138275, -0.2066426 ],\n",
              "       [ 0.53755687, -0.42266195],\n",
              "       [-0.51051349,  0.79592379],\n",
              "       [ 1.38628633, -0.3272875 ],\n",
              "       [ 1.02019129,  0.01722171],\n",
              "       [ 1.18132458, -0.44675344],\n",
              "       [-0.23575183,  1.02751044],\n",
              "       [ 1.93539869,  0.03496917],\n",
              "       [-0.08668179,  0.99157679],\n",
              "       [ 0.28567967,  1.07656092],\n",
              "       [-0.92006758,  0.37138124],\n",
              "       [ 0.114244  , -0.01515943],\n",
              "       [ 0.70902083,  0.69207979],\n",
              "       [-1.0338613 ,  0.05533246],\n",
              "       [ 0.92178782,  0.23262016],\n",
              "       [ 1.95328391,  0.47609032],\n",
              "       [ 0.5531374 ,  0.82983339],\n",
              "       [ 1.43664405, -0.30497657],\n",
              "       [ 0.84978669, -0.4311715 ],\n",
              "       [-0.92645761,  0.55300341],\n",
              "       [ 0.07900143,  0.38887307],\n",
              "       [ 1.54586878, -0.23259603],\n",
              "       [ 1.56294809, -0.30688673],\n",
              "       [ 0.72205389, -0.44932647],\n",
              "       [-0.37276055,  0.97008381],\n",
              "       [ 0.76604266,  0.53036709],\n",
              "       [-0.03708285,  0.34962957],\n",
              "       [ 1.96848684,  0.32285463],\n",
              "       [-0.34851182,  1.01855807],\n",
              "       [ 0.44323428, -0.35340373],\n",
              "       [ 1.89582882,  0.22463468],\n",
              "       [ 0.67110004, -0.42548142],\n",
              "       [-0.0443683 ,  0.3823762 ],\n",
              "       [ 1.83864177, -0.25643574],\n",
              "       [ 1.92257147,  0.05594094],\n",
              "       [ 2.07188712,  0.43864593],\n",
              "       [-1.00552587,  0.049284  ],\n",
              "       [ 0.41989025, -0.43560153],\n",
              "       [ 0.4733459 ,  0.83970584],\n",
              "       [ 1.97293868,  0.47546711],\n",
              "       [ 0.76746752, -0.51970971],\n",
              "       [ 0.82107474,  0.55877766],\n",
              "       [ 0.42634231, -0.28862947],\n",
              "       [ 0.61070437,  0.80754225],\n",
              "       [ 1.46505816, -0.32692546],\n",
              "       [-0.29986822,  0.90939535],\n",
              "       [ 1.67681298, -0.24241849],\n",
              "       [ 0.34099795,  0.94287776],\n",
              "       [ 1.82926194, -0.05874256],\n",
              "       [ 1.33058488, -0.45694197],\n",
              "       [-0.90221484,  0.1621232 ],\n",
              "       [-0.02746921,  0.07876549],\n",
              "       [ 1.31494467, -0.4068388 ],\n",
              "       [-0.76115681,  0.56044439],\n",
              "       [-0.8253384 ,  0.60515868],\n",
              "       [ 1.93687158,  0.16298171],\n",
              "       [-0.12270727,  0.93033119],\n",
              "       [-0.07276644,  0.97374409],\n",
              "       [ 1.67383218, -0.21772951],\n",
              "       [ 0.85649029,  0.51177164],\n",
              "       [ 0.59325512,  0.78372692],\n",
              "       [-0.95759699,  0.16274663],\n",
              "       [ 1.98760749,  0.41046913],\n",
              "       [ 2.00690233,  0.19496791],\n",
              "       [-0.75445146,  0.59966712],\n",
              "       [ 1.36457291, -0.43227708],\n",
              "       [ 0.21135667, -0.05357258],\n",
              "       [ 1.49475493, -0.35475185],\n",
              "       [ 1.7118969 , -0.17544085],\n",
              "       [-0.6409888 ,  0.77480366],\n",
              "       [ 0.47833438,  0.89074521],\n",
              "       [-0.44150308,  0.89180972],\n",
              "       [ 1.12434978, -0.47566463],\n",
              "       [-0.90020999,  0.40672841],\n",
              "       [ 0.22114763,  1.02309854],\n",
              "       [ 1.01881009,  0.39503756],\n",
              "       [ 1.12962578, -0.45257013],\n",
              "       [ 0.33479185,  1.00337554],\n",
              "       [ 0.96224319,  0.45897726],\n",
              "       [ 0.30887621, -0.26054499],\n",
              "       [-0.54323754,  0.82064584],\n",
              "       [-0.57987446,  0.88531157],\n",
              "       [ 1.94973357,  0.01912402],\n",
              "       [ 0.67657832,  0.66770304],\n",
              "       [ 0.92441924,  0.03635422],\n",
              "       [ 0.89089778,  0.5747464 ],\n",
              "       [ 0.13755825,  0.10687408],\n",
              "       [ 0.01918996,  0.42030771],\n",
              "       [ 0.39187552,  0.92086683],\n",
              "       [ 0.56644618, -0.43174417],\n",
              "       [-0.81694311,  0.56746471],\n",
              "       [ 1.29142563, -0.5620901 ],\n",
              "       [ 0.40333019,  0.9610563 ],\n",
              "       [ 0.47768368, -0.33903938],\n",
              "       [-0.42973102,  0.94877277],\n",
              "       [ 1.73829101, -0.03203956],\n",
              "       [ 0.93189552,  0.33958584],\n",
              "       [-1.0239508 ,  0.32545096],\n",
              "       [ 0.98345939,  0.27204469],\n",
              "       [ 1.19410979, -0.46456353],\n",
              "       [-0.57519316,  0.82131118],\n",
              "       [ 0.08612557,  0.24141153],\n",
              "       [ 0.06100497,  0.18264067],\n",
              "       [ 0.63608501, -0.46420364],\n",
              "       [ 1.00007103, -0.50391593],\n",
              "       [-0.89509378,  0.4222785 ],\n",
              "       [ 0.59975886,  0.85836554],\n",
              "       [-0.90758082,  0.37423572],\n",
              "       [ 0.3166843 ,  0.90537147],\n",
              "       [ 0.56694624, -0.51001664],\n",
              "       [ 0.91491661, -0.46489814],\n",
              "       [ 0.94354893, -0.56990375],\n",
              "       [ 0.98958814,  0.03037764],\n",
              "       [ 0.07223177,  0.3443157 ],\n",
              "       [ 0.44305041,  0.85472578],\n",
              "       [-0.7984795 ,  0.59163141],\n",
              "       [ 1.76640513, -0.0645383 ],\n",
              "       [ 0.76472579,  0.67344786],\n",
              "       [ 0.08482588,  0.12314967],\n",
              "       [ 0.70715577, -0.45819859],\n",
              "       [ 0.14988819,  0.00387784],\n",
              "       [ 1.18357419, -0.56282025],\n",
              "       [ 1.87120249, -0.06993133],\n",
              "       [-0.22202401,  1.0242317 ],\n",
              "       [-0.99498384,  0.23670621],\n",
              "       [ 1.31850457, -0.52373636],\n",
              "       [ 1.96201706,  0.46217959],\n",
              "       [ 0.04775289,  0.26814988],\n",
              "       [-0.38801082,  0.97548437],\n",
              "       [ 2.01644618,  0.29853738],\n",
              "       [ 1.95571026,  0.44240045],\n",
              "       [-0.71496433,  0.70220402],\n",
              "       [ 0.22283014, -0.18496273],\n",
              "       [ 0.11230942, -0.05839055],\n",
              "       [ 1.64632901, -0.27803723],\n",
              "       [-0.77281378,  0.66828303],\n",
              "       [ 0.97454926,  0.47472717],\n",
              "       [ 0.79554445,  0.50941495],\n",
              "       [ 0.5936881 ,  0.81998831],\n",
              "       [ 0.08496201,  1.03482076],\n",
              "       [ 0.73719696,  0.72393587],\n",
              "       [-0.07069326,  1.08165637],\n",
              "       [ 0.09230236,  0.09572368],\n",
              "       [-0.55117888,  0.82682559],\n",
              "       [ 0.33174505, -0.29890082],\n",
              "       [ 0.69725797,  0.73573611],\n",
              "       [-0.59129651,  0.85775113],\n",
              "       [-0.78802137,  0.67776194],\n",
              "       [ 0.10377986,  0.08877427],\n",
              "       [-0.05512859,  0.45847547],\n",
              "       [ 0.31908529, -0.07188702],\n",
              "       [ 0.98633152,  0.32501103],\n",
              "       [ 1.28239774, -0.45197882],\n",
              "       [-0.37066162,  0.9510572 ],\n",
              "       [ 1.84765656,  0.00778788],\n",
              "       [ 0.77868678, -0.48192517],\n",
              "       [ 0.76892171, -0.5029338 ],\n",
              "       [ 1.41408043, -0.39420912],\n",
              "       [ 1.89132547, -0.04154169],\n",
              "       [ 1.32578414, -0.42925676],\n",
              "       [ 0.67355327,  0.69142088],\n",
              "       [ 0.01041369,  0.98022922],\n",
              "       [-0.98135197,  0.0233612 ],\n",
              "       [-1.04267124,  0.36356721],\n",
              "       [-0.58051812,  0.72932816],\n",
              "       [ 0.22192502,  0.91298325],\n",
              "       [ 0.02992562,  0.1165573 ],\n",
              "       [-0.86715711,  0.56779805],\n",
              "       [ 0.9289256 ,  0.32407233],\n",
              "       [-0.98803217,  0.20564003],\n",
              "       [ 0.42421653, -0.27248688],\n",
              "       [ 0.58817375,  0.88402231],\n",
              "       [ 1.90120689,  0.15997854],\n",
              "       [ 1.0265063 ,  0.01781931],\n",
              "       [-0.28779112,  0.86741473],\n",
              "       [ 0.99264294,  0.19212099],\n",
              "       [ 1.99574106,  0.34771862],\n",
              "       [ 0.35985021, -0.18842593],\n",
              "       [ 1.80866899, -0.12792257],\n",
              "       [ 1.69733122, -0.20699346],\n",
              "       [ 0.24209806, -0.2222063 ],\n",
              "       [-0.94649608,  0.01991759],\n",
              "       [-1.01607534,  0.34337815],\n",
              "       [-0.01464551,  1.02688876],\n",
              "       [ 0.88152167,  0.29713359],\n",
              "       [ 1.86271424,  0.01150381],\n",
              "       [ 0.03278298,  0.36608889],\n",
              "       [ 0.96982618,  0.24589114]])"
            ]
          },
          "metadata": {},
          "execution_count": 37
        }
      ]
    },
    {
      "cell_type": "code",
      "source": [
        "y"
      ],
      "metadata": {
        "colab": {
          "base_uri": "https://localhost:8080/"
        },
        "id": "HhJOIHbAijtP",
        "outputId": "8807fd4f-8bb5-4920-81d6-6f582b36c365"
      },
      "execution_count": 38,
      "outputs": [
        {
          "output_type": "execute_result",
          "data": {
            "text/plain": [
              "array([0, 1, 0, 1, 0, 0, 1, 0, 1, 0, 1, 1, 1, 1, 0, 1, 0, 1, 1, 0, 0, 1,\n",
              "       1, 1, 1, 0, 0, 0, 1, 0, 1, 1, 0, 1, 1, 0, 1, 0, 0, 0, 0, 0, 0, 0,\n",
              "       1, 0, 1, 1, 1, 0, 1, 0, 1, 0, 0, 1, 1, 0, 0, 0, 1, 0, 1, 1, 0, 1,\n",
              "       0, 1, 0, 1, 0, 0, 0, 1, 0, 0, 0, 1, 0, 1, 1, 0, 1, 1, 1, 1, 0, 0,\n",
              "       1, 1, 0, 1, 1, 1, 1, 1, 1, 1, 0, 1, 0, 1, 1, 0, 1, 0, 1, 0, 1, 0,\n",
              "       1, 1, 0, 1, 1, 0, 0, 1, 0, 0, 1, 0, 0, 0, 1, 1, 0, 1, 1, 1, 1, 0,\n",
              "       0, 0, 1, 0, 0, 0, 1, 0, 0, 1, 0, 0, 1, 0, 0, 0, 1, 1, 0, 1, 0, 1,\n",
              "       0, 1, 0, 1, 0, 0, 0, 1, 0, 1, 1, 1, 1, 0, 0, 0, 0, 1, 1, 1, 0, 1,\n",
              "       0, 0, 1, 0, 1, 1, 1, 1, 1, 0, 0, 1, 1, 1, 0, 1, 1, 0, 1, 1, 1, 0,\n",
              "       0, 0, 0, 0, 0, 0, 1, 0, 1, 0, 0, 0, 1, 1, 1, 0, 1, 0, 1, 1, 1, 1,\n",
              "       1, 1, 0, 0, 0, 0, 0, 0, 1, 0, 0, 0, 1, 0, 1, 0, 0, 0, 1, 1, 1, 1,\n",
              "       1, 0, 0, 0, 0, 1, 1, 0])"
            ]
          },
          "metadata": {},
          "execution_count": 38
        }
      ]
    },
    {
      "cell_type": "code",
      "source": [
        "# Visualising the Data\n",
        "\n",
        "plt.scatter(x[:,0], x[:,1], c=y ,s=200)\n",
        "plt.show()"
      ],
      "metadata": {
        "colab": {
          "base_uri": "https://localhost:8080/",
          "height": 430
        },
        "id": "U6znEwrcikqa",
        "outputId": "7593d4f0-f101-4bf7-d114-59be14bf84e5"
      },
      "execution_count": 39,
      "outputs": [
        {
          "output_type": "display_data",
          "data": {
            "text/plain": [
              "<Figure size 640x480 with 1 Axes>"
            ],
            "image/png": "[encoded data removed]"
          },
          "metadata": {}
        }
      ]
    },
    {
      "cell_type": "code",
      "source": [
        "## Creating a complex DNN and checking the weight and loss using sigmoid as activation function\n",
        "\n",
        "model = Sequential()\n",
        "\n",
        "model.add(Dense(10, activation='sigmoid', input_dim=2))\n",
        "model.add(Dense(10, activation='sigmoid'))\n",
        "model.add(Dense(10, activation='sigmoid'))\n",
        "model.add(Dense(10, activation='sigmoid'))\n",
        "model.add(Dense(10, activation='sigmoid'))\n",
        "model.add(Dense(10, activation='sigmoid'))\n",
        "model.add(Dense(10, activation='sigmoid'))\n",
        "model.add(Dense(10, activation='sigmoid'))\n",
        "model.add(Dense(10, activation='sigmoid'))\n",
        "model.add(Dense(10, activation='sigmoid'))\n",
        "model.add(Dense(10, activation='sigmoid'))\n",
        "model.add(Dense(1, activation='sigmoid'))\n"
      ],
      "metadata": {
        "id": "GQCpOsG3ixeB"
      },
      "execution_count": 99,
      "outputs": []
    },
    {
      "cell_type": "code",
      "source": [
        "## Compiling the model\n",
        "\n",
        "model.compile(loss='binary_crossentropy', optimizer='adam', metrics=['accuracy'])"
      ],
      "metadata": {
        "id": "wv0Sfg4YjXQm"
      },
      "execution_count": 100,
      "outputs": []
    },
    {
      "cell_type": "code",
      "source": [
        "# To get the old weight before model is trained\n",
        "\n",
        "model.get_weights()"
      ],
      "metadata": {
        "colab": {
          "base_uri": "https://localhost:8080/"
        },
        "id": "PfqewUaijkQ1",
        "outputId": "c948e18a-aec2-4946-d6cb-5bca36224dda"
      },
      "execution_count": 101,
      "outputs": [
        {
          "output_type": "execute_result",
          "data": {
            "text/plain": [
              "[array([[ 0.482503  , -0.30376717, -0.3938151 ,  0.0735783 , -0.5761489 ,\n",
              "         -0.32915255, -0.46198946, -0.31120187, -0.02209675,  0.36588854],\n",
              "        [ 0.12071395, -0.0410763 ,  0.36330146,  0.6391806 ,  0.2527172 ,\n",
              "         -0.46860617,  0.22093767, -0.24538484,  0.27015823, -0.54191893]],\n",
              "       dtype=float32),\n",
              " array([0., 0., 0., 0., 0., 0., 0., 0., 0., 0.], dtype=float32),\n",
              " array([[-0.29992652, -0.46948227,  0.10419607, -0.48350617,  0.49577904,\n",
              "         -0.04851484, -0.01075178,  0.53284335,  0.48705006,  0.42896968],\n",
              "        [ 0.18191105,  0.16307265,  0.20063084,  0.35886145, -0.2849518 ,\n",
              "         -0.30068365,  0.26390755,  0.25060642,  0.03697002,  0.5291705 ],\n",
              "        [ 0.49785876,  0.23797357, -0.4259441 , -0.2811188 , -0.2436831 ,\n",
              "          0.41364342, -0.11472586, -0.37315878,  0.06689763,  0.300254  ],\n",
              "        [-0.4492351 ,  0.30768484,  0.36584747,  0.3289413 , -0.33948922,\n",
              "         -0.47662476, -0.49134547, -0.069653  , -0.24324512, -0.4991799 ],\n",
              "        [-0.04191226, -0.45942158, -0.25864318, -0.48895139, -0.11297116,\n",
              "         -0.21730304, -0.16954768, -0.15109101, -0.25934926, -0.37239563],\n",
              "        [ 0.43873823, -0.00478548, -0.08784199, -0.2493605 , -0.46400362,\n",
              "          0.25031912,  0.01935118, -0.03457165,  0.13068545,  0.24133855],\n",
              "        [-0.52811646, -0.33904654,  0.3144418 ,  0.10175723, -0.3666075 ,\n",
              "         -0.4385531 , -0.11151785, -0.25238922, -0.35712528, -0.2605201 ],\n",
              "        [ 0.13051254, -0.04243785, -0.35207835,  0.09752893,  0.02266276,\n",
              "         -0.03825903, -0.40568167,  0.29042512, -0.27952278, -0.49285373],\n",
              "        [-0.06628659, -0.4604997 , -0.20796463, -0.3965088 ,  0.15120369,\n",
              "         -0.16871127,  0.13215387, -0.10023719,  0.20468777,  0.433392  ],\n",
              "        [ 0.04347795, -0.343072  ,  0.5322782 , -0.00270861,  0.5441309 ,\n",
              "         -0.25798136, -0.1338903 ,  0.2412821 , -0.23470014,  0.31510818]],\n",
              "       dtype=float32),\n",
              " array([0., 0., 0., 0., 0., 0., 0., 0., 0., 0.], dtype=float32),\n",
              " array([[ 1.97426379e-01,  4.19819951e-02, -2.48543441e-01,\n",
              "         -3.18297148e-02,  3.62190127e-01,  2.71331549e-01,\n",
              "          1.38214290e-01,  5.26751876e-01, -2.82280385e-01,\n",
              "         -5.98814189e-02],\n",
              "        [-1.49472773e-01,  3.13541412e-01, -2.11142600e-01,\n",
              "         -2.29576409e-01,  2.00487614e-01, -2.17620641e-01,\n",
              "          5.34269691e-01,  1.36906624e-01,  3.33131731e-01,\n",
              "         -1.91276491e-01],\n",
              "        [-2.56898522e-01,  3.05704713e-01, -2.31407642e-01,\n",
              "          3.71486723e-01,  6.29417300e-02, -2.51872867e-01,\n",
              "         -2.41378486e-01, -4.98011142e-01, -1.89710736e-01,\n",
              "          3.55472684e-01],\n",
              "        [ 1.84105575e-01,  8.05510283e-02, -3.81119490e-01,\n",
              "         -7.67488480e-02, -4.88642961e-01,  4.74720597e-01,\n",
              "         -8.06185603e-02,  2.00717270e-01, -1.37168437e-01,\n",
              "         -5.35825968e-01],\n",
              "        [ 3.76145840e-01, -3.52307141e-01, -4.30595636e-01,\n",
              "         -3.40132713e-02, -3.78282130e-01,  5.14072061e-01,\n",
              "          1.28513575e-02, -2.64864862e-01,  9.67025757e-04,\n",
              "         -5.15328348e-01],\n",
              "        [ 5.21468520e-01, -3.95938933e-01, -3.45243037e-01,\n",
              "         -2.53514051e-02,  8.17234516e-02, -4.59275723e-01,\n",
              "         -1.94165081e-01, -4.28460002e-01,  3.12673926e-01,\n",
              "          4.12400782e-01],\n",
              "        [-2.32703209e-01,  5.36339521e-01,  4.04376864e-01,\n",
              "          2.54572392e-01, -2.78957576e-01,  4.64725614e-01,\n",
              "          2.02298164e-04,  5.43253660e-01, -5.21110713e-01,\n",
              "          3.44019830e-01],\n",
              "        [-3.64824831e-01,  3.05241525e-01, -4.89063323e-01,\n",
              "          4.83698606e-01, -7.48499930e-02, -4.41494167e-01,\n",
              "          4.95614529e-01, -2.48035580e-01, -1.95254683e-01,\n",
              "         -2.30321556e-01],\n",
              "        [-1.74167216e-01,  5.40873528e-01,  4.91459608e-01,\n",
              "          7.74449110e-02, -4.64824378e-01,  2.93887258e-01,\n",
              "          5.80609441e-02, -5.87163270e-02, -3.52992833e-01,\n",
              "         -9.11692083e-02],\n",
              "        [ 2.85128117e-01,  4.59228158e-02, -4.92736340e-01,\n",
              "          2.32481301e-01,  1.02672756e-01,  1.56969011e-01,\n",
              "          3.53120446e-01,  2.52615035e-01,  5.27874827e-01,\n",
              "          2.05336392e-01]], dtype=float32),\n",
              " array([0., 0., 0., 0., 0., 0., 0., 0., 0., 0.], dtype=float32),\n",
              " array([[-0.45852327, -0.41022545, -0.54052407, -0.01748431, -0.13051516,\n",
              "          0.4461679 ,  0.4151076 ,  0.23250812,  0.41979212, -0.28562537],\n",
              "        [ 0.44580513,  0.37319535, -0.34739769,  0.50970423, -0.3603846 ,\n",
              "          0.45479476,  0.4229163 ,  0.50982106,  0.09771609, -0.14385164],\n",
              "        [ 0.24078405,  0.01551104, -0.00753725, -0.11553916, -0.24863902,\n",
              "         -0.23800999,  0.19669896, -0.4123924 ,  0.16787541,  0.07661617],\n",
              "        [-0.47870645, -0.42777625, -0.03535163, -0.03061342,  0.31784827,\n",
              "         -0.10887906, -0.12232473, -0.52691114, -0.03685027,  0.1428529 ],\n",
              "        [-0.5139445 , -0.28338593, -0.10634294, -0.15444958, -0.3151629 ,\n",
              "          0.17093319, -0.4998408 , -0.2894401 , -0.08494478, -0.24325737],\n",
              "        [ 0.19399947, -0.23264116, -0.11770833,  0.15293545,  0.0606665 ,\n",
              "         -0.27425513, -0.01029563, -0.53176075, -0.13519552,  0.02324009],\n",
              "        [-0.24770167, -0.5322396 , -0.1542665 , -0.4727343 ,  0.26422656,\n",
              "         -0.03095073, -0.43759704, -0.218456  , -0.33203423,  0.45761573],\n",
              "        [-0.33935434,  0.35548156,  0.46806216, -0.42260015, -0.54291487,\n",
              "         -0.28805298, -0.01514471, -0.25774044, -0.30588466,  0.01989847],\n",
              "        [ 0.17566061, -0.3786915 , -0.02874827,  0.54300547, -0.4014697 ,\n",
              "          0.20771652,  0.31841546,  0.2100181 ,  0.40348232,  0.09307253],\n",
              "        [-0.45560646,  0.03406316,  0.35294688, -0.39474708, -0.34944126,\n",
              "         -0.5422749 ,  0.0787679 ,  0.2429837 , -0.1269466 , -0.06535122]],\n",
              "       dtype=float32),\n",
              " array([0., 0., 0., 0., 0., 0., 0., 0., 0., 0.], dtype=float32),\n",
              " array([[ 0.24827325,  0.4746611 , -0.31585488, -0.08745414,  0.10800415,\n",
              "          0.4628656 ,  0.5051198 , -0.29493573,  0.17290354,  0.5300249 ],\n",
              "        [-0.41916245,  0.11046988, -0.22186354,  0.25491136,  0.4309699 ,\n",
              "          0.37022942,  0.2669685 , -0.47683746,  0.14091825, -0.2613282 ],\n",
              "        [ 0.00208759, -0.46060365, -0.05554461, -0.33868414,  0.23556882,\n",
              "          0.40153027, -0.06719381, -0.02022511, -0.37413466, -0.47525227],\n",
              "        [-0.17336866, -0.03089786, -0.06345481, -0.39737123,  0.5385201 ,\n",
              "         -0.3368947 ,  0.5315623 , -0.12848023,  0.25572348,  0.5070064 ],\n",
              "        [-0.38715577,  0.11466748, -0.08779916, -0.12020752, -0.320094  ,\n",
              "         -0.21588773, -0.07095587, -0.19612727, -0.1479949 ,  0.45408   ],\n",
              "        [ 0.3420542 ,  0.46345007,  0.4987973 ,  0.49054754, -0.34601986,\n",
              "         -0.20240107, -0.11311272,  0.40364802, -0.26582456, -0.17272565],\n",
              "        [-0.38639277,  0.04559678, -0.5196197 , -0.17738566,  0.05804026,\n",
              "          0.1429323 ,  0.47813225, -0.16992965,  0.315925  , -0.48012134],\n",
              "        [ 0.33178496,  0.25113493, -0.29041454,  0.49124014, -0.19734904,\n",
              "          0.31953114,  0.3754617 , -0.3200193 ,  0.3725642 ,  0.22664863],\n",
              "        [ 0.41863304, -0.18169034,  0.39563245,  0.03613573, -0.31084725,\n",
              "         -0.52743757, -0.37396973,  0.06816041,  0.03947443,  0.39602184],\n",
              "        [-0.40926498, -0.2807564 , -0.45101386,  0.44364154,  0.24185765,\n",
              "         -0.5288767 ,  0.3122815 , -0.01659369,  0.39671373,  0.48516083]],\n",
              "       dtype=float32),\n",
              " array([0., 0., 0., 0., 0., 0., 0., 0., 0., 0.], dtype=float32),\n",
              " array([[-0.2872765 , -0.18509421,  0.05729556, -0.21120253, -0.484942  ,\n",
              "         -0.14515242, -0.09997144, -0.5445904 , -0.29067245, -0.11218867],\n",
              "        [ 0.37661505, -0.48294243, -0.5025104 , -0.5346802 , -0.1097126 ,\n",
              "          0.12741399, -0.20085207, -0.4279477 , -0.22070903, -0.5457866 ],\n",
              "        [ 0.01440769,  0.03394943, -0.10849333, -0.41503432,  0.3280589 ,\n",
              "         -0.4046631 , -0.22458902, -0.08394551, -0.33280104,  0.31992447],\n",
              "        [ 0.37348497,  0.44811648, -0.19571868, -0.18532497,  0.07229882,\n",
              "         -0.05376446, -0.06988114, -0.2694276 , -0.34487844, -0.5111548 ],\n",
              "        [-0.48780054, -0.48119178, -0.14516038, -0.5403704 , -0.27153957,\n",
              "          0.17836112,  0.07596326, -0.37627354, -0.3403844 ,  0.02460188],\n",
              "        [ 0.05935019, -0.4921226 , -0.5021032 ,  0.17154974,  0.5444914 ,\n",
              "         -0.41820395,  0.41653192, -0.36322644,  0.27697462,  0.3252864 ],\n",
              "        [ 0.50832975, -0.23048621, -0.13309282, -0.41779274, -0.02002192,\n",
              "         -0.4926324 , -0.08285943, -0.08382866,  0.27123612,  0.53002334],\n",
              "        [-0.1866486 ,  0.37584   , -0.3913646 , -0.00483918, -0.43550256,\n",
              "         -0.21949378,  0.30231154,  0.44658917,  0.13330895,  0.2992934 ],\n",
              "        [ 0.09162551, -0.44500384,  0.4288063 , -0.3559445 , -0.38096333,\n",
              "          0.53240824,  0.18168813, -0.20658275, -0.2514879 ,  0.1394118 ],\n",
              "        [-0.47094628, -0.47386622, -0.11979643,  0.19908035, -0.48935714,\n",
              "         -0.3799091 ,  0.41236538, -0.2610973 , -0.08126131,  0.3645494 ]],\n",
              "       dtype=float32),\n",
              " array([0., 0., 0., 0., 0., 0., 0., 0., 0., 0.], dtype=float32),\n",
              " array([[-0.20431483, -0.1850442 , -0.0455448 , -0.37377658, -0.3733164 ,\n",
              "         -0.35937166, -0.11348045, -0.44924283, -0.4747324 ,  0.45256698],\n",
              "        [-0.46583197,  0.52586555,  0.53267944,  0.28658324,  0.03293121,\n",
              "         -0.395675  ,  0.2085892 ,  0.36899763,  0.17093098,  0.42832106],\n",
              "        [ 0.41308087,  0.4442259 ,  0.39030594, -0.27080306,  0.38328254,\n",
              "         -0.03462142, -0.11168957, -0.45623237, -0.33737057,  0.1375503 ],\n",
              "        [ 0.43506813, -0.23761916, -0.09427327,  0.3849491 ,  0.0981133 ,\n",
              "         -0.41285026, -0.34715962,  0.34507823,  0.2533322 ,  0.13762444],\n",
              "        [-0.12922901,  0.02521157, -0.25674352,  0.45339775, -0.35070598,\n",
              "         -0.1869146 , -0.33653128,  0.12332815,  0.1654039 ,  0.48539448],\n",
              "        [ 0.1352632 ,  0.34678614, -0.33958298,  0.34352958, -0.22054866,\n",
              "          0.4599918 ,  0.10743934, -0.3277293 , -0.20975757, -0.05160847],\n",
              "        [-0.48924443, -0.4450421 , -0.15536383, -0.5034318 , -0.06190005,\n",
              "         -0.01098514,  0.13968343, -0.06800932, -0.18125638,  0.21719623],\n",
              "        [ 0.48827827, -0.20722145,  0.2292468 , -0.00712395,  0.22580415,\n",
              "          0.28081506,  0.19976467,  0.05936575,  0.15701497,  0.41794145],\n",
              "        [-0.3547563 , -0.23125604, -0.5466617 ,  0.4374398 ,  0.02232087,\n",
              "         -0.24440616, -0.2613407 , -0.4322367 ,  0.5139067 , -0.3945893 ],\n",
              "        [ 0.23076022,  0.03275138,  0.13821405,  0.13044453,  0.5214828 ,\n",
              "          0.46015608, -0.33885288,  0.50307846, -0.27855602, -0.3981806 ]],\n",
              "       dtype=float32),\n",
              " array([0., 0., 0., 0., 0., 0., 0., 0., 0., 0.], dtype=float32),\n",
              " array([[ 0.34040946,  0.43857986,  0.4296832 , -0.37977082,  0.33736324,\n",
              "          0.00988412,  0.09748846, -0.3080033 ,  0.39519852,  0.02945644],\n",
              "        [ 0.23652089,  0.03675443,  0.33960623, -0.34688044, -0.18752667,\n",
              "          0.09783334, -0.0964601 , -0.4284741 ,  0.5207418 , -0.1765576 ],\n",
              "        [-0.53160614,  0.4179058 ,  0.4840727 , -0.38106477, -0.35650015,\n",
              "          0.47108972,  0.22287112, -0.16818619, -0.41457438,  0.2749675 ],\n",
              "        [-0.23210499,  0.25497   ,  0.5282792 ,  0.28869838, -0.24079165,\n",
              "          0.34916902,  0.17743361, -0.24048999,  0.04562068,  0.00854421],\n",
              "        [ 0.06774539, -0.329925  ,  0.01514184, -0.27906716,  0.10300851,\n",
              "          0.12036371,  0.4276719 ,  0.45119405,  0.02263796, -0.3596246 ],\n",
              "        [ 0.43701017, -0.00870639,  0.01921737,  0.46974528,  0.43920565,\n",
              "          0.21647853,  0.33556455,  0.0917719 ,  0.26098537,  0.32156283],\n",
              "        [-0.29971653, -0.19041538,  0.42651254,  0.46839857, -0.19535118,\n",
              "          0.04863346, -0.37453192, -0.27663523,  0.3410868 , -0.44670865],\n",
              "        [ 0.10005736,  0.27680904, -0.11101416,  0.4852383 ,  0.14633423,\n",
              "         -0.51656497,  0.02196687, -0.42406613,  0.02063984,  0.20100158],\n",
              "        [ 0.28121698,  0.01845014,  0.14933747,  0.48254573,  0.50995684,\n",
              "         -0.03009683,  0.16795272,  0.4357136 ,  0.04652983, -0.32697493],\n",
              "        [-0.423397  ,  0.09191853,  0.43122137,  0.38275564,  0.31365436,\n",
              "          0.20816493, -0.2527755 ,  0.42182958,  0.1982283 , -0.19771183]],\n",
              "       dtype=float32),\n",
              " array([0., 0., 0., 0., 0., 0., 0., 0., 0., 0.], dtype=float32),\n",
              " array([[ 4.1242301e-02,  2.6861548e-02,  3.1492054e-01,  4.9210691e-01,\n",
              "         -3.7554026e-02,  1.4324987e-01, -2.4843991e-02, -5.4239094e-01,\n",
              "          9.0857267e-02,  5.0342512e-01],\n",
              "        [-4.3653342e-01,  4.7604561e-01, -5.4429322e-01, -5.0580287e-01,\n",
              "          2.6041269e-04,  1.5858555e-01,  3.6199307e-01, -5.1925051e-01,\n",
              "          2.4579877e-01, -5.0398630e-01],\n",
              "        [ 4.4102186e-01,  2.0802021e-04, -3.9423347e-02,  7.1257412e-02,\n",
              "          3.6325204e-01,  4.2687649e-01,  2.2172433e-01, -2.4750903e-01,\n",
              "          2.9254729e-01,  4.4074291e-01],\n",
              "        [-4.8434860e-01, -2.7762154e-01, -2.3567170e-01,  5.0761259e-01,\n",
              "         -8.1385612e-02, -5.4487526e-01,  1.2206888e-01,  4.0690434e-01,\n",
              "          7.1911812e-03, -4.3971533e-01],\n",
              "        [-2.6350453e-01,  3.4436142e-01, -2.3527250e-01,  2.5222051e-01,\n",
              "         -3.0149016e-01, -3.9486080e-01, -3.1144077e-01, -3.4285927e-01,\n",
              "          1.8469292e-01, -3.2936752e-01],\n",
              "        [-4.7574759e-01,  6.1518610e-02, -1.9189560e-01,  4.2184782e-01,\n",
              "         -5.0644124e-01, -4.6499908e-02, -3.5860157e-01,  2.6243401e-01,\n",
              "          3.2586402e-01, -2.8908148e-01],\n",
              "        [-4.2517808e-01,  3.6632228e-01,  3.8410079e-01, -3.8311449e-01,\n",
              "         -2.5958875e-01, -2.8887022e-01,  4.8492551e-01,  3.8314873e-01,\n",
              "         -2.5078142e-01,  1.2940788e-01],\n",
              "        [ 2.9549307e-01, -2.1925023e-01,  1.7222589e-01,  4.4846141e-01,\n",
              "         -2.0617974e-01,  2.8057349e-01, -2.1222594e-01,  1.0285115e-01,\n",
              "         -2.7231905e-01,  2.1056628e-01],\n",
              "        [-1.7022672e-01,  8.9197636e-02,  3.7623411e-01, -4.6364802e-01,\n",
              "         -3.7511367e-01,  2.9040933e-01, -2.8186858e-02,  7.0802987e-02,\n",
              "         -3.4040907e-01, -3.7815571e-02],\n",
              "        [ 2.9972631e-01, -4.6114153e-01, -5.3527969e-01, -2.4026433e-01,\n",
              "         -3.7014836e-01,  3.0682009e-01, -4.8512638e-02, -1.2485537e-01,\n",
              "         -4.8584107e-01, -2.0118117e-02]], dtype=float32),\n",
              " array([0., 0., 0., 0., 0., 0., 0., 0., 0., 0.], dtype=float32),\n",
              " array([[-0.46284583,  0.19253916, -0.21585914, -0.2654917 ,  0.23037076,\n",
              "          0.4797759 , -0.11915264, -0.04061627,  0.08335096, -0.27170673],\n",
              "        [-0.2259017 ,  0.43853182, -0.32962477,  0.42948508, -0.5429299 ,\n",
              "         -0.17181951,  0.11963189, -0.008955  ,  0.50054634,  0.15505469],\n",
              "        [ 0.17252523, -0.38441068, -0.15844384, -0.1229274 ,  0.34588993,\n",
              "          0.45341992, -0.49967444, -0.01571071,  0.1981327 ,  0.03364635],\n",
              "        [ 0.20967948,  0.36806273,  0.19215077,  0.0117684 ,  0.29379815,\n",
              "          0.20056945, -0.05457985,  0.08956707,  0.13808125, -0.4927861 ],\n",
              "        [ 0.36187667, -0.20472449,  0.17591774, -0.37778145, -0.3191248 ,\n",
              "         -0.06547356, -0.47799695,  0.5116751 ,  0.40624905,  0.4471618 ],\n",
              "        [-0.4387961 , -0.04443651, -0.2955513 , -0.26255256,  0.14095235,\n",
              "         -0.48614234, -0.15541762, -0.5229831 , -0.2363492 , -0.43514463],\n",
              "        [-0.30816394, -0.5443487 ,  0.06756008, -0.21330199, -0.05531165,\n",
              "          0.48505712, -0.10945234,  0.08533835,  0.00304919, -0.09399813],\n",
              "        [-0.361305  ,  0.40816593,  0.32244015, -0.10313115,  0.29955173,\n",
              "          0.29558915,  0.44525027, -0.04673284,  0.11160272,  0.49173653],\n",
              "        [-0.27782303, -0.00572628, -0.5248836 , -0.08509639,  0.03939933,\n",
              "         -0.12044245, -0.25126147,  0.3323871 , -0.05205339, -0.3310137 ],\n",
              "        [ 0.38437897,  0.4051391 ,  0.48843908, -0.5327938 , -0.15867904,\n",
              "         -0.2616741 ,  0.13585776,  0.37743562, -0.00625288,  0.36984462]],\n",
              "       dtype=float32),\n",
              " array([0., 0., 0., 0., 0., 0., 0., 0., 0., 0.], dtype=float32),\n",
              " array([[ 0.16275465,  0.16485202,  0.34411198,  0.32259476,  0.53366244,\n",
              "         -0.09001771,  0.23861474,  0.35449785, -0.36322254, -0.40588993],\n",
              "        [-0.29579106,  0.23533088,  0.27969176,  0.15066373, -0.03513253,\n",
              "         -0.3424401 ,  0.42508966,  0.07591152, -0.2787814 , -0.3875388 ],\n",
              "        [-0.03652906, -0.2976241 , -0.38766664, -0.08448786, -0.48524076,\n",
              "         -0.03942025,  0.4799024 , -0.19534153, -0.22453001, -0.08881539],\n",
              "        [ 0.07715619,  0.23953396, -0.06290689, -0.2904345 , -0.41015768,\n",
              "          0.20104986, -0.54723966,  0.24800462, -0.5055604 ,  0.39080465],\n",
              "        [ 0.1823883 , -0.46197248, -0.0942874 , -0.51315653, -0.33922568,\n",
              "         -0.29564416, -0.47252417, -0.0804036 ,  0.47600448, -0.26906794],\n",
              "        [ 0.4479192 , -0.33182126, -0.34066737, -0.1719181 ,  0.4947604 ,\n",
              "         -0.40595043,  0.06150383, -0.3389269 , -0.1000126 , -0.24093762],\n",
              "        [ 0.3312891 , -0.26018566, -0.27872136,  0.3739606 , -0.10405192,\n",
              "         -0.1869654 , -0.2243878 ,  0.28266913, -0.00511891, -0.02870858],\n",
              "        [-0.49473432,  0.2785688 ,  0.41396165,  0.23469311, -0.3575003 ,\n",
              "         -0.00322211, -0.14440441,  0.5434967 ,  0.18538398,  0.46228778],\n",
              "        [-0.22669005,  0.2611472 , -0.4480977 , -0.3440897 ,  0.00942177,\n",
              "          0.4084519 ,  0.05725741,  0.38735324, -0.09871769,  0.14847845],\n",
              "        [ 0.2039429 ,  0.28651977,  0.04863721,  0.25722224, -0.03692526,\n",
              "         -0.28242755, -0.31224936, -0.12886298, -0.37822908,  0.13502967]],\n",
              "       dtype=float32),\n",
              " array([0., 0., 0., 0., 0., 0., 0., 0., 0., 0.], dtype=float32),\n",
              " array([[ 0.09504914],\n",
              "        [-0.0309298 ],\n",
              "        [-0.33397213],\n",
              "        [-0.53813916],\n",
              "        [-0.20998502],\n",
              "        [ 0.24209988],\n",
              "        [-0.41088834],\n",
              "        [ 0.50569016],\n",
              "        [ 0.44710153],\n",
              "        [-0.47681323]], dtype=float32),\n",
              " array([0.], dtype=float32)]"
            ]
          },
          "metadata": {},
          "execution_count": 101
        }
      ]
    },
    {
      "cell_type": "code",
      "source": [
        "## Storing the Old weight for the 1st payer before Model Training\n",
        "\n",
        "old_weight = model.get_weights()[0]"
      ],
      "metadata": {
        "id": "MijgaL3fjqik"
      },
      "execution_count": 102,
      "outputs": []
    },
    {
      "cell_type": "code",
      "source": [
        "## Splitting the Data\n",
        "\n",
        "x_train, x_test , y_train ,y_test = train_test_split(x,y,test_size=0.2, random_state=10)"
      ],
      "metadata": {
        "id": "8YFMln4Vj8O_"
      },
      "execution_count": 103,
      "outputs": []
    },
    {
      "cell_type": "code",
      "source": [
        "## Fitting the Model for say 100 Epochs\n",
        "\n",
        "history = model.fit(x_train, y_train , epochs=100)"
      ],
      "metadata": {
        "colab": {
          "base_uri": "https://localhost:8080/"
        },
        "id": "5xTsMlu4kPu4",
        "outputId": "f9168be4-1a13-420e-df26-2e42b76dbfbd"
      },
      "execution_count": 104,
      "outputs": [
        {
          "output_type": "stream",
          "name": "stdout",
          "text": [
            "Epoch 1/100\n",
            "7/7 [==============================] - 4s 11ms/step - loss: 0.6951 - accuracy: 0.5250\n",
            "Epoch 2/100\n",
            "7/7 [==============================] - 0s 9ms/step - loss: 0.6934 - accuracy: 0.5250\n",
            "Epoch 3/100\n",
            "7/7 [==============================] - 0s 10ms/step - loss: 0.6921 - accuracy: 0.5250\n",
            "Epoch 4/100\n",
            "7/7 [==============================] - 0s 12ms/step - loss: 0.6922 - accuracy: 0.5250\n",
            "Epoch 5/100\n",
            "7/7 [==============================] - 0s 10ms/step - loss: 0.6921 - accuracy: 0.5250\n",
            "Epoch 6/100\n",
            "7/7 [==============================] - 0s 9ms/step - loss: 0.6921 - accuracy: 0.5250\n",
            "Epoch 7/100\n",
            "7/7 [==============================] - 0s 10ms/step - loss: 0.6919 - accuracy: 0.5250\n",
            "Epoch 8/100\n",
            "7/7 [==============================] - 0s 9ms/step - loss: 0.6919 - accuracy: 0.5250\n",
            "Epoch 9/100\n",
            "7/7 [==============================] - 0s 6ms/step - loss: 0.6921 - accuracy: 0.5250\n",
            "Epoch 10/100\n",
            "7/7 [==============================] - 0s 6ms/step - loss: 0.6919 - accuracy: 0.5250\n",
            "Epoch 11/100\n",
            "7/7 [==============================] - 0s 6ms/step - loss: 0.6921 - accuracy: 0.5250\n",
            "Epoch 12/100\n",
            "7/7 [==============================] - 0s 6ms/step - loss: 0.6919 - accuracy: 0.5250\n",
            "Epoch 13/100\n",
            "7/7 [==============================] - 0s 7ms/step - loss: 0.6920 - accuracy: 0.5250\n",
            "Epoch 14/100\n",
            "7/7 [==============================] - 0s 6ms/step - loss: 0.6920 - accuracy: 0.5250\n",
            "Epoch 15/100\n",
            "7/7 [==============================] - 0s 6ms/step - loss: 0.6921 - accuracy: 0.5250\n",
            "Epoch 16/100\n",
            "7/7 [==============================] - 0s 6ms/step - loss: 0.6922 - accuracy: 0.5250\n",
            "Epoch 17/100\n",
            "7/7 [==============================] - 0s 6ms/step - loss: 0.6921 - accuracy: 0.5250\n",
            "Epoch 18/100\n",
            "7/7 [==============================] - 0s 6ms/step - loss: 0.6921 - accuracy: 0.5250\n",
            "Epoch 19/100\n",
            "7/7 [==============================] - 0s 6ms/step - loss: 0.6921 - accuracy: 0.5250\n",
            "Epoch 20/100\n",
            "7/7 [==============================] - 0s 6ms/step - loss: 0.6921 - accuracy: 0.5250\n",
            "Epoch 21/100\n",
            "7/7 [==============================] - 0s 6ms/step - loss: 0.6921 - accuracy: 0.5250\n",
            "Epoch 22/100\n",
            "7/7 [==============================] - 0s 6ms/step - loss: 0.6920 - accuracy: 0.5250\n",
            "Epoch 23/100\n",
            "7/7 [==============================] - 0s 10ms/step - loss: 0.6923 - accuracy: 0.5250\n",
            "Epoch 24/100\n",
            "7/7 [==============================] - 0s 6ms/step - loss: 0.6921 - accuracy: 0.5250\n",
            "Epoch 25/100\n",
            "7/7 [==============================] - 0s 6ms/step - loss: 0.6921 - accuracy: 0.5250\n",
            "Epoch 26/100\n",
            "7/7 [==============================] - 0s 8ms/step - loss: 0.6920 - accuracy: 0.5250\n",
            "Epoch 27/100\n",
            "7/7 [==============================] - 0s 8ms/step - loss: 0.6920 - accuracy: 0.5250\n",
            "Epoch 28/100\n",
            "7/7 [==============================] - 0s 6ms/step - loss: 0.6918 - accuracy: 0.5250\n",
            "Epoch 29/100\n",
            "7/7 [==============================] - 0s 6ms/step - loss: 0.6921 - accuracy: 0.5250\n",
            "Epoch 30/100\n",
            "7/7 [==============================] - 0s 6ms/step - loss: 0.6921 - accuracy: 0.5250\n",
            "Epoch 31/100\n",
            "7/7 [==============================] - 0s 6ms/step - loss: 0.6923 - accuracy: 0.5250\n",
            "Epoch 32/100\n",
            "7/7 [==============================] - 0s 7ms/step - loss: 0.6921 - accuracy: 0.5250\n",
            "Epoch 33/100\n",
            "7/7 [==============================] - 0s 7ms/step - loss: 0.6922 - accuracy: 0.5250\n",
            "Epoch 34/100\n",
            "7/7 [==============================] - 0s 10ms/step - loss: 0.6920 - accuracy: 0.5250\n",
            "Epoch 35/100\n",
            "7/7 [==============================] - 0s 7ms/step - loss: 0.6918 - accuracy: 0.5250\n",
            "Epoch 36/100\n",
            "7/7 [==============================] - 0s 6ms/step - loss: 0.6919 - accuracy: 0.5250\n",
            "Epoch 37/100\n",
            "7/7 [==============================] - 0s 7ms/step - loss: 0.6919 - accuracy: 0.5250\n",
            "Epoch 38/100\n",
            "7/7 [==============================] - 0s 7ms/step - loss: 0.6919 - accuracy: 0.5250\n",
            "Epoch 39/100\n",
            "7/7 [==============================] - 0s 6ms/step - loss: 0.6920 - accuracy: 0.5250\n",
            "Epoch 40/100\n",
            "7/7 [==============================] - 0s 6ms/step - loss: 0.6920 - accuracy: 0.5250\n",
            "Epoch 41/100\n",
            "7/7 [==============================] - 0s 6ms/step - loss: 0.6918 - accuracy: 0.5250\n",
            "Epoch 42/100\n",
            "7/7 [==============================] - 0s 8ms/step - loss: 0.6921 - accuracy: 0.5250\n",
            "Epoch 43/100\n",
            "7/7 [==============================] - 0s 6ms/step - loss: 0.6920 - accuracy: 0.5250\n",
            "Epoch 44/100\n",
            "7/7 [==============================] - 0s 6ms/step - loss: 0.6922 - accuracy: 0.5250\n",
            "Epoch 45/100\n",
            "7/7 [==============================] - 0s 6ms/step - loss: 0.6920 - accuracy: 0.5250\n",
            "Epoch 46/100\n",
            "7/7 [==============================] - 0s 7ms/step - loss: 0.6919 - accuracy: 0.5250\n",
            "Epoch 47/100\n",
            "7/7 [==============================] - 0s 6ms/step - loss: 0.6919 - accuracy: 0.5250\n",
            "Epoch 48/100\n",
            "7/7 [==============================] - 0s 6ms/step - loss: 0.6921 - accuracy: 0.5250\n",
            "Epoch 49/100\n",
            "7/7 [==============================] - 0s 6ms/step - loss: 0.6920 - accuracy: 0.5250\n",
            "Epoch 50/100\n",
            "7/7 [==============================] - 0s 6ms/step - loss: 0.6919 - accuracy: 0.5250\n",
            "Epoch 51/100\n",
            "7/7 [==============================] - 0s 7ms/step - loss: 0.6922 - accuracy: 0.5250\n",
            "Epoch 52/100\n",
            "7/7 [==============================] - 0s 7ms/step - loss: 0.6921 - accuracy: 0.5250\n",
            "Epoch 53/100\n",
            "7/7 [==============================] - 0s 6ms/step - loss: 0.6923 - accuracy: 0.5250\n",
            "Epoch 54/100\n",
            "7/7 [==============================] - 0s 6ms/step - loss: 0.6923 - accuracy: 0.5250\n",
            "Epoch 55/100\n",
            "7/7 [==============================] - 0s 6ms/step - loss: 0.6920 - accuracy: 0.5250\n",
            "Epoch 56/100\n",
            "7/7 [==============================] - 0s 6ms/step - loss: 0.6920 - accuracy: 0.5250\n",
            "Epoch 57/100\n",
            "7/7 [==============================] - 0s 6ms/step - loss: 0.6921 - accuracy: 0.5250\n",
            "Epoch 58/100\n",
            "7/7 [==============================] - 0s 6ms/step - loss: 0.6920 - accuracy: 0.5250\n",
            "Epoch 59/100\n",
            "7/7 [==============================] - 0s 7ms/step - loss: 0.6920 - accuracy: 0.5250\n",
            "Epoch 60/100\n",
            "7/7 [==============================] - 0s 6ms/step - loss: 0.6920 - accuracy: 0.5250\n",
            "Epoch 61/100\n",
            "7/7 [==============================] - 0s 6ms/step - loss: 0.6920 - accuracy: 0.5250\n",
            "Epoch 62/100\n",
            "7/7 [==============================] - 0s 6ms/step - loss: 0.6919 - accuracy: 0.5250\n",
            "Epoch 63/100\n",
            "7/7 [==============================] - 0s 6ms/step - loss: 0.6921 - accuracy: 0.5250\n",
            "Epoch 64/100\n",
            "7/7 [==============================] - 0s 6ms/step - loss: 0.6919 - accuracy: 0.5250\n",
            "Epoch 65/100\n",
            "7/7 [==============================] - 0s 8ms/step - loss: 0.6919 - accuracy: 0.5250\n",
            "Epoch 66/100\n",
            "7/7 [==============================] - 0s 7ms/step - loss: 0.6921 - accuracy: 0.5250\n",
            "Epoch 67/100\n",
            "7/7 [==============================] - 0s 6ms/step - loss: 0.6920 - accuracy: 0.5250\n",
            "Epoch 68/100\n",
            "7/7 [==============================] - 0s 6ms/step - loss: 0.6921 - accuracy: 0.5250\n",
            "Epoch 69/100\n",
            "7/7 [==============================] - 0s 7ms/step - loss: 0.6921 - accuracy: 0.5250\n",
            "Epoch 70/100\n",
            "7/7 [==============================] - 0s 6ms/step - loss: 0.6921 - accuracy: 0.5250\n",
            "Epoch 71/100\n",
            "7/7 [==============================] - 0s 6ms/step - loss: 0.6920 - accuracy: 0.5250\n",
            "Epoch 72/100\n",
            "7/7 [==============================] - 0s 6ms/step - loss: 0.6920 - accuracy: 0.5250\n",
            "Epoch 73/100\n",
            "7/7 [==============================] - 0s 6ms/step - loss: 0.6920 - accuracy: 0.5250\n",
            "Epoch 74/100\n",
            "7/7 [==============================] - 0s 6ms/step - loss: 0.6920 - accuracy: 0.5250\n",
            "Epoch 75/100\n",
            "7/7 [==============================] - 0s 6ms/step - loss: 0.6921 - accuracy: 0.5250\n",
            "Epoch 76/100\n",
            "7/7 [==============================] - 0s 6ms/step - loss: 0.6922 - accuracy: 0.5250\n",
            "Epoch 77/100\n",
            "7/7 [==============================] - 0s 6ms/step - loss: 0.6920 - accuracy: 0.5250\n",
            "Epoch 78/100\n",
            "7/7 [==============================] - 0s 6ms/step - loss: 0.6919 - accuracy: 0.5250\n",
            "Epoch 79/100\n",
            "7/7 [==============================] - 0s 6ms/step - loss: 0.6919 - accuracy: 0.5250\n",
            "Epoch 80/100\n",
            "7/7 [==============================] - 0s 6ms/step - loss: 0.6920 - accuracy: 0.5250\n",
            "Epoch 81/100\n",
            "7/7 [==============================] - 0s 6ms/step - loss: 0.6924 - accuracy: 0.5250\n",
            "Epoch 82/100\n",
            "7/7 [==============================] - 0s 7ms/step - loss: 0.6919 - accuracy: 0.5250\n",
            "Epoch 83/100\n",
            "7/7 [==============================] - 0s 6ms/step - loss: 0.6919 - accuracy: 0.5250\n",
            "Epoch 84/100\n",
            "7/7 [==============================] - 0s 6ms/step - loss: 0.6920 - accuracy: 0.5250\n",
            "Epoch 85/100\n",
            "7/7 [==============================] - 0s 7ms/step - loss: 0.6919 - accuracy: 0.5250\n",
            "Epoch 86/100\n",
            "7/7 [==============================] - 0s 6ms/step - loss: 0.6919 - accuracy: 0.5250\n",
            "Epoch 87/100\n",
            "7/7 [==============================] - 0s 6ms/step - loss: 0.6920 - accuracy: 0.5250\n",
            "Epoch 88/100\n",
            "7/7 [==============================] - 0s 6ms/step - loss: 0.6919 - accuracy: 0.5250\n",
            "Epoch 89/100\n",
            "7/7 [==============================] - 0s 6ms/step - loss: 0.6919 - accuracy: 0.5250\n",
            "Epoch 90/100\n",
            "7/7 [==============================] - 0s 8ms/step - loss: 0.6920 - accuracy: 0.5250\n",
            "Epoch 91/100\n",
            "7/7 [==============================] - 0s 7ms/step - loss: 0.6919 - accuracy: 0.5250\n",
            "Epoch 92/100\n",
            "7/7 [==============================] - 0s 7ms/step - loss: 0.6920 - accuracy: 0.5250\n",
            "Epoch 93/100\n",
            "7/7 [==============================] - 0s 7ms/step - loss: 0.6919 - accuracy: 0.5250\n",
            "Epoch 94/100\n",
            "7/7 [==============================] - 0s 6ms/step - loss: 0.6922 - accuracy: 0.5250\n",
            "Epoch 95/100\n",
            "7/7 [==============================] - 0s 6ms/step - loss: 0.6921 - accuracy: 0.5250\n",
            "Epoch 96/100\n",
            "7/7 [==============================] - 0s 6ms/step - loss: 0.6920 - accuracy: 0.5250\n",
            "Epoch 97/100\n",
            "7/7 [==============================] - 0s 6ms/step - loss: 0.6922 - accuracy: 0.5250\n",
            "Epoch 98/100\n",
            "7/7 [==============================] - 0s 6ms/step - loss: 0.6923 - accuracy: 0.5250\n",
            "Epoch 99/100\n",
            "7/7 [==============================] - 0s 6ms/step - loss: 0.6920 - accuracy: 0.5250\n",
            "Epoch 100/100\n",
            "7/7 [==============================] - 0s 6ms/step - loss: 0.6925 - accuracy: 0.5250\n"
          ]
        }
      ]
    },
    {
      "cell_type": "code",
      "source": [
        "## Visualiing the Loss\n",
        "\n",
        "plt.plot(history.history['loss'])"
      ],
      "metadata": {
        "colab": {
          "base_uri": "https://localhost:8080/",
          "height": 448
        },
        "id": "WIAxfh4IziM4",
        "outputId": "da1faa77-ee1e-4097-f947-54d1eaed99d2"
      },
      "execution_count": 105,
      "outputs": [
        {
          "output_type": "execute_result",
          "data": {
            "text/plain": [
              "[<matplotlib.lines.Line2D at 0x7ca56cd9b670>]"
            ]
          },
          "metadata": {},
          "execution_count": 105
        },
        {
          "output_type": "display_data",
          "data": {
            "text/plain": [
              "<Figure size 640x480 with 1 Axes>"
            ],
            "image/png": "[encoded data removed]"
          },
          "metadata": {}
        }
      ]
    },
    {
      "cell_type": "code",
      "source": [
        "## IF we can see the loss is not getting reduce and it stuck at 0.69 so this is case of Vanishing Gradient"
      ],
      "metadata": {
        "id": "FTA9lyJAsrVd"
      },
      "execution_count": null,
      "outputs": []
    },
    {
      "cell_type": "code",
      "source": [
        "## Storing New Weight for Layer 1 after Model is Train\n",
        "\n",
        "new_weight = model.get_weights()[0]"
      ],
      "metadata": {
        "id": "Av1BxKP9kezp"
      },
      "execution_count": 57,
      "outputs": []
    },
    {
      "cell_type": "code",
      "source": [
        "old_weight"
      ],
      "metadata": {
        "colab": {
          "base_uri": "https://localhost:8080/"
        },
        "id": "ac9fz_HVl0VR",
        "outputId": "58301eff-45ee-4bd7-e990-613e3a3c6122"
      },
      "execution_count": 58,
      "outputs": [
        {
          "output_type": "execute_result",
          "data": {
            "text/plain": [
              "array([[-0.01339597, -0.21929646,  0.392039  ,  0.03588414,  0.08592796,\n",
              "         0.36304837, -0.5577216 ,  0.13751823,  0.44848996,  0.63824266],\n",
              "       [-0.31987366,  0.64877623, -0.228488  , -0.05202287,  0.15633398,\n",
              "         0.49776703,  0.63448316, -0.5385983 ,  0.2848311 , -0.04407698]],\n",
              "      dtype=float32)"
            ]
          },
          "metadata": {},
          "execution_count": 58
        }
      ]
    },
    {
      "cell_type": "code",
      "source": [
        "new_weight"
      ],
      "metadata": {
        "colab": {
          "base_uri": "https://localhost:8080/"
        },
        "id": "jcVfyEH4l8sY",
        "outputId": "f8fa80d2-15b6-42a9-e7c9-e05ecef27450"
      },
      "execution_count": 59,
      "outputs": [
        {
          "output_type": "execute_result",
          "data": {
            "text/plain": [
              "array([[-0.01529566, -0.22153777,  0.3963092 ,  0.05356846,  0.07550585,\n",
              "         0.35672304, -0.5725154 ,  0.14062114,  0.44146213,  0.640994  ],\n",
              "       [-0.31868505,  0.6502239 , -0.2317275 , -0.06466739,  0.1636559 ,\n",
              "         0.5022218 ,  0.6465228 , -0.540661  ,  0.29034728, -0.04635327]],\n",
              "      dtype=float32)"
            ]
          },
          "metadata": {},
          "execution_count": 59
        }
      ]
    },
    {
      "cell_type": "code",
      "source": [
        "## Visualizaiton of Weights\n",
        "\n",
        "plt.scatter(old_weight[0], old_weight[1], color = 'red', label= 'Old_Weight')\n",
        "plt.scatter(new_weight[0],new_weight[1], color = 'green', label= 'New_Weight')\n",
        "plt.legend()\n",
        "plt.show()"
      ],
      "metadata": {
        "colab": {
          "base_uri": "https://localhost:8080/",
          "height": 430
        },
        "id": "T58Aogyql-tB",
        "outputId": "1d863a10-0cfa-440f-8a02-12da078d3fa0"
      },
      "execution_count": 97,
      "outputs": [
        {
          "output_type": "display_data",
          "data": {
            "text/plain": [
              "<Figure size 640x480 with 1 Axes>"
            ],
            "image/png": "[encoded data removed]"
          },
          "metadata": {}
        }
      ]
    },
    {
      "cell_type": "code",
      "source": [
        "## AS we can see they almost overlap each other Hence there is hardly any change so its a Vanishing Gradient Issue"
      ],
      "metadata": {
        "id": "dmA92f6BtPZc"
      },
      "execution_count": 68,
      "outputs": []
    },
    {
      "cell_type": "markdown",
      "source": [
        "# Handling Vanishing Gradient Problem"
      ],
      "metadata": {
        "id": "zQZufl8szKxC"
      }
    },
    {
      "cell_type": "code",
      "source": [
        "# 1. Reduce the Complexity fo the model i.e reduce the hidden layers.\n",
        "\n",
        "\n",
        "model1 = Sequential()\n",
        "\n",
        "model1.add(Dense(10, activation='sigmoid', input_dim=2))\n",
        "model1.add(Dense(10, activation='sigmoid'))\n",
        "model1.add(Dense(10, activation='sigmoid'))\n",
        "model1.add(Dense(1, activation='sigmoid'))\n",
        "model1.compile(loss='binary_crossentropy', optimizer='adam', metrics=['accuracy'])"
      ],
      "metadata": {
        "id": "FyLoFFnZuNjv"
      },
      "execution_count": 106,
      "outputs": []
    },
    {
      "cell_type": "code",
      "source": [
        "## Stroring OLD Weight before the model is trained for Layer 1\n",
        "\n",
        "old_weight1 = model1.get_weights()[0]"
      ],
      "metadata": {
        "id": "B2bu9jEyujnq"
      },
      "execution_count": 107,
      "outputs": []
    },
    {
      "cell_type": "code",
      "source": [
        "## Fitting the Model for 100 epochs\n",
        "\n",
        "history1 = model1.fit(x_train, y_train , epochs=100)"
      ],
      "metadata": {
        "colab": {
          "base_uri": "https://localhost:8080/"
        },
        "id": "CF6c-aQwu1Mr",
        "outputId": "e06a39b5-7433-4693-c2e2-8a601f97323b"
      },
      "execution_count": 108,
      "outputs": [
        {
          "output_type": "stream",
          "name": "stdout",
          "text": [
            "Epoch 1/100\n",
            "7/7 [==============================] - 1s 5ms/step - loss: 0.6917 - accuracy: 0.5250\n",
            "Epoch 2/100\n",
            "7/7 [==============================] - 0s 4ms/step - loss: 0.6908 - accuracy: 0.5250\n",
            "Epoch 3/100\n",
            "7/7 [==============================] - 0s 4ms/step - loss: 0.6902 - accuracy: 0.5250\n",
            "Epoch 4/100\n",
            "7/7 [==============================] - 0s 6ms/step - loss: 0.6896 - accuracy: 0.5250\n",
            "Epoch 5/100\n",
            "7/7 [==============================] - 0s 4ms/step - loss: 0.6892 - accuracy: 0.5250\n",
            "Epoch 6/100\n",
            "7/7 [==============================] - 0s 4ms/step - loss: 0.6884 - accuracy: 0.5250\n",
            "Epoch 7/100\n",
            "7/7 [==============================] - 0s 4ms/step - loss: 0.6886 - accuracy: 0.5250\n",
            "Epoch 8/100\n",
            "7/7 [==============================] - 0s 4ms/step - loss: 0.6875 - accuracy: 0.5250\n",
            "Epoch 9/100\n",
            "7/7 [==============================] - 0s 4ms/step - loss: 0.6871 - accuracy: 0.5250\n",
            "Epoch 10/100\n",
            "7/7 [==============================] - 0s 4ms/step - loss: 0.6868 - accuracy: 0.5250\n",
            "Epoch 11/100\n",
            "7/7 [==============================] - 0s 4ms/step - loss: 0.6865 - accuracy: 0.5250\n",
            "Epoch 12/100\n",
            "7/7 [==============================] - 0s 4ms/step - loss: 0.6858 - accuracy: 0.5250\n",
            "Epoch 13/100\n",
            "7/7 [==============================] - 0s 4ms/step - loss: 0.6855 - accuracy: 0.5250\n",
            "Epoch 14/100\n",
            "7/7 [==============================] - 0s 4ms/step - loss: 0.6849 - accuracy: 0.5250\n",
            "Epoch 15/100\n",
            "7/7 [==============================] - 0s 5ms/step - loss: 0.6841 - accuracy: 0.5250\n",
            "Epoch 16/100\n",
            "7/7 [==============================] - 0s 4ms/step - loss: 0.6836 - accuracy: 0.5250\n",
            "Epoch 17/100\n",
            "7/7 [==============================] - 0s 4ms/step - loss: 0.6828 - accuracy: 0.5250\n",
            "Epoch 18/100\n",
            "7/7 [==============================] - 0s 4ms/step - loss: 0.6822 - accuracy: 0.5250\n",
            "Epoch 19/100\n",
            "7/7 [==============================] - 0s 4ms/step - loss: 0.6817 - accuracy: 0.5250\n",
            "Epoch 20/100\n",
            "7/7 [==============================] - 0s 4ms/step - loss: 0.6808 - accuracy: 0.5250\n",
            "Epoch 21/100\n",
            "7/7 [==============================] - 0s 4ms/step - loss: 0.6798 - accuracy: 0.5250\n",
            "Epoch 22/100\n",
            "7/7 [==============================] - 0s 4ms/step - loss: 0.6790 - accuracy: 0.5250\n",
            "Epoch 23/100\n",
            "7/7 [==============================] - 0s 4ms/step - loss: 0.6782 - accuracy: 0.5250\n",
            "Epoch 24/100\n",
            "7/7 [==============================] - 0s 4ms/step - loss: 0.6770 - accuracy: 0.5250\n",
            "Epoch 25/100\n",
            "7/7 [==============================] - 0s 4ms/step - loss: 0.6759 - accuracy: 0.5250\n",
            "Epoch 26/100\n",
            "7/7 [==============================] - 0s 4ms/step - loss: 0.6749 - accuracy: 0.5250\n",
            "Epoch 27/100\n",
            "7/7 [==============================] - 0s 4ms/step - loss: 0.6739 - accuracy: 0.5250\n",
            "Epoch 28/100\n",
            "7/7 [==============================] - 0s 4ms/step - loss: 0.6724 - accuracy: 0.5250\n",
            "Epoch 29/100\n",
            "7/7 [==============================] - 0s 4ms/step - loss: 0.6708 - accuracy: 0.5250\n",
            "Epoch 30/100\n",
            "7/7 [==============================] - 0s 5ms/step - loss: 0.6693 - accuracy: 0.5250\n",
            "Epoch 31/100\n",
            "7/7 [==============================] - 0s 5ms/step - loss: 0.6676 - accuracy: 0.5800\n",
            "Epoch 32/100\n",
            "7/7 [==============================] - 0s 4ms/step - loss: 0.6659 - accuracy: 0.5700\n",
            "Epoch 33/100\n",
            "7/7 [==============================] - 0s 5ms/step - loss: 0.6638 - accuracy: 0.5950\n",
            "Epoch 34/100\n",
            "7/7 [==============================] - 0s 5ms/step - loss: 0.6618 - accuracy: 0.5800\n",
            "Epoch 35/100\n",
            "7/7 [==============================] - 0s 4ms/step - loss: 0.6594 - accuracy: 0.6250\n",
            "Epoch 36/100\n",
            "7/7 [==============================] - 0s 4ms/step - loss: 0.6569 - accuracy: 0.6950\n",
            "Epoch 37/100\n",
            "7/7 [==============================] - 0s 5ms/step - loss: 0.6543 - accuracy: 0.7500\n",
            "Epoch 38/100\n",
            "7/7 [==============================] - 0s 4ms/step - loss: 0.6514 - accuracy: 0.7550\n",
            "Epoch 39/100\n",
            "7/7 [==============================] - 0s 5ms/step - loss: 0.6483 - accuracy: 0.7900\n",
            "Epoch 40/100\n",
            "7/7 [==============================] - 0s 4ms/step - loss: 0.6452 - accuracy: 0.8300\n",
            "Epoch 41/100\n",
            "7/7 [==============================] - 0s 4ms/step - loss: 0.6414 - accuracy: 0.8350\n",
            "Epoch 42/100\n",
            "7/7 [==============================] - 0s 4ms/step - loss: 0.6375 - accuracy: 0.8300\n",
            "Epoch 43/100\n",
            "7/7 [==============================] - 0s 4ms/step - loss: 0.6336 - accuracy: 0.8300\n",
            "Epoch 44/100\n",
            "7/7 [==============================] - 0s 4ms/step - loss: 0.6291 - accuracy: 0.8300\n",
            "Epoch 45/100\n",
            "7/7 [==============================] - 0s 4ms/step - loss: 0.6246 - accuracy: 0.8250\n",
            "Epoch 46/100\n",
            "7/7 [==============================] - 0s 4ms/step - loss: 0.6197 - accuracy: 0.8300\n",
            "Epoch 47/100\n",
            "7/7 [==============================] - 0s 4ms/step - loss: 0.6144 - accuracy: 0.8350\n",
            "Epoch 48/100\n",
            "7/7 [==============================] - 0s 4ms/step - loss: 0.6091 - accuracy: 0.8300\n",
            "Epoch 49/100\n",
            "7/7 [==============================] - 0s 5ms/step - loss: 0.6031 - accuracy: 0.8300\n",
            "Epoch 50/100\n",
            "7/7 [==============================] - 0s 4ms/step - loss: 0.5972 - accuracy: 0.8300\n",
            "Epoch 51/100\n",
            "7/7 [==============================] - 0s 5ms/step - loss: 0.5912 - accuracy: 0.8300\n",
            "Epoch 52/100\n",
            "7/7 [==============================] - 0s 4ms/step - loss: 0.5849 - accuracy: 0.8350\n",
            "Epoch 53/100\n",
            "7/7 [==============================] - 0s 4ms/step - loss: 0.5789 - accuracy: 0.8350\n",
            "Epoch 54/100\n",
            "7/7 [==============================] - 0s 4ms/step - loss: 0.5725 - accuracy: 0.8350\n",
            "Epoch 55/100\n",
            "7/7 [==============================] - 0s 4ms/step - loss: 0.5660 - accuracy: 0.8300\n",
            "Epoch 56/100\n",
            "7/7 [==============================] - 0s 4ms/step - loss: 0.5593 - accuracy: 0.8400\n",
            "Epoch 57/100\n",
            "7/7 [==============================] - 0s 4ms/step - loss: 0.5517 - accuracy: 0.8300\n",
            "Epoch 58/100\n",
            "7/7 [==============================] - 0s 5ms/step - loss: 0.5441 - accuracy: 0.8350\n",
            "Epoch 59/100\n",
            "7/7 [==============================] - 0s 4ms/step - loss: 0.5365 - accuracy: 0.8250\n",
            "Epoch 60/100\n",
            "7/7 [==============================] - 0s 4ms/step - loss: 0.5294 - accuracy: 0.8250\n",
            "Epoch 61/100\n",
            "7/7 [==============================] - 0s 4ms/step - loss: 0.5214 - accuracy: 0.8250\n",
            "Epoch 62/100\n",
            "7/7 [==============================] - 0s 5ms/step - loss: 0.5139 - accuracy: 0.8150\n",
            "Epoch 63/100\n",
            "7/7 [==============================] - 0s 6ms/step - loss: 0.5066 - accuracy: 0.8150\n",
            "Epoch 64/100\n",
            "7/7 [==============================] - 0s 4ms/step - loss: 0.4991 - accuracy: 0.8150\n",
            "Epoch 65/100\n",
            "7/7 [==============================] - 0s 4ms/step - loss: 0.4917 - accuracy: 0.8200\n",
            "Epoch 66/100\n",
            "7/7 [==============================] - 0s 4ms/step - loss: 0.4841 - accuracy: 0.8150\n",
            "Epoch 67/100\n",
            "7/7 [==============================] - 0s 4ms/step - loss: 0.4771 - accuracy: 0.8150\n",
            "Epoch 68/100\n",
            "7/7 [==============================] - 0s 4ms/step - loss: 0.4702 - accuracy: 0.8150\n",
            "Epoch 69/100\n",
            "7/7 [==============================] - 0s 4ms/step - loss: 0.4630 - accuracy: 0.8200\n",
            "Epoch 70/100\n",
            "7/7 [==============================] - 0s 4ms/step - loss: 0.4568 - accuracy: 0.8300\n",
            "Epoch 71/100\n",
            "7/7 [==============================] - 0s 4ms/step - loss: 0.4502 - accuracy: 0.8300\n",
            "Epoch 72/100\n",
            "7/7 [==============================] - 0s 4ms/step - loss: 0.4441 - accuracy: 0.8250\n",
            "Epoch 73/100\n",
            "7/7 [==============================] - 0s 4ms/step - loss: 0.4382 - accuracy: 0.8250\n",
            "Epoch 74/100\n",
            "7/7 [==============================] - 0s 5ms/step - loss: 0.4321 - accuracy: 0.8250\n",
            "Epoch 75/100\n",
            "7/7 [==============================] - 0s 5ms/step - loss: 0.4263 - accuracy: 0.8300\n",
            "Epoch 76/100\n",
            "7/7 [==============================] - 0s 4ms/step - loss: 0.4204 - accuracy: 0.8300\n",
            "Epoch 77/100\n",
            "7/7 [==============================] - 0s 4ms/step - loss: 0.4149 - accuracy: 0.8300\n",
            "Epoch 78/100\n",
            "7/7 [==============================] - 0s 5ms/step - loss: 0.4100 - accuracy: 0.8350\n",
            "Epoch 79/100\n",
            "7/7 [==============================] - 0s 4ms/step - loss: 0.4050 - accuracy: 0.8350\n",
            "Epoch 80/100\n",
            "7/7 [==============================] - 0s 4ms/step - loss: 0.4003 - accuracy: 0.8400\n",
            "Epoch 81/100\n",
            "7/7 [==============================] - 0s 4ms/step - loss: 0.3960 - accuracy: 0.8400\n",
            "Epoch 82/100\n",
            "7/7 [==============================] - 0s 4ms/step - loss: 0.3912 - accuracy: 0.8400\n",
            "Epoch 83/100\n",
            "7/7 [==============================] - 0s 4ms/step - loss: 0.3866 - accuracy: 0.8400\n",
            "Epoch 84/100\n",
            "7/7 [==============================] - 0s 5ms/step - loss: 0.3825 - accuracy: 0.8450\n",
            "Epoch 85/100\n",
            "7/7 [==============================] - 0s 5ms/step - loss: 0.3786 - accuracy: 0.8500\n",
            "Epoch 86/100\n",
            "7/7 [==============================] - 0s 4ms/step - loss: 0.3747 - accuracy: 0.8400\n",
            "Epoch 87/100\n",
            "7/7 [==============================] - 0s 4ms/step - loss: 0.3710 - accuracy: 0.8500\n",
            "Epoch 88/100\n",
            "7/7 [==============================] - 0s 4ms/step - loss: 0.3675 - accuracy: 0.8500\n",
            "Epoch 89/100\n",
            "7/7 [==============================] - 0s 4ms/step - loss: 0.3640 - accuracy: 0.8500\n",
            "Epoch 90/100\n",
            "7/7 [==============================] - 0s 4ms/step - loss: 0.3608 - accuracy: 0.8500\n",
            "Epoch 91/100\n",
            "7/7 [==============================] - 0s 4ms/step - loss: 0.3575 - accuracy: 0.8500\n",
            "Epoch 92/100\n",
            "7/7 [==============================] - 0s 4ms/step - loss: 0.3546 - accuracy: 0.8500\n",
            "Epoch 93/100\n",
            "7/7 [==============================] - 0s 4ms/step - loss: 0.3516 - accuracy: 0.8500\n",
            "Epoch 94/100\n",
            "7/7 [==============================] - 0s 4ms/step - loss: 0.3486 - accuracy: 0.8500\n",
            "Epoch 95/100\n",
            "7/7 [==============================] - 0s 4ms/step - loss: 0.3459 - accuracy: 0.8500\n",
            "Epoch 96/100\n",
            "7/7 [==============================] - 0s 4ms/step - loss: 0.3429 - accuracy: 0.8500\n",
            "Epoch 97/100\n",
            "7/7 [==============================] - 0s 4ms/step - loss: 0.3404 - accuracy: 0.8500\n",
            "Epoch 98/100\n",
            "7/7 [==============================] - 0s 4ms/step - loss: 0.3377 - accuracy: 0.8500\n",
            "Epoch 99/100\n",
            "7/7 [==============================] - 0s 4ms/step - loss: 0.3352 - accuracy: 0.8500\n",
            "Epoch 100/100\n",
            "7/7 [==============================] - 0s 5ms/step - loss: 0.3327 - accuracy: 0.8500\n"
          ]
        }
      ]
    },
    {
      "cell_type": "code",
      "source": [
        "## Visualising the Loss\n",
        "\n",
        "plt.plot(history1.history['loss'])"
      ],
      "metadata": {
        "colab": {
          "base_uri": "https://localhost:8080/",
          "height": 448
        },
        "id": "yMD8_fp0z3RX",
        "outputId": "3d0d5991-65e7-4733-e9c1-7c084185613b"
      },
      "execution_count": 109,
      "outputs": [
        {
          "output_type": "execute_result",
          "data": {
            "text/plain": [
              "[<matplotlib.lines.Line2D at 0x7ca56b2c84c0>]"
            ]
          },
          "metadata": {},
          "execution_count": 109
        },
        {
          "output_type": "display_data",
          "data": {
            "text/plain": [
              "<Figure size 640x480 with 1 Axes>"
            ],
            "image/png": "[encoded data removed]"
          },
          "metadata": {}
        }
      ]
    },
    {
      "cell_type": "code",
      "source": [
        "## Now we can observe the loss is reduce dreastically to 0.3839"
      ],
      "metadata": {
        "id": "1pgOfUN7u_yA"
      },
      "execution_count": 74,
      "outputs": []
    },
    {
      "cell_type": "code",
      "source": [
        "## Calculating the New Weight\n",
        "\n",
        "new_weight1 = model1.get_weights()[0]"
      ],
      "metadata": {
        "id": "RGkgcZUrvTGP"
      },
      "execution_count": 110,
      "outputs": []
    },
    {
      "cell_type": "code",
      "source": [
        "old_weight1"
      ],
      "metadata": {
        "colab": {
          "base_uri": "https://localhost:8080/"
        },
        "id": "s2UyIS-cvlv_",
        "outputId": "ee221503-b368-438a-9c8f-545b0b80cae3"
      },
      "execution_count": 111,
      "outputs": [
        {
          "output_type": "execute_result",
          "data": {
            "text/plain": [
              "array([[-0.07916611, -0.4049732 , -0.30711144, -0.5712793 , -0.1280868 ,\n",
              "         0.61909384, -0.63716424,  0.50326556,  0.60449165,  0.43539983],\n",
              "       [-0.6927161 ,  0.5459327 , -0.61053836,  0.083354  , -0.16412216,\n",
              "         0.41134375, -0.16079342,  0.09873337, -0.51127905, -0.3382079 ]],\n",
              "      dtype=float32)"
            ]
          },
          "metadata": {},
          "execution_count": 111
        }
      ]
    },
    {
      "cell_type": "code",
      "source": [
        "new_weight1"
      ],
      "metadata": {
        "colab": {
          "base_uri": "https://localhost:8080/"
        },
        "id": "vltA42b1vsCh",
        "outputId": "6aeeeb79-b6b6-4d82-949e-004151014dd3"
      },
      "execution_count": 112,
      "outputs": [
        {
          "output_type": "execute_result",
          "data": {
            "text/plain": [
              "array([[ 0.39530835, -0.85995674,  0.28177795, -0.96871465, -0.63715845,\n",
              "         0.06791354, -0.9561933 ,  0.6635478 ,  0.9607754 ,  0.8407298 ],\n",
              "       [-1.6448298 ,  1.6380564 , -1.6115648 ,  1.0732431 ,  0.8215219 ,\n",
              "         1.3320781 ,  0.774767  , -0.62611336, -1.5147794 , -1.302147  ]],\n",
              "      dtype=float32)"
            ]
          },
          "metadata": {},
          "execution_count": 112
        }
      ]
    },
    {
      "cell_type": "code",
      "source": [
        "## Visualization for Weights\n",
        "\n",
        "plt.scatter(old_weight1[0], old_weight1[1], color = 'red', label= 'Old_Weight')\n",
        "plt.scatter(new_weight1[0],new_weight1[1], color = 'green', label= 'New_Weight')\n",
        "plt.legend()\n",
        "plt.show()"
      ],
      "metadata": {
        "colab": {
          "base_uri": "https://localhost:8080/",
          "height": 430
        },
        "id": "H3ScclIGvUmP",
        "outputId": "9b594aee-6481-4c23-a0d9-2d5f6ee0e0dd"
      },
      "execution_count": 113,
      "outputs": [
        {
          "output_type": "display_data",
          "data": {
            "text/plain": [
              "<Figure size 640x480 with 1 Axes>"
            ],
            "image/png": "[encoded data removed]"
          },
          "metadata": {}
        }
      ]
    },
    {
      "cell_type": "code",
      "source": [
        "## Like we can see that All the weight are different"
      ],
      "metadata": {
        "id": "El4bbC13vrDc"
      },
      "execution_count": 98,
      "outputs": []
    },
    {
      "cell_type": "code",
      "source": [],
      "metadata": {
        "id": "Huj-vKSdvUpt"
      },
      "execution_count": 113,
      "outputs": []
    },
    {
      "cell_type": "code",
      "source": [
        "## 2. Changing the Activation Function to 'relu'\n",
        "\n",
        "model2 = Sequential()\n",
        "\n",
        "model2.add(Dense(10, activation='relu', input_dim=2))\n",
        "model2.add(Dense(10, activation='relu'))\n",
        "model2.add(Dense(10, activation='relu'))\n",
        "model2.add(Dense(10, activation='relu'))\n",
        "model2.add(Dense(10, activation='relu'))\n",
        "model2.add(Dense(10, activation='relu'))\n",
        "model2.add(Dense(10, activation='relu'))\n",
        "model2.add(Dense(10, activation='relu'))\n",
        "model2.add(Dense(10, activation='relu'))\n",
        "model2.add(Dense(10, activation='relu'))\n",
        "model2.add(Dense(10, activation='relu'))\n",
        "model2.add(Dense(1, activation='sigmoid'))\n",
        "model2.compile(loss= 'binary_crossentropy', optimizer = 'adam' , metrics = ['accuracy'])"
      ],
      "metadata": {
        "id": "kiz5jzvYvUs2"
      },
      "execution_count": 117,
      "outputs": []
    },
    {
      "cell_type": "code",
      "source": [
        "## Stroring OLD Weight before the model is trained for Layer 1\n",
        "\n",
        "old_weight2 = model1.get_weights()[0]"
      ],
      "metadata": {
        "id": "o7y4mmMLvUuc"
      },
      "execution_count": 123,
      "outputs": []
    },
    {
      "cell_type": "code",
      "source": [
        "## Fitting the Model for 100 epochs\n",
        "\n",
        "history2 = model2.fit(x_train, y_train , epochs=100)"
      ],
      "metadata": {
        "colab": {
          "base_uri": "https://localhost:8080/"
        },
        "id": "x0gTDrmgvUwz",
        "outputId": "8503622a-b458-40c0-acab-f87a33f59f91"
      },
      "execution_count": 119,
      "outputs": [
        {
          "output_type": "stream",
          "name": "stdout",
          "text": [
            "Epoch 1/100\n",
            "7/7 [==============================] - 4s 6ms/step - loss: 0.6935 - accuracy: 0.4750\n",
            "Epoch 2/100\n",
            "7/7 [==============================] - 0s 6ms/step - loss: 0.6927 - accuracy: 0.6100\n",
            "Epoch 3/100\n",
            "7/7 [==============================] - 0s 5ms/step - loss: 0.6916 - accuracy: 0.7350\n",
            "Epoch 4/100\n",
            "7/7 [==============================] - 0s 6ms/step - loss: 0.6898 - accuracy: 0.7450\n",
            "Epoch 5/100\n",
            "7/7 [==============================] - 0s 6ms/step - loss: 0.6864 - accuracy: 0.8050\n",
            "Epoch 6/100\n",
            "7/7 [==============================] - 0s 6ms/step - loss: 0.6805 - accuracy: 0.8600\n",
            "Epoch 7/100\n",
            "7/7 [==============================] - 0s 6ms/step - loss: 0.6713 - accuracy: 0.8550\n",
            "Epoch 8/100\n",
            "7/7 [==============================] - 0s 8ms/step - loss: 0.6556 - accuracy: 0.8750\n",
            "Epoch 9/100\n",
            "7/7 [==============================] - 0s 6ms/step - loss: 0.6335 - accuracy: 0.8800\n",
            "Epoch 10/100\n",
            "7/7 [==============================] - 0s 6ms/step - loss: 0.5988 - accuracy: 0.9000\n",
            "Epoch 11/100\n",
            "7/7 [==============================] - 0s 5ms/step - loss: 0.5533 - accuracy: 0.9050\n",
            "Epoch 12/100\n",
            "7/7 [==============================] - 0s 5ms/step - loss: 0.5130 - accuracy: 0.9050\n",
            "Epoch 13/100\n",
            "7/7 [==============================] - 0s 7ms/step - loss: 0.4787 - accuracy: 0.9050\n",
            "Epoch 14/100\n",
            "7/7 [==============================] - 0s 6ms/step - loss: 0.4520 - accuracy: 0.9200\n",
            "Epoch 15/100\n",
            "7/7 [==============================] - 0s 5ms/step - loss: 0.4358 - accuracy: 0.9400\n",
            "Epoch 16/100\n",
            "7/7 [==============================] - 0s 6ms/step - loss: 0.4182 - accuracy: 0.9350\n",
            "Epoch 17/100\n",
            "7/7 [==============================] - 0s 5ms/step - loss: 0.4065 - accuracy: 0.9350\n",
            "Epoch 18/100\n",
            "7/7 [==============================] - 0s 5ms/step - loss: 0.3952 - accuracy: 0.9450\n",
            "Epoch 19/100\n",
            "7/7 [==============================] - 0s 6ms/step - loss: 0.3784 - accuracy: 0.9400\n",
            "Epoch 20/100\n",
            "7/7 [==============================] - 0s 5ms/step - loss: 0.3623 - accuracy: 0.9500\n",
            "Epoch 21/100\n",
            "7/7 [==============================] - 0s 6ms/step - loss: 0.3494 - accuracy: 0.9450\n",
            "Epoch 22/100\n",
            "7/7 [==============================] - 0s 6ms/step - loss: 0.3372 - accuracy: 0.9400\n",
            "Epoch 23/100\n",
            "7/7 [==============================] - 0s 6ms/step - loss: 0.3216 - accuracy: 0.9500\n",
            "Epoch 24/100\n",
            "7/7 [==============================] - 0s 6ms/step - loss: 0.3044 - accuracy: 0.9500\n",
            "Epoch 25/100\n",
            "7/7 [==============================] - 0s 6ms/step - loss: 0.2889 - accuracy: 0.9500\n",
            "Epoch 26/100\n",
            "7/7 [==============================] - 0s 10ms/step - loss: 0.2733 - accuracy: 0.9600\n",
            "Epoch 27/100\n",
            "7/7 [==============================] - 0s 8ms/step - loss: 0.2587 - accuracy: 0.9650\n",
            "Epoch 28/100\n",
            "7/7 [==============================] - 0s 11ms/step - loss: 0.2396 - accuracy: 0.9600\n",
            "Epoch 29/100\n",
            "7/7 [==============================] - 0s 11ms/step - loss: 0.2224 - accuracy: 0.9600\n",
            "Epoch 30/100\n",
            "7/7 [==============================] - 0s 10ms/step - loss: 0.2132 - accuracy: 0.9700\n",
            "Epoch 31/100\n",
            "7/7 [==============================] - 0s 18ms/step - loss: 0.1957 - accuracy: 0.9700\n",
            "Epoch 32/100\n",
            "7/7 [==============================] - 0s 21ms/step - loss: 0.1800 - accuracy: 0.9550\n",
            "Epoch 33/100\n",
            "7/7 [==============================] - 0s 21ms/step - loss: 0.1623 - accuracy: 0.9650\n",
            "Epoch 34/100\n",
            "7/7 [==============================] - 0s 22ms/step - loss: 0.1477 - accuracy: 0.9650\n",
            "Epoch 35/100\n",
            "7/7 [==============================] - 0s 22ms/step - loss: 0.1438 - accuracy: 0.9450\n",
            "Epoch 36/100\n",
            "7/7 [==============================] - 0s 23ms/step - loss: 0.1310 - accuracy: 0.9700\n",
            "Epoch 37/100\n",
            "7/7 [==============================] - 0s 24ms/step - loss: 0.1190 - accuracy: 0.9750\n",
            "Epoch 38/100\n",
            "7/7 [==============================] - 0s 20ms/step - loss: 0.1013 - accuracy: 0.9700\n",
            "Epoch 39/100\n",
            "7/7 [==============================] - 0s 19ms/step - loss: 0.0892 - accuracy: 0.9800\n",
            "Epoch 40/100\n",
            "7/7 [==============================] - 0s 19ms/step - loss: 0.0768 - accuracy: 0.9800\n",
            "Epoch 41/100\n",
            "7/7 [==============================] - 0s 19ms/step - loss: 0.0675 - accuracy: 0.9850\n",
            "Epoch 42/100\n",
            "7/7 [==============================] - 0s 16ms/step - loss: 0.0582 - accuracy: 0.9850\n",
            "Epoch 43/100\n",
            "7/7 [==============================] - 0s 22ms/step - loss: 0.0501 - accuracy: 0.9900\n",
            "Epoch 44/100\n",
            "7/7 [==============================] - 0s 17ms/step - loss: 0.0415 - accuracy: 0.9950\n",
            "Epoch 45/100\n",
            "7/7 [==============================] - 0s 18ms/step - loss: 0.0371 - accuracy: 1.0000\n",
            "Epoch 46/100\n",
            "7/7 [==============================] - 0s 17ms/step - loss: 0.0311 - accuracy: 0.9950\n",
            "Epoch 47/100\n",
            "7/7 [==============================] - 0s 19ms/step - loss: 0.0268 - accuracy: 1.0000\n",
            "Epoch 48/100\n",
            "7/7 [==============================] - 0s 16ms/step - loss: 0.0233 - accuracy: 1.0000\n",
            "Epoch 49/100\n",
            "7/7 [==============================] - 0s 12ms/step - loss: 0.0209 - accuracy: 1.0000\n",
            "Epoch 50/100\n",
            "7/7 [==============================] - 0s 14ms/step - loss: 0.0179 - accuracy: 1.0000\n",
            "Epoch 51/100\n",
            "7/7 [==============================] - 0s 14ms/step - loss: 0.0164 - accuracy: 0.9950\n",
            "Epoch 52/100\n",
            "7/7 [==============================] - 0s 10ms/step - loss: 0.0136 - accuracy: 1.0000\n",
            "Epoch 53/100\n",
            "7/7 [==============================] - 0s 8ms/step - loss: 0.0123 - accuracy: 1.0000\n",
            "Epoch 54/100\n",
            "7/7 [==============================] - 0s 8ms/step - loss: 0.0093 - accuracy: 1.0000\n",
            "Epoch 55/100\n",
            "7/7 [==============================] - 0s 11ms/step - loss: 0.0088 - accuracy: 1.0000\n",
            "Epoch 56/100\n",
            "7/7 [==============================] - 0s 11ms/step - loss: 0.0066 - accuracy: 1.0000\n",
            "Epoch 57/100\n",
            "7/7 [==============================] - 0s 12ms/step - loss: 0.0060 - accuracy: 1.0000\n",
            "Epoch 58/100\n",
            "7/7 [==============================] - 0s 12ms/step - loss: 0.0053 - accuracy: 1.0000\n",
            "Epoch 59/100\n",
            "7/7 [==============================] - 0s 6ms/step - loss: 0.0046 - accuracy: 1.0000\n",
            "Epoch 60/100\n",
            "7/7 [==============================] - 0s 6ms/step - loss: 0.0040 - accuracy: 1.0000\n",
            "Epoch 61/100\n",
            "7/7 [==============================] - 0s 6ms/step - loss: 0.0036 - accuracy: 1.0000\n",
            "Epoch 62/100\n",
            "7/7 [==============================] - 0s 6ms/step - loss: 0.0032 - accuracy: 1.0000\n",
            "Epoch 63/100\n",
            "7/7 [==============================] - 0s 6ms/step - loss: 0.0030 - accuracy: 1.0000\n",
            "Epoch 64/100\n",
            "7/7 [==============================] - 0s 6ms/step - loss: 0.0025 - accuracy: 1.0000\n",
            "Epoch 65/100\n",
            "7/7 [==============================] - 0s 6ms/step - loss: 0.0025 - accuracy: 1.0000\n",
            "Epoch 66/100\n",
            "7/7 [==============================] - 0s 7ms/step - loss: 0.0024 - accuracy: 1.0000\n",
            "Epoch 67/100\n",
            "7/7 [==============================] - 0s 8ms/step - loss: 0.0020 - accuracy: 1.0000\n",
            "Epoch 68/100\n",
            "7/7 [==============================] - 0s 6ms/step - loss: 0.0019 - accuracy: 1.0000\n",
            "Epoch 69/100\n",
            "7/7 [==============================] - 0s 5ms/step - loss: 0.0017 - accuracy: 1.0000\n",
            "Epoch 70/100\n",
            "7/7 [==============================] - 0s 7ms/step - loss: 0.0016 - accuracy: 1.0000\n",
            "Epoch 71/100\n",
            "7/7 [==============================] - 0s 5ms/step - loss: 0.0015 - accuracy: 1.0000\n",
            "Epoch 72/100\n",
            "7/7 [==============================] - 0s 6ms/step - loss: 0.0013 - accuracy: 1.0000\n",
            "Epoch 73/100\n",
            "7/7 [==============================] - 0s 6ms/step - loss: 0.0013 - accuracy: 1.0000\n",
            "Epoch 74/100\n",
            "7/7 [==============================] - 0s 6ms/step - loss: 0.0012 - accuracy: 1.0000\n",
            "Epoch 75/100\n",
            "7/7 [==============================] - 0s 6ms/step - loss: 0.0011 - accuracy: 1.0000\n",
            "Epoch 76/100\n",
            "7/7 [==============================] - 0s 7ms/step - loss: 0.0011 - accuracy: 1.0000\n",
            "Epoch 77/100\n",
            "7/7 [==============================] - 0s 6ms/step - loss: 9.7820e-04 - accuracy: 1.0000\n",
            "Epoch 78/100\n",
            "7/7 [==============================] - 0s 6ms/step - loss: 9.0909e-04 - accuracy: 1.0000\n",
            "Epoch 79/100\n",
            "7/7 [==============================] - 0s 6ms/step - loss: 8.6910e-04 - accuracy: 1.0000\n",
            "Epoch 80/100\n",
            "7/7 [==============================] - 0s 6ms/step - loss: 8.2137e-04 - accuracy: 1.0000\n",
            "Epoch 81/100\n",
            "7/7 [==============================] - 0s 6ms/step - loss: 7.9994e-04 - accuracy: 1.0000\n",
            "Epoch 82/100\n",
            "7/7 [==============================] - 0s 6ms/step - loss: 7.5911e-04 - accuracy: 1.0000\n",
            "Epoch 83/100\n",
            "7/7 [==============================] - 0s 5ms/step - loss: 7.2323e-04 - accuracy: 1.0000\n",
            "Epoch 84/100\n",
            "7/7 [==============================] - 0s 5ms/step - loss: 6.7104e-04 - accuracy: 1.0000\n",
            "Epoch 85/100\n",
            "7/7 [==============================] - 0s 6ms/step - loss: 6.4232e-04 - accuracy: 1.0000\n",
            "Epoch 86/100\n",
            "7/7 [==============================] - 0s 6ms/step - loss: 6.1453e-04 - accuracy: 1.0000\n",
            "Epoch 87/100\n",
            "7/7 [==============================] - 0s 6ms/step - loss: 5.8336e-04 - accuracy: 1.0000\n",
            "Epoch 88/100\n",
            "7/7 [==============================] - 0s 6ms/step - loss: 5.5646e-04 - accuracy: 1.0000\n",
            "Epoch 89/100\n",
            "7/7 [==============================] - 0s 6ms/step - loss: 5.3333e-04 - accuracy: 1.0000\n",
            "Epoch 90/100\n",
            "7/7 [==============================] - 0s 6ms/step - loss: 5.2673e-04 - accuracy: 1.0000\n",
            "Epoch 91/100\n",
            "7/7 [==============================] - 0s 6ms/step - loss: 4.9610e-04 - accuracy: 1.0000\n",
            "Epoch 92/100\n",
            "7/7 [==============================] - 0s 7ms/step - loss: 4.6748e-04 - accuracy: 1.0000\n",
            "Epoch 93/100\n",
            "7/7 [==============================] - 0s 6ms/step - loss: 4.5295e-04 - accuracy: 1.0000\n",
            "Epoch 94/100\n",
            "7/7 [==============================] - 0s 6ms/step - loss: 4.3766e-04 - accuracy: 1.0000\n",
            "Epoch 95/100\n",
            "7/7 [==============================] - 0s 6ms/step - loss: 4.2250e-04 - accuracy: 1.0000\n",
            "Epoch 96/100\n",
            "7/7 [==============================] - 0s 7ms/step - loss: 4.0615e-04 - accuracy: 1.0000\n",
            "Epoch 97/100\n",
            "7/7 [==============================] - 0s 7ms/step - loss: 3.8680e-04 - accuracy: 1.0000\n",
            "Epoch 98/100\n",
            "7/7 [==============================] - 0s 6ms/step - loss: 3.7395e-04 - accuracy: 1.0000\n",
            "Epoch 99/100\n",
            "7/7 [==============================] - 0s 5ms/step - loss: 3.6072e-04 - accuracy: 1.0000\n",
            "Epoch 100/100\n",
            "7/7 [==============================] - 0s 6ms/step - loss: 3.4625e-04 - accuracy: 1.0000\n"
          ]
        }
      ]
    },
    {
      "cell_type": "code",
      "source": [
        "## Visualising the Loss\n",
        "\n",
        "plt.plot(history2.history['loss'])"
      ],
      "metadata": {
        "colab": {
          "base_uri": "https://localhost:8080/",
          "height": 448
        },
        "id": "Dgwm9uJSvUya",
        "outputId": "2968194b-9b7f-41ee-cc4b-cda03a5debd3"
      },
      "execution_count": 120,
      "outputs": [
        {
          "output_type": "execute_result",
          "data": {
            "text/plain": [
              "[<matplotlib.lines.Line2D at 0x7ca56b3dde40>]"
            ]
          },
          "metadata": {},
          "execution_count": 120
        },
        {
          "output_type": "display_data",
          "data": {
            "text/plain": [
              "<Figure size 640x480 with 1 Axes>"
            ],
            "image/png": "[encoded data removed]"
          },
          "metadata": {}
        }
      ]
    },
    {
      "cell_type": "code",
      "source": [
        "## Loss has been reduce drastically"
      ],
      "metadata": {
        "id": "BuztHEKmvU1s"
      },
      "execution_count": null,
      "outputs": []
    },
    {
      "cell_type": "code",
      "source": [
        "## ## Calculating the New Weight after Model is trained\n",
        "\n",
        "new_weight2 = model2.get_weights()[0]"
      ],
      "metadata": {
        "id": "BAYWdqQMvU3y"
      },
      "execution_count": 121,
      "outputs": []
    },
    {
      "cell_type": "code",
      "source": [
        "## Visualization\n",
        "\n",
        "plt.scatter(old_weight2[0], old_weight2[1], color = 'red', label= 'Old_Weight')\n",
        "plt.scatter(new_weight2[0],new_weight2[1], color = 'green', label= 'New_Weight')\n",
        "plt.legend()\n",
        "plt.show()"
      ],
      "metadata": {
        "colab": {
          "base_uri": "https://localhost:8080/",
          "height": 430
        },
        "id": "qtLSd1-s1dHz",
        "outputId": "d97195eb-024c-45fc-f8ea-fee8c690c5ab"
      },
      "execution_count": 124,
      "outputs": [
        {
          "output_type": "display_data",
          "data": {
            "text/plain": [
              "<Figure size 640x480 with 1 Axes>"
            ],
            "image/png": "[encoded data removed]"
          },
          "metadata": {}
        }
      ]
    },
    {
      "cell_type": "code",
      "source": [
        "## As we can see the weigths are totally scattered. Hence Vanishing Gradient Issue is handled."
      ],
      "metadata": {
        "id": "RzWwXhqj1mHM"
      },
      "execution_count": null,
      "outputs": []
    }
  ]
}