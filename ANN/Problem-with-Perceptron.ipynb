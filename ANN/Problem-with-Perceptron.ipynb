{
 "cells": [
  {
   "cell_type": "code",
   "execution_count": 41,
   "id": "53010377",
   "metadata": {},
   "outputs": [],
   "source": [
    "## So the problem with perceptron is that it works only on Linear data. \n",
    "## We will try to check if on AND , OR , and XOR function \n",
    "\n",
    "## OR and AND are Linear Function\n",
    "## XOR is Non-Linear Function"
   ]
  },
  {
   "cell_type": "code",
   "execution_count": 3,
   "id": "9bcaca62",
   "metadata": {},
   "outputs": [],
   "source": [
    "## Importing the dependencies \n",
    "\n",
    "import numpy as np\n",
    "import pandas as pd\n",
    "import matplotlib.pyplot as plt\n",
    "import seaborn as sns\n",
    "\n",
    "import warnings \n",
    "warnings.filterwarnings('ignore')"
   ]
  },
  {
   "cell_type": "code",
   "execution_count": 4,
   "id": "4fe987ba",
   "metadata": {},
   "outputs": [],
   "source": [
    "## Creating 3 new dataframes\n",
    "\n",
    "or_data = pd.DataFrame()\n",
    "and_data = pd.DataFrame()\n",
    "XOR_data = pd.DataFrame()"
   ]
  },
  {
   "cell_type": "code",
   "execution_count": 5,
   "id": "7e9301e9",
   "metadata": {},
   "outputs": [
    {
     "data": {
      "text/html": [
       "<div>\n",
       "<style scoped>\n",
       "    .dataframe tbody tr th:only-of-type {\n",
       "        vertical-align: middle;\n",
       "    }\n",
       "\n",
       "    .dataframe tbody tr th {\n",
       "        vertical-align: top;\n",
       "    }\n",
       "\n",
       "    .dataframe thead th {\n",
       "        text-align: right;\n",
       "    }\n",
       "</style>\n",
       "<table border=\"1\" class=\"dataframe\">\n",
       "  <thead>\n",
       "    <tr style=\"text-align: right;\">\n",
       "      <th></th>\n",
       "      <th>X1</th>\n",
       "      <th>X2</th>\n",
       "      <th>Y</th>\n",
       "    </tr>\n",
       "  </thead>\n",
       "  <tbody>\n",
       "    <tr>\n",
       "      <th>0</th>\n",
       "      <td>1</td>\n",
       "      <td>1</td>\n",
       "      <td>1</td>\n",
       "    </tr>\n",
       "    <tr>\n",
       "      <th>1</th>\n",
       "      <td>1</td>\n",
       "      <td>0</td>\n",
       "      <td>1</td>\n",
       "    </tr>\n",
       "    <tr>\n",
       "      <th>2</th>\n",
       "      <td>0</td>\n",
       "      <td>1</td>\n",
       "      <td>1</td>\n",
       "    </tr>\n",
       "    <tr>\n",
       "      <th>3</th>\n",
       "      <td>0</td>\n",
       "      <td>0</td>\n",
       "      <td>0</td>\n",
       "    </tr>\n",
       "  </tbody>\n",
       "</table>\n",
       "</div>"
      ],
      "text/plain": [
       "   X1  X2  Y\n",
       "0   1   1  1\n",
       "1   1   0  1\n",
       "2   0   1  1\n",
       "3   0   0  0"
      ]
     },
     "execution_count": 5,
     "metadata": {},
     "output_type": "execute_result"
    }
   ],
   "source": [
    "or_data['X1'] = [1,1,0,0]\n",
    "or_data['X2'] = [1,0,1,0]\n",
    "or_data['Y'] = [1,1,1,0]\n",
    "\n",
    "or_data"
   ]
  },
  {
   "cell_type": "code",
   "execution_count": 7,
   "id": "fd2e41fa",
   "metadata": {},
   "outputs": [
    {
     "data": {
      "text/html": [
       "<div>\n",
       "<style scoped>\n",
       "    .dataframe tbody tr th:only-of-type {\n",
       "        vertical-align: middle;\n",
       "    }\n",
       "\n",
       "    .dataframe tbody tr th {\n",
       "        vertical-align: top;\n",
       "    }\n",
       "\n",
       "    .dataframe thead th {\n",
       "        text-align: right;\n",
       "    }\n",
       "</style>\n",
       "<table border=\"1\" class=\"dataframe\">\n",
       "  <thead>\n",
       "    <tr style=\"text-align: right;\">\n",
       "      <th></th>\n",
       "      <th>X1</th>\n",
       "      <th>X2</th>\n",
       "      <th>Y</th>\n",
       "    </tr>\n",
       "  </thead>\n",
       "  <tbody>\n",
       "    <tr>\n",
       "      <th>0</th>\n",
       "      <td>1</td>\n",
       "      <td>1</td>\n",
       "      <td>1</td>\n",
       "    </tr>\n",
       "    <tr>\n",
       "      <th>1</th>\n",
       "      <td>1</td>\n",
       "      <td>0</td>\n",
       "      <td>0</td>\n",
       "    </tr>\n",
       "    <tr>\n",
       "      <th>2</th>\n",
       "      <td>0</td>\n",
       "      <td>1</td>\n",
       "      <td>0</td>\n",
       "    </tr>\n",
       "    <tr>\n",
       "      <th>3</th>\n",
       "      <td>0</td>\n",
       "      <td>0</td>\n",
       "      <td>0</td>\n",
       "    </tr>\n",
       "  </tbody>\n",
       "</table>\n",
       "</div>"
      ],
      "text/plain": [
       "   X1  X2  Y\n",
       "0   1   1  1\n",
       "1   1   0  0\n",
       "2   0   1  0\n",
       "3   0   0  0"
      ]
     },
     "execution_count": 7,
     "metadata": {},
     "output_type": "execute_result"
    }
   ],
   "source": [
    "and_data['X1'] = [1,1,0,0]\n",
    "and_data['X2'] = [1,0,1,0]\n",
    "and_data['Y'] = [1,0,0,0]\n",
    "\n",
    "and_data"
   ]
  },
  {
   "cell_type": "code",
   "execution_count": 8,
   "id": "2616c205",
   "metadata": {},
   "outputs": [
    {
     "data": {
      "text/html": [
       "<div>\n",
       "<style scoped>\n",
       "    .dataframe tbody tr th:only-of-type {\n",
       "        vertical-align: middle;\n",
       "    }\n",
       "\n",
       "    .dataframe tbody tr th {\n",
       "        vertical-align: top;\n",
       "    }\n",
       "\n",
       "    .dataframe thead th {\n",
       "        text-align: right;\n",
       "    }\n",
       "</style>\n",
       "<table border=\"1\" class=\"dataframe\">\n",
       "  <thead>\n",
       "    <tr style=\"text-align: right;\">\n",
       "      <th></th>\n",
       "      <th>X1</th>\n",
       "      <th>X2</th>\n",
       "      <th>Y</th>\n",
       "    </tr>\n",
       "  </thead>\n",
       "  <tbody>\n",
       "    <tr>\n",
       "      <th>0</th>\n",
       "      <td>1</td>\n",
       "      <td>1</td>\n",
       "      <td>0</td>\n",
       "    </tr>\n",
       "    <tr>\n",
       "      <th>1</th>\n",
       "      <td>1</td>\n",
       "      <td>0</td>\n",
       "      <td>1</td>\n",
       "    </tr>\n",
       "    <tr>\n",
       "      <th>2</th>\n",
       "      <td>0</td>\n",
       "      <td>1</td>\n",
       "      <td>1</td>\n",
       "    </tr>\n",
       "    <tr>\n",
       "      <th>3</th>\n",
       "      <td>0</td>\n",
       "      <td>0</td>\n",
       "      <td>0</td>\n",
       "    </tr>\n",
       "  </tbody>\n",
       "</table>\n",
       "</div>"
      ],
      "text/plain": [
       "   X1  X2  Y\n",
       "0   1   1  0\n",
       "1   1   0  1\n",
       "2   0   1  1\n",
       "3   0   0  0"
      ]
     },
     "execution_count": 8,
     "metadata": {},
     "output_type": "execute_result"
    }
   ],
   "source": [
    "XOR_data['X1'] = [1,1,0,0]\n",
    "XOR_data['X2'] = [1,0,1,0]\n",
    "XOR_data['Y'] = [0,1,1,0]\n",
    "\n",
    "XOR_data"
   ]
  },
  {
   "cell_type": "code",
   "execution_count": 11,
   "id": "237a78c9",
   "metadata": {},
   "outputs": [
    {
     "data": {
      "text/plain": [
       "<Axes: xlabel='X1', ylabel='X2'>"
      ]
     },
     "execution_count": 11,
     "metadata": {},
     "output_type": "execute_result"
    },
    {
     "data": {
      "image/png": "[encoded data removed]",
      "text/plain": [
       "<Figure size 432x288 with 1 Axes>"
      ]
     },
     "metadata": {
      "needs_background": "light"
     },
     "output_type": "display_data"
    }
   ],
   "source": [
    "## Visualsization\n",
    "\n",
    "# or_Data\n",
    "\n",
    "sns.scatterplot(x=or_data.X1, y=or_data.X2, hue=or_data.Y,s=200)"
   ]
  },
  {
   "cell_type": "code",
   "execution_count": 12,
   "id": "cf5b405e",
   "metadata": {},
   "outputs": [
    {
     "data": {
      "text/plain": [
       "<Axes: xlabel='X1', ylabel='X2'>"
      ]
     },
     "execution_count": 12,
     "metadata": {},
     "output_type": "execute_result"
    },
    {
     "data": {
      "image/png": "[encoded data removed]",
      "text/plain": [
       "<Figure size 432x288 with 1 Axes>"
      ]
     },
     "metadata": {
      "needs_background": "light"
     },
     "output_type": "display_data"
    }
   ],
   "source": [
    "# and_Data\n",
    "\n",
    "sns.scatterplot(x=and_data.X1, y=and_data.X2, hue=and_data.Y,s=200)"
   ]
  },
  {
   "cell_type": "code",
   "execution_count": 13,
   "id": "d0a55f82",
   "metadata": {},
   "outputs": [
    {
     "data": {
      "text/plain": [
       "<Axes: xlabel='X1', ylabel='X2'>"
      ]
     },
     "execution_count": 13,
     "metadata": {},
     "output_type": "execute_result"
    },
    {
     "data": {
      "image/png": "[encoded data removed]",
      "text/plain": [
       "<Figure size 432x288 with 1 Axes>"
      ]
     },
     "metadata": {
      "needs_background": "light"
     },
     "output_type": "display_data"
    }
   ],
   "source": [
    "# Xor_Data\n",
    "\n",
    "sns.scatterplot(x=XOR_data.X1, y=XOR_data.X2, hue=XOR_data.Y,s=200)"
   ]
  },
  {
   "cell_type": "code",
   "execution_count": 15,
   "id": "9562b5b3",
   "metadata": {},
   "outputs": [],
   "source": [
    "## Creating the Perceptron Model Object \n",
    "\n",
    "from sklearn.linear_model import Perceptron\n",
    "\n",
    "cf1 = Perceptron() # Classifier 1\n",
    "cf2 = Perceptron() # Classifier 2\n",
    "cf3 = Perceptron() # Classifier 3"
   ]
  },
  {
   "cell_type": "code",
   "execution_count": 16,
   "id": "b9037dc9",
   "metadata": {},
   "outputs": [
    {
     "data": {
      "text/plain": [
       "Perceptron()"
      ]
     },
     "execution_count": 16,
     "metadata": {},
     "output_type": "execute_result"
    }
   ],
   "source": [
    "## Fitting the Model\n",
    "\n",
    "cf1.fit(or_data.iloc[:,:-1].values, or_data.iloc[:,-1].values)\n",
    "cf2.fit(and_data.iloc[:,:-1].values, and_data.iloc[:,-1].values)\n",
    "cf3.fit(XOR_data.iloc[:,:-1].values, XOR_data.iloc[:,-1].values)"
   ]
  },
  {
   "cell_type": "code",
   "execution_count": 18,
   "id": "9f4edf95",
   "metadata": {},
   "outputs": [
    {
     "name": "stdout",
     "output_type": "stream",
     "text": [
      " Coefficients : [[2. 2.]] and Intercept : [-1.]\n"
     ]
    }
   ],
   "source": [
    "## Checking the Result and Visualization\n",
    "\n",
    "## or_data\n",
    "\n",
    "print(f' OR_Coefficients : {cf1.coef_} and OR_Intercept : {cf1.intercept_}')\n"
   ]
  },
  {
   "cell_type": "code",
   "execution_count": 25,
   "id": "4980c381",
   "metadata": {},
   "outputs": [
    {
     "data": {
      "text/plain": [
       "<Axes: xlabel='X1', ylabel='X2'>"
      ]
     },
     "execution_count": 25,
     "metadata": {},
     "output_type": "execute_result"
    },
    {
     "data": {
      "image/png": "[encoded data removed]",
      "text/plain": [
       "<Figure size 432x288 with 1 Axes>"
      ]
     },
     "metadata": {
      "needs_background": "light"
     },
     "output_type": "display_data"
    }
   ],
   "source": [
    "## Line Eqn => 2x+2y-1=0 or y=0.5-x (post resolving)\n",
    "\n",
    "## Ploting the Line Eqn\n",
    "\n",
    "x = np.linspace(-1,1,5) ## Ploting for differnt ranges x = [-1,-.5,0,.5,1]\n",
    "y= -x+0.5 # y = [2. , 1.5, 1. , 0.5, 0. ]\n",
    "\n",
    "plt.plot(x,y)\n",
    "sns.scatterplot(x=or_data.X1, y=or_data.X2, hue=or_data.Y,s=200)"
   ]
  },
  {
   "cell_type": "code",
   "execution_count": 26,
   "id": "dde707cc",
   "metadata": {},
   "outputs": [],
   "source": [
    "## As we can see the line is doing the correct classification for OR_Data"
   ]
  },
  {
   "cell_type": "code",
   "execution_count": 27,
   "id": "168f8801",
   "metadata": {},
   "outputs": [
    {
     "name": "stdout",
     "output_type": "stream",
     "text": [
      " AND_Coefficients : [[2. 2.]] and AND_Intercept : [-2.]\n"
     ]
    }
   ],
   "source": [
    "## and_data\n",
    "\n",
    "print(f' AND_Coefficients : {cf2.coef_} and AND_Intercept : {cf2.intercept_}')\n"
   ]
  },
  {
   "cell_type": "code",
   "execution_count": 28,
   "id": "5230e649",
   "metadata": {},
   "outputs": [
    {
     "data": {
      "text/plain": [
       "<Axes: xlabel='X1', ylabel='X2'>"
      ]
     },
     "execution_count": 28,
     "metadata": {},
     "output_type": "execute_result"
    },
    {
     "data": {
      "image/png": "[encoded data removed]",
      "text/plain": [
       "<Figure size 432x288 with 1 Axes>"
      ]
     },
     "metadata": {
      "needs_background": "light"
     },
     "output_type": "display_data"
    }
   ],
   "source": [
    "## Line Eqn => 2x+2y-2=0 or y=1-x (post resolving)\n",
    "\n",
    "## Ploting the Line Eqn\n",
    "\n",
    "x = np.linspace(-1,1,5) ## Ploting for differnt ranges x = [-1,-.5,0,.5,1]\n",
    "y= -x+1 # y = [2. , 1.5, 1. , 0.5, 0. ]\n",
    "\n",
    "plt.plot(x,y)\n",
    "sns.scatterplot(x=and_data.X1, y=and_data.X2, hue=and_data.Y,s=200)"
   ]
  },
  {
   "cell_type": "code",
   "execution_count": 29,
   "id": "edb5174e",
   "metadata": {},
   "outputs": [],
   "source": [
    "## Similary Result are shown here some point are on the line. But the data is linearly seperable"
   ]
  },
  {
   "cell_type": "code",
   "execution_count": 30,
   "id": "9d32e20b",
   "metadata": {},
   "outputs": [
    {
     "name": "stdout",
     "output_type": "stream",
     "text": [
      " XOR_Coefficients : [[0. 0.]] and XOR_Intercept : [0.]\n"
     ]
    }
   ],
   "source": [
    "\n",
    "## or_data\n",
    "\n",
    "print(f' XOR_Coefficients : {cf3.coef_} and XOR_Intercept : {cf3.intercept_}')"
   ]
  },
  {
   "cell_type": "code",
   "execution_count": 31,
   "id": "d3e73412",
   "metadata": {},
   "outputs": [],
   "source": [
    "## So since everything is Zero, there is no equation of the line and we cannot plot anything that means\n",
    "## Perceptron Model donot work on Non-Lnear Data as XOR Function is a non-linear function"
   ]
  },
  {
   "cell_type": "code",
   "execution_count": 34,
   "id": "e3ca3207",
   "metadata": {},
   "outputs": [
    {
     "data": {
      "text/plain": [
       "<Axes: >"
      ]
     },
     "execution_count": 34,
     "metadata": {},
     "output_type": "execute_result"
    },
    {
     "data": {
      "image/png": "[encoded data removed]",
      "text/plain": [
       "<Figure size 720x576 with 1 Axes>"
      ]
     },
     "metadata": {
      "needs_background": "light"
     },
     "output_type": "display_data"
    }
   ],
   "source": [
    "## Checking the decsion boundaries\n",
    "\n",
    "## For XOR Function\n",
    "\n",
    "\n",
    "from mlxtend.plotting import plot_decision_regions\n",
    "\n",
    "plt.figure(figsize=(10,8))\n",
    "plot_decision_regions(XOR_data.iloc[:,:-1].values, XOR_data.iloc[:,-1].values, clf=cf3, legend=2)"
   ]
  },
  {
   "cell_type": "code",
   "execution_count": 37,
   "id": "2ee7a2df",
   "metadata": {},
   "outputs": [
    {
     "data": {
      "text/plain": [
       "<Axes: >"
      ]
     },
     "execution_count": 37,
     "metadata": {},
     "output_type": "execute_result"
    },
    {
     "data": {
      "image/png": "[encoded data removed]",
      "text/plain": [
       "<Figure size 720x576 with 1 Axes>"
      ]
     },
     "metadata": {
      "needs_background": "light"
     },
     "output_type": "display_data"
    }
   ],
   "source": [
    "## For OR Function\n",
    "\n",
    "plt.figure(figsize=(10,8))\n",
    "plot_decision_regions(or_data.iloc[:,:-1].values, or_data.iloc[:,-1].values, clf=cf1, legend=2)"
   ]
  },
  {
   "cell_type": "code",
   "execution_count": 38,
   "id": "8dfe1b4e",
   "metadata": {},
   "outputs": [
    {
     "data": {
      "text/plain": [
       "<Axes: >"
      ]
     },
     "execution_count": 38,
     "metadata": {},
     "output_type": "execute_result"
    },
    {
     "data": {
      "image/png": "[encoded data removed]",
      "text/plain": [
       "<Figure size 720x576 with 1 Axes>"
      ]
     },
     "metadata": {
      "needs_background": "light"
     },
     "output_type": "display_data"
    }
   ],
   "source": [
    "## For AND Function\n",
    "\n",
    "plt.figure(figsize=(10,8))\n",
    "plot_decision_regions(and_data.iloc[:,:-1].values, and_data.iloc[:,-1].values, clf=cf2, legend=2)"
   ]
  },
  {
   "cell_type": "code",
   "execution_count": 40,
   "id": "4c38f9f4",
   "metadata": {},
   "outputs": [],
   "source": [
    "# So clearly as we can observe Perceptron Model is unable to create any Decision Boundaries of Non-Linear data(XOR)"
   ]
  },
  {
   "cell_type": "code",
   "execution_count": null,
   "id": "4860cf38",
   "metadata": {},
   "outputs": [],
   "source": []
  }
 ],
 "metadata": {
  "kernelspec": {
   "display_name": "Python 3 (ipykernel)",
   "language": "python",
   "name": "python3"
  },
  "language_info": {
   "codemirror_mode": {
    "name": "ipython",
    "version": 3
   },
   "file_extension": ".py",
   "mimetype": "text/x-python",
   "name": "python",
   "nbconvert_exporter": "python",
   "pygments_lexer": "ipython3",
   "version": "3.9.12"
  }
 },
 "nbformat": 4,
 "nbformat_minor": 5
}
