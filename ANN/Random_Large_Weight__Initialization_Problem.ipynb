{
  "nbformat": 4,
  "nbformat_minor": 0,
  "metadata": {
    "colab": {
      "provenance": [],
      "gpuType": "T4"
    },
    "kernelspec": {
      "name": "python3",
      "display_name": "Python 3"
    },
    "language_info": {
      "name": "python"
    },
    "accelerator": "GPU"
  },
  "cells": [
    {
      "cell_type": "code",
      "execution_count": 1,
      "metadata": {
        "id": "zDNxh8tGpSnh"
      },
      "outputs": [],
      "source": [
        "import numpy as np\n",
        "import pandas as pd\n",
        "import matplotlib.pyplot as plt\n",
        "import seaborn as sns\n",
        "\n",
        "from sklearn.datasets import make_moons\n",
        "\n",
        "\n",
        "import tensorflow as tf\n",
        "from tensorflow import keras\n",
        "from keras import Sequential\n",
        "from keras.layers import Dense"
      ]
    },
    {
      "cell_type": "code",
      "source": [
        "## Generating Binary Classification Dataset\n",
        "\n",
        "x,y = make_moons(n_samples=250, noise=0.25, random_state=1)"
      ],
      "metadata": {
        "id": "G78iIdp3ph1b"
      },
      "execution_count": 2,
      "outputs": []
    },
    {
      "cell_type": "code",
      "source": [
        "x"
      ],
      "metadata": {
        "colab": {
          "base_uri": "https://localhost:8080/"
        },
        "id": "th0pqZcpqi7A",
        "outputId": "f518882e-e51e-46e5-925d-2af768f3529b"
      },
      "execution_count": 3,
      "outputs": [
        {
          "output_type": "execute_result",
          "data": {
            "text/plain": [
              "array([[-0.13249283,  0.79819677],\n",
              "       [ 2.31843898,  0.99177544],\n",
              "       [ 1.42186457,  0.34604436],\n",
              "       [ 0.79480671, -0.20627281],\n",
              "       [-0.97020185,  0.95784991],\n",
              "       [ 1.76079819, -0.2428572 ],\n",
              "       [-0.20634621,  1.1325037 ],\n",
              "       [ 2.12685472, -0.02683228],\n",
              "       [ 0.95372432, -0.77040037],\n",
              "       [ 1.19533458,  0.11281015],\n",
              "       [ 1.93767258,  0.29814377],\n",
              "       [ 1.24255425, -0.31207617],\n",
              "       [-0.84716361,  0.23572382],\n",
              "       [ 0.89311669, -0.33739211],\n",
              "       [ 0.05940713,  0.61998868],\n",
              "       [-0.47188505,  0.31024837],\n",
              "       [ 1.18377304,  0.049632  ],\n",
              "       [ 0.38543722,  0.93637792],\n",
              "       [ 0.74090447,  0.60217849],\n",
              "       [-0.27074376,  0.68091205],\n",
              "       [ 1.69148983, -0.32052492],\n",
              "       [ 0.71357227,  0.68459783],\n",
              "       [-0.61821075,  0.62670905],\n",
              "       [ 1.22125108, -0.4462956 ],\n",
              "       [-0.44719439, -0.37292191],\n",
              "       [-1.15371635,  0.35171032],\n",
              "       [ 2.62919434,  0.36190819],\n",
              "       [ 1.97899437,  0.19276891],\n",
              "       [ 0.90413249,  0.74893648],\n",
              "       [ 1.8404023 , -0.32196399],\n",
              "       [ 1.51683212,  0.02809421],\n",
              "       [ 0.56619035,  1.22111101],\n",
              "       [-0.02761176,  0.84565948],\n",
              "       [ 1.64798606, -0.30158773],\n",
              "       [ 0.43822423, -0.29329383],\n",
              "       [ 2.16443126,  0.10707122],\n",
              "       [ 1.02645739,  1.11273599],\n",
              "       [ 0.87186923,  0.3002472 ],\n",
              "       [ 1.04838436,  0.5454647 ],\n",
              "       [ 2.14898729,  0.43767254],\n",
              "       [ 1.3401746 , -0.19180313],\n",
              "       [ 0.74578367,  0.95171616],\n",
              "       [-1.0400947 ,  0.26693464],\n",
              "       [-1.26132457,  0.30632511],\n",
              "       [ 0.39060599,  1.23103331],\n",
              "       [-1.01937701,  0.01163631],\n",
              "       [ 0.91053778,  0.62838467],\n",
              "       [ 0.65220339,  0.49405584],\n",
              "       [ 0.89785413,  0.56164567],\n",
              "       [ 1.351885  ,  0.03227539],\n",
              "       [ 2.2660094 ,  0.11838943],\n",
              "       [-0.16059133,  0.86232249],\n",
              "       [-1.25907536,  0.91170529],\n",
              "       [ 0.02858465, -0.10000218],\n",
              "       [ 0.43054452, -0.46980642],\n",
              "       [-0.92364766,  0.22687731],\n",
              "       [-0.82321325,  0.59946733],\n",
              "       [ 0.72864198,  0.3430923 ],\n",
              "       [ 0.62337828,  0.22791723],\n",
              "       [-0.41053613,  0.57991886],\n",
              "       [ 0.72401883, -0.56621457],\n",
              "       [ 0.19349887, -0.44103215],\n",
              "       [ 0.41372131, -0.25997512],\n",
              "       [ 1.20528395, -0.60950949],\n",
              "       [ 0.82358333,  0.60222127],\n",
              "       [ 1.16440573, -0.52578705],\n",
              "       [-0.16930724,  1.33302646],\n",
              "       [ 0.62858636, -0.64750738],\n",
              "       [ 0.56654399,  0.32297751],\n",
              "       [-0.06903823,  0.83256542],\n",
              "       [-0.60538636,  0.39359557],\n",
              "       [ 2.10742931, -0.01111857],\n",
              "       [ 0.75841594, -0.16090301],\n",
              "       [ 1.07118703, -0.43438314],\n",
              "       [ 0.86782631, -0.66284784],\n",
              "       [ 0.28493429,  1.38295269],\n",
              "       [-0.42240457,  1.01200294],\n",
              "       [ 1.75479577,  0.05700512],\n",
              "       [ 0.93914412, -0.14607599],\n",
              "       [ 1.421757  , -0.02438563],\n",
              "       [-0.8468504 ,  0.64938088],\n",
              "       [ 0.9616084 ,  0.57766777],\n",
              "       [ 0.36381507, -0.20597693],\n",
              "       [ 0.86590389,  0.55159272],\n",
              "       [-0.12768973,  1.0087001 ],\n",
              "       [ 1.7283709 , -0.14614816],\n",
              "       [ 0.29950391,  0.81414549],\n",
              "       [-0.9297998 ,  0.34316852],\n",
              "       [-0.42463851,  1.04483692],\n",
              "       [-0.01280825,  1.12059376],\n",
              "       [ 0.53213081, -0.044209  ],\n",
              "       [ 0.54180449, -0.68822152],\n",
              "       [-0.87580269,  0.99758932],\n",
              "       [-0.99537834, -0.12302423],\n",
              "       [ 0.64075284,  0.72439548],\n",
              "       [ 1.18952583,  0.49382575],\n",
              "       [ 1.33918203, -0.03899747],\n",
              "       [ 1.70706511, -0.29257035],\n",
              "       [-0.7341595 ,  0.42759704],\n",
              "       [ 0.16590597,  0.72080996],\n",
              "       [ 1.31331092, -0.63706958],\n",
              "       [-0.03049939,  0.78834497],\n",
              "       [-0.04602784,  1.21856037],\n",
              "       [ 1.56555346,  0.12778667],\n",
              "       [-1.0275626 ,  0.5394745 ],\n",
              "       [ 2.09800991,  0.6291543 ],\n",
              "       [-0.04795643,  0.95283144],\n",
              "       [ 2.35484449,  0.21915219],\n",
              "       [-1.30007604,  0.12645869],\n",
              "       [ 1.08049662, -0.73564776],\n",
              "       [-1.10258887,  0.34496474],\n",
              "       [-1.02951513,  0.47523769],\n",
              "       [ 0.12385787, -0.02682677],\n",
              "       [-0.81706536,  0.58839695],\n",
              "       [-0.37001094,  0.58035095],\n",
              "       [ 0.90522654, -0.20774765],\n",
              "       [-0.93512437,  0.664345  ],\n",
              "       [ 1.37495661, -0.46927757],\n",
              "       [-0.68572682,  0.64141166],\n",
              "       [ 0.14580191, -0.33849685],\n",
              "       [ 0.81476558,  0.53415531],\n",
              "       [ 0.09666016, -0.3205492 ],\n",
              "       [ 1.93960727,  0.63130421],\n",
              "       [ 0.45838356, -0.9376472 ],\n",
              "       [ 1.99480591,  0.05210455],\n",
              "       [ 1.18188548, -0.60148348],\n",
              "       [ 2.17473704,  0.12164656],\n",
              "       [ 0.97337744, -0.2332509 ],\n",
              "       [ 0.07146037,  0.68997653],\n",
              "       [-1.43898141,  0.1786974 ],\n",
              "       [ 0.6628833 , -0.32613179],\n",
              "       [ 0.04403347, -0.43273724],\n",
              "       [ 1.10074575,  0.27739391],\n",
              "       [ 1.72976183, -0.19523722],\n",
              "       [ 0.32612718, -0.53105962],\n",
              "       [ 0.06087014,  1.35066278],\n",
              "       [ 0.00681017,  0.13410058],\n",
              "       [-1.11724349,  0.70592785],\n",
              "       [ 0.14381574,  1.02092952],\n",
              "       [ 1.36210762,  0.09899826],\n",
              "       [ 1.59232429,  0.12473926],\n",
              "       [ 1.24323573, -0.18024353],\n",
              "       [ 1.7920903 ,  0.08122195],\n",
              "       [-0.85905467,  0.73870715],\n",
              "       [ 0.33788834,  0.14410154],\n",
              "       [ 1.61853285,  0.28929609],\n",
              "       [ 2.41959225,  0.28353836],\n",
              "       [ 0.39534076, -0.39374243],\n",
              "       [ 0.88146841, -0.21815264],\n",
              "       [ 1.0660364 , -0.37213418],\n",
              "       [ 1.51407676,  0.0825769 ],\n",
              "       [ 1.10759735, -0.66702235],\n",
              "       [ 0.14270642,  0.94200538],\n",
              "       [-1.081206  ,  0.3626379 ],\n",
              "       [-0.07164193,  0.88982734],\n",
              "       [ 0.51133835,  0.16681947],\n",
              "       [ 0.60457124,  0.89323601],\n",
              "       [-0.01263803,  0.94171361],\n",
              "       [-0.5723061 ,  0.9832145 ],\n",
              "       [ 1.10104277, -0.04743065],\n",
              "       [-0.47905604,  0.38501327],\n",
              "       [-0.18784707,  0.39713255],\n",
              "       [ 0.59374122, -0.34961458],\n",
              "       [ 0.7552132 ,  0.50087289],\n",
              "       [ 0.31191489,  0.0584988 ],\n",
              "       [ 0.55590841,  1.00432614],\n",
              "       [ 0.2071823 ,  0.04430591],\n",
              "       [ 0.76745329, -0.58718062],\n",
              "       [-0.71291259,  1.04219982],\n",
              "       [ 1.06971257, -0.62257691],\n",
              "       [ 0.38506081, -0.59868655],\n",
              "       [ 0.53645582, -0.03683824],\n",
              "       [-0.83809562,  0.5441702 ],\n",
              "       [ 0.11253888,  0.94133378],\n",
              "       [ 1.05271426,  0.42317843],\n",
              "       [ 0.19467573,  0.44497449],\n",
              "       [ 0.9243666 ,  0.69266591],\n",
              "       [ 1.52720756, -0.39481188],\n",
              "       [-1.36237294,  0.13471968],\n",
              "       [ 0.35402261, -0.32510271],\n",
              "       [ 1.23002177, -0.77358709],\n",
              "       [-0.15990458,  0.41799014],\n",
              "       [-0.58102627,  0.47155619],\n",
              "       [ 2.29913679,  0.90081583],\n",
              "       [ 0.20937312,  0.7691065 ],\n",
              "       [ 0.90231682,  0.52849852],\n",
              "       [ 0.40358406,  0.97475851],\n",
              "       [ 1.06820757, -0.59351703],\n",
              "       [-0.79643306, -0.18832203],\n",
              "       [-0.71732228,  0.89337496],\n",
              "       [-0.17919609,  0.98235737],\n",
              "       [ 0.59088886,  0.53920733],\n",
              "       [-0.41205097,  0.98507543],\n",
              "       [ 0.32204946,  0.90878163],\n",
              "       [ 0.67047424,  0.71028659],\n",
              "       [ 1.42056519,  0.12515056],\n",
              "       [ 1.6545733 , -0.58177773],\n",
              "       [ 0.49677954,  0.75673254],\n",
              "       [-0.02297524,  0.06809165],\n",
              "       [ 1.3203558 , -0.18462287],\n",
              "       [ 0.37225091,  0.21365183],\n",
              "       [ 1.9862335 ,  0.64074067],\n",
              "       [ 0.9664276 ,  0.86722918],\n",
              "       [ 1.6499895 , -0.59740011],\n",
              "       [-0.83796706,  0.42824646],\n",
              "       [ 1.10586495, -0.65568546],\n",
              "       [-1.0370347 ,  0.32172686],\n",
              "       [ 1.65254345, -0.28692098],\n",
              "       [ 1.15053027,  0.11294602],\n",
              "       [ 1.08198579, -0.25818243],\n",
              "       [-0.05547403,  0.81583376],\n",
              "       [-0.38854745,  0.6775225 ],\n",
              "       [ 0.44290092, -0.39950069],\n",
              "       [ 0.05737708,  1.29922607],\n",
              "       [ 1.17607073,  0.24021835],\n",
              "       [-0.01907533,  0.62206498],\n",
              "       [ 0.22746905,  0.63053841],\n",
              "       [ 0.94851609,  0.43466571],\n",
              "       [ 1.93926582,  0.76637176],\n",
              "       [-0.13645987,  0.19794176],\n",
              "       [-0.35794767,  0.78583551],\n",
              "       [-0.41217956,  0.78840488],\n",
              "       [ 1.38141334,  0.87754469],\n",
              "       [ 1.81353339, -0.2319223 ],\n",
              "       [-0.50113098,  1.00891028],\n",
              "       [ 0.18437742,  1.11522767],\n",
              "       [ 0.18424478,  0.54574338],\n",
              "       [ 0.34659592, -0.09641642],\n",
              "       [ 0.38600743, -0.24422923],\n",
              "       [ 0.01639782,  0.4279448 ],\n",
              "       [ 1.78688383, -0.46338866],\n",
              "       [-0.14013103, -0.0241483 ],\n",
              "       [-0.54461182,  0.54341037],\n",
              "       [ 1.31095539,  0.29153439],\n",
              "       [ 0.80936206, -1.10319211],\n",
              "       [ 0.65711129,  0.51459672],\n",
              "       [ 0.1536183 ,  0.70161739],\n",
              "       [-0.21731217,  1.33759554],\n",
              "       [ 1.58292926, -0.16208475],\n",
              "       [-0.11140804,  0.74507951],\n",
              "       [-0.1546011 ,  0.16079301],\n",
              "       [ 0.88832307, -0.62152357],\n",
              "       [-0.78285989,  0.77958581],\n",
              "       [ 0.10824928,  0.28150886],\n",
              "       [ 1.05741462, -0.05127285],\n",
              "       [ 0.13016598,  0.45265324],\n",
              "       [-0.0543458 ,  0.80186018],\n",
              "       [-0.41491474, -0.09980569],\n",
              "       [ 2.24404109, -0.11069177],\n",
              "       [ 0.79588797,  0.65292652]])"
            ]
          },
          "metadata": {},
          "execution_count": 3
        }
      ]
    },
    {
      "cell_type": "code",
      "source": [
        "y"
      ],
      "metadata": {
        "colab": {
          "base_uri": "https://localhost:8080/"
        },
        "id": "sTnAIzStqjjS",
        "outputId": "a259304d-b664-41a9-b341-6f98cd614c70"
      },
      "execution_count": 4,
      "outputs": [
        {
          "output_type": "execute_result",
          "data": {
            "text/plain": [
              "array([0, 1, 1, 1, 0, 1, 0, 1, 1, 0, 1, 1, 0, 1, 1, 0, 1, 0, 0, 0, 1, 0,\n",
              "       0, 1, 0, 0, 1, 1, 0, 1, 1, 0, 0, 1, 1, 1, 0, 0, 0, 1, 1, 0, 0, 0,\n",
              "       0, 0, 0, 0, 0, 0, 1, 0, 0, 1, 1, 0, 0, 0, 0, 1, 1, 1, 1, 1, 0, 1,\n",
              "       0, 1, 1, 0, 0, 1, 1, 1, 1, 0, 0, 1, 1, 1, 0, 0, 1, 0, 0, 1, 0, 0,\n",
              "       0, 0, 1, 1, 0, 0, 0, 0, 0, 1, 0, 0, 1, 0, 0, 1, 0, 1, 0, 1, 0, 1,\n",
              "       0, 0, 1, 0, 0, 1, 0, 1, 0, 1, 0, 1, 1, 1, 1, 1, 1, 1, 0, 0, 1, 1,\n",
              "       0, 1, 1, 0, 1, 0, 0, 1, 1, 1, 1, 0, 1, 1, 1, 0, 1, 0, 1, 1, 0, 0,\n",
              "       0, 1, 0, 0, 0, 1, 0, 1, 1, 0, 1, 0, 1, 1, 0, 1, 1, 1, 0, 1, 0, 1,\n",
              "       0, 1, 0, 1, 1, 1, 0, 1, 0, 0, 0, 1, 0, 0, 0, 0, 0, 0, 0, 0, 1, 0,\n",
              "       1, 1, 1, 1, 0, 1, 0, 1, 0, 1, 0, 1, 0, 1, 0, 0, 0, 0, 0, 0, 1, 1,\n",
              "       0, 0, 1, 1, 0, 0, 1, 1, 1, 1, 1, 1, 0, 0, 1, 0, 1, 0, 1, 1, 1, 1,\n",
              "       0, 1, 1, 1, 0, 1, 1, 0])"
            ]
          },
          "metadata": {},
          "execution_count": 4
        }
      ]
    },
    {
      "cell_type": "code",
      "source": [
        "## Data Visualization\n",
        "\n",
        "plt.scatter(x[:,0], x[:,1],c=y)"
      ],
      "metadata": {
        "colab": {
          "base_uri": "https://localhost:8080/",
          "height": 452
        },
        "id": "__IaXz59qsku",
        "outputId": "d1a838ae-cf9d-4876-e278-89cffde0f2bb"
      },
      "execution_count": 5,
      "outputs": [
        {
          "output_type": "execute_result",
          "data": {
            "text/plain": [
              "<matplotlib.collections.PathCollection at 0x7b1c8628db10>"
            ]
          },
          "metadata": {},
          "execution_count": 5
        },
        {
          "output_type": "display_data",
          "data": {
            "text/plain": [
              "<Figure size 640x480 with 1 Axes>"
            ],
            "image/png": "[encoded data removed]"
          },
          "metadata": {}
        }
      ]
    },
    {
      "cell_type": "markdown",
      "source": [
        "# Large Random Weight Initialization with 'sigmoid' as activation function"
      ],
      "metadata": {
        "id": "G8o6ffTdvpmF"
      }
    },
    {
      "cell_type": "code",
      "source": [
        "## Building ANN\n",
        "\n",
        "model = Sequential()\n",
        "model.add(Dense(2, activation='sigmoid', input_dim=2))\n",
        "model.add(Dense(2, activation='sigmoid'))\n",
        "model.add(Dense(2, activation='sigmoid'))\n",
        "model.add(Dense(2, activation='sigmoid'))\n",
        "model.add(Dense(1, activation='sigmoid'))\n",
        "model.summary()"
      ],
      "metadata": {
        "colab": {
          "base_uri": "https://localhost:8080/"
        },
        "id": "Ur2KpIrTqz2v",
        "outputId": "e1a57ab5-0697-425b-95b8-37958eeb98cc"
      },
      "execution_count": 6,
      "outputs": [
        {
          "output_type": "stream",
          "name": "stdout",
          "text": [
            "Model: \"sequential\"\n",
            "_________________________________________________________________\n",
            " Layer (type)                Output Shape              Param #   \n",
            "=================================================================\n",
            " dense (Dense)               (None, 2)                 6         \n",
            "                                                                 \n",
            " dense_1 (Dense)             (None, 2)                 6         \n",
            "                                                                 \n",
            " dense_2 (Dense)             (None, 2)                 6         \n",
            "                                                                 \n",
            " dense_3 (Dense)             (None, 2)                 6         \n",
            "                                                                 \n",
            " dense_4 (Dense)             (None, 1)                 3         \n",
            "                                                                 \n",
            "=================================================================\n",
            "Total params: 27 (108.00 Byte)\n",
            "Trainable params: 27 (108.00 Byte)\n",
            "Non-trainable params: 0 (0.00 Byte)\n",
            "_________________________________________________________________\n"
          ]
        }
      ]
    },
    {
      "cell_type": "code",
      "source": [
        "## Checking the Initial Weigths\n",
        "\n",
        "model.get_weights()"
      ],
      "metadata": {
        "colab": {
          "base_uri": "https://localhost:8080/"
        },
        "id": "A9ORCDc_tsO7",
        "outputId": "1fd8d9cb-2bc8-4c27-aee9-478e49842724"
      },
      "execution_count": 7,
      "outputs": [
        {
          "output_type": "execute_result",
          "data": {
            "text/plain": [
              "[array([[-0.4774775 , -0.16913891],\n",
              "        [-0.4328435 , -0.6753608 ]], dtype=float32),\n",
              " array([0., 0.], dtype=float32),\n",
              " array([[-0.6447657 , -0.21436274],\n",
              "        [ 0.9285048 , -0.5378591 ]], dtype=float32),\n",
              " array([0., 0.], dtype=float32),\n",
              " array([[-0.96512717, -0.52829283],\n",
              "        [ 0.76214874, -0.8116933 ]], dtype=float32),\n",
              " array([0., 0.], dtype=float32),\n",
              " array([[ 0.812785  , -0.3371951 ],\n",
              "        [-0.67559904,  0.9491888 ]], dtype=float32),\n",
              " array([0., 0.], dtype=float32),\n",
              " array([[0.77690804],\n",
              "        [1.1230186 ]], dtype=float32),\n",
              " array([0.], dtype=float32)]"
            ]
          },
          "metadata": {},
          "execution_count": 7
        }
      ]
    },
    {
      "cell_type": "markdown",
      "source": [
        "We get 10 arrays, 2 for each layers, First array of each layer gives weights and 2nd array of each layer gives bias. So we will only make change in the weights and keep the bias as zero"
      ],
      "metadata": {
        "id": "kZEehHsgGv4A"
      }
    },
    {
      "cell_type": "code",
      "source": [
        "## Setting the weights randomly using np.random.rand(shape) , this function will give random values for a given shape\n",
        "## Now model.get_weights()[0].shape is a tuple so to pass the shape in the np.random.rand() we use shape indexing i.e\n",
        "## lets say for layer 1 we using\n",
        "## np.random.rand(model.get_weights()[0].shape[0],model.get_weights()[0].shape[1])\n",
        "## model.get_weights()[0].shape[0] will give the 0th index value of the shape\n",
        "## model.get_weights()[0].shape[1] will give the 1th index value of the shape\n",
        "## Lets say we have model.get_weights()[0].shape >> (2,3) so\n",
        "## model.get_weights()[0].shape[0] will give 2 as output and\n",
        "## model.get_weights()[0].shape[1] will give 3 as output\n",
        "\n",
        "\n",
        "initial_weights = model.get_weights()"
      ],
      "metadata": {
        "id": "EBmEOVVgrNcw"
      },
      "execution_count": 8,
      "outputs": []
    },
    {
      "cell_type": "code",
      "source": [
        "## Setting the weights randomly using np.random.rand() and and keeping the bias as zero\n",
        "\n",
        "initial_weights = model.get_weights()\n",
        "\n",
        "initial_weights[0]= np.random.rand(model.get_weights()[0].shape[0],model.get_weights()[0].shape[1]) # Weights of Layer 1\n",
        "initial_weights[1]= np.zeros(model.get_weights()[1].shape)                                          # Bias of Layer 1\n",
        "initial_weights[2]= np.random.rand(model.get_weights()[2].shape[0],model.get_weights()[2].shape[1]) # Weights of Layer 2\n",
        "initial_weights[3]= np.zeros(model.get_weights()[3].shape)                                          # Bias of Layer 2\n",
        "initial_weights[4]= np.random.rand(model.get_weights()[4].shape[0],model.get_weights()[4].shape[1]) # Weights of Layer 3\n",
        "initial_weights[5]= np.zeros(model.get_weights()[5].shape)                                          # Bias of Layer 3\n",
        "initial_weights[6]= np.random.rand(model.get_weights()[6].shape[0],model.get_weights()[6].shape[1]) # Weights of Layer 4\n",
        "initial_weights[7]= np.zeros(model.get_weights()[7].shape)                                          # Bias of Layer 4\n",
        "initial_weights[8]= np.random.rand(model.get_weights()[8].shape[0],model.get_weights()[8].shape[1]) # Weights of Layer 5\n",
        "initial_weights[9]= np.zeros(model.get_weights()[9].shape)                                          # Bias of Layer 5\n",
        "\n",
        "model.set_weights(initial_weights) # to set the weights"
      ],
      "metadata": {
        "id": "D3IzVxR9rRcx"
      },
      "execution_count": 9,
      "outputs": []
    },
    {
      "cell_type": "code",
      "source": [
        "## Checking the result\n",
        "\n",
        "model.get_weights()"
      ],
      "metadata": {
        "colab": {
          "base_uri": "https://localhost:8080/"
        },
        "id": "TSuei1QVrgyf",
        "outputId": "0cff9a1d-a134-4b47-d8b7-b19e56d4b905"
      },
      "execution_count": 10,
      "outputs": [
        {
          "output_type": "execute_result",
          "data": {
            "text/plain": [
              "[array([[0.5334923 , 0.23462726],\n",
              "        [0.7314135 , 0.33529434]], dtype=float32),\n",
              " array([0., 0.], dtype=float32),\n",
              " array([[0.64789826, 0.9459633 ],\n",
              "        [0.15764616, 0.698864  ]], dtype=float32),\n",
              " array([0., 0.], dtype=float32),\n",
              " array([[0.9918902 , 0.16546923],\n",
              "        [0.98209053, 0.7861213 ]], dtype=float32),\n",
              " array([0., 0.], dtype=float32),\n",
              " array([[0.05766131, 0.2079891 ],\n",
              "        [0.3329883 , 0.25983438]], dtype=float32),\n",
              " array([0., 0.], dtype=float32),\n",
              " array([[0.12270717],\n",
              "        [0.65466326]], dtype=float32),\n",
              " array([0.], dtype=float32)]"
            ]
          },
          "metadata": {},
          "execution_count": 10
        }
      ]
    },
    {
      "cell_type": "markdown",
      "source": [
        "Weights are set to large random values between 0 to 1  and bias are set to 0"
      ],
      "metadata": {
        "id": "tJ4IhX_VuTdY"
      }
    },
    {
      "cell_type": "code",
      "source": [
        "## Training the Model\n",
        "\n",
        "model.compile(optimizer='adam', loss='binary_crossentropy', metrics=['accuracy'])\n",
        "history = model.fit(x,y, epochs= 100, validation_split = 0.2 , verbose =0  )"
      ],
      "metadata": {
        "id": "oPlMpOjqshTm"
      },
      "execution_count": 11,
      "outputs": []
    },
    {
      "cell_type": "code",
      "source": [
        "## Checking the weights posting training\n",
        "\n",
        "model.get_weights()"
      ],
      "metadata": {
        "colab": {
          "base_uri": "https://localhost:8080/"
        },
        "id": "oJPC2Z1rusJh",
        "outputId": "2994862b-07fe-4b65-a195-63b4bb4682c9"
      },
      "execution_count": 12,
      "outputs": [
        {
          "output_type": "execute_result",
          "data": {
            "text/plain": [
              "[array([[0.84100574, 0.5423687 ],\n",
              "        [0.42899153, 0.04392119]], dtype=float32),\n",
              " array([-0.15766782, -0.14902784], dtype=float32),\n",
              " array([[0.5783496 , 0.8595999 ],\n",
              "        [0.09383103, 0.6183978 ]], dtype=float32),\n",
              " array([-0.13683423, -0.15648991], dtype=float32),\n",
              " array([[0.86108035, 0.04227974],\n",
              "        [0.85968673, 0.67015105]], dtype=float32),\n",
              " array([-0.14691116, -0.13729572], dtype=float32),\n",
              " array([[0.01102388, 0.03131461],\n",
              "        [0.28883836, 0.08174661]], dtype=float32),\n",
              " array([-0.03267811, -0.19444592], dtype=float32),\n",
              " array([[-0.08090375],\n",
              "        [ 0.45639598]], dtype=float32),\n",
              " array([-0.20897943], dtype=float32)]"
            ]
          },
          "metadata": {},
          "execution_count": 12
        }
      ]
    },
    {
      "cell_type": "code",
      "source": [
        "# Checking the decsion boundaries\n",
        "\n",
        "from mlxtend.plotting import plot_decision_regions\n",
        "\n",
        "plot_decision_regions(x,y, clf =model, legend =2)"
      ],
      "metadata": {
        "colab": {
          "base_uri": "https://localhost:8080/",
          "height": 466
        },
        "id": "nGAnSqtTu_R6",
        "outputId": "5adc85eb-6e3f-4d72-a012-7038432d339a"
      },
      "execution_count": 13,
      "outputs": [
        {
          "output_type": "stream",
          "name": "stdout",
          "text": [
            "9600/9600 [==============================] - 13s 1ms/step\n"
          ]
        },
        {
          "output_type": "execute_result",
          "data": {
            "text/plain": [
              "<Axes: >"
            ]
          },
          "metadata": {},
          "execution_count": 13
        },
        {
          "output_type": "display_data",
          "data": {
            "text/plain": [
              "<Figure size 640x480 with 1 Axes>"
            ],
            "image/png": "[encoded data removed]"
          },
          "metadata": {}
        }
      ]
    },
    {
      "cell_type": "markdown",
      "source": [
        " Model is showing bad results indication all lies in blue region."
      ],
      "metadata": {
        "id": "KK2uftcnG04n"
      }
    },
    {
      "cell_type": "markdown",
      "source": [
        "# Random Large Weigth Initialization with 'tanh' as activation fucntion (between 0 to 1)"
      ],
      "metadata": {
        "id": "bKmGuV_dvdeX"
      }
    },
    {
      "cell_type": "code",
      "source": [
        "## Buulding ANN\n",
        "\n",
        "model = Sequential()\n",
        "model.add(Dense(2, activation='tanh', input_dim=2))\n",
        "model.add(Dense(2, activation='tanh'))\n",
        "model.add(Dense(2, activation='tanh'))\n",
        "model.add(Dense(2, activation='tanh'))\n",
        "model.add(Dense(1, activation='sigmoid'))\n",
        "model.summary()"
      ],
      "metadata": {
        "colab": {
          "base_uri": "https://localhost:8080/"
        },
        "id": "l1ZoFDUzvbos",
        "outputId": "b642f123-db5f-4b1d-f042-bd7d12900eff"
      },
      "execution_count": 14,
      "outputs": [
        {
          "output_type": "stream",
          "name": "stdout",
          "text": [
            "Model: \"sequential_1\"\n",
            "_________________________________________________________________\n",
            " Layer (type)                Output Shape              Param #   \n",
            "=================================================================\n",
            " dense_5 (Dense)             (None, 2)                 6         \n",
            "                                                                 \n",
            " dense_6 (Dense)             (None, 2)                 6         \n",
            "                                                                 \n",
            " dense_7 (Dense)             (None, 2)                 6         \n",
            "                                                                 \n",
            " dense_8 (Dense)             (None, 2)                 6         \n",
            "                                                                 \n",
            " dense_9 (Dense)             (None, 1)                 3         \n",
            "                                                                 \n",
            "=================================================================\n",
            "Total params: 27 (108.00 Byte)\n",
            "Trainable params: 27 (108.00 Byte)\n",
            "Non-trainable params: 0 (0.00 Byte)\n",
            "_________________________________________________________________\n"
          ]
        }
      ]
    },
    {
      "cell_type": "code",
      "source": [
        "## Checking the Initial Weigths\n",
        "\n",
        "model.get_weights()"
      ],
      "metadata": {
        "colab": {
          "base_uri": "https://localhost:8080/"
        },
        "id": "ZCqlPrS7v1sq",
        "outputId": "a964fabf-8103-4aeb-b957-99c6a1d1277c"
      },
      "execution_count": 15,
      "outputs": [
        {
          "output_type": "execute_result",
          "data": {
            "text/plain": [
              "[array([[-0.36177754, -0.34308386],\n",
              "        [-0.48719472,  1.1645092 ]], dtype=float32),\n",
              " array([0., 0.], dtype=float32),\n",
              " array([[-0.611083  , -0.38329285],\n",
              "        [ 1.2082337 , -0.15182996]], dtype=float32),\n",
              " array([0., 0.], dtype=float32),\n",
              " array([[-0.451343  ,  0.45026731],\n",
              "        [ 0.8715235 , -1.0411972 ]], dtype=float32),\n",
              " array([0., 0.], dtype=float32),\n",
              " array([[ 0.9575826 ,  0.76788425],\n",
              "        [-0.7665267 , -0.7986131 ]], dtype=float32),\n",
              " array([0., 0.], dtype=float32),\n",
              " array([[ 0.5510727],\n",
              "        [-0.6382722]], dtype=float32),\n",
              " array([0.], dtype=float32)]"
            ]
          },
          "metadata": {},
          "execution_count": 15
        }
      ]
    },
    {
      "cell_type": "code",
      "source": [
        "## Setting the weights randomly using np.random.rand() and and keeping the bias as zero\n",
        "\n",
        "initial_weights = model.get_weights()\n",
        "\n",
        "initial_weights[0]= np.random.rand(model.get_weights()[0].shape[0],model.get_weights()[0].shape[1]) # Weights of Layer 1\n",
        "initial_weights[1]= np.zeros(model.get_weights()[1].shape)                                          # Bias of Layer 1\n",
        "initial_weights[2]= np.random.rand(model.get_weights()[2].shape[0],model.get_weights()[2].shape[1]) # Weights of Layer 2\n",
        "initial_weights[3]= np.zeros(model.get_weights()[3].shape)                                          # Bias of Layer 2\n",
        "initial_weights[4]= np.random.rand(model.get_weights()[4].shape[0],model.get_weights()[4].shape[1]) # Weights of Layer 3\n",
        "initial_weights[5]= np.zeros(model.get_weights()[5].shape)                                          # Bias of Layer 3\n",
        "initial_weights[6]= np.random.rand(model.get_weights()[6].shape[0],model.get_weights()[6].shape[1]) # Weights of Layer 4\n",
        "initial_weights[7]= np.zeros(model.get_weights()[7].shape)                                          # Bias of Layer 4\n",
        "initial_weights[8]= np.random.rand(model.get_weights()[8].shape[0],model.get_weights()[8].shape[1]) # Weights of Layer 5\n",
        "initial_weights[9]= np.zeros(model.get_weights()[9].shape)                                          # Bias of Layer 5\n",
        "\n",
        "model.set_weights(initial_weights) # to set the weights"
      ],
      "metadata": {
        "id": "fQTfzkVwv51A"
      },
      "execution_count": 16,
      "outputs": []
    },
    {
      "cell_type": "code",
      "source": [
        "## Checking the result\n",
        "\n",
        "model.get_weights()"
      ],
      "metadata": {
        "colab": {
          "base_uri": "https://localhost:8080/"
        },
        "id": "gS4KbRejwIBE",
        "outputId": "e92883cf-9bab-4b80-ff77-fb5ae0120b0d"
      },
      "execution_count": 17,
      "outputs": [
        {
          "output_type": "execute_result",
          "data": {
            "text/plain": [
              "[array([[0.96366984, 0.07989712],\n",
              "        [0.598846  , 0.23727356]], dtype=float32),\n",
              " array([0., 0.], dtype=float32),\n",
              " array([[0.674534  , 0.24573617],\n",
              "        [0.23004608, 0.7682087 ]], dtype=float32),\n",
              " array([0., 0.], dtype=float32),\n",
              " array([[0.03442479, 0.9560318 ],\n",
              "        [0.75054324, 0.6335689 ]], dtype=float32),\n",
              " array([0., 0.], dtype=float32),\n",
              " array([[0.77484834, 0.9848263 ],\n",
              "        [0.6212394 , 0.3594924 ]], dtype=float32),\n",
              " array([0., 0.], dtype=float32),\n",
              " array([[0.9127816],\n",
              "        [0.1780965]], dtype=float32),\n",
              " array([0.], dtype=float32)]"
            ]
          },
          "metadata": {},
          "execution_count": 17
        }
      ]
    },
    {
      "cell_type": "markdown",
      "source": [
        "Weights are set to large random values between 0 to 1  and bias are set to 0"
      ],
      "metadata": {
        "id": "2hZa9A8OGZ8p"
      }
    },
    {
      "cell_type": "code",
      "source": [
        "## Training the Model\n",
        "\n",
        "model.compile(optimizer='adam', loss='binary_crossentropy', metrics=['accuracy'])\n",
        "history = model.fit(x,y, epochs= 100, validation_split = 0.2, verbose=0 )"
      ],
      "metadata": {
        "id": "B4kHvdjIwLua"
      },
      "execution_count": 18,
      "outputs": []
    },
    {
      "cell_type": "code",
      "source": [
        "## Checking the weights after training\n",
        "\n",
        "model.get_weights()"
      ],
      "metadata": {
        "colab": {
          "base_uri": "https://localhost:8080/"
        },
        "id": "I5uDWN9LwRMI",
        "outputId": "7ad55cc8-c431-4845-8a62-cf7adecd0bac"
      },
      "execution_count": 19,
      "outputs": [
        {
          "output_type": "execute_result",
          "data": {
            "text/plain": [
              "[array([[ 1.1854254 ,  0.17017663],\n",
              "        [ 0.09097054, -0.49262425]], dtype=float32),\n",
              " array([ 0.24694443, -0.03613336], dtype=float32),\n",
              " array([[0.5092549 , 0.07861887],\n",
              "        [0.7153358 , 1.342583  ]], dtype=float32),\n",
              " array([ 0.02267909, -0.04348974], dtype=float32),\n",
              " array([[0.145258 , 0.9385385],\n",
              "        [1.2488352, 1.0647122]], dtype=float32),\n",
              " array([-0.03865386, -0.03587097], dtype=float32),\n",
              " array([[1.2859421 , 1.6064425 ],\n",
              "        [0.89508784, 0.71286553]], dtype=float32),\n",
              " array([-0.04922953, -0.0411862 ], dtype=float32),\n",
              " array([[1.4784131],\n",
              "        [0.7851346]], dtype=float32),\n",
              " array([-0.07620081], dtype=float32)]"
            ]
          },
          "metadata": {},
          "execution_count": 19
        }
      ]
    },
    {
      "cell_type": "code",
      "source": [
        "# Checking the decsion boundaries\n",
        "\n",
        "from mlxtend.plotting import plot_decision_regions\n",
        "\n",
        "plot_decision_regions(x,y, clf =model, legend =2)"
      ],
      "metadata": {
        "colab": {
          "base_uri": "https://localhost:8080/",
          "height": 466
        },
        "id": "nTM7-lVXwalp",
        "outputId": "0ea8c803-e6b4-4bc9-f728-eb75a676f2b1"
      },
      "execution_count": 20,
      "outputs": [
        {
          "output_type": "stream",
          "name": "stdout",
          "text": [
            "9600/9600 [==============================] - 14s 1ms/step\n"
          ]
        },
        {
          "output_type": "execute_result",
          "data": {
            "text/plain": [
              "<Axes: >"
            ]
          },
          "metadata": {},
          "execution_count": 20
        },
        {
          "output_type": "display_data",
          "data": {
            "text/plain": [
              "<Figure size 640x480 with 1 Axes>"
            ],
            "image/png": "[encoded data removed]"
          },
          "metadata": {}
        }
      ]
    },
    {
      "cell_type": "markdown",
      "source": [
        "Model Act as Slighly non Linear Model however still unable to capture the complete Non Linearity of the data"
      ],
      "metadata": {
        "id": "O-a9Pr-9G5Nu"
      }
    },
    {
      "cell_type": "markdown",
      "source": [
        "# Random Large Weight Initialization with 'relu' as activation fucntion(between 0 to 1)"
      ],
      "metadata": {
        "id": "4iqOKhYp36Uv"
      }
    },
    {
      "cell_type": "code",
      "source": [
        "## Buulding ANN\n",
        "\n",
        "model = Sequential()\n",
        "model.add(Dense(2, activation='relu', input_dim=2))\n",
        "model.add(Dense(2, activation='relu'))\n",
        "model.add(Dense(2, activation='relu'))\n",
        "model.add(Dense(2, activation='relu'))\n",
        "model.add(Dense(1, activation='sigmoid'))\n",
        "model.summary()"
      ],
      "metadata": {
        "colab": {
          "base_uri": "https://localhost:8080/"
        },
        "id": "cC7iAFqZ3jt4",
        "outputId": "28d88685-07c5-4293-b8db-fc41d0874fc5"
      },
      "execution_count": 21,
      "outputs": [
        {
          "output_type": "stream",
          "name": "stdout",
          "text": [
            "Model: \"sequential_2\"\n",
            "_________________________________________________________________\n",
            " Layer (type)                Output Shape              Param #   \n",
            "=================================================================\n",
            " dense_10 (Dense)            (None, 2)                 6         \n",
            "                                                                 \n",
            " dense_11 (Dense)            (None, 2)                 6         \n",
            "                                                                 \n",
            " dense_12 (Dense)            (None, 2)                 6         \n",
            "                                                                 \n",
            " dense_13 (Dense)            (None, 2)                 6         \n",
            "                                                                 \n",
            " dense_14 (Dense)            (None, 1)                 3         \n",
            "                                                                 \n",
            "=================================================================\n",
            "Total params: 27 (108.00 Byte)\n",
            "Trainable params: 27 (108.00 Byte)\n",
            "Non-trainable params: 0 (0.00 Byte)\n",
            "_________________________________________________________________\n"
          ]
        }
      ]
    },
    {
      "cell_type": "code",
      "source": [
        "## Checking the Initial Weigths\n",
        "\n",
        "model.get_weights()"
      ],
      "metadata": {
        "colab": {
          "base_uri": "https://localhost:8080/"
        },
        "id": "zB6vHeSo3jwl",
        "outputId": "ecdf4d6c-1222-4f5c-d547-0cf4a4619246"
      },
      "execution_count": 22,
      "outputs": [
        {
          "output_type": "execute_result",
          "data": {
            "text/plain": [
              "[array([[ 1.0403358, -0.07286  ],\n",
              "        [-0.955376 , -0.6650044]], dtype=float32),\n",
              " array([0., 0.], dtype=float32),\n",
              " array([[-0.72462356,  1.2065619 ],\n",
              "        [-0.04337394, -0.04001307]], dtype=float32),\n",
              " array([0., 0.], dtype=float32),\n",
              " array([[-1.0989122 , -0.43544674],\n",
              "        [ 0.4193139 ,  0.4333948 ]], dtype=float32),\n",
              " array([0., 0.], dtype=float32),\n",
              " array([[0.7443737 , 1.1950463 ],\n",
              "        [0.7687378 , 0.04877079]], dtype=float32),\n",
              " array([0., 0.], dtype=float32),\n",
              " array([[-0.09390414],\n",
              "        [ 1.14845   ]], dtype=float32),\n",
              " array([0.], dtype=float32)]"
            ]
          },
          "metadata": {},
          "execution_count": 22
        }
      ]
    },
    {
      "cell_type": "code",
      "source": [
        "## Setting the weights randomly using np.random.rand() and and keeping the bias as zero\n",
        "\n",
        "initial_weights = model.get_weights()\n",
        "\n",
        "initial_weights[0]= np.random.rand(model.get_weights()[0].shape[0],model.get_weights()[0].shape[1]) # Weights of Layer 1\n",
        "initial_weights[1]= np.zeros(model.get_weights()[1].shape)                                          # Bias of Layer 1\n",
        "initial_weights[2]= np.random.rand(model.get_weights()[2].shape[0],model.get_weights()[2].shape[1]) # Weights of Layer 2\n",
        "initial_weights[3]= np.zeros(model.get_weights()[3].shape)                                          # Bias of Layer 2\n",
        "initial_weights[4]= np.random.rand(model.get_weights()[4].shape[0],model.get_weights()[4].shape[1]) # Weights of Layer 3\n",
        "initial_weights[5]= np.zeros(model.get_weights()[5].shape)                                          # Bias of Layer 3\n",
        "initial_weights[6]= np.random.rand(model.get_weights()[6].shape[0],model.get_weights()[6].shape[1]) # Weights of Layer 4\n",
        "initial_weights[7]= np.zeros(model.get_weights()[7].shape)                                          # Bias of Layer 4\n",
        "initial_weights[8]= np.random.rand(model.get_weights()[8].shape[0],model.get_weights()[8].shape[1]) # Weights of Layer 5\n",
        "initial_weights[9]= np.zeros(model.get_weights()[9].shape)                                          # Bias of Layer 5\n",
        "\n",
        "model.set_weights(initial_weights) # to set the weights"
      ],
      "metadata": {
        "id": "TgSb6dg73jyb"
      },
      "execution_count": 23,
      "outputs": []
    },
    {
      "cell_type": "code",
      "source": [
        "## Checking the result\n",
        "\n",
        "model.get_weights()"
      ],
      "metadata": {
        "colab": {
          "base_uri": "https://localhost:8080/"
        },
        "id": "teRneBSs3j0b",
        "outputId": "88186b9f-67e3-49a4-818f-16c6e87b94a0"
      },
      "execution_count": 24,
      "outputs": [
        {
          "output_type": "execute_result",
          "data": {
            "text/plain": [
              "[array([[0.44427153, 0.63628453],\n",
              "        [0.9653949 , 0.16042504]], dtype=float32),\n",
              " array([0., 0.], dtype=float32),\n",
              " array([[0.27897  , 0.7855714],\n",
              "        [0.3906425, 0.9036039]], dtype=float32),\n",
              " array([0., 0.], dtype=float32),\n",
              " array([[0.3605648 , 0.7338637 ],\n",
              "        [0.95071423, 0.4739859 ]], dtype=float32),\n",
              " array([0., 0.], dtype=float32),\n",
              " array([[0.18116876, 0.7177246 ],\n",
              "        [0.33918574, 0.07588277]], dtype=float32),\n",
              " array([0., 0.], dtype=float32),\n",
              " array([[0.2280184 ],\n",
              "        [0.42825305]], dtype=float32),\n",
              " array([0.], dtype=float32)]"
            ]
          },
          "metadata": {},
          "execution_count": 24
        }
      ]
    },
    {
      "cell_type": "markdown",
      "source": [
        "Weights are set to large random values between 0 to 1  and bias are set to 0"
      ],
      "metadata": {
        "id": "mEAdlUT3HNnP"
      }
    },
    {
      "cell_type": "code",
      "source": [
        "## Training the Model\n",
        "\n",
        "model.compile(optimizer='adam', loss='binary_crossentropy', metrics=['accuracy'])\n",
        "history = model.fit(x,y, epochs= 100, validation_split = 0.2, verbose=0 )"
      ],
      "metadata": {
        "id": "e2Q0NLGC3j4m"
      },
      "execution_count": 25,
      "outputs": []
    },
    {
      "cell_type": "code",
      "source": [
        "## Checking the weights after training\n",
        "\n",
        "model.get_weights()"
      ],
      "metadata": {
        "colab": {
          "base_uri": "https://localhost:8080/"
        },
        "id": "h0UmTTUL3j56",
        "outputId": "fb2d5b63-b97c-47f7-c1a0-05b3448241d7"
      },
      "execution_count": 26,
      "outputs": [
        {
          "output_type": "execute_result",
          "data": {
            "text/plain": [
              "[array([[ 0.5763389,  0.8330282],\n",
              "        [ 0.545391 , -0.6154136]], dtype=float32),\n",
              " array([-0.30359325,  0.07124903], dtype=float32),\n",
              " array([[-0.2989416 ,  0.27041358],\n",
              "        [ 0.87175393,  1.3294536 ]], dtype=float32),\n",
              " array([-0.03295738, -0.10836527], dtype=float32),\n",
              " array([[0.72884136, 1.1756425 ],\n",
              "        [1.0378586 , 0.59117675]], dtype=float32),\n",
              " array([-0.1069205 , -0.10025764], dtype=float32),\n",
              " array([[0.3520718 , 0.86503667],\n",
              "        [0.59895766, 0.3074619 ]], dtype=float32),\n",
              " array([-0.07701778, -0.10634113], dtype=float32),\n",
              " array([[0.4627549],\n",
              "        [0.6001368]], dtype=float32),\n",
              " array([-0.5048319], dtype=float32)]"
            ]
          },
          "metadata": {},
          "execution_count": 26
        }
      ]
    },
    {
      "cell_type": "code",
      "source": [
        "# Checking the decsion boundaries\n",
        "\n",
        "from mlxtend.plotting import plot_decision_regions\n",
        "\n",
        "plot_decision_regions(x,y, clf =model, legend =2)"
      ],
      "metadata": {
        "colab": {
          "base_uri": "https://localhost:8080/",
          "height": 466
        },
        "id": "SVych-HJ3j9Z",
        "outputId": "d09fb0f3-062e-4ba9-c6c1-47d058fc9a84"
      },
      "execution_count": 27,
      "outputs": [
        {
          "output_type": "stream",
          "name": "stdout",
          "text": [
            "9600/9600 [==============================] - 14s 1ms/step\n"
          ]
        },
        {
          "output_type": "execute_result",
          "data": {
            "text/plain": [
              "<Axes: >"
            ]
          },
          "metadata": {},
          "execution_count": 27
        },
        {
          "output_type": "display_data",
          "data": {
            "text/plain": [
              "<Figure size 640x480 with 1 Axes>"
            ],
            "image/png": "[encoded data removed]"
          },
          "metadata": {}
        }
      ]
    },
    {
      "cell_type": "markdown",
      "source": [
        "Similar to tanh Model is showing sligly Non-Linear Curve However fail to capture the complete non-linearity of the data"
      ],
      "metadata": {
        "id": "1ARSPCGQHdYS"
      }
    },
    {
      "cell_type": "code",
      "source": [],
      "metadata": {
        "id": "Iv7wsHam3kOA"
      },
      "execution_count": null,
      "outputs": []
    },
    {
      "cell_type": "code",
      "source": [],
      "metadata": {
        "id": "1IG2E-yK3kSL"
      },
      "execution_count": null,
      "outputs": []
    }
  ]
}