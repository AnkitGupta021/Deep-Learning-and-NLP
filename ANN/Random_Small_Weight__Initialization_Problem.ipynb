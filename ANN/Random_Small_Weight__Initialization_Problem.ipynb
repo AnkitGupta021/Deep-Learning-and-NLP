{
  "nbformat": 4,
  "nbformat_minor": 0,
  "metadata": {
    "colab": {
      "provenance": [],
      "gpuType": "T4"
    },
    "kernelspec": {
      "name": "python3",
      "display_name": "Python 3"
    },
    "language_info": {
      "name": "python"
    },
    "accelerator": "GPU"
  },
  "cells": [
    {
      "cell_type": "code",
      "execution_count": 28,
      "metadata": {
        "id": "zDNxh8tGpSnh"
      },
      "outputs": [],
      "source": [
        "import numpy as np\n",
        "import pandas as pd\n",
        "import matplotlib.pyplot as plt\n",
        "import seaborn as sns\n",
        "\n",
        "from sklearn.datasets import make_moons\n",
        "\n",
        "\n",
        "import tensorflow as tf\n",
        "from tensorflow import keras\n",
        "from keras import Sequential\n",
        "from keras.layers import Dense"
      ]
    },
    {
      "cell_type": "code",
      "source": [
        "## Generating Binary Classification Dataset\n",
        "\n",
        "x,y = make_moons(n_samples=250, noise=0.25, random_state=1)"
      ],
      "metadata": {
        "id": "G78iIdp3ph1b"
      },
      "execution_count": 29,
      "outputs": []
    },
    {
      "cell_type": "code",
      "source": [
        "x"
      ],
      "metadata": {
        "colab": {
          "base_uri": "https://localhost:8080/"
        },
        "id": "th0pqZcpqi7A",
        "outputId": "d886962c-f052-4be5-db3d-7e12d30c3107"
      },
      "execution_count": 30,
      "outputs": [
        {
          "output_type": "execute_result",
          "data": {
            "text/plain": [
              "array([[-0.13249283,  0.79819677],\n",
              "       [ 2.31843898,  0.99177544],\n",
              "       [ 1.42186457,  0.34604436],\n",
              "       [ 0.79480671, -0.20627281],\n",
              "       [-0.97020185,  0.95784991],\n",
              "       [ 1.76079819, -0.2428572 ],\n",
              "       [-0.20634621,  1.1325037 ],\n",
              "       [ 2.12685472, -0.02683228],\n",
              "       [ 0.95372432, -0.77040037],\n",
              "       [ 1.19533458,  0.11281015],\n",
              "       [ 1.93767258,  0.29814377],\n",
              "       [ 1.24255425, -0.31207617],\n",
              "       [-0.84716361,  0.23572382],\n",
              "       [ 0.89311669, -0.33739211],\n",
              "       [ 0.05940713,  0.61998868],\n",
              "       [-0.47188505,  0.31024837],\n",
              "       [ 1.18377304,  0.049632  ],\n",
              "       [ 0.38543722,  0.93637792],\n",
              "       [ 0.74090447,  0.60217849],\n",
              "       [-0.27074376,  0.68091205],\n",
              "       [ 1.69148983, -0.32052492],\n",
              "       [ 0.71357227,  0.68459783],\n",
              "       [-0.61821075,  0.62670905],\n",
              "       [ 1.22125108, -0.4462956 ],\n",
              "       [-0.44719439, -0.37292191],\n",
              "       [-1.15371635,  0.35171032],\n",
              "       [ 2.62919434,  0.36190819],\n",
              "       [ 1.97899437,  0.19276891],\n",
              "       [ 0.90413249,  0.74893648],\n",
              "       [ 1.8404023 , -0.32196399],\n",
              "       [ 1.51683212,  0.02809421],\n",
              "       [ 0.56619035,  1.22111101],\n",
              "       [-0.02761176,  0.84565948],\n",
              "       [ 1.64798606, -0.30158773],\n",
              "       [ 0.43822423, -0.29329383],\n",
              "       [ 2.16443126,  0.10707122],\n",
              "       [ 1.02645739,  1.11273599],\n",
              "       [ 0.87186923,  0.3002472 ],\n",
              "       [ 1.04838436,  0.5454647 ],\n",
              "       [ 2.14898729,  0.43767254],\n",
              "       [ 1.3401746 , -0.19180313],\n",
              "       [ 0.74578367,  0.95171616],\n",
              "       [-1.0400947 ,  0.26693464],\n",
              "       [-1.26132457,  0.30632511],\n",
              "       [ 0.39060599,  1.23103331],\n",
              "       [-1.01937701,  0.01163631],\n",
              "       [ 0.91053778,  0.62838467],\n",
              "       [ 0.65220339,  0.49405584],\n",
              "       [ 0.89785413,  0.56164567],\n",
              "       [ 1.351885  ,  0.03227539],\n",
              "       [ 2.2660094 ,  0.11838943],\n",
              "       [-0.16059133,  0.86232249],\n",
              "       [-1.25907536,  0.91170529],\n",
              "       [ 0.02858465, -0.10000218],\n",
              "       [ 0.43054452, -0.46980642],\n",
              "       [-0.92364766,  0.22687731],\n",
              "       [-0.82321325,  0.59946733],\n",
              "       [ 0.72864198,  0.3430923 ],\n",
              "       [ 0.62337828,  0.22791723],\n",
              "       [-0.41053613,  0.57991886],\n",
              "       [ 0.72401883, -0.56621457],\n",
              "       [ 0.19349887, -0.44103215],\n",
              "       [ 0.41372131, -0.25997512],\n",
              "       [ 1.20528395, -0.60950949],\n",
              "       [ 0.82358333,  0.60222127],\n",
              "       [ 1.16440573, -0.52578705],\n",
              "       [-0.16930724,  1.33302646],\n",
              "       [ 0.62858636, -0.64750738],\n",
              "       [ 0.56654399,  0.32297751],\n",
              "       [-0.06903823,  0.83256542],\n",
              "       [-0.60538636,  0.39359557],\n",
              "       [ 2.10742931, -0.01111857],\n",
              "       [ 0.75841594, -0.16090301],\n",
              "       [ 1.07118703, -0.43438314],\n",
              "       [ 0.86782631, -0.66284784],\n",
              "       [ 0.28493429,  1.38295269],\n",
              "       [-0.42240457,  1.01200294],\n",
              "       [ 1.75479577,  0.05700512],\n",
              "       [ 0.93914412, -0.14607599],\n",
              "       [ 1.421757  , -0.02438563],\n",
              "       [-0.8468504 ,  0.64938088],\n",
              "       [ 0.9616084 ,  0.57766777],\n",
              "       [ 0.36381507, -0.20597693],\n",
              "       [ 0.86590389,  0.55159272],\n",
              "       [-0.12768973,  1.0087001 ],\n",
              "       [ 1.7283709 , -0.14614816],\n",
              "       [ 0.29950391,  0.81414549],\n",
              "       [-0.9297998 ,  0.34316852],\n",
              "       [-0.42463851,  1.04483692],\n",
              "       [-0.01280825,  1.12059376],\n",
              "       [ 0.53213081, -0.044209  ],\n",
              "       [ 0.54180449, -0.68822152],\n",
              "       [-0.87580269,  0.99758932],\n",
              "       [-0.99537834, -0.12302423],\n",
              "       [ 0.64075284,  0.72439548],\n",
              "       [ 1.18952583,  0.49382575],\n",
              "       [ 1.33918203, -0.03899747],\n",
              "       [ 1.70706511, -0.29257035],\n",
              "       [-0.7341595 ,  0.42759704],\n",
              "       [ 0.16590597,  0.72080996],\n",
              "       [ 1.31331092, -0.63706958],\n",
              "       [-0.03049939,  0.78834497],\n",
              "       [-0.04602784,  1.21856037],\n",
              "       [ 1.56555346,  0.12778667],\n",
              "       [-1.0275626 ,  0.5394745 ],\n",
              "       [ 2.09800991,  0.6291543 ],\n",
              "       [-0.04795643,  0.95283144],\n",
              "       [ 2.35484449,  0.21915219],\n",
              "       [-1.30007604,  0.12645869],\n",
              "       [ 1.08049662, -0.73564776],\n",
              "       [-1.10258887,  0.34496474],\n",
              "       [-1.02951513,  0.47523769],\n",
              "       [ 0.12385787, -0.02682677],\n",
              "       [-0.81706536,  0.58839695],\n",
              "       [-0.37001094,  0.58035095],\n",
              "       [ 0.90522654, -0.20774765],\n",
              "       [-0.93512437,  0.664345  ],\n",
              "       [ 1.37495661, -0.46927757],\n",
              "       [-0.68572682,  0.64141166],\n",
              "       [ 0.14580191, -0.33849685],\n",
              "       [ 0.81476558,  0.53415531],\n",
              "       [ 0.09666016, -0.3205492 ],\n",
              "       [ 1.93960727,  0.63130421],\n",
              "       [ 0.45838356, -0.9376472 ],\n",
              "       [ 1.99480591,  0.05210455],\n",
              "       [ 1.18188548, -0.60148348],\n",
              "       [ 2.17473704,  0.12164656],\n",
              "       [ 0.97337744, -0.2332509 ],\n",
              "       [ 0.07146037,  0.68997653],\n",
              "       [-1.43898141,  0.1786974 ],\n",
              "       [ 0.6628833 , -0.32613179],\n",
              "       [ 0.04403347, -0.43273724],\n",
              "       [ 1.10074575,  0.27739391],\n",
              "       [ 1.72976183, -0.19523722],\n",
              "       [ 0.32612718, -0.53105962],\n",
              "       [ 0.06087014,  1.35066278],\n",
              "       [ 0.00681017,  0.13410058],\n",
              "       [-1.11724349,  0.70592785],\n",
              "       [ 0.14381574,  1.02092952],\n",
              "       [ 1.36210762,  0.09899826],\n",
              "       [ 1.59232429,  0.12473926],\n",
              "       [ 1.24323573, -0.18024353],\n",
              "       [ 1.7920903 ,  0.08122195],\n",
              "       [-0.85905467,  0.73870715],\n",
              "       [ 0.33788834,  0.14410154],\n",
              "       [ 1.61853285,  0.28929609],\n",
              "       [ 2.41959225,  0.28353836],\n",
              "       [ 0.39534076, -0.39374243],\n",
              "       [ 0.88146841, -0.21815264],\n",
              "       [ 1.0660364 , -0.37213418],\n",
              "       [ 1.51407676,  0.0825769 ],\n",
              "       [ 1.10759735, -0.66702235],\n",
              "       [ 0.14270642,  0.94200538],\n",
              "       [-1.081206  ,  0.3626379 ],\n",
              "       [-0.07164193,  0.88982734],\n",
              "       [ 0.51133835,  0.16681947],\n",
              "       [ 0.60457124,  0.89323601],\n",
              "       [-0.01263803,  0.94171361],\n",
              "       [-0.5723061 ,  0.9832145 ],\n",
              "       [ 1.10104277, -0.04743065],\n",
              "       [-0.47905604,  0.38501327],\n",
              "       [-0.18784707,  0.39713255],\n",
              "       [ 0.59374122, -0.34961458],\n",
              "       [ 0.7552132 ,  0.50087289],\n",
              "       [ 0.31191489,  0.0584988 ],\n",
              "       [ 0.55590841,  1.00432614],\n",
              "       [ 0.2071823 ,  0.04430591],\n",
              "       [ 0.76745329, -0.58718062],\n",
              "       [-0.71291259,  1.04219982],\n",
              "       [ 1.06971257, -0.62257691],\n",
              "       [ 0.38506081, -0.59868655],\n",
              "       [ 0.53645582, -0.03683824],\n",
              "       [-0.83809562,  0.5441702 ],\n",
              "       [ 0.11253888,  0.94133378],\n",
              "       [ 1.05271426,  0.42317843],\n",
              "       [ 0.19467573,  0.44497449],\n",
              "       [ 0.9243666 ,  0.69266591],\n",
              "       [ 1.52720756, -0.39481188],\n",
              "       [-1.36237294,  0.13471968],\n",
              "       [ 0.35402261, -0.32510271],\n",
              "       [ 1.23002177, -0.77358709],\n",
              "       [-0.15990458,  0.41799014],\n",
              "       [-0.58102627,  0.47155619],\n",
              "       [ 2.29913679,  0.90081583],\n",
              "       [ 0.20937312,  0.7691065 ],\n",
              "       [ 0.90231682,  0.52849852],\n",
              "       [ 0.40358406,  0.97475851],\n",
              "       [ 1.06820757, -0.59351703],\n",
              "       [-0.79643306, -0.18832203],\n",
              "       [-0.71732228,  0.89337496],\n",
              "       [-0.17919609,  0.98235737],\n",
              "       [ 0.59088886,  0.53920733],\n",
              "       [-0.41205097,  0.98507543],\n",
              "       [ 0.32204946,  0.90878163],\n",
              "       [ 0.67047424,  0.71028659],\n",
              "       [ 1.42056519,  0.12515056],\n",
              "       [ 1.6545733 , -0.58177773],\n",
              "       [ 0.49677954,  0.75673254],\n",
              "       [-0.02297524,  0.06809165],\n",
              "       [ 1.3203558 , -0.18462287],\n",
              "       [ 0.37225091,  0.21365183],\n",
              "       [ 1.9862335 ,  0.64074067],\n",
              "       [ 0.9664276 ,  0.86722918],\n",
              "       [ 1.6499895 , -0.59740011],\n",
              "       [-0.83796706,  0.42824646],\n",
              "       [ 1.10586495, -0.65568546],\n",
              "       [-1.0370347 ,  0.32172686],\n",
              "       [ 1.65254345, -0.28692098],\n",
              "       [ 1.15053027,  0.11294602],\n",
              "       [ 1.08198579, -0.25818243],\n",
              "       [-0.05547403,  0.81583376],\n",
              "       [-0.38854745,  0.6775225 ],\n",
              "       [ 0.44290092, -0.39950069],\n",
              "       [ 0.05737708,  1.29922607],\n",
              "       [ 1.17607073,  0.24021835],\n",
              "       [-0.01907533,  0.62206498],\n",
              "       [ 0.22746905,  0.63053841],\n",
              "       [ 0.94851609,  0.43466571],\n",
              "       [ 1.93926582,  0.76637176],\n",
              "       [-0.13645987,  0.19794176],\n",
              "       [-0.35794767,  0.78583551],\n",
              "       [-0.41217956,  0.78840488],\n",
              "       [ 1.38141334,  0.87754469],\n",
              "       [ 1.81353339, -0.2319223 ],\n",
              "       [-0.50113098,  1.00891028],\n",
              "       [ 0.18437742,  1.11522767],\n",
              "       [ 0.18424478,  0.54574338],\n",
              "       [ 0.34659592, -0.09641642],\n",
              "       [ 0.38600743, -0.24422923],\n",
              "       [ 0.01639782,  0.4279448 ],\n",
              "       [ 1.78688383, -0.46338866],\n",
              "       [-0.14013103, -0.0241483 ],\n",
              "       [-0.54461182,  0.54341037],\n",
              "       [ 1.31095539,  0.29153439],\n",
              "       [ 0.80936206, -1.10319211],\n",
              "       [ 0.65711129,  0.51459672],\n",
              "       [ 0.1536183 ,  0.70161739],\n",
              "       [-0.21731217,  1.33759554],\n",
              "       [ 1.58292926, -0.16208475],\n",
              "       [-0.11140804,  0.74507951],\n",
              "       [-0.1546011 ,  0.16079301],\n",
              "       [ 0.88832307, -0.62152357],\n",
              "       [-0.78285989,  0.77958581],\n",
              "       [ 0.10824928,  0.28150886],\n",
              "       [ 1.05741462, -0.05127285],\n",
              "       [ 0.13016598,  0.45265324],\n",
              "       [-0.0543458 ,  0.80186018],\n",
              "       [-0.41491474, -0.09980569],\n",
              "       [ 2.24404109, -0.11069177],\n",
              "       [ 0.79588797,  0.65292652]])"
            ]
          },
          "metadata": {},
          "execution_count": 30
        }
      ]
    },
    {
      "cell_type": "code",
      "source": [
        "y"
      ],
      "metadata": {
        "colab": {
          "base_uri": "https://localhost:8080/"
        },
        "id": "sTnAIzStqjjS",
        "outputId": "e78ae339-e0d6-4859-c47a-860a799a9747"
      },
      "execution_count": 31,
      "outputs": [
        {
          "output_type": "execute_result",
          "data": {
            "text/plain": [
              "array([0, 1, 1, 1, 0, 1, 0, 1, 1, 0, 1, 1, 0, 1, 1, 0, 1, 0, 0, 0, 1, 0,\n",
              "       0, 1, 0, 0, 1, 1, 0, 1, 1, 0, 0, 1, 1, 1, 0, 0, 0, 1, 1, 0, 0, 0,\n",
              "       0, 0, 0, 0, 0, 0, 1, 0, 0, 1, 1, 0, 0, 0, 0, 1, 1, 1, 1, 1, 0, 1,\n",
              "       0, 1, 1, 0, 0, 1, 1, 1, 1, 0, 0, 1, 1, 1, 0, 0, 1, 0, 0, 1, 0, 0,\n",
              "       0, 0, 1, 1, 0, 0, 0, 0, 0, 1, 0, 0, 1, 0, 0, 1, 0, 1, 0, 1, 0, 1,\n",
              "       0, 0, 1, 0, 0, 1, 0, 1, 0, 1, 0, 1, 1, 1, 1, 1, 1, 1, 0, 0, 1, 1,\n",
              "       0, 1, 1, 0, 1, 0, 0, 1, 1, 1, 1, 0, 1, 1, 1, 0, 1, 0, 1, 1, 0, 0,\n",
              "       0, 1, 0, 0, 0, 1, 0, 1, 1, 0, 1, 0, 1, 1, 0, 1, 1, 1, 0, 1, 0, 1,\n",
              "       0, 1, 0, 1, 1, 1, 0, 1, 0, 0, 0, 1, 0, 0, 0, 0, 0, 0, 0, 0, 1, 0,\n",
              "       1, 1, 1, 1, 0, 1, 0, 1, 0, 1, 0, 1, 0, 1, 0, 0, 0, 0, 0, 0, 1, 1,\n",
              "       0, 0, 1, 1, 0, 0, 1, 1, 1, 1, 1, 1, 0, 0, 1, 0, 1, 0, 1, 1, 1, 1,\n",
              "       0, 1, 1, 1, 0, 1, 1, 0])"
            ]
          },
          "metadata": {},
          "execution_count": 31
        }
      ]
    },
    {
      "cell_type": "code",
      "source": [
        "## Data Visualization\n",
        "\n",
        "plt.scatter(x[:,0], x[:,1],c=y)"
      ],
      "metadata": {
        "colab": {
          "base_uri": "https://localhost:8080/",
          "height": 452
        },
        "id": "__IaXz59qsku",
        "outputId": "ce8d2ce9-e7b5-48aa-e1db-85a1f9599656"
      },
      "execution_count": 32,
      "outputs": [
        {
          "output_type": "execute_result",
          "data": {
            "text/plain": [
              "<matplotlib.collections.PathCollection at 0x7c6767e8ed40>"
            ]
          },
          "metadata": {},
          "execution_count": 32
        },
        {
          "output_type": "display_data",
          "data": {
            "text/plain": [
              "<Figure size 640x480 with 1 Axes>"
            ],
            "image/png": "[encoded data removed]"
          },
          "metadata": {}
        }
      ]
    },
    {
      "cell_type": "markdown",
      "source": [
        "# Small Random Weight Initialization with 'sigmoid' as activation function"
      ],
      "metadata": {
        "id": "G8o6ffTdvpmF"
      }
    },
    {
      "cell_type": "code",
      "source": [
        "## Building ANN\n",
        "\n",
        "model = Sequential()\n",
        "model.add(Dense(2, activation='sigmoid', input_dim=2))\n",
        "model.add(Dense(2, activation='sigmoid'))\n",
        "model.add(Dense(2, activation='sigmoid'))\n",
        "model.add(Dense(2, activation='sigmoid'))\n",
        "model.add(Dense(1, activation='sigmoid'))\n",
        "model.summary()"
      ],
      "metadata": {
        "colab": {
          "base_uri": "https://localhost:8080/"
        },
        "id": "Ur2KpIrTqz2v",
        "outputId": "b2a0caf8-4625-40bd-b47a-92f46bb74fa0"
      },
      "execution_count": 41,
      "outputs": [
        {
          "output_type": "stream",
          "name": "stdout",
          "text": [
            "Model: \"sequential_4\"\n",
            "_________________________________________________________________\n",
            " Layer (type)                Output Shape              Param #   \n",
            "=================================================================\n",
            " dense_12 (Dense)            (None, 2)                 6         \n",
            "                                                                 \n",
            " dense_13 (Dense)            (None, 2)                 6         \n",
            "                                                                 \n",
            " dense_14 (Dense)            (None, 2)                 6         \n",
            "                                                                 \n",
            " dense_15 (Dense)            (None, 2)                 6         \n",
            "                                                                 \n",
            " dense_16 (Dense)            (None, 1)                 3         \n",
            "                                                                 \n",
            "=================================================================\n",
            "Total params: 27 (108.00 Byte)\n",
            "Trainable params: 27 (108.00 Byte)\n",
            "Non-trainable params: 0 (0.00 Byte)\n",
            "_________________________________________________________________\n"
          ]
        }
      ]
    },
    {
      "cell_type": "code",
      "source": [
        "## Checking the Initial Weigths\n",
        "\n",
        "model.get_weights()"
      ],
      "metadata": {
        "colab": {
          "base_uri": "https://localhost:8080/"
        },
        "id": "A9ORCDc_tsO7",
        "outputId": "bb7ee91d-8927-4f4c-96c3-d6e251b08f4d"
      },
      "execution_count": 42,
      "outputs": [
        {
          "output_type": "execute_result",
          "data": {
            "text/plain": [
              "[array([[ 1.1049908 , -0.16002762],\n",
              "        [-0.46211237,  0.0792377 ]], dtype=float32),\n",
              " array([0., 0.], dtype=float32),\n",
              " array([[-0.65580803,  0.27414656],\n",
              "        [ 0.6457708 , -0.00672019]], dtype=float32),\n",
              " array([0., 0.], dtype=float32),\n",
              " array([[ 1.2214664 , -0.41407716],\n",
              "        [-0.6302672 ,  0.77750385]], dtype=float32),\n",
              " array([0., 0.], dtype=float32),\n",
              " array([[ 0.5550846 , -0.02897215],\n",
              "        [ 1.0192271 , -1.2074558 ]], dtype=float32),\n",
              " array([0., 0.], dtype=float32),\n",
              " array([[1.3054882],\n",
              "        [0.9317049]], dtype=float32),\n",
              " array([0.], dtype=float32)]"
            ]
          },
          "metadata": {},
          "execution_count": 42
        }
      ]
    },
    {
      "cell_type": "markdown",
      "source": [
        "We get 10 arrays, 2 for each layers, First array of each layer gives weights and 2nd array of each layer gives bias. So we will only make change in the weights and keep the bias as zero"
      ],
      "metadata": {
        "id": "kZEehHsgGv4A"
      }
    },
    {
      "cell_type": "code",
      "source": [
        "## Setting the weights randomly using np.random.randn(shape) , this function will give random values for a given shape\n",
        "## Now model.get_weights()[0].shape is a tuple so to pass the shape in the np.random.randn() we use shape indexing i.e\n",
        "## lets say for layer 1 we using\n",
        "## np.random.randn(model.get_weights()[0].shape[0],model.get_weights()[0].shape[1])\n",
        "## model.get_weights()[0].shape[0] will give the 0th index value of the shape\n",
        "## model.get_weights()[0].shape[1] will give the 1th index value of the shape\n",
        "## Lets say we have model.get_weights()[0].shape >> (2,3) so\n",
        "## model.get_weights()[0].shape[0] will give 2 as output and\n",
        "## model.get_weights()[0].shape[1] will give 3 as output\n",
        "\n",
        "\n",
        "initial_weights = model.get_weights()"
      ],
      "metadata": {
        "id": "EBmEOVVgrNcw"
      },
      "execution_count": 43,
      "outputs": []
    },
    {
      "cell_type": "code",
      "source": [
        "## Setting the weights randomly using np.random.randn() and multply with 0.01 to make then small and keeping the bias as zero\n",
        "\n",
        "initial_weights = model.get_weights()\n",
        "\n",
        "initial_weights[0]= np.random.randn(model.get_weights()[0].shape[0],model.get_weights()[0].shape[1])*0.01 # Weights of Layer 1\n",
        "initial_weights[1]= np.zeros(model.get_weights()[1].shape)                                          # Bias of Layer 1\n",
        "initial_weights[2]= np.random.randn(model.get_weights()[2].shape[0],model.get_weights()[2].shape[1])*0.01 # Weights of Layer 2\n",
        "initial_weights[3]= np.zeros(model.get_weights()[3].shape)                                          # Bias of Layer 2\n",
        "initial_weights[4]= np.random.randn(model.get_weights()[4].shape[0],model.get_weights()[4].shape[1])*0.01 # Weights of Layer 3\n",
        "initial_weights[5]= np.zeros(model.get_weights()[5].shape)                                          # Bias of Layer 3\n",
        "initial_weights[6]= np.random.randn(model.get_weights()[6].shape[0],model.get_weights()[6].shape[1])*0.01 # Weights of Layer 4\n",
        "initial_weights[7]= np.zeros(model.get_weights()[7].shape)                                          # Bias of Layer 4\n",
        "initial_weights[8]= np.random.randn(model.get_weights()[8].shape[0],model.get_weights()[8].shape[1])*0.01 # Weights of Layer 5\n",
        "initial_weights[9]= np.zeros(model.get_weights()[9].shape)                                          # Bias of Layer 5\n",
        "\n",
        "model.set_weights(initial_weights) # to set the weights"
      ],
      "metadata": {
        "id": "D3IzVxR9rRcx"
      },
      "execution_count": 44,
      "outputs": []
    },
    {
      "cell_type": "code",
      "source": [
        "## Checking the result\n",
        "\n",
        "model.get_weights()"
      ],
      "metadata": {
        "colab": {
          "base_uri": "https://localhost:8080/"
        },
        "id": "TSuei1QVrgyf",
        "outputId": "bbee06c4-616e-4567-bae3-0f95a5deefd7"
      },
      "execution_count": 45,
      "outputs": [
        {
          "output_type": "execute_result",
          "data": {
            "text/plain": [
              "[array([[ 0.00786077,  0.00411016],\n",
              "        [-0.00199907,  0.00678411]], dtype=float32),\n",
              " array([0., 0.], dtype=float32),\n",
              " array([[ 0.00385861, -0.00318422],\n",
              "        [-0.01550997,  0.01008297]], dtype=float32),\n",
              " array([0., 0.], dtype=float32),\n",
              " array([[-0.00342759, -0.00060491],\n",
              "        [-0.00375772,  0.00675713]], dtype=float32),\n",
              " array([0., 0.], dtype=float32),\n",
              " array([[-0.01039959,  0.0094764 ],\n",
              "        [-0.0115323 , -0.00169655]], dtype=float32),\n",
              " array([0., 0.], dtype=float32),\n",
              " array([[-0.00530579],\n",
              "        [ 0.0074789 ]], dtype=float32),\n",
              " array([0.], dtype=float32)]"
            ]
          },
          "metadata": {},
          "execution_count": 45
        }
      ]
    },
    {
      "cell_type": "markdown",
      "source": [
        "Weights are set to small random values and bias are set to 0"
      ],
      "metadata": {
        "id": "tJ4IhX_VuTdY"
      }
    },
    {
      "cell_type": "code",
      "source": [
        "## Training the Model\n",
        "\n",
        "model.compile(optimizer='adam', loss='binary_crossentropy', metrics=['accuracy'])\n",
        "history = model.fit(x,y, epochs= 100, validation_split = 0.2 , verbose =0  )"
      ],
      "metadata": {
        "id": "oPlMpOjqshTm"
      },
      "execution_count": 46,
      "outputs": []
    },
    {
      "cell_type": "code",
      "source": [
        "## Checking the weights posting training\n",
        "\n",
        "model.get_weights()"
      ],
      "metadata": {
        "colab": {
          "base_uri": "https://localhost:8080/"
        },
        "id": "oJPC2Z1rusJh",
        "outputId": "3df8778b-0cd6-4fd5-9af0-16992ae92f7a"
      },
      "execution_count": 47,
      "outputs": [
        {
          "output_type": "execute_result",
          "data": {
            "text/plain": [
              "[array([[ 0.00791853,  0.00381833],\n",
              "        [-0.00203716,  0.00697622]], dtype=float32),\n",
              " array([3.7168982e-07, 2.5609398e-07], dtype=float32),\n",
              " array([[ 0.0035069 , -0.00395109],\n",
              "        [-0.01604655,  0.00929731]], dtype=float32),\n",
              " array([-0.00104071, -0.00155063], dtype=float32),\n",
              " array([[-0.00962202, -0.0122788 ],\n",
              "        [-0.00993592, -0.00491038]], dtype=float32),\n",
              " array([-0.00647592, -0.01335581], dtype=float32),\n",
              " array([[ 0.01653912,  0.01062404],\n",
              "        [ 0.01540271, -0.00055309]], dtype=float32),\n",
              " array([0.02715318, 0.00128085], dtype=float32),\n",
              " array([[-0.02990949],\n",
              "        [-0.01698464]], dtype=float32),\n",
              " array([-0.02458627], dtype=float32)]"
            ]
          },
          "metadata": {},
          "execution_count": 47
        }
      ]
    },
    {
      "cell_type": "markdown",
      "source": [
        "As observed post training there is hardly any difference in weights hence vanishining garient problem."
      ],
      "metadata": {
        "id": "xM86s7wdGnDI"
      }
    },
    {
      "cell_type": "code",
      "source": [
        "# Checking the decsion boundaries\n",
        "\n",
        "from mlxtend.plotting import plot_decision_regions\n",
        "\n",
        "plot_decision_regions(x,y, clf =model, legend =2)"
      ],
      "metadata": {
        "colab": {
          "base_uri": "https://localhost:8080/",
          "height": 466
        },
        "id": "nGAnSqtTu_R6",
        "outputId": "c3528a8c-725d-406f-fa2a-f8b96309c5d0"
      },
      "execution_count": 48,
      "outputs": [
        {
          "output_type": "stream",
          "name": "stdout",
          "text": [
            "9600/9600 [==============================] - 15s 2ms/step\n"
          ]
        },
        {
          "output_type": "execute_result",
          "data": {
            "text/plain": [
              "<Axes: >"
            ]
          },
          "metadata": {},
          "execution_count": 48
        },
        {
          "output_type": "display_data",
          "data": {
            "text/plain": [
              "<Figure size 640x480 with 1 Axes>"
            ],
            "image/png": "[encoded data removed]"
          },
          "metadata": {}
        }
      ]
    },
    {
      "cell_type": "markdown",
      "source": [
        " Model is showing bad results indication all lies in blue region."
      ],
      "metadata": {
        "id": "KK2uftcnG04n"
      }
    },
    {
      "cell_type": "markdown",
      "source": [
        "# Random small Weigth Initialization with 'tanh' as activation fucntion"
      ],
      "metadata": {
        "id": "bKmGuV_dvdeX"
      }
    },
    {
      "cell_type": "code",
      "source": [
        "## Buulding ANN\n",
        "\n",
        "model = Sequential()\n",
        "model.add(Dense(2, activation='tanh', input_dim=2))\n",
        "model.add(Dense(2, activation='tanh'))\n",
        "model.add(Dense(2, activation='tanh'))\n",
        "model.add(Dense(2, activation='tanh'))\n",
        "model.add(Dense(1, activation='sigmoid'))\n",
        "model.summary()"
      ],
      "metadata": {
        "colab": {
          "base_uri": "https://localhost:8080/"
        },
        "id": "l1ZoFDUzvbos",
        "outputId": "9e9fd0c7-052f-4a20-dd7b-98a7627b6b1b"
      },
      "execution_count": 49,
      "outputs": [
        {
          "output_type": "stream",
          "name": "stdout",
          "text": [
            "Model: \"sequential_5\"\n",
            "_________________________________________________________________\n",
            " Layer (type)                Output Shape              Param #   \n",
            "=================================================================\n",
            " dense_17 (Dense)            (None, 2)                 6         \n",
            "                                                                 \n",
            " dense_18 (Dense)            (None, 2)                 6         \n",
            "                                                                 \n",
            " dense_19 (Dense)            (None, 2)                 6         \n",
            "                                                                 \n",
            " dense_20 (Dense)            (None, 2)                 6         \n",
            "                                                                 \n",
            " dense_21 (Dense)            (None, 1)                 3         \n",
            "                                                                 \n",
            "=================================================================\n",
            "Total params: 27 (108.00 Byte)\n",
            "Trainable params: 27 (108.00 Byte)\n",
            "Non-trainable params: 0 (0.00 Byte)\n",
            "_________________________________________________________________\n"
          ]
        }
      ]
    },
    {
      "cell_type": "code",
      "source": [
        "## Checking the Initial Weigths\n",
        "\n",
        "model.get_weights()"
      ],
      "metadata": {
        "colab": {
          "base_uri": "https://localhost:8080/"
        },
        "id": "ZCqlPrS7v1sq",
        "outputId": "d2795486-cc72-4d6b-d99c-7c05d97a09e1"
      },
      "execution_count": 50,
      "outputs": [
        {
          "output_type": "execute_result",
          "data": {
            "text/plain": [
              "[array([[ 0.00293899, -0.4669984 ],\n",
              "        [ 0.5447004 , -0.24766612]], dtype=float32),\n",
              " array([0., 0.], dtype=float32),\n",
              " array([[ 0.21571732, -0.6180253 ],\n",
              "        [-0.97764647,  1.1332945 ]], dtype=float32),\n",
              " array([0., 0.], dtype=float32),\n",
              " array([[-0.8520243 , -0.8333654 ],\n",
              "        [ 0.12537575,  0.45475852]], dtype=float32),\n",
              " array([0., 0.], dtype=float32),\n",
              " array([[-1.125058  , -0.34900975],\n",
              "        [ 0.6236496 , -1.0870441 ]], dtype=float32),\n",
              " array([0., 0.], dtype=float32),\n",
              " array([[1.0722221 ],\n",
              "        [0.16607106]], dtype=float32),\n",
              " array([0.], dtype=float32)]"
            ]
          },
          "metadata": {},
          "execution_count": 50
        }
      ]
    },
    {
      "cell_type": "code",
      "source": [
        "## Setting the weights randomly using np.random.randn() and multply with 0.01 to make then small and keeping the bias as zero\n",
        "\n",
        "initial_weights = model.get_weights()\n",
        "\n",
        "initial_weights[0]= np.random.randn(model.get_weights()[0].shape[0],model.get_weights()[0].shape[1])*0.01 # Weights of Layer 1\n",
        "initial_weights[1]= np.zeros(model.get_weights()[1].shape)                                          # Bias of Layer 1\n",
        "initial_weights[2]= np.random.randn(model.get_weights()[2].shape[0],model.get_weights()[2].shape[1])*0.01 # Weights of Layer 2\n",
        "initial_weights[3]= np.zeros(model.get_weights()[3].shape)                                          # Bias of Layer 2\n",
        "initial_weights[4]= np.random.randn(model.get_weights()[4].shape[0],model.get_weights()[4].shape[1])*0.01 # Weights of Layer 3\n",
        "initial_weights[5]= np.zeros(model.get_weights()[5].shape)                                          # Bias of Layer 3\n",
        "initial_weights[6]= np.random.randn(model.get_weights()[6].shape[0],model.get_weights()[6].shape[1])*0.01 # Weights of Layer 4\n",
        "initial_weights[7]= np.zeros(model.get_weights()[7].shape)                                          # Bias of Layer 4\n",
        "initial_weights[8]= np.random.randn(model.get_weights()[8].shape[0],model.get_weights()[8].shape[1])*0.01 # Weights of Layer 5\n",
        "initial_weights[9]= np.zeros(model.get_weights()[9].shape)                                          # Bias of Layer 5\n",
        "\n",
        "model.set_weights(initial_weights) # to set the weights"
      ],
      "metadata": {
        "id": "fQTfzkVwv51A"
      },
      "execution_count": 51,
      "outputs": []
    },
    {
      "cell_type": "code",
      "source": [
        "## Checking the result\n",
        "\n",
        "model.get_weights()"
      ],
      "metadata": {
        "colab": {
          "base_uri": "https://localhost:8080/"
        },
        "id": "gS4KbRejwIBE",
        "outputId": "eb8fa594-7958-41dc-f212-960d0c6fb683"
      },
      "execution_count": 52,
      "outputs": [
        {
          "output_type": "execute_result",
          "data": {
            "text/plain": [
              "[array([[ 0.00357665,  0.01409611],\n",
              "        [ 0.0033646 , -0.00804616]], dtype=float32),\n",
              " array([0., 0.], dtype=float32),\n",
              " array([[-0.00720004,  0.00866473],\n",
              "        [-0.00934385,  0.00121999]], dtype=float32),\n",
              " array([0., 0.], dtype=float32),\n",
              " array([[ 0.00910278,  0.00418772],\n",
              "        [-0.00462238,  0.00682925]], dtype=float32),\n",
              " array([0., 0.], dtype=float32),\n",
              " array([[-0.0032805 ,  0.00082153],\n",
              "        [ 0.01373363, -0.00163763]], dtype=float32),\n",
              " array([0., 0.], dtype=float32),\n",
              " array([[ 0.00169752],\n",
              "        [-0.01920374]], dtype=float32),\n",
              " array([0.], dtype=float32)]"
            ]
          },
          "metadata": {},
          "execution_count": 52
        }
      ]
    },
    {
      "cell_type": "markdown",
      "source": [
        "Weights are set to small random values and bias are set to 0"
      ],
      "metadata": {
        "id": "2hZa9A8OGZ8p"
      }
    },
    {
      "cell_type": "code",
      "source": [
        "## Training the Model\n",
        "\n",
        "model.compile(optimizer='adam', loss='binary_crossentropy', metrics=['accuracy'])\n",
        "history = model.fit(x,y, epochs= 100, validation_split = 0.2, verbose=0 )"
      ],
      "metadata": {
        "id": "B4kHvdjIwLua"
      },
      "execution_count": 53,
      "outputs": []
    },
    {
      "cell_type": "code",
      "source": [
        "## Checking the weights after training\n",
        "\n",
        "model.get_weights()"
      ],
      "metadata": {
        "colab": {
          "base_uri": "https://localhost:8080/"
        },
        "id": "I5uDWN9LwRMI",
        "outputId": "49fb4b97-1036-4f69-e95c-ba5538d295e6"
      },
      "execution_count": 54,
      "outputs": [
        {
          "output_type": "execute_result",
          "data": {
            "text/plain": [
              "[array([[-0.4617514 ,  0.4616612 ],\n",
              "        [ 0.88188875, -0.87404346]], dtype=float32),\n",
              " array([ 0.10156345, -0.10253055], dtype=float32),\n",
              " array([[-0.84885705,  0.76007086],\n",
              "        [ 0.84373206, -0.7487972 ]], dtype=float32),\n",
              " array([-0.0209829 ,  0.00368025], dtype=float32),\n",
              " array([[ 0.84104985,  0.8467511 ],\n",
              "        [-0.779065  , -0.76857996]], dtype=float32),\n",
              " array([0.01262076, 0.01154533], dtype=float32),\n",
              " array([[-0.74776435, -0.7445879 ],\n",
              "        [-0.74357927, -0.74333674]], dtype=float32),\n",
              " array([0.00636707, 0.00870147], dtype=float32),\n",
              " array([[-0.6426197 ],\n",
              "        [-0.65763086]], dtype=float32),\n",
              " array([-0.04150505], dtype=float32)]"
            ]
          },
          "metadata": {},
          "execution_count": 54
        }
      ]
    },
    {
      "cell_type": "markdown",
      "source": [
        "As observed post training the weights in each layers are similar, so model will act as linear model and unable to captue the non-linearity of the data."
      ],
      "metadata": {
        "id": "_RP2gqaVwb6e"
      }
    },
    {
      "cell_type": "code",
      "source": [
        "# Checking the decsion boundaries\n",
        "\n",
        "from mlxtend.plotting import plot_decision_regions\n",
        "\n",
        "plot_decision_regions(x,y, clf =model, legend =2)"
      ],
      "metadata": {
        "colab": {
          "base_uri": "https://localhost:8080/",
          "height": 466
        },
        "id": "nTM7-lVXwalp",
        "outputId": "d97e6d60-c957-41fb-dacf-90ec9eb01705"
      },
      "execution_count": 55,
      "outputs": [
        {
          "output_type": "stream",
          "name": "stdout",
          "text": [
            "9600/9600 [==============================] - 15s 2ms/step\n"
          ]
        },
        {
          "output_type": "execute_result",
          "data": {
            "text/plain": [
              "<Axes: >"
            ]
          },
          "metadata": {},
          "execution_count": 55
        },
        {
          "output_type": "display_data",
          "data": {
            "text/plain": [
              "<Figure size 640x480 with 1 Axes>"
            ],
            "image/png": "[encoded data removed]"
          },
          "metadata": {}
        }
      ]
    },
    {
      "cell_type": "markdown",
      "source": [
        "Model Act as Linear Model and unable to capture the Non Linearity of the data"
      ],
      "metadata": {
        "id": "O-a9Pr-9G5Nu"
      }
    },
    {
      "cell_type": "markdown",
      "source": [
        "# Random Small Weight Initialization with 'relu' as activation fucntion"
      ],
      "metadata": {
        "id": "4iqOKhYp36Uv"
      }
    },
    {
      "cell_type": "code",
      "source": [
        "## Buulding ANN\n",
        "\n",
        "model = Sequential()\n",
        "model.add(Dense(2, activation='relu', input_dim=2))\n",
        "model.add(Dense(2, activation='relu'))\n",
        "model.add(Dense(2, activation='relu'))\n",
        "model.add(Dense(2, activation='relu'))\n",
        "model.add(Dense(1, activation='sigmoid'))\n",
        "model.summary()"
      ],
      "metadata": {
        "colab": {
          "base_uri": "https://localhost:8080/"
        },
        "id": "cC7iAFqZ3jt4",
        "outputId": "7572a782-ca26-4724-f50c-8817465f5eb8"
      },
      "execution_count": 68,
      "outputs": [
        {
          "output_type": "stream",
          "name": "stdout",
          "text": [
            "Model: \"sequential_8\"\n",
            "_________________________________________________________________\n",
            " Layer (type)                Output Shape              Param #   \n",
            "=================================================================\n",
            " dense_32 (Dense)            (None, 2)                 6         \n",
            "                                                                 \n",
            " dense_33 (Dense)            (None, 2)                 6         \n",
            "                                                                 \n",
            " dense_34 (Dense)            (None, 2)                 6         \n",
            "                                                                 \n",
            " dense_35 (Dense)            (None, 2)                 6         \n",
            "                                                                 \n",
            " dense_36 (Dense)            (None, 1)                 3         \n",
            "                                                                 \n",
            "=================================================================\n",
            "Total params: 27 (108.00 Byte)\n",
            "Trainable params: 27 (108.00 Byte)\n",
            "Non-trainable params: 0 (0.00 Byte)\n",
            "_________________________________________________________________\n"
          ]
        }
      ]
    },
    {
      "cell_type": "code",
      "source": [
        "## Checking the Initial Weigths\n",
        "\n",
        "model.get_weights()"
      ],
      "metadata": {
        "colab": {
          "base_uri": "https://localhost:8080/"
        },
        "id": "zB6vHeSo3jwl",
        "outputId": "e35b7b90-7228-4edd-dec8-60cbec8c9c46"
      },
      "execution_count": 69,
      "outputs": [
        {
          "output_type": "execute_result",
          "data": {
            "text/plain": [
              "[array([[ 0.96414745, -0.08230019],\n",
              "        [-1.0135005 ,  0.1665138 ]], dtype=float32),\n",
              " array([0., 0.], dtype=float32),\n",
              " array([[-0.36361337,  0.10714161],\n",
              "        [ 0.14027429, -1.0094233 ]], dtype=float32),\n",
              " array([0., 0.], dtype=float32),\n",
              " array([[-0.77906877,  1.1736542 ],\n",
              "        [-0.70695335, -0.63424486]], dtype=float32),\n",
              " array([0., 0.], dtype=float32),\n",
              " array([[ 0.8674387 ,  0.6043179 ],\n",
              "        [-0.66548467,  0.09155309]], dtype=float32),\n",
              " array([0., 0.], dtype=float32),\n",
              " array([[ 0.9309312 ],\n",
              "        [-0.30281866]], dtype=float32),\n",
              " array([0.], dtype=float32)]"
            ]
          },
          "metadata": {},
          "execution_count": 69
        }
      ]
    },
    {
      "cell_type": "code",
      "source": [
        "## Setting the weights randomly using np.random.randn() and multply with 0.01 to make then small and keeping the bias as zero\n",
        "\n",
        "initial_weights = model.get_weights()\n",
        "\n",
        "initial_weights[0]= np.random.randn(model.get_weights()[0].shape[0],model.get_weights()[0].shape[1])*0.01 # Weights of Layer 1\n",
        "initial_weights[1]= np.zeros(model.get_weights()[1].shape)                                          # Bias of Layer 1\n",
        "initial_weights[2]= np.random.randn(model.get_weights()[2].shape[0],model.get_weights()[2].shape[1])*0.01 # Weights of Layer 2\n",
        "initial_weights[3]= np.zeros(model.get_weights()[3].shape)                                          # Bias of Layer 2\n",
        "initial_weights[4]= np.random.randn(model.get_weights()[4].shape[0],model.get_weights()[4].shape[1])*0.01 # Weights of Layer 3\n",
        "initial_weights[5]= np.zeros(model.get_weights()[5].shape)                                          # Bias of Layer 3\n",
        "initial_weights[6]= np.random.randn(model.get_weights()[6].shape[0],model.get_weights()[6].shape[1])*0.01 # Weights of Layer 4\n",
        "initial_weights[7]= np.zeros(model.get_weights()[7].shape)                                          # Bias of Layer 4\n",
        "initial_weights[8]= np.random.randn(model.get_weights()[8].shape[0],model.get_weights()[8].shape[1])*0.01 # Weights of Layer 5\n",
        "initial_weights[9]= np.zeros(model.get_weights()[9].shape)                                          # Bias of Layer 5\n",
        "\n",
        "model.set_weights(initial_weights) # to set the weights"
      ],
      "metadata": {
        "id": "TgSb6dg73jyb"
      },
      "execution_count": 70,
      "outputs": []
    },
    {
      "cell_type": "code",
      "source": [
        "## Checking the result\n",
        "\n",
        "model.get_weights()"
      ],
      "metadata": {
        "colab": {
          "base_uri": "https://localhost:8080/"
        },
        "id": "teRneBSs3j0b",
        "outputId": "5c8e15bd-8534-4017-a768-7b75a1cadc3a"
      },
      "execution_count": 71,
      "outputs": [
        {
          "output_type": "execute_result",
          "data": {
            "text/plain": [
              "[array([[-0.00463715,  0.0009939 ],\n",
              "        [ 0.01986072, -0.01417424]], dtype=float32),\n",
              " array([0., 0.], dtype=float32),\n",
              " array([[ 0.00130801,  0.00596864],\n",
              "        [-0.00642607, -0.00419099]], dtype=float32),\n",
              " array([0., 0.], dtype=float32),\n",
              " array([[ 0.00291965, -0.00077888],\n",
              "        [ 0.00077565,  0.00908978]], dtype=float32),\n",
              " array([0., 0.], dtype=float32),\n",
              " array([[-0.00917747, -0.01466855],\n",
              "        [ 0.00277663, -0.00021825]], dtype=float32),\n",
              " array([0., 0.], dtype=float32),\n",
              " array([[-0.00551218],\n",
              "        [ 0.00489122]], dtype=float32),\n",
              " array([0.], dtype=float32)]"
            ]
          },
          "metadata": {},
          "execution_count": 71
        }
      ]
    },
    {
      "cell_type": "markdown",
      "source": [
        "Weights are Set to contact value of 0.5"
      ],
      "metadata": {
        "id": "mEAdlUT3HNnP"
      }
    },
    {
      "cell_type": "code",
      "source": [
        "## Training the Model\n",
        "\n",
        "model.compile(optimizer='adam', loss='binary_crossentropy', metrics=['accuracy'])\n",
        "history = model.fit(x,y, epochs= 100, validation_split = 0.2, verbose=0 )"
      ],
      "metadata": {
        "id": "e2Q0NLGC3j4m"
      },
      "execution_count": 72,
      "outputs": []
    },
    {
      "cell_type": "code",
      "source": [
        "## Checking the weights after training\n",
        "\n",
        "model.get_weights()"
      ],
      "metadata": {
        "colab": {
          "base_uri": "https://localhost:8080/"
        },
        "id": "h0UmTTUL3j56",
        "outputId": "def1c3ea-13f8-4b84-a430-75f76ed242c0"
      },
      "execution_count": 73,
      "outputs": [
        {
          "output_type": "execute_result",
          "data": {
            "text/plain": [
              "[array([[-0.8644871 ,  0.39584202],\n",
              "        [ 1.2651595 , -1.0237806 ]], dtype=float32),\n",
              " array([0.94076693, 0.69156426], dtype=float32),\n",
              " array([[-0.0057725 ,  1.2113069 ],\n",
              "        [-0.00642607, -1.0666642 ]], dtype=float32),\n",
              " array([-0.0056551 ,  0.74679077], dtype=float32),\n",
              " array([[ 2.9193116e-03, -5.4469809e-04],\n",
              "        [ 7.7412202e-04,  1.1722873e+00]], dtype=float32),\n",
              " array([-0.00439904, -0.00309643], dtype=float32),\n",
              " array([[-9.17723775e-03, -1.46685485e-02],\n",
              "        [ 9.46946204e-01, -2.18249115e-04]], dtype=float32),\n",
              " array([-0.02081697,  0.        ], dtype=float32),\n",
              " array([[-0.7242966 ],\n",
              "        [ 0.00489122]], dtype=float32),\n",
              " array([0.22838688], dtype=float32)]"
            ]
          },
          "metadata": {},
          "execution_count": 73
        }
      ]
    },
    {
      "cell_type": "code",
      "source": [
        "# Checking the decsion boundaries\n",
        "\n",
        "from mlxtend.plotting import plot_decision_regions\n",
        "\n",
        "plot_decision_regions(x,y, clf =model, legend =2)"
      ],
      "metadata": {
        "colab": {
          "base_uri": "https://localhost:8080/",
          "height": 466
        },
        "id": "SVych-HJ3j9Z",
        "outputId": "85902b2c-9e95-4d0d-ad5b-7285620f3ada"
      },
      "execution_count": 74,
      "outputs": [
        {
          "output_type": "stream",
          "name": "stdout",
          "text": [
            "9600/9600 [==============================] - 18s 2ms/step\n"
          ]
        },
        {
          "output_type": "execute_result",
          "data": {
            "text/plain": [
              "<Axes: >"
            ]
          },
          "metadata": {},
          "execution_count": 74
        },
        {
          "output_type": "display_data",
          "data": {
            "text/plain": [
              "<Figure size 640x480 with 1 Axes>"
            ],
            "image/png": "[encoded data removed]"
          },
          "metadata": {}
        }
      ]
    },
    {
      "cell_type": "markdown",
      "source": [
        "Model is acting as Linear Model and Fail to capture the non-linearlity of the data."
      ],
      "metadata": {
        "id": "1ARSPCGQHdYS"
      }
    },
    {
      "cell_type": "code",
      "source": [],
      "metadata": {
        "id": "Iv7wsHam3kOA"
      },
      "execution_count": null,
      "outputs": []
    },
    {
      "cell_type": "code",
      "source": [],
      "metadata": {
        "id": "1IG2E-yK3kSL"
      },
      "execution_count": null,
      "outputs": []
    }
  ]
}