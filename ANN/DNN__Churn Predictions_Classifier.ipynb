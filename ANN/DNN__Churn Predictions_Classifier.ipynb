{
 "cells": [
  {
   "cell_type": "code",
   "execution_count": 2,
   "metadata": {
    "id": "Q9yh8r68V6am"
   },
   "outputs": [],
   "source": [
    "import numpy as np\n",
    "import pandas as pd\n",
    "import matplotlib.pyplot as plt\n",
    "import seaborn as sns\n",
    "\n",
    "\n",
    "import warnings \n",
    "warnings.filterwarnings('ignore')"
   ]
  },
  {
   "cell_type": "code",
   "execution_count": 3,
   "metadata": {
    "id": "TAe-YGVUWMfE"
   },
   "outputs": [],
   "source": [
    "df = pd.read_csv('Churn_Modelling.csv')"
   ]
  },
  {
   "cell_type": "code",
   "execution_count": 4,
   "metadata": {
    "colab": {
     "base_uri": "https://localhost:8080/",
     "height": 226
    },
    "id": "c5iU1NLqWRfo",
    "outputId": "f1918151-a15a-48b8-a6bc-09de7e067905"
   },
   "outputs": [
    {
     "data": {
      "text/html": [
       "<div>\n",
       "<style scoped>\n",
       "    .dataframe tbody tr th:only-of-type {\n",
       "        vertical-align: middle;\n",
       "    }\n",
       "\n",
       "    .dataframe tbody tr th {\n",
       "        vertical-align: top;\n",
       "    }\n",
       "\n",
       "    .dataframe thead th {\n",
       "        text-align: right;\n",
       "    }\n",
       "</style>\n",
       "<table border=\"1\" class=\"dataframe\">\n",
       "  <thead>\n",
       "    <tr style=\"text-align: right;\">\n",
       "      <th></th>\n",
       "      <th>RowNumber</th>\n",
       "      <th>CustomerId</th>\n",
       "      <th>Surname</th>\n",
       "      <th>CreditScore</th>\n",
       "      <th>Geography</th>\n",
       "      <th>Gender</th>\n",
       "      <th>Age</th>\n",
       "      <th>Tenure</th>\n",
       "      <th>Balance</th>\n",
       "      <th>NumOfProducts</th>\n",
       "      <th>HasCrCard</th>\n",
       "      <th>IsActiveMember</th>\n",
       "      <th>EstimatedSalary</th>\n",
       "      <th>Exited</th>\n",
       "    </tr>\n",
       "  </thead>\n",
       "  <tbody>\n",
       "    <tr>\n",
       "      <th>0</th>\n",
       "      <td>1</td>\n",
       "      <td>15634602</td>\n",
       "      <td>Hargrave</td>\n",
       "      <td>619</td>\n",
       "      <td>France</td>\n",
       "      <td>Female</td>\n",
       "      <td>42</td>\n",
       "      <td>2</td>\n",
       "      <td>0.00</td>\n",
       "      <td>1</td>\n",
       "      <td>1</td>\n",
       "      <td>1</td>\n",
       "      <td>101348.88</td>\n",
       "      <td>1</td>\n",
       "    </tr>\n",
       "    <tr>\n",
       "      <th>1</th>\n",
       "      <td>2</td>\n",
       "      <td>15647311</td>\n",
       "      <td>Hill</td>\n",
       "      <td>608</td>\n",
       "      <td>Spain</td>\n",
       "      <td>Female</td>\n",
       "      <td>41</td>\n",
       "      <td>1</td>\n",
       "      <td>83807.86</td>\n",
       "      <td>1</td>\n",
       "      <td>0</td>\n",
       "      <td>1</td>\n",
       "      <td>112542.58</td>\n",
       "      <td>0</td>\n",
       "    </tr>\n",
       "    <tr>\n",
       "      <th>2</th>\n",
       "      <td>3</td>\n",
       "      <td>15619304</td>\n",
       "      <td>Onio</td>\n",
       "      <td>502</td>\n",
       "      <td>France</td>\n",
       "      <td>Female</td>\n",
       "      <td>42</td>\n",
       "      <td>8</td>\n",
       "      <td>159660.80</td>\n",
       "      <td>3</td>\n",
       "      <td>1</td>\n",
       "      <td>0</td>\n",
       "      <td>113931.57</td>\n",
       "      <td>1</td>\n",
       "    </tr>\n",
       "    <tr>\n",
       "      <th>3</th>\n",
       "      <td>4</td>\n",
       "      <td>15701354</td>\n",
       "      <td>Boni</td>\n",
       "      <td>699</td>\n",
       "      <td>France</td>\n",
       "      <td>Female</td>\n",
       "      <td>39</td>\n",
       "      <td>1</td>\n",
       "      <td>0.00</td>\n",
       "      <td>2</td>\n",
       "      <td>0</td>\n",
       "      <td>0</td>\n",
       "      <td>93826.63</td>\n",
       "      <td>0</td>\n",
       "    </tr>\n",
       "    <tr>\n",
       "      <th>4</th>\n",
       "      <td>5</td>\n",
       "      <td>15737888</td>\n",
       "      <td>Mitchell</td>\n",
       "      <td>850</td>\n",
       "      <td>Spain</td>\n",
       "      <td>Female</td>\n",
       "      <td>43</td>\n",
       "      <td>2</td>\n",
       "      <td>125510.82</td>\n",
       "      <td>1</td>\n",
       "      <td>1</td>\n",
       "      <td>1</td>\n",
       "      <td>79084.10</td>\n",
       "      <td>0</td>\n",
       "    </tr>\n",
       "  </tbody>\n",
       "</table>\n",
       "</div>"
      ],
      "text/plain": [
       "   RowNumber  CustomerId   Surname  CreditScore Geography  Gender  Age  \\\n",
       "0          1    15634602  Hargrave          619    France  Female   42   \n",
       "1          2    15647311      Hill          608     Spain  Female   41   \n",
       "2          3    15619304      Onio          502    France  Female   42   \n",
       "3          4    15701354      Boni          699    France  Female   39   \n",
       "4          5    15737888  Mitchell          850     Spain  Female   43   \n",
       "\n",
       "   Tenure    Balance  NumOfProducts  HasCrCard  IsActiveMember  \\\n",
       "0       2       0.00              1          1               1   \n",
       "1       1   83807.86              1          0               1   \n",
       "2       8  159660.80              3          1               0   \n",
       "3       1       0.00              2          0               0   \n",
       "4       2  125510.82              1          1               1   \n",
       "\n",
       "   EstimatedSalary  Exited  \n",
       "0        101348.88       1  \n",
       "1        112542.58       0  \n",
       "2        113931.57       1  \n",
       "3         93826.63       0  \n",
       "4         79084.10       0  "
      ]
     },
     "execution_count": 4,
     "metadata": {},
     "output_type": "execute_result"
    }
   ],
   "source": [
    "df.head()"
   ]
  },
  {
   "cell_type": "code",
   "execution_count": 5,
   "metadata": {
    "colab": {
     "base_uri": "https://localhost:8080/"
    },
    "id": "dh5HWWN5WSrZ",
    "outputId": "754648aa-26b3-4f44-b470-90b38ddd9883"
   },
   "outputs": [
    {
     "data": {
      "text/plain": [
       "(10000, 14)"
      ]
     },
     "execution_count": 5,
     "metadata": {},
     "output_type": "execute_result"
    }
   ],
   "source": [
    "df.shape"
   ]
  },
  {
   "cell_type": "code",
   "execution_count": 6,
   "metadata": {
    "id": "2dNwMuaiWW9s"
   },
   "outputs": [],
   "source": [
    "## Clearly we have 10000 Customer Data across 14 columns"
   ]
  },
  {
   "cell_type": "code",
   "execution_count": 7,
   "metadata": {
    "colab": {
     "base_uri": "https://localhost:8080/"
    },
    "id": "YHuG3gq6WdY-",
    "outputId": "4dcba7f5-de05-431f-b819-32729931df62"
   },
   "outputs": [
    {
     "name": "stdout",
     "output_type": "stream",
     "text": [
      "<class 'pandas.core.frame.DataFrame'>\n",
      "RangeIndex: 10000 entries, 0 to 9999\n",
      "Data columns (total 14 columns):\n",
      " #   Column           Non-Null Count  Dtype  \n",
      "---  ------           --------------  -----  \n",
      " 0   RowNumber        10000 non-null  int64  \n",
      " 1   CustomerId       10000 non-null  int64  \n",
      " 2   Surname          10000 non-null  object \n",
      " 3   CreditScore      10000 non-null  int64  \n",
      " 4   Geography        10000 non-null  object \n",
      " 5   Gender           10000 non-null  object \n",
      " 6   Age              10000 non-null  int64  \n",
      " 7   Tenure           10000 non-null  int64  \n",
      " 8   Balance          10000 non-null  float64\n",
      " 9   NumOfProducts    10000 non-null  int64  \n",
      " 10  HasCrCard        10000 non-null  int64  \n",
      " 11  IsActiveMember   10000 non-null  int64  \n",
      " 12  EstimatedSalary  10000 non-null  float64\n",
      " 13  Exited           10000 non-null  int64  \n",
      "dtypes: float64(2), int64(9), object(3)\n",
      "memory usage: 1.1+ MB\n"
     ]
    }
   ],
   "source": [
    "df.info()"
   ]
  },
  {
   "cell_type": "code",
   "execution_count": 8,
   "metadata": {
    "id": "v3cpICl6W1dL"
   },
   "outputs": [],
   "source": [
    "## NO missing values"
   ]
  },
  {
   "cell_type": "code",
   "execution_count": 9,
   "metadata": {
    "colab": {
     "base_uri": "https://localhost:8080/"
    },
    "id": "6Yw4fN5hW3x8",
    "outputId": "c2cb6ba9-003d-4f0d-9a70-d05026c9d954"
   },
   "outputs": [
    {
     "data": {
      "text/plain": [
       "0"
      ]
     },
     "execution_count": 9,
     "metadata": {},
     "output_type": "execute_result"
    }
   ],
   "source": [
    "df.duplicated().sum()"
   ]
  },
  {
   "cell_type": "code",
   "execution_count": 10,
   "metadata": {
    "id": "Y3ogNFhpW8nW"
   },
   "outputs": [],
   "source": [
    "## No Duplicated rows"
   ]
  },
  {
   "cell_type": "code",
   "execution_count": 11,
   "metadata": {
    "colab": {
     "base_uri": "https://localhost:8080/"
    },
    "id": "-A5dBDskXDe3",
    "outputId": "e4156c29-6757-4c6b-ccb3-7b519c49cee2"
   },
   "outputs": [
    {
     "data": {
      "text/plain": [
       "Exited\n",
       "0    7963\n",
       "1    2037\n",
       "Name: count, dtype: int64"
      ]
     },
     "execution_count": 11,
     "metadata": {},
     "output_type": "execute_result"
    }
   ],
   "source": [
    "df.Exited.value_counts()"
   ]
  },
  {
   "cell_type": "code",
   "execution_count": 12,
   "metadata": {
    "id": "AthfSJ11XKs6"
   },
   "outputs": [],
   "source": [
    "## Close to 80% customer left the bank # Imbalance Class"
   ]
  },
  {
   "cell_type": "code",
   "execution_count": 13,
   "metadata": {
    "colab": {
     "base_uri": "https://localhost:8080/"
    },
    "id": "XhR7ULrYXdf8",
    "outputId": "7ad11050-98ac-482b-87ee-e5ed02bea24e"
   },
   "outputs": [
    {
     "data": {
      "text/plain": [
       "Geography\n",
       "France     5014\n",
       "Germany    2509\n",
       "Spain      2477\n",
       "Name: count, dtype: int64"
      ]
     },
     "execution_count": 13,
     "metadata": {},
     "output_type": "execute_result"
    }
   ],
   "source": [
    "df.Geography.value_counts()"
   ]
  },
  {
   "cell_type": "code",
   "execution_count": 14,
   "metadata": {
    "id": "Kb-Jo8iwXrJf"
   },
   "outputs": [],
   "source": [
    "## 3 Countries data"
   ]
  },
  {
   "cell_type": "code",
   "execution_count": 15,
   "metadata": {
    "colab": {
     "base_uri": "https://localhost:8080/"
    },
    "id": "xh0DbPTOXlFt",
    "outputId": "4bc48859-8729-4e69-b29c-e080c08a9e3c"
   },
   "outputs": [
    {
     "data": {
      "text/plain": [
       "Gender\n",
       "Male      5457\n",
       "Female    4543\n",
       "Name: count, dtype: int64"
      ]
     },
     "execution_count": 15,
     "metadata": {},
     "output_type": "execute_result"
    }
   ],
   "source": [
    "df.Gender.value_counts()"
   ]
  },
  {
   "cell_type": "code",
   "execution_count": 16,
   "metadata": {
    "colab": {
     "base_uri": "https://localhost:8080/",
     "height": 206
    },
    "id": "cWxamq2EXpSS",
    "outputId": "7c689a1d-fbcc-4786-ee71-a90c3c29cac6"
   },
   "outputs": [
    {
     "data": {
      "text/html": [
       "<div>\n",
       "<style scoped>\n",
       "    .dataframe tbody tr th:only-of-type {\n",
       "        vertical-align: middle;\n",
       "    }\n",
       "\n",
       "    .dataframe tbody tr th {\n",
       "        vertical-align: top;\n",
       "    }\n",
       "\n",
       "    .dataframe thead th {\n",
       "        text-align: right;\n",
       "    }\n",
       "</style>\n",
       "<table border=\"1\" class=\"dataframe\">\n",
       "  <thead>\n",
       "    <tr style=\"text-align: right;\">\n",
       "      <th></th>\n",
       "      <th>CreditScore</th>\n",
       "      <th>Geography</th>\n",
       "      <th>Gender</th>\n",
       "      <th>Age</th>\n",
       "      <th>Tenure</th>\n",
       "      <th>Balance</th>\n",
       "      <th>NumOfProducts</th>\n",
       "      <th>HasCrCard</th>\n",
       "      <th>IsActiveMember</th>\n",
       "      <th>EstimatedSalary</th>\n",
       "      <th>Exited</th>\n",
       "    </tr>\n",
       "  </thead>\n",
       "  <tbody>\n",
       "    <tr>\n",
       "      <th>0</th>\n",
       "      <td>619</td>\n",
       "      <td>France</td>\n",
       "      <td>Female</td>\n",
       "      <td>42</td>\n",
       "      <td>2</td>\n",
       "      <td>0.00</td>\n",
       "      <td>1</td>\n",
       "      <td>1</td>\n",
       "      <td>1</td>\n",
       "      <td>101348.88</td>\n",
       "      <td>1</td>\n",
       "    </tr>\n",
       "    <tr>\n",
       "      <th>1</th>\n",
       "      <td>608</td>\n",
       "      <td>Spain</td>\n",
       "      <td>Female</td>\n",
       "      <td>41</td>\n",
       "      <td>1</td>\n",
       "      <td>83807.86</td>\n",
       "      <td>1</td>\n",
       "      <td>0</td>\n",
       "      <td>1</td>\n",
       "      <td>112542.58</td>\n",
       "      <td>0</td>\n",
       "    </tr>\n",
       "    <tr>\n",
       "      <th>2</th>\n",
       "      <td>502</td>\n",
       "      <td>France</td>\n",
       "      <td>Female</td>\n",
       "      <td>42</td>\n",
       "      <td>8</td>\n",
       "      <td>159660.80</td>\n",
       "      <td>3</td>\n",
       "      <td>1</td>\n",
       "      <td>0</td>\n",
       "      <td>113931.57</td>\n",
       "      <td>1</td>\n",
       "    </tr>\n",
       "    <tr>\n",
       "      <th>3</th>\n",
       "      <td>699</td>\n",
       "      <td>France</td>\n",
       "      <td>Female</td>\n",
       "      <td>39</td>\n",
       "      <td>1</td>\n",
       "      <td>0.00</td>\n",
       "      <td>2</td>\n",
       "      <td>0</td>\n",
       "      <td>0</td>\n",
       "      <td>93826.63</td>\n",
       "      <td>0</td>\n",
       "    </tr>\n",
       "    <tr>\n",
       "      <th>4</th>\n",
       "      <td>850</td>\n",
       "      <td>Spain</td>\n",
       "      <td>Female</td>\n",
       "      <td>43</td>\n",
       "      <td>2</td>\n",
       "      <td>125510.82</td>\n",
       "      <td>1</td>\n",
       "      <td>1</td>\n",
       "      <td>1</td>\n",
       "      <td>79084.10</td>\n",
       "      <td>0</td>\n",
       "    </tr>\n",
       "  </tbody>\n",
       "</table>\n",
       "</div>"
      ],
      "text/plain": [
       "   CreditScore Geography  Gender  Age  Tenure    Balance  NumOfProducts  \\\n",
       "0          619    France  Female   42       2       0.00              1   \n",
       "1          608     Spain  Female   41       1   83807.86              1   \n",
       "2          502    France  Female   42       8  159660.80              3   \n",
       "3          699    France  Female   39       1       0.00              2   \n",
       "4          850     Spain  Female   43       2  125510.82              1   \n",
       "\n",
       "   HasCrCard  IsActiveMember  EstimatedSalary  Exited  \n",
       "0          1               1        101348.88       1  \n",
       "1          0               1        112542.58       0  \n",
       "2          1               0        113931.57       1  \n",
       "3          0               0         93826.63       0  \n",
       "4          1               1         79084.10       0  "
      ]
     },
     "execution_count": 16,
     "metadata": {},
     "output_type": "execute_result"
    }
   ],
   "source": [
    "# Balance in terms of Gender\n",
    "## Rownumber, Customer ID,  Surname columns not requird so we will drop these columns\n",
    "\n",
    "df = df.iloc[:, 3:]\n",
    "df.head()"
   ]
  },
  {
   "cell_type": "code",
   "execution_count": 17,
   "metadata": {
    "id": "P6hUNaEaYFcj"
   },
   "outputs": [],
   "source": [
    "## Encoding the columns Georgraphy and Gender\n",
    "\n",
    "df = pd.get_dummies(df, columns=['Geography', 'Gender'], drop_first=True)\n",
    "\n",
    "## drop_first is used to drop first categotry out of all the category to avoid adding more features to the data.\n",
    "## Like for Column Gender, we can work with Males, if value is 0 that means its female.\n",
    "## Also for column Gerography, 2 columns ,Germany and Spain are selected, Both values 0 means its belongs to France."
   ]
  },
  {
   "cell_type": "code",
   "execution_count": 18,
   "metadata": {
    "colab": {
     "base_uri": "https://localhost:8080/",
     "height": 444
    },
    "id": "J_crHDDwYv9h",
    "outputId": "9e4826fa-a0f6-429a-ae88-43af4d2794e3"
   },
   "outputs": [
    {
     "data": {
      "text/html": [
       "<div>\n",
       "<style scoped>\n",
       "    .dataframe tbody tr th:only-of-type {\n",
       "        vertical-align: middle;\n",
       "    }\n",
       "\n",
       "    .dataframe tbody tr th {\n",
       "        vertical-align: top;\n",
       "    }\n",
       "\n",
       "    .dataframe thead th {\n",
       "        text-align: right;\n",
       "    }\n",
       "</style>\n",
       "<table border=\"1\" class=\"dataframe\">\n",
       "  <thead>\n",
       "    <tr style=\"text-align: right;\">\n",
       "      <th></th>\n",
       "      <th>CreditScore</th>\n",
       "      <th>Age</th>\n",
       "      <th>Tenure</th>\n",
       "      <th>Balance</th>\n",
       "      <th>NumOfProducts</th>\n",
       "      <th>HasCrCard</th>\n",
       "      <th>IsActiveMember</th>\n",
       "      <th>EstimatedSalary</th>\n",
       "      <th>Exited</th>\n",
       "      <th>Geography_Germany</th>\n",
       "      <th>Geography_Spain</th>\n",
       "      <th>Gender_Male</th>\n",
       "    </tr>\n",
       "  </thead>\n",
       "  <tbody>\n",
       "    <tr>\n",
       "      <th>0</th>\n",
       "      <td>619</td>\n",
       "      <td>42</td>\n",
       "      <td>2</td>\n",
       "      <td>0.00</td>\n",
       "      <td>1</td>\n",
       "      <td>1</td>\n",
       "      <td>1</td>\n",
       "      <td>101348.88</td>\n",
       "      <td>1</td>\n",
       "      <td>False</td>\n",
       "      <td>False</td>\n",
       "      <td>False</td>\n",
       "    </tr>\n",
       "    <tr>\n",
       "      <th>1</th>\n",
       "      <td>608</td>\n",
       "      <td>41</td>\n",
       "      <td>1</td>\n",
       "      <td>83807.86</td>\n",
       "      <td>1</td>\n",
       "      <td>0</td>\n",
       "      <td>1</td>\n",
       "      <td>112542.58</td>\n",
       "      <td>0</td>\n",
       "      <td>False</td>\n",
       "      <td>True</td>\n",
       "      <td>False</td>\n",
       "    </tr>\n",
       "    <tr>\n",
       "      <th>2</th>\n",
       "      <td>502</td>\n",
       "      <td>42</td>\n",
       "      <td>8</td>\n",
       "      <td>159660.80</td>\n",
       "      <td>3</td>\n",
       "      <td>1</td>\n",
       "      <td>0</td>\n",
       "      <td>113931.57</td>\n",
       "      <td>1</td>\n",
       "      <td>False</td>\n",
       "      <td>False</td>\n",
       "      <td>False</td>\n",
       "    </tr>\n",
       "    <tr>\n",
       "      <th>3</th>\n",
       "      <td>699</td>\n",
       "      <td>39</td>\n",
       "      <td>1</td>\n",
       "      <td>0.00</td>\n",
       "      <td>2</td>\n",
       "      <td>0</td>\n",
       "      <td>0</td>\n",
       "      <td>93826.63</td>\n",
       "      <td>0</td>\n",
       "      <td>False</td>\n",
       "      <td>False</td>\n",
       "      <td>False</td>\n",
       "    </tr>\n",
       "    <tr>\n",
       "      <th>4</th>\n",
       "      <td>850</td>\n",
       "      <td>43</td>\n",
       "      <td>2</td>\n",
       "      <td>125510.82</td>\n",
       "      <td>1</td>\n",
       "      <td>1</td>\n",
       "      <td>1</td>\n",
       "      <td>79084.10</td>\n",
       "      <td>0</td>\n",
       "      <td>False</td>\n",
       "      <td>True</td>\n",
       "      <td>False</td>\n",
       "    </tr>\n",
       "    <tr>\n",
       "      <th>...</th>\n",
       "      <td>...</td>\n",
       "      <td>...</td>\n",
       "      <td>...</td>\n",
       "      <td>...</td>\n",
       "      <td>...</td>\n",
       "      <td>...</td>\n",
       "      <td>...</td>\n",
       "      <td>...</td>\n",
       "      <td>...</td>\n",
       "      <td>...</td>\n",
       "      <td>...</td>\n",
       "      <td>...</td>\n",
       "    </tr>\n",
       "    <tr>\n",
       "      <th>9995</th>\n",
       "      <td>771</td>\n",
       "      <td>39</td>\n",
       "      <td>5</td>\n",
       "      <td>0.00</td>\n",
       "      <td>2</td>\n",
       "      <td>1</td>\n",
       "      <td>0</td>\n",
       "      <td>96270.64</td>\n",
       "      <td>0</td>\n",
       "      <td>False</td>\n",
       "      <td>False</td>\n",
       "      <td>True</td>\n",
       "    </tr>\n",
       "    <tr>\n",
       "      <th>9996</th>\n",
       "      <td>516</td>\n",
       "      <td>35</td>\n",
       "      <td>10</td>\n",
       "      <td>57369.61</td>\n",
       "      <td>1</td>\n",
       "      <td>1</td>\n",
       "      <td>1</td>\n",
       "      <td>101699.77</td>\n",
       "      <td>0</td>\n",
       "      <td>False</td>\n",
       "      <td>False</td>\n",
       "      <td>True</td>\n",
       "    </tr>\n",
       "    <tr>\n",
       "      <th>9997</th>\n",
       "      <td>709</td>\n",
       "      <td>36</td>\n",
       "      <td>7</td>\n",
       "      <td>0.00</td>\n",
       "      <td>1</td>\n",
       "      <td>0</td>\n",
       "      <td>1</td>\n",
       "      <td>42085.58</td>\n",
       "      <td>1</td>\n",
       "      <td>False</td>\n",
       "      <td>False</td>\n",
       "      <td>False</td>\n",
       "    </tr>\n",
       "    <tr>\n",
       "      <th>9998</th>\n",
       "      <td>772</td>\n",
       "      <td>42</td>\n",
       "      <td>3</td>\n",
       "      <td>75075.31</td>\n",
       "      <td>2</td>\n",
       "      <td>1</td>\n",
       "      <td>0</td>\n",
       "      <td>92888.52</td>\n",
       "      <td>1</td>\n",
       "      <td>True</td>\n",
       "      <td>False</td>\n",
       "      <td>True</td>\n",
       "    </tr>\n",
       "    <tr>\n",
       "      <th>9999</th>\n",
       "      <td>792</td>\n",
       "      <td>28</td>\n",
       "      <td>4</td>\n",
       "      <td>130142.79</td>\n",
       "      <td>1</td>\n",
       "      <td>1</td>\n",
       "      <td>0</td>\n",
       "      <td>38190.78</td>\n",
       "      <td>0</td>\n",
       "      <td>False</td>\n",
       "      <td>False</td>\n",
       "      <td>False</td>\n",
       "    </tr>\n",
       "  </tbody>\n",
       "</table>\n",
       "<p>10000 rows × 12 columns</p>\n",
       "</div>"
      ],
      "text/plain": [
       "      CreditScore  Age  Tenure    Balance  NumOfProducts  HasCrCard  \\\n",
       "0             619   42       2       0.00              1          1   \n",
       "1             608   41       1   83807.86              1          0   \n",
       "2             502   42       8  159660.80              3          1   \n",
       "3             699   39       1       0.00              2          0   \n",
       "4             850   43       2  125510.82              1          1   \n",
       "...           ...  ...     ...        ...            ...        ...   \n",
       "9995          771   39       5       0.00              2          1   \n",
       "9996          516   35      10   57369.61              1          1   \n",
       "9997          709   36       7       0.00              1          0   \n",
       "9998          772   42       3   75075.31              2          1   \n",
       "9999          792   28       4  130142.79              1          1   \n",
       "\n",
       "      IsActiveMember  EstimatedSalary  Exited  Geography_Germany  \\\n",
       "0                  1        101348.88       1              False   \n",
       "1                  1        112542.58       0              False   \n",
       "2                  0        113931.57       1              False   \n",
       "3                  0         93826.63       0              False   \n",
       "4                  1         79084.10       0              False   \n",
       "...              ...              ...     ...                ...   \n",
       "9995               0         96270.64       0              False   \n",
       "9996               1        101699.77       0              False   \n",
       "9997               1         42085.58       1              False   \n",
       "9998               0         92888.52       1               True   \n",
       "9999               0         38190.78       0              False   \n",
       "\n",
       "      Geography_Spain  Gender_Male  \n",
       "0               False        False  \n",
       "1                True        False  \n",
       "2               False        False  \n",
       "3               False        False  \n",
       "4                True        False  \n",
       "...               ...          ...  \n",
       "9995            False         True  \n",
       "9996            False         True  \n",
       "9997            False        False  \n",
       "9998            False         True  \n",
       "9999            False        False  \n",
       "\n",
       "[10000 rows x 12 columns]"
      ]
     },
     "execution_count": 18,
     "metadata": {},
     "output_type": "execute_result"
    }
   ],
   "source": [
    "df"
   ]
  },
  {
   "cell_type": "code",
   "execution_count": 19,
   "metadata": {
    "id": "2kU9n8tWZe1q"
   },
   "outputs": [],
   "source": [
    "x = df.drop('Exited', axis=1)\n",
    "y = df.Exited"
   ]
  },
  {
   "cell_type": "code",
   "execution_count": 20,
   "metadata": {
    "colab": {
     "base_uri": "https://localhost:8080/",
     "height": 444
    },
    "id": "bqKYApfcaZHr",
    "outputId": "b72e049c-4ea3-4fd0-a2ab-242ff9e89535"
   },
   "outputs": [
    {
     "data": {
      "text/html": [
       "<div>\n",
       "<style scoped>\n",
       "    .dataframe tbody tr th:only-of-type {\n",
       "        vertical-align: middle;\n",
       "    }\n",
       "\n",
       "    .dataframe tbody tr th {\n",
       "        vertical-align: top;\n",
       "    }\n",
       "\n",
       "    .dataframe thead th {\n",
       "        text-align: right;\n",
       "    }\n",
       "</style>\n",
       "<table border=\"1\" class=\"dataframe\">\n",
       "  <thead>\n",
       "    <tr style=\"text-align: right;\">\n",
       "      <th></th>\n",
       "      <th>CreditScore</th>\n",
       "      <th>Age</th>\n",
       "      <th>Tenure</th>\n",
       "      <th>Balance</th>\n",
       "      <th>NumOfProducts</th>\n",
       "      <th>HasCrCard</th>\n",
       "      <th>IsActiveMember</th>\n",
       "      <th>EstimatedSalary</th>\n",
       "      <th>Geography_Germany</th>\n",
       "      <th>Geography_Spain</th>\n",
       "      <th>Gender_Male</th>\n",
       "    </tr>\n",
       "  </thead>\n",
       "  <tbody>\n",
       "    <tr>\n",
       "      <th>0</th>\n",
       "      <td>619</td>\n",
       "      <td>42</td>\n",
       "      <td>2</td>\n",
       "      <td>0.00</td>\n",
       "      <td>1</td>\n",
       "      <td>1</td>\n",
       "      <td>1</td>\n",
       "      <td>101348.88</td>\n",
       "      <td>False</td>\n",
       "      <td>False</td>\n",
       "      <td>False</td>\n",
       "    </tr>\n",
       "    <tr>\n",
       "      <th>1</th>\n",
       "      <td>608</td>\n",
       "      <td>41</td>\n",
       "      <td>1</td>\n",
       "      <td>83807.86</td>\n",
       "      <td>1</td>\n",
       "      <td>0</td>\n",
       "      <td>1</td>\n",
       "      <td>112542.58</td>\n",
       "      <td>False</td>\n",
       "      <td>True</td>\n",
       "      <td>False</td>\n",
       "    </tr>\n",
       "    <tr>\n",
       "      <th>2</th>\n",
       "      <td>502</td>\n",
       "      <td>42</td>\n",
       "      <td>8</td>\n",
       "      <td>159660.80</td>\n",
       "      <td>3</td>\n",
       "      <td>1</td>\n",
       "      <td>0</td>\n",
       "      <td>113931.57</td>\n",
       "      <td>False</td>\n",
       "      <td>False</td>\n",
       "      <td>False</td>\n",
       "    </tr>\n",
       "    <tr>\n",
       "      <th>3</th>\n",
       "      <td>699</td>\n",
       "      <td>39</td>\n",
       "      <td>1</td>\n",
       "      <td>0.00</td>\n",
       "      <td>2</td>\n",
       "      <td>0</td>\n",
       "      <td>0</td>\n",
       "      <td>93826.63</td>\n",
       "      <td>False</td>\n",
       "      <td>False</td>\n",
       "      <td>False</td>\n",
       "    </tr>\n",
       "    <tr>\n",
       "      <th>4</th>\n",
       "      <td>850</td>\n",
       "      <td>43</td>\n",
       "      <td>2</td>\n",
       "      <td>125510.82</td>\n",
       "      <td>1</td>\n",
       "      <td>1</td>\n",
       "      <td>1</td>\n",
       "      <td>79084.10</td>\n",
       "      <td>False</td>\n",
       "      <td>True</td>\n",
       "      <td>False</td>\n",
       "    </tr>\n",
       "    <tr>\n",
       "      <th>...</th>\n",
       "      <td>...</td>\n",
       "      <td>...</td>\n",
       "      <td>...</td>\n",
       "      <td>...</td>\n",
       "      <td>...</td>\n",
       "      <td>...</td>\n",
       "      <td>...</td>\n",
       "      <td>...</td>\n",
       "      <td>...</td>\n",
       "      <td>...</td>\n",
       "      <td>...</td>\n",
       "    </tr>\n",
       "    <tr>\n",
       "      <th>9995</th>\n",
       "      <td>771</td>\n",
       "      <td>39</td>\n",
       "      <td>5</td>\n",
       "      <td>0.00</td>\n",
       "      <td>2</td>\n",
       "      <td>1</td>\n",
       "      <td>0</td>\n",
       "      <td>96270.64</td>\n",
       "      <td>False</td>\n",
       "      <td>False</td>\n",
       "      <td>True</td>\n",
       "    </tr>\n",
       "    <tr>\n",
       "      <th>9996</th>\n",
       "      <td>516</td>\n",
       "      <td>35</td>\n",
       "      <td>10</td>\n",
       "      <td>57369.61</td>\n",
       "      <td>1</td>\n",
       "      <td>1</td>\n",
       "      <td>1</td>\n",
       "      <td>101699.77</td>\n",
       "      <td>False</td>\n",
       "      <td>False</td>\n",
       "      <td>True</td>\n",
       "    </tr>\n",
       "    <tr>\n",
       "      <th>9997</th>\n",
       "      <td>709</td>\n",
       "      <td>36</td>\n",
       "      <td>7</td>\n",
       "      <td>0.00</td>\n",
       "      <td>1</td>\n",
       "      <td>0</td>\n",
       "      <td>1</td>\n",
       "      <td>42085.58</td>\n",
       "      <td>False</td>\n",
       "      <td>False</td>\n",
       "      <td>False</td>\n",
       "    </tr>\n",
       "    <tr>\n",
       "      <th>9998</th>\n",
       "      <td>772</td>\n",
       "      <td>42</td>\n",
       "      <td>3</td>\n",
       "      <td>75075.31</td>\n",
       "      <td>2</td>\n",
       "      <td>1</td>\n",
       "      <td>0</td>\n",
       "      <td>92888.52</td>\n",
       "      <td>True</td>\n",
       "      <td>False</td>\n",
       "      <td>True</td>\n",
       "    </tr>\n",
       "    <tr>\n",
       "      <th>9999</th>\n",
       "      <td>792</td>\n",
       "      <td>28</td>\n",
       "      <td>4</td>\n",
       "      <td>130142.79</td>\n",
       "      <td>1</td>\n",
       "      <td>1</td>\n",
       "      <td>0</td>\n",
       "      <td>38190.78</td>\n",
       "      <td>False</td>\n",
       "      <td>False</td>\n",
       "      <td>False</td>\n",
       "    </tr>\n",
       "  </tbody>\n",
       "</table>\n",
       "<p>10000 rows × 11 columns</p>\n",
       "</div>"
      ],
      "text/plain": [
       "      CreditScore  Age  Tenure    Balance  NumOfProducts  HasCrCard  \\\n",
       "0             619   42       2       0.00              1          1   \n",
       "1             608   41       1   83807.86              1          0   \n",
       "2             502   42       8  159660.80              3          1   \n",
       "3             699   39       1       0.00              2          0   \n",
       "4             850   43       2  125510.82              1          1   \n",
       "...           ...  ...     ...        ...            ...        ...   \n",
       "9995          771   39       5       0.00              2          1   \n",
       "9996          516   35      10   57369.61              1          1   \n",
       "9997          709   36       7       0.00              1          0   \n",
       "9998          772   42       3   75075.31              2          1   \n",
       "9999          792   28       4  130142.79              1          1   \n",
       "\n",
       "      IsActiveMember  EstimatedSalary  Geography_Germany  Geography_Spain  \\\n",
       "0                  1        101348.88              False            False   \n",
       "1                  1        112542.58              False             True   \n",
       "2                  0        113931.57              False            False   \n",
       "3                  0         93826.63              False            False   \n",
       "4                  1         79084.10              False             True   \n",
       "...              ...              ...                ...              ...   \n",
       "9995               0         96270.64              False            False   \n",
       "9996               1        101699.77              False            False   \n",
       "9997               1         42085.58              False            False   \n",
       "9998               0         92888.52               True            False   \n",
       "9999               0         38190.78              False            False   \n",
       "\n",
       "      Gender_Male  \n",
       "0           False  \n",
       "1           False  \n",
       "2           False  \n",
       "3           False  \n",
       "4           False  \n",
       "...           ...  \n",
       "9995         True  \n",
       "9996         True  \n",
       "9997        False  \n",
       "9998         True  \n",
       "9999        False  \n",
       "\n",
       "[10000 rows x 11 columns]"
      ]
     },
     "execution_count": 20,
     "metadata": {},
     "output_type": "execute_result"
    }
   ],
   "source": [
    "x"
   ]
  },
  {
   "cell_type": "code",
   "execution_count": 21,
   "metadata": {
    "colab": {
     "base_uri": "https://localhost:8080/"
    },
    "id": "GrCjJMWAaaTN",
    "outputId": "74741784-78a7-4254-d9b0-3ba7cf7266c2"
   },
   "outputs": [
    {
     "data": {
      "text/plain": [
       "0       1\n",
       "1       0\n",
       "2       1\n",
       "3       0\n",
       "4       0\n",
       "       ..\n",
       "9995    0\n",
       "9996    0\n",
       "9997    1\n",
       "9998    1\n",
       "9999    0\n",
       "Name: Exited, Length: 10000, dtype: int64"
      ]
     },
     "execution_count": 21,
     "metadata": {},
     "output_type": "execute_result"
    }
   ],
   "source": [
    "y"
   ]
  },
  {
   "cell_type": "code",
   "execution_count": 22,
   "metadata": {
    "id": "1JjYS24NbP8g"
   },
   "outputs": [],
   "source": [
    "## Spliting the Data\n",
    "\n",
    "from sklearn.model_selection import train_test_split\n",
    "from sklearn.preprocessing import StandardScaler\n",
    "\n",
    "x_train, x_test, y_train, y_test = train_test_split(x,y, test_size=0.2 ,random_state=1)"
   ]
  },
  {
   "cell_type": "code",
   "execution_count": 23,
   "metadata": {
    "colab": {
     "base_uri": "https://localhost:8080/"
    },
    "id": "KZ2xv6PfbnTD",
    "outputId": "32cddd8e-2886-4376-d776-e4ce50fadf44"
   },
   "outputs": [
    {
     "data": {
      "text/plain": [
       "(8000, 11)"
      ]
     },
     "execution_count": 23,
     "metadata": {},
     "output_type": "execute_result"
    }
   ],
   "source": [
    "x_train.shape"
   ]
  },
  {
   "cell_type": "code",
   "execution_count": 24,
   "metadata": {
    "colab": {
     "base_uri": "https://localhost:8080/"
    },
    "id": "sMHWRpT6bpX-",
    "outputId": "5c92bbf5-3e79-4858-dddd-227e9000c0c7"
   },
   "outputs": [
    {
     "data": {
      "text/plain": [
       "(2000, 11)"
      ]
     },
     "execution_count": 24,
     "metadata": {},
     "output_type": "execute_result"
    }
   ],
   "source": [
    "x_test.shape"
   ]
  },
  {
   "cell_type": "code",
   "execution_count": 25,
   "metadata": {
    "id": "74goRGh2bsld"
   },
   "outputs": [],
   "source": [
    "## Feature Scaling\n",
    "\n",
    "ss = StandardScaler()\n",
    "x_train_sc = ss.fit_transform(x_train)\n",
    "x_test_sc = ss.transform(x_test)"
   ]
  },
  {
   "cell_type": "code",
   "execution_count": 26,
   "metadata": {
    "colab": {
     "base_uri": "https://localhost:8080/"
    },
    "id": "IPr1HWWccASg",
    "outputId": "4d8726cd-86c4-49ab-c9ba-2708d8489bba"
   },
   "outputs": [
    {
     "data": {
      "text/plain": [
       "array([[-1.03768121,  0.77498705, -1.0482813 , ..., -0.58312392,\n",
       "        -0.57273139,  0.91509065],\n",
       "       [ 0.30708683, -0.46686456, -0.70174202, ..., -0.58312392,\n",
       "        -0.57273139,  0.91509065],\n",
       "       [-1.23422423,  0.29735181, -1.0482813 , ..., -0.58312392,\n",
       "        -0.57273139, -1.09278791],\n",
       "       ...,\n",
       "       [-0.86182692, -0.46686456,  1.72403288, ..., -0.58312392,\n",
       "         1.74601919,  0.91509065],\n",
       "       [-0.30323097, -0.84897275, -1.0482813 , ...,  1.71490137,\n",
       "        -0.57273139, -1.09278791],\n",
       "       [ 0.04847759,  1.25262228,  1.3774936 , ...,  1.71490137,\n",
       "        -0.57273139,  0.91509065]])"
      ]
     },
     "execution_count": 26,
     "metadata": {},
     "output_type": "execute_result"
    }
   ],
   "source": [
    "x_test_sc"
   ]
  },
  {
   "cell_type": "code",
   "execution_count": 27,
   "metadata": {
    "id": "8ydYCMTXcB1O"
   },
   "outputs": [
    {
     "name": "stderr",
     "output_type": "stream",
     "text": [
      "2023-10-08 01:56:14.369657: I tensorflow/core/platform/cpu_feature_guard.cc:182] This TensorFlow binary is optimized to use available CPU instructions in performance-critical operations.\n",
      "To enable the following instructions: AVX2 FMA, in other operations, rebuild TensorFlow with the appropriate compiler flags.\n"
     ]
    }
   ],
   "source": [
    "import tensorflow as tf\n",
    "from tensorflow import keras\n",
    "from keras import Sequential\n",
    "from keras.layers import Dense"
   ]
  },
  {
   "cell_type": "code",
   "execution_count": 28,
   "metadata": {
    "colab": {
     "base_uri": "https://localhost:8080/"
    },
    "id": "s2sSWwA9cg_D",
    "outputId": "0904c196-d262-417c-c5a7-7608f5f75096"
   },
   "outputs": [
    {
     "name": "stdout",
     "output_type": "stream",
     "text": [
      "Model: \"sequential\"\n",
      "_________________________________________________________________\n",
      " Layer (type)                Output Shape              Param #   \n",
      "=================================================================\n",
      " dense (Dense)               (None, 3)                 36        \n",
      "                                                                 \n",
      " dense_1 (Dense)             (None, 1)                 4         \n",
      "                                                                 \n",
      "=================================================================\n",
      "Total params: 40 (160.00 Byte)\n",
      "Trainable params: 40 (160.00 Byte)\n",
      "Non-trainable params: 0 (0.00 Byte)\n",
      "_________________________________________________________________\n"
     ]
    }
   ],
   "source": [
    "##Creating a Deep Neural Network Architecture\n",
    "\n",
    "## In Nueral Network we can create 2 type of Structures, 1.Sequential 2.Non.Sequntial\n",
    "## We will inintally use the Sequential Structure\n",
    "\n",
    "## Step 1: Create the Model Object\n",
    "model = Sequential()\n",
    "\n",
    "## Step2: Create the Input layer and 1st Hidden Layer\n",
    "## We used .add() to create the hidden layers.\n",
    "## IN .add() , we use Dense() layer and in Dense there we define everything like No.of Nodes/perceptron activation function,\n",
    "## loss function , No of inputs(Only is First hidden layer)\n",
    "\n",
    "model.add(Dense(3,activation = 'sigmoid', input_dim=11))\n",
    "\n",
    "## Here we are defining 3 perceptrons, with activation fucntion as 'sigmoid' and we are informing the model that there will be 11\n",
    "## inputs\n",
    "## Note: No. of Inputs 'Input_dim' will only be definded in first hidden only.\n",
    "\n",
    "## Step 3 : Create the Output Layer\n",
    "## Here we only need 1 perceptron as we are working on Binary classification and activation function will be sigmoid.\n",
    "\n",
    "model.add(Dense(1, activation = 'sigmoid'))\n",
    "\n",
    "## No to check the summary of we use <Model Object>.summary(), which guves us the info about the NO. of trainable paramerts in each\n",
    "## Layer and total no. of parametes.\n",
    "model.summary()"
   ]
  },
  {
   "cell_type": "code",
   "execution_count": 29,
   "metadata": {
    "colab": {
     "base_uri": "https://localhost:8080/"
    },
    "id": "SLw2Zl_6dEKK",
    "outputId": "e635132b-e81d-4c4d-8ee1-1643af603a6c"
   },
   "outputs": [
    {
     "name": "stdout",
     "output_type": "stream",
     "text": [
      "Epoch 1/10\n",
      "250/250 [==============================] - 1s 2ms/step - loss: 0.6125\n",
      "Epoch 2/10\n",
      "250/250 [==============================] - 1s 2ms/step - loss: 0.5099\n",
      "Epoch 3/10\n",
      "250/250 [==============================] - 1s 3ms/step - loss: 0.4693\n",
      "Epoch 4/10\n",
      "250/250 [==============================] - 1s 4ms/step - loss: 0.4511\n",
      "Epoch 5/10\n",
      "250/250 [==============================] - 1s 3ms/step - loss: 0.4409\n",
      "Epoch 6/10\n",
      "250/250 [==============================] - 1s 3ms/step - loss: 0.4346\n",
      "Epoch 7/10\n",
      "250/250 [==============================] - 1s 3ms/step - loss: 0.4304\n",
      "Epoch 8/10\n",
      "250/250 [==============================] - 1s 5ms/step - loss: 0.4275\n",
      "Epoch 9/10\n",
      "250/250 [==============================] - 0s 2ms/step - loss: 0.4254\n",
      "Epoch 10/10\n",
      "250/250 [==============================] - 1s 2ms/step - loss: 0.4237\n"
     ]
    },
    {
     "data": {
      "text/plain": [
       "<keras.src.callbacks.History at 0x7f988fde9700>"
      ]
     },
     "execution_count": 29,
     "metadata": {},
     "output_type": "execute_result"
    }
   ],
   "source": [
    "## Step 4 : Complie the Model = In this stage we define the optimizer and loss_function that we need in the model\n",
    "## Since its a binary classifer to we will use 'binary_crossentropy' as loss function and optimzer as 'adam'\n",
    "\n",
    "model.compile(loss='binary_crossentropy', optimizer = 'adam')\n",
    "\n",
    "## Step 5: We training the model where we give the inputs and define the epochs\n",
    "\n",
    "model.fit(x_train_sc, y_train, epochs=10)"
   ]
  },
  {
   "cell_type": "code",
   "execution_count": 30,
   "metadata": {
    "id": "WKi3ORkiWEiL"
   },
   "outputs": [],
   "source": [
    "## Now lets Model has been trained and if we observe with every step the loss is getting reduced."
   ]
  },
  {
   "cell_type": "code",
   "execution_count": 31,
   "metadata": {
    "colab": {
     "base_uri": "https://localhost:8080/"
    },
    "id": "Y5KHomc6dxlk",
    "outputId": "ade54599-b4f1-4ca5-9e2f-442fdf1f4988"
   },
   "outputs": [
    {
     "data": {
      "text/plain": [
       "[array([[ 0.13610642, -0.06401477, -0.05389244],\n",
       "        [-0.52411   ,  1.6081438 , -2.2421746 ],\n",
       "        [ 0.009708  , -0.00775571,  0.1238089 ],\n",
       "        [-0.36873496,  0.21508609,  0.04695883],\n",
       "        [ 0.5632281 ,  0.07859167, -0.32532758],\n",
       "        [-0.1331052 , -0.10562775,  0.2660731 ],\n",
       "        [ 0.7898725 , -0.5605341 ,  0.4874406 ],\n",
       "        [ 0.14960022,  0.39364544,  0.02900246],\n",
       "        [-0.25322005,  0.79506296, -0.3853799 ],\n",
       "        [-0.20300104, -0.1854913 ,  0.19247182],\n",
       "        [ 0.576959  , -0.11714251,  0.27865234]], dtype=float32),\n",
       " array([ 0.6070026 , -0.43743372,  0.70913154], dtype=float32)]"
      ]
     },
     "execution_count": 31,
     "metadata": {},
     "output_type": "execute_result"
    }
   ],
   "source": [
    "## To check the weights and bias of each layer we use <model_obj>.layers[].get_weights() > Give 2 array, first with weights and 2nd\n",
    "## with bias\n",
    "\n",
    "## For layer # 1 , Layer[0]\n",
    "\n",
    "model.layers[0].get_weights()"
   ]
  },
  {
   "cell_type": "code",
   "execution_count": 32,
   "metadata": {
    "id": "7heDejS6d8R3"
   },
   "outputs": [],
   "source": [
    "## Since for layer 1 , we have 11 inputs and 3 notes so matrix of 11X3 also 3 bias so the last arrays shows the bias values"
   ]
  },
  {
   "cell_type": "code",
   "execution_count": 33,
   "metadata": {
    "colab": {
     "base_uri": "https://localhost:8080/"
    },
    "id": "h_x4mjGseqNz",
    "outputId": "d75845b5-d616-44bf-91e3-c28c06dc9a9d"
   },
   "outputs": [
    {
     "data": {
      "text/plain": [
       "[array([[-1.5648853],\n",
       "        [ 1.0632842],\n",
       "        [-0.9651453]], dtype=float32),\n",
       " array([-0.49146247], dtype=float32)]"
      ]
     },
     "execution_count": 33,
     "metadata": {},
     "output_type": "execute_result"
    }
   ],
   "source": [
    "## For Layer # 2 > layer[1]\n",
    "\n",
    "model.layers[1].get_weights()"
   ]
  },
  {
   "cell_type": "code",
   "execution_count": 34,
   "metadata": {
    "id": "q0L3D3OSeyLi"
   },
   "outputs": [],
   "source": [
    "## Since for Layer 2, we have 3 inputs and 1 Output to it will 1X3 matric and we one only has 1 bais shown by last 1D array"
   ]
  },
  {
   "cell_type": "code",
   "execution_count": 35,
   "metadata": {
    "colab": {
     "base_uri": "https://localhost:8080/"
    },
    "id": "96is7swRfENd",
    "outputId": "04cacd2b-077e-4a29-805a-b0210ec1de12"
   },
   "outputs": [
    {
     "name": "stdout",
     "output_type": "stream",
     "text": [
      "63/63 [==============================] - 0s 2ms/step\n"
     ]
    },
    {
     "data": {
      "text/plain": [
       "array([[0.13089195],\n",
       "       [0.14135453],\n",
       "       [0.13498463],\n",
       "       ...,\n",
       "       [0.05824275],\n",
       "       [0.11357032],\n",
       "       [0.39363447]], dtype=float32)"
      ]
     },
     "execution_count": 35,
     "metadata": {},
     "output_type": "execute_result"
    }
   ],
   "source": [
    "## Step 6: Now our Model is trained and ready to predict\n",
    "\n",
    "model.predict(x_test_sc)"
   ]
  },
  {
   "cell_type": "code",
   "execution_count": 36,
   "metadata": {
    "id": "GWoEG3MvfJg5"
   },
   "outputs": [],
   "source": [
    "## Obserrvation is : Outpur in decimals not in 0 or 1, Since we are using sigmoid and it will give us probabilites\n",
    "## So we need to covert it into class by selecting a threshold. Lets say we select 0.5 as threshold so if probability is more than\n",
    "## 0.5 its falls in class 1, else its falls in class 0"
   ]
  },
  {
   "cell_type": "code",
   "execution_count": 37,
   "metadata": {
    "colab": {
     "base_uri": "https://localhost:8080/"
    },
    "id": "WYipdXiOf6tj",
    "outputId": "04e871e3-8db1-4ef4-ee64-5f4ec00bac62"
   },
   "outputs": [
    {
     "name": "stdout",
     "output_type": "stream",
     "text": [
      "63/63 [==============================] - 0s 2ms/step\n"
     ]
    }
   ],
   "source": [
    "y_log = model.predict(x_test_sc)\n",
    "\n",
    "y_pred = np.where(y_log>0.5,1,0) # to Decide the class base on the 0.5 Threshold"
   ]
  },
  {
   "cell_type": "code",
   "execution_count": 38,
   "metadata": {
    "colab": {
     "base_uri": "https://localhost:8080/"
    },
    "id": "gMdp2G8XgRUG",
    "outputId": "812ff3a7-967e-421d-e1af-d016eeffbfee"
   },
   "outputs": [
    {
     "data": {
      "text/plain": [
       "0.8185"
      ]
     },
     "execution_count": 38,
     "metadata": {},
     "output_type": "execute_result"
    }
   ],
   "source": [
    "## Lets calcualte the accuracy\n",
    "\n",
    "from sklearn.metrics import accuracy_score\n",
    "accuracy_score(y_test, y_pred)"
   ]
  },
  {
   "cell_type": "code",
   "execution_count": 39,
   "metadata": {
    "id": "GjKltnXoggCh"
   },
   "outputs": [],
   "source": [
    "## 81.85% is Accuracy.\n",
    "## We can improve the accuracy by make some changes in the nueral network."
   ]
  },
  {
   "cell_type": "code",
   "execution_count": 40,
   "metadata": {
    "colab": {
     "base_uri": "https://localhost:8080/"
    },
    "id": "jQpIWdRVXjAq",
    "outputId": "c12fb8cd-fd07-498b-8c61-c18d7f377c7c"
   },
   "outputs": [
    {
     "name": "stdout",
     "output_type": "stream",
     "text": [
      "Epoch 1/100\n",
      "200/200 [==============================] - 3s 10ms/step - loss: 0.6061 - accuracy: 0.6820 - val_loss: 0.5223 - val_accuracy: 0.7887\n",
      "Epoch 2/100\n",
      "200/200 [==============================] - 1s 4ms/step - loss: 0.4748 - accuracy: 0.8052 - val_loss: 0.4583 - val_accuracy: 0.8062\n",
      "Epoch 3/100\n",
      "200/200 [==============================] - 1s 3ms/step - loss: 0.4395 - accuracy: 0.8134 - val_loss: 0.4377 - val_accuracy: 0.8112\n",
      "Epoch 4/100\n",
      "200/200 [==============================] - 1s 4ms/step - loss: 0.4270 - accuracy: 0.8191 - val_loss: 0.4290 - val_accuracy: 0.8131\n",
      "Epoch 5/100\n",
      "200/200 [==============================] - 1s 4ms/step - loss: 0.4199 - accuracy: 0.8211 - val_loss: 0.4225 - val_accuracy: 0.8163\n",
      "Epoch 6/100\n",
      "200/200 [==============================] - 1s 3ms/step - loss: 0.4140 - accuracy: 0.8272 - val_loss: 0.4160 - val_accuracy: 0.8213\n",
      "Epoch 7/100\n",
      "200/200 [==============================] - 1s 3ms/step - loss: 0.4082 - accuracy: 0.8331 - val_loss: 0.4099 - val_accuracy: 0.8256\n",
      "Epoch 8/100\n",
      "200/200 [==============================] - 1s 3ms/step - loss: 0.4019 - accuracy: 0.8353 - val_loss: 0.4041 - val_accuracy: 0.8275\n",
      "Epoch 9/100\n",
      "200/200 [==============================] - 1s 3ms/step - loss: 0.3958 - accuracy: 0.8400 - val_loss: 0.3963 - val_accuracy: 0.8381\n",
      "Epoch 10/100\n",
      "200/200 [==============================] - 1s 4ms/step - loss: 0.3892 - accuracy: 0.8434 - val_loss: 0.3894 - val_accuracy: 0.8438\n",
      "Epoch 11/100\n",
      "200/200 [==============================] - 1s 4ms/step - loss: 0.3833 - accuracy: 0.8441 - val_loss: 0.3825 - val_accuracy: 0.8438\n",
      "Epoch 12/100\n",
      "200/200 [==============================] - 1s 4ms/step - loss: 0.3771 - accuracy: 0.8484 - val_loss: 0.3757 - val_accuracy: 0.8456\n",
      "Epoch 13/100\n",
      "200/200 [==============================] - 1s 4ms/step - loss: 0.3719 - accuracy: 0.8506 - val_loss: 0.3716 - val_accuracy: 0.8475\n",
      "Epoch 14/100\n",
      "200/200 [==============================] - 1s 3ms/step - loss: 0.3672 - accuracy: 0.8541 - val_loss: 0.3664 - val_accuracy: 0.8494\n",
      "Epoch 15/100\n",
      "200/200 [==============================] - 1s 3ms/step - loss: 0.3633 - accuracy: 0.8537 - val_loss: 0.3632 - val_accuracy: 0.8494\n",
      "Epoch 16/100\n",
      "200/200 [==============================] - 1s 3ms/step - loss: 0.3596 - accuracy: 0.8555 - val_loss: 0.3608 - val_accuracy: 0.8506\n",
      "Epoch 17/100\n",
      "200/200 [==============================] - 1s 3ms/step - loss: 0.3567 - accuracy: 0.8555 - val_loss: 0.3572 - val_accuracy: 0.8481\n",
      "Epoch 18/100\n",
      "200/200 [==============================] - 1s 3ms/step - loss: 0.3546 - accuracy: 0.8577 - val_loss: 0.3557 - val_accuracy: 0.8506\n",
      "Epoch 19/100\n",
      "200/200 [==============================] - 1s 3ms/step - loss: 0.3525 - accuracy: 0.8564 - val_loss: 0.3552 - val_accuracy: 0.8500\n",
      "Epoch 20/100\n",
      "200/200 [==============================] - 1s 3ms/step - loss: 0.3509 - accuracy: 0.8586 - val_loss: 0.3529 - val_accuracy: 0.8544\n",
      "Epoch 21/100\n",
      "200/200 [==============================] - 1s 3ms/step - loss: 0.3496 - accuracy: 0.8591 - val_loss: 0.3521 - val_accuracy: 0.8506\n",
      "Epoch 22/100\n",
      "200/200 [==============================] - 1s 3ms/step - loss: 0.3485 - accuracy: 0.8591 - val_loss: 0.3515 - val_accuracy: 0.8487\n",
      "Epoch 23/100\n",
      "200/200 [==============================] - 1s 3ms/step - loss: 0.3474 - accuracy: 0.8589 - val_loss: 0.3504 - val_accuracy: 0.8500\n",
      "Epoch 24/100\n",
      "200/200 [==============================] - 1s 4ms/step - loss: 0.3465 - accuracy: 0.8592 - val_loss: 0.3504 - val_accuracy: 0.8487\n",
      "Epoch 25/100\n",
      "200/200 [==============================] - 1s 4ms/step - loss: 0.3458 - accuracy: 0.8580 - val_loss: 0.3493 - val_accuracy: 0.8487\n",
      "Epoch 26/100\n",
      "200/200 [==============================] - 1s 4ms/step - loss: 0.3451 - accuracy: 0.8589 - val_loss: 0.3488 - val_accuracy: 0.8500\n",
      "Epoch 27/100\n",
      "200/200 [==============================] - 1s 4ms/step - loss: 0.3443 - accuracy: 0.8587 - val_loss: 0.3498 - val_accuracy: 0.8519\n",
      "Epoch 28/100\n",
      "200/200 [==============================] - 1s 4ms/step - loss: 0.3437 - accuracy: 0.8623 - val_loss: 0.3482 - val_accuracy: 0.8531\n",
      "Epoch 29/100\n",
      "200/200 [==============================] - 1s 3ms/step - loss: 0.3438 - accuracy: 0.8586 - val_loss: 0.3483 - val_accuracy: 0.8531\n",
      "Epoch 30/100\n",
      "200/200 [==============================] - 1s 4ms/step - loss: 0.3431 - accuracy: 0.8606 - val_loss: 0.3474 - val_accuracy: 0.8525\n",
      "Epoch 31/100\n",
      "200/200 [==============================] - 1s 3ms/step - loss: 0.3430 - accuracy: 0.8600 - val_loss: 0.3477 - val_accuracy: 0.8512\n",
      "Epoch 32/100\n",
      "200/200 [==============================] - 1s 3ms/step - loss: 0.3425 - accuracy: 0.8597 - val_loss: 0.3475 - val_accuracy: 0.8512\n",
      "Epoch 33/100\n",
      "200/200 [==============================] - 1s 5ms/step - loss: 0.3421 - accuracy: 0.8603 - val_loss: 0.3462 - val_accuracy: 0.8512\n",
      "Epoch 34/100\n",
      "200/200 [==============================] - 1s 7ms/step - loss: 0.3419 - accuracy: 0.8606 - val_loss: 0.3473 - val_accuracy: 0.8519\n",
      "Epoch 35/100\n",
      "200/200 [==============================] - 1s 6ms/step - loss: 0.3417 - accuracy: 0.8609 - val_loss: 0.3471 - val_accuracy: 0.8512\n",
      "Epoch 36/100\n",
      "200/200 [==============================] - 1s 4ms/step - loss: 0.3413 - accuracy: 0.8592 - val_loss: 0.3468 - val_accuracy: 0.8531\n",
      "Epoch 37/100\n",
      "200/200 [==============================] - 1s 5ms/step - loss: 0.3410 - accuracy: 0.8595 - val_loss: 0.3465 - val_accuracy: 0.8537\n",
      "Epoch 38/100\n",
      "200/200 [==============================] - 1s 3ms/step - loss: 0.3406 - accuracy: 0.8609 - val_loss: 0.3460 - val_accuracy: 0.8500\n",
      "Epoch 39/100\n",
      "200/200 [==============================] - 1s 5ms/step - loss: 0.3408 - accuracy: 0.8605 - val_loss: 0.3463 - val_accuracy: 0.8519\n",
      "Epoch 40/100\n",
      "200/200 [==============================] - 1s 4ms/step - loss: 0.3403 - accuracy: 0.8597 - val_loss: 0.3472 - val_accuracy: 0.8531\n",
      "Epoch 41/100\n",
      "200/200 [==============================] - 1s 3ms/step - loss: 0.3403 - accuracy: 0.8623 - val_loss: 0.3468 - val_accuracy: 0.8525\n",
      "Epoch 42/100\n",
      "200/200 [==============================] - 1s 4ms/step - loss: 0.3400 - accuracy: 0.8602 - val_loss: 0.3457 - val_accuracy: 0.8494\n",
      "Epoch 43/100\n",
      "200/200 [==============================] - 1s 4ms/step - loss: 0.3400 - accuracy: 0.8612 - val_loss: 0.3462 - val_accuracy: 0.8506\n",
      "Epoch 44/100\n",
      "200/200 [==============================] - 1s 4ms/step - loss: 0.3395 - accuracy: 0.8612 - val_loss: 0.3469 - val_accuracy: 0.8525\n",
      "Epoch 45/100\n",
      "200/200 [==============================] - 1s 3ms/step - loss: 0.3395 - accuracy: 0.8606 - val_loss: 0.3456 - val_accuracy: 0.8519\n",
      "Epoch 46/100\n",
      "200/200 [==============================] - 1s 4ms/step - loss: 0.3392 - accuracy: 0.8602 - val_loss: 0.3459 - val_accuracy: 0.8506\n",
      "Epoch 47/100\n",
      "200/200 [==============================] - 0s 2ms/step - loss: 0.3389 - accuracy: 0.8602 - val_loss: 0.3453 - val_accuracy: 0.8525\n",
      "Epoch 48/100\n",
      "200/200 [==============================] - 0s 2ms/step - loss: 0.3388 - accuracy: 0.8614 - val_loss: 0.3458 - val_accuracy: 0.8525\n",
      "Epoch 49/100\n",
      "200/200 [==============================] - 0s 2ms/step - loss: 0.3385 - accuracy: 0.8608 - val_loss: 0.3451 - val_accuracy: 0.8506\n",
      "Epoch 50/100\n",
      "200/200 [==============================] - 0s 2ms/step - loss: 0.3385 - accuracy: 0.8630 - val_loss: 0.3455 - val_accuracy: 0.8494\n",
      "Epoch 51/100\n",
      "200/200 [==============================] - 1s 3ms/step - loss: 0.3384 - accuracy: 0.8619 - val_loss: 0.3453 - val_accuracy: 0.8500\n",
      "Epoch 52/100\n",
      "200/200 [==============================] - 1s 3ms/step - loss: 0.3379 - accuracy: 0.8608 - val_loss: 0.3451 - val_accuracy: 0.8531\n",
      "Epoch 53/100\n",
      "200/200 [==============================] - 1s 3ms/step - loss: 0.3382 - accuracy: 0.8612 - val_loss: 0.3449 - val_accuracy: 0.8525\n",
      "Epoch 54/100\n",
      "200/200 [==============================] - 1s 3ms/step - loss: 0.3379 - accuracy: 0.8611 - val_loss: 0.3453 - val_accuracy: 0.8525\n",
      "Epoch 55/100\n",
      "200/200 [==============================] - 1s 4ms/step - loss: 0.3378 - accuracy: 0.8609 - val_loss: 0.3442 - val_accuracy: 0.8519\n",
      "Epoch 56/100\n",
      "200/200 [==============================] - 1s 5ms/step - loss: 0.3376 - accuracy: 0.8608 - val_loss: 0.3450 - val_accuracy: 0.8512\n",
      "Epoch 57/100\n",
      "200/200 [==============================] - 1s 4ms/step - loss: 0.3374 - accuracy: 0.8606 - val_loss: 0.3448 - val_accuracy: 0.8506\n"
     ]
    },
    {
     "name": "stdout",
     "output_type": "stream",
     "text": [
      "Epoch 58/100\n",
      "200/200 [==============================] - 0s 2ms/step - loss: 0.3374 - accuracy: 0.8617 - val_loss: 0.3451 - val_accuracy: 0.8512\n",
      "Epoch 59/100\n",
      "200/200 [==============================] - 0s 2ms/step - loss: 0.3373 - accuracy: 0.8612 - val_loss: 0.3446 - val_accuracy: 0.8506\n",
      "Epoch 60/100\n",
      "200/200 [==============================] - 0s 2ms/step - loss: 0.3368 - accuracy: 0.8605 - val_loss: 0.3449 - val_accuracy: 0.8512\n",
      "Epoch 61/100\n",
      "200/200 [==============================] - 0s 2ms/step - loss: 0.3370 - accuracy: 0.8608 - val_loss: 0.3448 - val_accuracy: 0.8512\n",
      "Epoch 62/100\n",
      "200/200 [==============================] - 0s 2ms/step - loss: 0.3367 - accuracy: 0.8620 - val_loss: 0.3447 - val_accuracy: 0.8519\n",
      "Epoch 63/100\n",
      "200/200 [==============================] - 0s 2ms/step - loss: 0.3366 - accuracy: 0.8614 - val_loss: 0.3451 - val_accuracy: 0.8525\n",
      "Epoch 64/100\n",
      "200/200 [==============================] - 0s 2ms/step - loss: 0.3364 - accuracy: 0.8628 - val_loss: 0.3443 - val_accuracy: 0.8519\n",
      "Epoch 65/100\n",
      "200/200 [==============================] - 0s 2ms/step - loss: 0.3364 - accuracy: 0.8625 - val_loss: 0.3451 - val_accuracy: 0.8500\n",
      "Epoch 66/100\n",
      "200/200 [==============================] - 0s 2ms/step - loss: 0.3364 - accuracy: 0.8614 - val_loss: 0.3448 - val_accuracy: 0.8531\n",
      "Epoch 67/100\n",
      "200/200 [==============================] - 0s 2ms/step - loss: 0.3363 - accuracy: 0.8623 - val_loss: 0.3448 - val_accuracy: 0.8500\n",
      "Epoch 68/100\n",
      "200/200 [==============================] - 0s 2ms/step - loss: 0.3359 - accuracy: 0.8625 - val_loss: 0.3447 - val_accuracy: 0.8481\n",
      "Epoch 69/100\n",
      "200/200 [==============================] - 0s 2ms/step - loss: 0.3360 - accuracy: 0.8634 - val_loss: 0.3445 - val_accuracy: 0.8506\n",
      "Epoch 70/100\n",
      "200/200 [==============================] - 1s 4ms/step - loss: 0.3359 - accuracy: 0.8631 - val_loss: 0.3443 - val_accuracy: 0.8519\n",
      "Epoch 71/100\n",
      "200/200 [==============================] - 0s 2ms/step - loss: 0.3359 - accuracy: 0.8627 - val_loss: 0.3447 - val_accuracy: 0.8487\n",
      "Epoch 72/100\n",
      "200/200 [==============================] - 1s 3ms/step - loss: 0.3356 - accuracy: 0.8628 - val_loss: 0.3436 - val_accuracy: 0.8494\n",
      "Epoch 73/100\n",
      "200/200 [==============================] - 1s 3ms/step - loss: 0.3355 - accuracy: 0.8639 - val_loss: 0.3441 - val_accuracy: 0.8506\n",
      "Epoch 74/100\n",
      "200/200 [==============================] - 1s 5ms/step - loss: 0.3351 - accuracy: 0.8625 - val_loss: 0.3449 - val_accuracy: 0.8512\n",
      "Epoch 75/100\n",
      "200/200 [==============================] - 1s 3ms/step - loss: 0.3354 - accuracy: 0.8628 - val_loss: 0.3440 - val_accuracy: 0.8500\n",
      "Epoch 76/100\n",
      "200/200 [==============================] - 1s 3ms/step - loss: 0.3353 - accuracy: 0.8628 - val_loss: 0.3453 - val_accuracy: 0.8500\n",
      "Epoch 77/100\n",
      "200/200 [==============================] - 1s 3ms/step - loss: 0.3353 - accuracy: 0.8625 - val_loss: 0.3444 - val_accuracy: 0.8506\n",
      "Epoch 78/100\n",
      "200/200 [==============================] - 1s 4ms/step - loss: 0.3350 - accuracy: 0.8623 - val_loss: 0.3447 - val_accuracy: 0.8512\n",
      "Epoch 79/100\n",
      "200/200 [==============================] - 2s 9ms/step - loss: 0.3349 - accuracy: 0.8614 - val_loss: 0.3438 - val_accuracy: 0.8494\n",
      "Epoch 80/100\n",
      "200/200 [==============================] - 1s 5ms/step - loss: 0.3347 - accuracy: 0.8644 - val_loss: 0.3444 - val_accuracy: 0.8512\n",
      "Epoch 81/100\n",
      "200/200 [==============================] - 1s 6ms/step - loss: 0.3350 - accuracy: 0.8614 - val_loss: 0.3438 - val_accuracy: 0.8500\n",
      "Epoch 82/100\n",
      "200/200 [==============================] - 1s 7ms/step - loss: 0.3345 - accuracy: 0.8609 - val_loss: 0.3439 - val_accuracy: 0.8525\n",
      "Epoch 83/100\n",
      "200/200 [==============================] - 1s 6ms/step - loss: 0.3345 - accuracy: 0.8634 - val_loss: 0.3432 - val_accuracy: 0.8531\n",
      "Epoch 84/100\n",
      "200/200 [==============================] - 2s 10ms/step - loss: 0.3347 - accuracy: 0.8609 - val_loss: 0.3431 - val_accuracy: 0.8544\n",
      "Epoch 85/100\n",
      "200/200 [==============================] - 2s 8ms/step - loss: 0.3343 - accuracy: 0.8631 - val_loss: 0.3426 - val_accuracy: 0.8506\n",
      "Epoch 86/100\n",
      "200/200 [==============================] - 1s 6ms/step - loss: 0.3344 - accuracy: 0.8609 - val_loss: 0.3433 - val_accuracy: 0.8537\n",
      "Epoch 87/100\n",
      "200/200 [==============================] - 1s 6ms/step - loss: 0.3340 - accuracy: 0.8622 - val_loss: 0.3433 - val_accuracy: 0.8519\n",
      "Epoch 88/100\n",
      "200/200 [==============================] - 1s 5ms/step - loss: 0.3345 - accuracy: 0.8619 - val_loss: 0.3428 - val_accuracy: 0.8500\n",
      "Epoch 89/100\n",
      "200/200 [==============================] - 1s 5ms/step - loss: 0.3339 - accuracy: 0.8617 - val_loss: 0.3427 - val_accuracy: 0.8512\n",
      "Epoch 90/100\n",
      "200/200 [==============================] - 2s 9ms/step - loss: 0.3339 - accuracy: 0.8634 - val_loss: 0.3436 - val_accuracy: 0.8506\n",
      "Epoch 91/100\n",
      "200/200 [==============================] - 1s 5ms/step - loss: 0.3339 - accuracy: 0.8639 - val_loss: 0.3417 - val_accuracy: 0.8544\n",
      "Epoch 92/100\n",
      "200/200 [==============================] - 1s 6ms/step - loss: 0.3338 - accuracy: 0.8630 - val_loss: 0.3429 - val_accuracy: 0.8519\n",
      "Epoch 93/100\n",
      "200/200 [==============================] - 1s 5ms/step - loss: 0.3340 - accuracy: 0.8636 - val_loss: 0.3415 - val_accuracy: 0.8506\n",
      "Epoch 94/100\n",
      "200/200 [==============================] - 1s 4ms/step - loss: 0.3339 - accuracy: 0.8617 - val_loss: 0.3427 - val_accuracy: 0.8512\n",
      "Epoch 95/100\n",
      "200/200 [==============================] - 1s 5ms/step - loss: 0.3335 - accuracy: 0.8634 - val_loss: 0.3411 - val_accuracy: 0.8531\n",
      "Epoch 96/100\n",
      "200/200 [==============================] - 1s 6ms/step - loss: 0.3335 - accuracy: 0.8612 - val_loss: 0.3410 - val_accuracy: 0.8544\n",
      "Epoch 97/100\n",
      "200/200 [==============================] - 2s 8ms/step - loss: 0.3335 - accuracy: 0.8625 - val_loss: 0.3413 - val_accuracy: 0.8531\n",
      "Epoch 98/100\n",
      "200/200 [==============================] - 1s 5ms/step - loss: 0.3334 - accuracy: 0.8608 - val_loss: 0.3423 - val_accuracy: 0.8506\n",
      "Epoch 99/100\n",
      "200/200 [==============================] - 1s 5ms/step - loss: 0.3329 - accuracy: 0.8617 - val_loss: 0.3431 - val_accuracy: 0.8506\n",
      "Epoch 100/100\n",
      "200/200 [==============================] - 1s 5ms/step - loss: 0.3332 - accuracy: 0.8634 - val_loss: 0.3405 - val_accuracy: 0.8531\n"
     ]
    },
    {
     "data": {
      "text/plain": [
       "<keras.src.callbacks.History at 0x7f9890613a90>"
      ]
     },
     "execution_count": 40,
     "metadata": {},
     "output_type": "execute_result"
    }
   ],
   "source": [
    "## TO IMPROVE MODEL PERFORMANCE\n",
    "\n",
    "## 1. Increase No. of Epochs\n",
    "## 2. Increase No. of Nodes/Neuron in Hidden Layers\n",
    "## 3. Change the activation function to 'relu' in hidden layers.(for Output layer it will be sigmoid only)\n",
    "## 4. Increase the No. of Hidden layer, not too much else problem for overfitting may arrise\n",
    "\n",
    "\n",
    "model1 = Sequential()\n",
    "model.add(Dense(11, activation='relu', input_dim=11))\n",
    "model1.add(Dense(11,activation='relu'))\n",
    "model1.add(Dense(1,activation='sigmoid'))\n",
    "model1.compile(loss='binary_crossentropy', optimizer='adam', metrics=['accuracy']) # Including accuracy along \n",
    "                                                                                  # with model\n",
    "model1.fit(x_train_sc, y_train , epochs=100, validation_split=0.2)## Validation_split break the training data into \n",
    "                                                                  ## 80-20 split 20% will be use for validation."
   ]
  },
  {
   "cell_type": "code",
   "execution_count": 41,
   "metadata": {
    "id": "NEx3yFnjXkRx"
   },
   "outputs": [],
   "source": [
    "## No if we obsever the it gives us 4 paramerts, accuracy, loss, val_loss, val_accuracy. Basically these are\n",
    "## accuracy = 80% Training Accuracy\n",
    "## loss = 80% Training data loss\n",
    "## val_loss = 20% Testing data loss\n",
    "## val_accuracy = 20% Testing data loss\n",
    "\n",
    "## And clearly with each step, loss is getting reduce and accuracy is getting improve.\n",
    "## accuracy = 86.34%\n",
    "## loss = 0.3332\n",
    "## val_loss = 0.3405\n",
    "## val_accuracy = 85.31%\n",
    "\n",
    "## SO the accuracy has been improved\n"
   ]
  },
  {
   "cell_type": "code",
   "execution_count": 42,
   "metadata": {
    "colab": {
     "base_uri": "https://localhost:8080/"
    },
    "id": "ePCfYYnLXkXT",
    "outputId": "9bd4d83d-567c-4b31-8bb9-82de745b85c4"
   },
   "outputs": [
    {
     "data": {
      "text/plain": [
       "[array([[ 0.13610642, -0.06401477, -0.05389244],\n",
       "        [-0.52411   ,  1.6081438 , -2.2421746 ],\n",
       "        [ 0.009708  , -0.00775571,  0.1238089 ],\n",
       "        [-0.36873496,  0.21508609,  0.04695883],\n",
       "        [ 0.5632281 ,  0.07859167, -0.32532758],\n",
       "        [-0.1331052 , -0.10562775,  0.2660731 ],\n",
       "        [ 0.7898725 , -0.5605341 ,  0.4874406 ],\n",
       "        [ 0.14960022,  0.39364544,  0.02900246],\n",
       "        [-0.25322005,  0.79506296, -0.3853799 ],\n",
       "        [-0.20300104, -0.1854913 ,  0.19247182],\n",
       "        [ 0.576959  , -0.11714251,  0.27865234]], dtype=float32),\n",
       " array([ 0.6070026 , -0.43743372,  0.70913154], dtype=float32)]"
      ]
     },
     "execution_count": 42,
     "metadata": {},
     "output_type": "execute_result"
    }
   ],
   "source": [
    "## Check for Weights and Bias\n",
    "# Layer#1\n",
    "model.layers[0].get_weights()"
   ]
  },
  {
   "cell_type": "code",
   "execution_count": 43,
   "metadata": {
    "colab": {
     "base_uri": "https://localhost:8080/"
    },
    "id": "wlt7J14NXkZ7",
    "outputId": "2e34953f-31b2-4c01-fc8f-e5a3e11b7382"
   },
   "outputs": [
    {
     "data": {
      "text/plain": [
       "[array([[-1.5648853],\n",
       "        [ 1.0632842],\n",
       "        [-0.9651453]], dtype=float32),\n",
       " array([-0.49146247], dtype=float32)]"
      ]
     },
     "execution_count": 43,
     "metadata": {},
     "output_type": "execute_result"
    }
   ],
   "source": [
    "# Layer#2\n",
    "model.layers[1].get_weights()"
   ]
  },
  {
   "cell_type": "code",
   "execution_count": 44,
   "metadata": {
    "colab": {
     "base_uri": "https://localhost:8080/"
    },
    "id": "gbe6EaHFXkdo",
    "outputId": "98a85ef4-08ed-4a89-bdff-894c440b7b1d"
   },
   "outputs": [
    {
     "name": "stdout",
     "output_type": "stream",
     "text": [
      "63/63 [==============================] - 0s 2ms/step\n"
     ]
    }
   ],
   "source": [
    "## Lets do prediction\n",
    "y1_log = model1.predict(x_test_sc)"
   ]
  },
  {
   "cell_type": "code",
   "execution_count": 45,
   "metadata": {
    "colab": {
     "base_uri": "https://localhost:8080/"
    },
    "id": "GAAjf5x1Xkfe",
    "outputId": "c38a7094-01e1-4808-dfe7-cfd69a5f1140"
   },
   "outputs": [
    {
     "data": {
      "text/plain": [
       "0.8655"
      ]
     },
     "execution_count": 45,
     "metadata": {},
     "output_type": "execute_result"
    }
   ],
   "source": [
    "y1_pred = np.where(y1_log>0.5,1,0)\n",
    "accuracy_score(y_test, y1_pred)"
   ]
  },
  {
   "cell_type": "code",
   "execution_count": null,
   "metadata": {
    "id": "GVUdyBY_XkiA"
   },
   "outputs": [],
   "source": [
    "## Clearly the accuracy has been improved by making changes in the DNN Model Achitecture.\n",
    "## From 81.85 to 86.55"
   ]
  },
  {
   "cell_type": "code",
   "execution_count": 46,
   "metadata": {
    "colab": {
     "base_uri": "https://localhost:8080/"
    },
    "id": "ENVz5oyVXkmc",
    "outputId": "c281cc1c-41d1-475e-e504-71377ec9a48a"
   },
   "outputs": [
    {
     "name": "stdout",
     "output_type": "stream",
     "text": [
      "Epoch 1/100\n",
      "200/200 [==============================] - 0s 2ms/step - loss: 0.3330 - accuracy: 0.8623 - val_loss: 0.3413 - val_accuracy: 0.8500\n",
      "Epoch 2/100\n",
      "200/200 [==============================] - 0s 2ms/step - loss: 0.3330 - accuracy: 0.8623 - val_loss: 0.3411 - val_accuracy: 0.8506\n",
      "Epoch 3/100\n",
      "200/200 [==============================] - 0s 2ms/step - loss: 0.3331 - accuracy: 0.8620 - val_loss: 0.3415 - val_accuracy: 0.8494\n",
      "Epoch 4/100\n",
      "200/200 [==============================] - 0s 2ms/step - loss: 0.3330 - accuracy: 0.8620 - val_loss: 0.3403 - val_accuracy: 0.8506\n",
      "Epoch 5/100\n",
      "200/200 [==============================] - 0s 2ms/step - loss: 0.3328 - accuracy: 0.8619 - val_loss: 0.3409 - val_accuracy: 0.8506\n",
      "Epoch 6/100\n",
      "200/200 [==============================] - 0s 2ms/step - loss: 0.3328 - accuracy: 0.8628 - val_loss: 0.3405 - val_accuracy: 0.8525\n",
      "Epoch 7/100\n",
      "200/200 [==============================] - 0s 2ms/step - loss: 0.3325 - accuracy: 0.8630 - val_loss: 0.3414 - val_accuracy: 0.8481\n",
      "Epoch 8/100\n",
      "200/200 [==============================] - 1s 3ms/step - loss: 0.3326 - accuracy: 0.8627 - val_loss: 0.3403 - val_accuracy: 0.8537\n",
      "Epoch 9/100\n",
      "200/200 [==============================] - 0s 2ms/step - loss: 0.3329 - accuracy: 0.8620 - val_loss: 0.3405 - val_accuracy: 0.8525\n",
      "Epoch 10/100\n",
      "200/200 [==============================] - 1s 4ms/step - loss: 0.3325 - accuracy: 0.8612 - val_loss: 0.3403 - val_accuracy: 0.8519\n",
      "Epoch 11/100\n",
      "200/200 [==============================] - 1s 3ms/step - loss: 0.3324 - accuracy: 0.8612 - val_loss: 0.3414 - val_accuracy: 0.8475\n",
      "Epoch 12/100\n",
      "200/200 [==============================] - 0s 2ms/step - loss: 0.3326 - accuracy: 0.8627 - val_loss: 0.3394 - val_accuracy: 0.8544\n",
      "Epoch 13/100\n",
      "200/200 [==============================] - 1s 4ms/step - loss: 0.3322 - accuracy: 0.8631 - val_loss: 0.3407 - val_accuracy: 0.8544\n",
      "Epoch 14/100\n",
      "200/200 [==============================] - 1s 3ms/step - loss: 0.3324 - accuracy: 0.8630 - val_loss: 0.3411 - val_accuracy: 0.8512\n",
      "Epoch 15/100\n",
      "200/200 [==============================] - 0s 2ms/step - loss: 0.3321 - accuracy: 0.8630 - val_loss: 0.3400 - val_accuracy: 0.8562\n",
      "Epoch 16/100\n",
      "200/200 [==============================] - 0s 2ms/step - loss: 0.3320 - accuracy: 0.8625 - val_loss: 0.3415 - val_accuracy: 0.8481\n",
      "Epoch 17/100\n",
      "200/200 [==============================] - 1s 5ms/step - loss: 0.3323 - accuracy: 0.8620 - val_loss: 0.3399 - val_accuracy: 0.8537\n",
      "Epoch 18/100\n",
      "200/200 [==============================] - 1s 3ms/step - loss: 0.3319 - accuracy: 0.8608 - val_loss: 0.3410 - val_accuracy: 0.8487\n",
      "Epoch 19/100\n",
      "200/200 [==============================] - 0s 2ms/step - loss: 0.3321 - accuracy: 0.8608 - val_loss: 0.3405 - val_accuracy: 0.8512\n",
      "Epoch 20/100\n",
      "200/200 [==============================] - 0s 2ms/step - loss: 0.3320 - accuracy: 0.8623 - val_loss: 0.3400 - val_accuracy: 0.8556\n",
      "Epoch 21/100\n",
      "200/200 [==============================] - 1s 3ms/step - loss: 0.3321 - accuracy: 0.8622 - val_loss: 0.3395 - val_accuracy: 0.8506\n",
      "Epoch 22/100\n",
      "200/200 [==============================] - 1s 4ms/step - loss: 0.3318 - accuracy: 0.8612 - val_loss: 0.3402 - val_accuracy: 0.8544\n",
      "Epoch 23/100\n",
      "200/200 [==============================] - 1s 5ms/step - loss: 0.3319 - accuracy: 0.8622 - val_loss: 0.3403 - val_accuracy: 0.8500\n",
      "Epoch 24/100\n",
      "200/200 [==============================] - 1s 4ms/step - loss: 0.3317 - accuracy: 0.8633 - val_loss: 0.3397 - val_accuracy: 0.8519\n",
      "Epoch 25/100\n",
      "200/200 [==============================] - 0s 2ms/step - loss: 0.3317 - accuracy: 0.8625 - val_loss: 0.3397 - val_accuracy: 0.8531\n",
      "Epoch 26/100\n",
      "200/200 [==============================] - 1s 2ms/step - loss: 0.3315 - accuracy: 0.8628 - val_loss: 0.3405 - val_accuracy: 0.8506\n",
      "Epoch 27/100\n",
      "200/200 [==============================] - 0s 2ms/step - loss: 0.3317 - accuracy: 0.8623 - val_loss: 0.3412 - val_accuracy: 0.8494\n",
      "Epoch 28/100\n",
      "200/200 [==============================] - 1s 3ms/step - loss: 0.3315 - accuracy: 0.8625 - val_loss: 0.3408 - val_accuracy: 0.8487\n",
      "Epoch 29/100\n",
      "200/200 [==============================] - 1s 7ms/step - loss: 0.3313 - accuracy: 0.8647 - val_loss: 0.3392 - val_accuracy: 0.8587\n",
      "Epoch 30/100\n",
      "200/200 [==============================] - 1s 4ms/step - loss: 0.3315 - accuracy: 0.8631 - val_loss: 0.3399 - val_accuracy: 0.8494\n",
      "Epoch 31/100\n",
      "200/200 [==============================] - 1s 3ms/step - loss: 0.3313 - accuracy: 0.8619 - val_loss: 0.3409 - val_accuracy: 0.8506\n",
      "Epoch 32/100\n",
      "200/200 [==============================] - 0s 2ms/step - loss: 0.3312 - accuracy: 0.8628 - val_loss: 0.3399 - val_accuracy: 0.8487\n",
      "Epoch 33/100\n",
      "200/200 [==============================] - 1s 3ms/step - loss: 0.3316 - accuracy: 0.8623 - val_loss: 0.3391 - val_accuracy: 0.8525\n",
      "Epoch 34/100\n",
      "200/200 [==============================] - 0s 2ms/step - loss: 0.3314 - accuracy: 0.8637 - val_loss: 0.3391 - val_accuracy: 0.8531\n",
      "Epoch 35/100\n",
      "200/200 [==============================] - 1s 3ms/step - loss: 0.3311 - accuracy: 0.8620 - val_loss: 0.3393 - val_accuracy: 0.8550\n",
      "Epoch 36/100\n",
      "200/200 [==============================] - 1s 3ms/step - loss: 0.3312 - accuracy: 0.8633 - val_loss: 0.3397 - val_accuracy: 0.8537\n",
      "Epoch 37/100\n",
      "200/200 [==============================] - 1s 3ms/step - loss: 0.3311 - accuracy: 0.8623 - val_loss: 0.3389 - val_accuracy: 0.8544\n",
      "Epoch 38/100\n",
      "200/200 [==============================] - 1s 4ms/step - loss: 0.3309 - accuracy: 0.8630 - val_loss: 0.3395 - val_accuracy: 0.8506\n",
      "Epoch 39/100\n",
      "200/200 [==============================] - 1s 7ms/step - loss: 0.3313 - accuracy: 0.8641 - val_loss: 0.3388 - val_accuracy: 0.8537\n",
      "Epoch 40/100\n",
      "200/200 [==============================] - 1s 6ms/step - loss: 0.3310 - accuracy: 0.8628 - val_loss: 0.3395 - val_accuracy: 0.8506\n",
      "Epoch 41/100\n",
      "200/200 [==============================] - 1s 7ms/step - loss: 0.3308 - accuracy: 0.8637 - val_loss: 0.3400 - val_accuracy: 0.8481\n",
      "Epoch 42/100\n",
      "200/200 [==============================] - 1s 4ms/step - loss: 0.3309 - accuracy: 0.8648 - val_loss: 0.3395 - val_accuracy: 0.8550\n",
      "Epoch 43/100\n",
      "200/200 [==============================] - 1s 3ms/step - loss: 0.3310 - accuracy: 0.8639 - val_loss: 0.3398 - val_accuracy: 0.8519\n",
      "Epoch 44/100\n",
      "200/200 [==============================] - 1s 4ms/step - loss: 0.3307 - accuracy: 0.8625 - val_loss: 0.3394 - val_accuracy: 0.8562\n",
      "Epoch 45/100\n",
      "200/200 [==============================] - 1s 5ms/step - loss: 0.3306 - accuracy: 0.8656 - val_loss: 0.3399 - val_accuracy: 0.8519\n",
      "Epoch 46/100\n",
      "200/200 [==============================] - 1s 4ms/step - loss: 0.3305 - accuracy: 0.8627 - val_loss: 0.3403 - val_accuracy: 0.8494\n",
      "Epoch 47/100\n",
      "200/200 [==============================] - 1s 5ms/step - loss: 0.3304 - accuracy: 0.8644 - val_loss: 0.3398 - val_accuracy: 0.8531\n",
      "Epoch 48/100\n",
      "200/200 [==============================] - 1s 5ms/step - loss: 0.3305 - accuracy: 0.8641 - val_loss: 0.3394 - val_accuracy: 0.8519\n",
      "Epoch 49/100\n",
      "200/200 [==============================] - 1s 3ms/step - loss: 0.3305 - accuracy: 0.8647 - val_loss: 0.3400 - val_accuracy: 0.8512\n",
      "Epoch 50/100\n",
      "200/200 [==============================] - 1s 3ms/step - loss: 0.3305 - accuracy: 0.8637 - val_loss: 0.3394 - val_accuracy: 0.8537\n",
      "Epoch 51/100\n",
      "200/200 [==============================] - 1s 4ms/step - loss: 0.3303 - accuracy: 0.8637 - val_loss: 0.3398 - val_accuracy: 0.8537\n",
      "Epoch 52/100\n",
      "200/200 [==============================] - 1s 3ms/step - loss: 0.3303 - accuracy: 0.8644 - val_loss: 0.3395 - val_accuracy: 0.8569\n",
      "Epoch 53/100\n",
      "200/200 [==============================] - 1s 3ms/step - loss: 0.3305 - accuracy: 0.8648 - val_loss: 0.3393 - val_accuracy: 0.8537\n",
      "Epoch 54/100\n",
      "200/200 [==============================] - 1s 4ms/step - loss: 0.3300 - accuracy: 0.8648 - val_loss: 0.3398 - val_accuracy: 0.8512\n",
      "Epoch 55/100\n",
      "200/200 [==============================] - 1s 6ms/step - loss: 0.3304 - accuracy: 0.8633 - val_loss: 0.3399 - val_accuracy: 0.8525\n",
      "Epoch 56/100\n",
      "200/200 [==============================] - 1s 5ms/step - loss: 0.3298 - accuracy: 0.8641 - val_loss: 0.3391 - val_accuracy: 0.8550\n",
      "Epoch 57/100\n",
      "200/200 [==============================] - 1s 4ms/step - loss: 0.3300 - accuracy: 0.8667 - val_loss: 0.3400 - val_accuracy: 0.8519\n"
     ]
    },
    {
     "name": "stdout",
     "output_type": "stream",
     "text": [
      "Epoch 58/100\n",
      "200/200 [==============================] - 1s 3ms/step - loss: 0.3302 - accuracy: 0.8641 - val_loss: 0.3391 - val_accuracy: 0.8537\n",
      "Epoch 59/100\n",
      "200/200 [==============================] - 1s 5ms/step - loss: 0.3300 - accuracy: 0.8628 - val_loss: 0.3390 - val_accuracy: 0.8562\n",
      "Epoch 60/100\n",
      "200/200 [==============================] - 1s 5ms/step - loss: 0.3297 - accuracy: 0.8642 - val_loss: 0.3391 - val_accuracy: 0.8550\n",
      "Epoch 61/100\n",
      "200/200 [==============================] - 1s 3ms/step - loss: 0.3299 - accuracy: 0.8627 - val_loss: 0.3401 - val_accuracy: 0.8544\n",
      "Epoch 62/100\n",
      "200/200 [==============================] - 1s 3ms/step - loss: 0.3299 - accuracy: 0.8652 - val_loss: 0.3401 - val_accuracy: 0.8550\n",
      "Epoch 63/100\n",
      "200/200 [==============================] - 1s 3ms/step - loss: 0.3299 - accuracy: 0.8634 - val_loss: 0.3399 - val_accuracy: 0.8531\n",
      "Epoch 64/100\n",
      "200/200 [==============================] - 1s 3ms/step - loss: 0.3298 - accuracy: 0.8639 - val_loss: 0.3402 - val_accuracy: 0.8537\n",
      "Epoch 65/100\n",
      "200/200 [==============================] - 1s 4ms/step - loss: 0.3297 - accuracy: 0.8650 - val_loss: 0.3406 - val_accuracy: 0.8531\n",
      "Epoch 66/100\n",
      "200/200 [==============================] - 1s 7ms/step - loss: 0.3298 - accuracy: 0.8642 - val_loss: 0.3400 - val_accuracy: 0.8537\n",
      "Epoch 67/100\n",
      "200/200 [==============================] - 1s 4ms/step - loss: 0.3297 - accuracy: 0.8639 - val_loss: 0.3397 - val_accuracy: 0.8544\n",
      "Epoch 68/100\n",
      "200/200 [==============================] - 1s 5ms/step - loss: 0.3296 - accuracy: 0.8639 - val_loss: 0.3395 - val_accuracy: 0.8525\n",
      "Epoch 69/100\n",
      "200/200 [==============================] - 1s 3ms/step - loss: 0.3298 - accuracy: 0.8645 - val_loss: 0.3403 - val_accuracy: 0.8525\n",
      "Epoch 70/100\n",
      "200/200 [==============================] - 1s 3ms/step - loss: 0.3293 - accuracy: 0.8647 - val_loss: 0.3403 - val_accuracy: 0.8512\n",
      "Epoch 71/100\n",
      "200/200 [==============================] - 1s 3ms/step - loss: 0.3294 - accuracy: 0.8630 - val_loss: 0.3400 - val_accuracy: 0.8519\n",
      "Epoch 72/100\n",
      "200/200 [==============================] - 1s 3ms/step - loss: 0.3294 - accuracy: 0.8642 - val_loss: 0.3400 - val_accuracy: 0.8550\n",
      "Epoch 73/100\n",
      "200/200 [==============================] - 1s 3ms/step - loss: 0.3293 - accuracy: 0.8645 - val_loss: 0.3403 - val_accuracy: 0.8556\n",
      "Epoch 74/100\n",
      "200/200 [==============================] - 1s 5ms/step - loss: 0.3294 - accuracy: 0.8637 - val_loss: 0.3401 - val_accuracy: 0.8550\n",
      "Epoch 75/100\n",
      "200/200 [==============================] - 1s 3ms/step - loss: 0.3292 - accuracy: 0.8658 - val_loss: 0.3403 - val_accuracy: 0.8556\n",
      "Epoch 76/100\n",
      "200/200 [==============================] - 1s 7ms/step - loss: 0.3291 - accuracy: 0.8642 - val_loss: 0.3419 - val_accuracy: 0.8519\n",
      "Epoch 77/100\n",
      "200/200 [==============================] - 2s 10ms/step - loss: 0.3291 - accuracy: 0.8641 - val_loss: 0.3396 - val_accuracy: 0.8562\n",
      "Epoch 78/100\n",
      "200/200 [==============================] - 2s 8ms/step - loss: 0.3295 - accuracy: 0.8641 - val_loss: 0.3400 - val_accuracy: 0.8531\n",
      "Epoch 79/100\n",
      "200/200 [==============================] - 1s 5ms/step - loss: 0.3292 - accuracy: 0.8633 - val_loss: 0.3417 - val_accuracy: 0.8512\n",
      "Epoch 80/100\n",
      "200/200 [==============================] - 1s 3ms/step - loss: 0.3293 - accuracy: 0.8647 - val_loss: 0.3406 - val_accuracy: 0.8537\n",
      "Epoch 81/100\n",
      "200/200 [==============================] - 1s 7ms/step - loss: 0.3292 - accuracy: 0.8652 - val_loss: 0.3407 - val_accuracy: 0.8537\n",
      "Epoch 82/100\n",
      "200/200 [==============================] - 2s 8ms/step - loss: 0.3291 - accuracy: 0.8628 - val_loss: 0.3408 - val_accuracy: 0.8519\n",
      "Epoch 83/100\n",
      "200/200 [==============================] - 2s 8ms/step - loss: 0.3290 - accuracy: 0.8650 - val_loss: 0.3409 - val_accuracy: 0.8556\n",
      "Epoch 84/100\n",
      "200/200 [==============================] - 1s 6ms/step - loss: 0.3289 - accuracy: 0.8659 - val_loss: 0.3414 - val_accuracy: 0.8512\n",
      "Epoch 85/100\n",
      "200/200 [==============================] - 1s 4ms/step - loss: 0.3295 - accuracy: 0.8642 - val_loss: 0.3404 - val_accuracy: 0.8531\n",
      "Epoch 86/100\n",
      "200/200 [==============================] - 1s 5ms/step - loss: 0.3289 - accuracy: 0.8664 - val_loss: 0.3409 - val_accuracy: 0.8512\n",
      "Epoch 87/100\n",
      "200/200 [==============================] - 1s 6ms/step - loss: 0.3290 - accuracy: 0.8637 - val_loss: 0.3411 - val_accuracy: 0.8519\n",
      "Epoch 88/100\n",
      "200/200 [==============================] - 1s 5ms/step - loss: 0.3290 - accuracy: 0.8636 - val_loss: 0.3416 - val_accuracy: 0.8487\n",
      "Epoch 89/100\n",
      "200/200 [==============================] - 1s 5ms/step - loss: 0.3289 - accuracy: 0.8644 - val_loss: 0.3410 - val_accuracy: 0.8506\n",
      "Epoch 90/100\n",
      "200/200 [==============================] - 1s 7ms/step - loss: 0.3288 - accuracy: 0.8653 - val_loss: 0.3397 - val_accuracy: 0.8569\n",
      "Epoch 91/100\n",
      "200/200 [==============================] - 2s 8ms/step - loss: 0.3291 - accuracy: 0.8645 - val_loss: 0.3403 - val_accuracy: 0.8531\n",
      "Epoch 92/100\n",
      "200/200 [==============================] - 1s 7ms/step - loss: 0.3288 - accuracy: 0.8650 - val_loss: 0.3408 - val_accuracy: 0.8519\n",
      "Epoch 93/100\n",
      "200/200 [==============================] - 1s 6ms/step - loss: 0.3291 - accuracy: 0.8631 - val_loss: 0.3398 - val_accuracy: 0.8550\n",
      "Epoch 94/100\n",
      "200/200 [==============================] - 1s 7ms/step - loss: 0.3288 - accuracy: 0.8639 - val_loss: 0.3397 - val_accuracy: 0.8569\n",
      "Epoch 95/100\n",
      "200/200 [==============================] - 1s 4ms/step - loss: 0.3288 - accuracy: 0.8639 - val_loss: 0.3402 - val_accuracy: 0.8537\n",
      "Epoch 96/100\n",
      "200/200 [==============================] - 1s 3ms/step - loss: 0.3289 - accuracy: 0.8648 - val_loss: 0.3412 - val_accuracy: 0.8525\n",
      "Epoch 97/100\n",
      "200/200 [==============================] - 1s 3ms/step - loss: 0.3288 - accuracy: 0.8639 - val_loss: 0.3401 - val_accuracy: 0.8544\n",
      "Epoch 98/100\n",
      "200/200 [==============================] - 1s 3ms/step - loss: 0.3289 - accuracy: 0.8641 - val_loss: 0.3407 - val_accuracy: 0.8556\n",
      "Epoch 99/100\n",
      "200/200 [==============================] - 1s 3ms/step - loss: 0.3290 - accuracy: 0.8652 - val_loss: 0.3403 - val_accuracy: 0.8531\n",
      "Epoch 100/100\n",
      "200/200 [==============================] - 1s 3ms/step - loss: 0.3288 - accuracy: 0.8659 - val_loss: 0.3408 - val_accuracy: 0.8569\n"
     ]
    }
   ],
   "source": [
    "## Visualisation of Model\n",
    "\n",
    "## Visualization of the model involves comparing the training and validation accuracy and loss\n",
    "## For this we will assign the  model.compile to a variable which will basically store all the info into the form of dictionary\n",
    "## i.e Key-value pair\n",
    "## Lets see how\n",
    "\n",
    "history = model1.fit(x_train_sc, y_train , epochs=100, validation_split=0.2)"
   ]
  },
  {
   "cell_type": "code",
   "execution_count": 47,
   "metadata": {
    "colab": {
     "base_uri": "https://localhost:8080/"
    },
    "id": "nEvERpETXkog",
    "outputId": "e8066dd4-d23e-4469-a930-b3c0d2af0fe6"
   },
   "outputs": [
    {
     "data": {
      "text/plain": [
       "<keras.src.callbacks.History at 0x7f9890ffbe80>"
      ]
     },
     "execution_count": 47,
     "metadata": {},
     "output_type": "execute_result"
    }
   ],
   "source": [
    "## Lets see what is History\n",
    "\n",
    "history"
   ]
  },
  {
   "cell_type": "code",
   "execution_count": 48,
   "metadata": {
    "colab": {
     "base_uri": "https://localhost:8080/"
    },
    "id": "pHqIImtiXkqv",
    "outputId": "77567bc6-2a47-4728-e38a-45b4176fd7ce"
   },
   "outputs": [
    {
     "data": {
      "text/plain": [
       "{'loss': [0.3329787850379944,\n",
       "  0.3329508900642395,\n",
       "  0.3330622911453247,\n",
       "  0.3330332040786743,\n",
       "  0.33278191089630127,\n",
       "  0.3327864408493042,\n",
       "  0.3324500024318695,\n",
       "  0.33263054490089417,\n",
       "  0.33285629749298096,\n",
       "  0.33248215913772583,\n",
       "  0.3323955833911896,\n",
       "  0.3326088786125183,\n",
       "  0.33221542835235596,\n",
       "  0.33238011598587036,\n",
       "  0.33213579654693604,\n",
       "  0.332026869058609,\n",
       "  0.33230602741241455,\n",
       "  0.33189156651496887,\n",
       "  0.33214327692985535,\n",
       "  0.33196431398391724,\n",
       "  0.33209019899368286,\n",
       "  0.331760436296463,\n",
       "  0.3319156765937805,\n",
       "  0.3316640853881836,\n",
       "  0.33172398805618286,\n",
       "  0.3314998745918274,\n",
       "  0.3316916525363922,\n",
       "  0.33153244853019714,\n",
       "  0.33134472370147705,\n",
       "  0.33148932456970215,\n",
       "  0.3313082158565521,\n",
       "  0.3311801254749298,\n",
       "  0.33159294724464417,\n",
       "  0.3314405381679535,\n",
       "  0.33105921745300293,\n",
       "  0.3312413692474365,\n",
       "  0.3311375677585602,\n",
       "  0.3308786153793335,\n",
       "  0.3313058912754059,\n",
       "  0.3309955596923828,\n",
       "  0.3307569921016693,\n",
       "  0.33093562722206116,\n",
       "  0.33097904920578003,\n",
       "  0.33073630928993225,\n",
       "  0.3306315541267395,\n",
       "  0.33048954606056213,\n",
       "  0.33036133646965027,\n",
       "  0.33052366971969604,\n",
       "  0.3304559588432312,\n",
       "  0.3304763436317444,\n",
       "  0.33032482862472534,\n",
       "  0.33026501536369324,\n",
       "  0.33054280281066895,\n",
       "  0.33002230525016785,\n",
       "  0.3303665816783905,\n",
       "  0.3298400044441223,\n",
       "  0.3300037682056427,\n",
       "  0.3301967978477478,\n",
       "  0.32995522022247314,\n",
       "  0.3296564221382141,\n",
       "  0.32985466718673706,\n",
       "  0.32991915941238403,\n",
       "  0.3298501968383789,\n",
       "  0.32976990938186646,\n",
       "  0.3296748101711273,\n",
       "  0.32981768250465393,\n",
       "  0.32973968982696533,\n",
       "  0.32957494258880615,\n",
       "  0.32980987429618835,\n",
       "  0.32930588722229004,\n",
       "  0.3294462263584137,\n",
       "  0.32941100001335144,\n",
       "  0.3293059170246124,\n",
       "  0.32940879464149475,\n",
       "  0.329234778881073,\n",
       "  0.3290535807609558,\n",
       "  0.3291074335575104,\n",
       "  0.3295183479785919,\n",
       "  0.32922467589378357,\n",
       "  0.32934966683387756,\n",
       "  0.32916396856307983,\n",
       "  0.3291364014148712,\n",
       "  0.32903724908828735,\n",
       "  0.32885316014289856,\n",
       "  0.3294755220413208,\n",
       "  0.32894885540008545,\n",
       "  0.3289637267589569,\n",
       "  0.32904252409935,\n",
       "  0.32893744111061096,\n",
       "  0.32879751920700073,\n",
       "  0.32913661003112793,\n",
       "  0.3288358449935913,\n",
       "  0.3290616571903229,\n",
       "  0.32878661155700684,\n",
       "  0.32875755429267883,\n",
       "  0.32890909910202026,\n",
       "  0.32884538173675537,\n",
       "  0.3288511633872986,\n",
       "  0.32896652817726135,\n",
       "  0.3288247287273407],\n",
       " 'accuracy': [0.8623437285423279,\n",
       "  0.8623437285423279,\n",
       "  0.8620312213897705,\n",
       "  0.8620312213897705,\n",
       "  0.8618749976158142,\n",
       "  0.8628125190734863,\n",
       "  0.8629687428474426,\n",
       "  0.8626562356948853,\n",
       "  0.8620312213897705,\n",
       "  0.8612499833106995,\n",
       "  0.8612499833106995,\n",
       "  0.8626562356948853,\n",
       "  0.8631250262260437,\n",
       "  0.8629687428474426,\n",
       "  0.8629687428474426,\n",
       "  0.862500011920929,\n",
       "  0.8620312213897705,\n",
       "  0.8607812523841858,\n",
       "  0.8607812523841858,\n",
       "  0.8623437285423279,\n",
       "  0.8621875047683716,\n",
       "  0.8612499833106995,\n",
       "  0.8621875047683716,\n",
       "  0.86328125,\n",
       "  0.862500011920929,\n",
       "  0.8628125190734863,\n",
       "  0.8623437285423279,\n",
       "  0.862500011920929,\n",
       "  0.8646875023841858,\n",
       "  0.8631250262260437,\n",
       "  0.8618749976158142,\n",
       "  0.8628125190734863,\n",
       "  0.8623437285423279,\n",
       "  0.8637499809265137,\n",
       "  0.8620312213897705,\n",
       "  0.86328125,\n",
       "  0.8623437285423279,\n",
       "  0.8629687428474426,\n",
       "  0.864062488079071,\n",
       "  0.8628125190734863,\n",
       "  0.8637499809265137,\n",
       "  0.8648437261581421,\n",
       "  0.8639062643051147,\n",
       "  0.862500011920929,\n",
       "  0.8656250238418579,\n",
       "  0.8626562356948853,\n",
       "  0.8643749952316284,\n",
       "  0.864062488079071,\n",
       "  0.8646875023841858,\n",
       "  0.8637499809265137,\n",
       "  0.8637499809265137,\n",
       "  0.8643749952316284,\n",
       "  0.8648437261581421,\n",
       "  0.8648437261581421,\n",
       "  0.86328125,\n",
       "  0.864062488079071,\n",
       "  0.8667187690734863,\n",
       "  0.864062488079071,\n",
       "  0.8628125190734863,\n",
       "  0.8642187714576721,\n",
       "  0.8626562356948853,\n",
       "  0.8651562333106995,\n",
       "  0.8634374737739563,\n",
       "  0.8639062643051147,\n",
       "  0.8650000095367432,\n",
       "  0.8642187714576721,\n",
       "  0.8639062643051147,\n",
       "  0.8639062643051147,\n",
       "  0.8645312786102295,\n",
       "  0.8646875023841858,\n",
       "  0.8629687428474426,\n",
       "  0.8642187714576721,\n",
       "  0.8645312786102295,\n",
       "  0.8637499809265137,\n",
       "  0.8657812476158142,\n",
       "  0.8642187714576721,\n",
       "  0.864062488079071,\n",
       "  0.864062488079071,\n",
       "  0.86328125,\n",
       "  0.8646875023841858,\n",
       "  0.8651562333106995,\n",
       "  0.8628125190734863,\n",
       "  0.8650000095367432,\n",
       "  0.8659374713897705,\n",
       "  0.8642187714576721,\n",
       "  0.866406261920929,\n",
       "  0.8637499809265137,\n",
       "  0.8635937571525574,\n",
       "  0.8643749952316284,\n",
       "  0.8653125166893005,\n",
       "  0.8645312786102295,\n",
       "  0.8650000095367432,\n",
       "  0.8631250262260437,\n",
       "  0.8639062643051147,\n",
       "  0.8639062643051147,\n",
       "  0.8648437261581421,\n",
       "  0.8639062643051147,\n",
       "  0.864062488079071,\n",
       "  0.8651562333106995,\n",
       "  0.8659374713897705],\n",
       " 'val_loss': [0.3413078188896179,\n",
       "  0.3411298394203186,\n",
       "  0.3414950668811798,\n",
       "  0.34032687544822693,\n",
       "  0.34089982509613037,\n",
       "  0.3405388295650482,\n",
       "  0.3413955271244049,\n",
       "  0.34030407667160034,\n",
       "  0.34053242206573486,\n",
       "  0.34027913212776184,\n",
       "  0.3414117097854614,\n",
       "  0.33942893147468567,\n",
       "  0.34074366092681885,\n",
       "  0.341124951839447,\n",
       "  0.34002789855003357,\n",
       "  0.3414614796638489,\n",
       "  0.33993175625801086,\n",
       "  0.34101855754852295,\n",
       "  0.3405304253101349,\n",
       "  0.339971125125885,\n",
       "  0.33949199318885803,\n",
       "  0.3402012586593628,\n",
       "  0.34031376242637634,\n",
       "  0.3396998345851898,\n",
       "  0.33966606855392456,\n",
       "  0.3405294418334961,\n",
       "  0.3411874771118164,\n",
       "  0.3408331573009491,\n",
       "  0.33923107385635376,\n",
       "  0.33993861079216003,\n",
       "  0.34088051319122314,\n",
       "  0.33985018730163574,\n",
       "  0.33905401825904846,\n",
       "  0.33907124400138855,\n",
       "  0.3393245041370392,\n",
       "  0.33968570828437805,\n",
       "  0.33887845277786255,\n",
       "  0.3395366370677948,\n",
       "  0.3387906551361084,\n",
       "  0.33945950865745544,\n",
       "  0.3399670124053955,\n",
       "  0.3395206034183502,\n",
       "  0.33983561396598816,\n",
       "  0.33936798572540283,\n",
       "  0.3398575484752655,\n",
       "  0.34029465913772583,\n",
       "  0.3398195505142212,\n",
       "  0.3393622934818268,\n",
       "  0.33998557925224304,\n",
       "  0.33939120173454285,\n",
       "  0.339832603931427,\n",
       "  0.3395228683948517,\n",
       "  0.33932480216026306,\n",
       "  0.3398185670375824,\n",
       "  0.33988693356513977,\n",
       "  0.33909690380096436,\n",
       "  0.34003540873527527,\n",
       "  0.3391423523426056,\n",
       "  0.33903202414512634,\n",
       "  0.33912423253059387,\n",
       "  0.34013670682907104,\n",
       "  0.340076208114624,\n",
       "  0.3399156630039215,\n",
       "  0.3402164578437805,\n",
       "  0.34060612320899963,\n",
       "  0.33999598026275635,\n",
       "  0.33970460295677185,\n",
       "  0.33949699997901917,\n",
       "  0.3403046429157257,\n",
       "  0.34029045701026917,\n",
       "  0.34003159403800964,\n",
       "  0.3399922251701355,\n",
       "  0.3403305113315582,\n",
       "  0.34008607268333435,\n",
       "  0.34027838706970215,\n",
       "  0.34186047315597534,\n",
       "  0.33963462710380554,\n",
       "  0.3400380313396454,\n",
       "  0.3416808843612671,\n",
       "  0.3405718207359314,\n",
       "  0.34074556827545166,\n",
       "  0.3407803773880005,\n",
       "  0.3408583104610443,\n",
       "  0.3414198160171509,\n",
       "  0.3404405117034912,\n",
       "  0.34090474247932434,\n",
       "  0.3410802483558655,\n",
       "  0.3415828049182892,\n",
       "  0.3410375118255615,\n",
       "  0.3397091329097748,\n",
       "  0.34027206897735596,\n",
       "  0.3408167362213135,\n",
       "  0.3398353159427643,\n",
       "  0.33965954184532166,\n",
       "  0.34023845195770264,\n",
       "  0.3411671817302704,\n",
       "  0.34011080861091614,\n",
       "  0.3406723737716675,\n",
       "  0.3403414189815521,\n",
       "  0.340798556804657],\n",
       " 'val_accuracy': [0.8500000238418579,\n",
       "  0.8506249785423279,\n",
       "  0.8493750095367432,\n",
       "  0.8506249785423279,\n",
       "  0.8506249785423279,\n",
       "  0.8525000214576721,\n",
       "  0.8481249809265137,\n",
       "  0.8537499904632568,\n",
       "  0.8525000214576721,\n",
       "  0.8518750071525574,\n",
       "  0.8475000262260437,\n",
       "  0.8543750047683716,\n",
       "  0.8543750047683716,\n",
       "  0.8512499928474426,\n",
       "  0.856249988079071,\n",
       "  0.8481249809265137,\n",
       "  0.8537499904632568,\n",
       "  0.8487499952316284,\n",
       "  0.8512499928474426,\n",
       "  0.8556249737739563,\n",
       "  0.8506249785423279,\n",
       "  0.8543750047683716,\n",
       "  0.8500000238418579,\n",
       "  0.8518750071525574,\n",
       "  0.8531249761581421,\n",
       "  0.8506249785423279,\n",
       "  0.8493750095367432,\n",
       "  0.8487499952316284,\n",
       "  0.8587499856948853,\n",
       "  0.8493750095367432,\n",
       "  0.8506249785423279,\n",
       "  0.8487499952316284,\n",
       "  0.8525000214576721,\n",
       "  0.8531249761581421,\n",
       "  0.8550000190734863,\n",
       "  0.8537499904632568,\n",
       "  0.8543750047683716,\n",
       "  0.8506249785423279,\n",
       "  0.8537499904632568,\n",
       "  0.8506249785423279,\n",
       "  0.8481249809265137,\n",
       "  0.8550000190734863,\n",
       "  0.8518750071525574,\n",
       "  0.856249988079071,\n",
       "  0.8518750071525574,\n",
       "  0.8493750095367432,\n",
       "  0.8531249761581421,\n",
       "  0.8518750071525574,\n",
       "  0.8512499928474426,\n",
       "  0.8537499904632568,\n",
       "  0.8537499904632568,\n",
       "  0.8568750023841858,\n",
       "  0.8537499904632568,\n",
       "  0.8512499928474426,\n",
       "  0.8525000214576721,\n",
       "  0.8550000190734863,\n",
       "  0.8518750071525574,\n",
       "  0.8537499904632568,\n",
       "  0.856249988079071,\n",
       "  0.8550000190734863,\n",
       "  0.8543750047683716,\n",
       "  0.8550000190734863,\n",
       "  0.8531249761581421,\n",
       "  0.8537499904632568,\n",
       "  0.8531249761581421,\n",
       "  0.8537499904632568,\n",
       "  0.8543750047683716,\n",
       "  0.8525000214576721,\n",
       "  0.8525000214576721,\n",
       "  0.8512499928474426,\n",
       "  0.8518750071525574,\n",
       "  0.8550000190734863,\n",
       "  0.8556249737739563,\n",
       "  0.8550000190734863,\n",
       "  0.8556249737739563,\n",
       "  0.8518750071525574,\n",
       "  0.856249988079071,\n",
       "  0.8531249761581421,\n",
       "  0.8512499928474426,\n",
       "  0.8537499904632568,\n",
       "  0.8537499904632568,\n",
       "  0.8518750071525574,\n",
       "  0.8556249737739563,\n",
       "  0.8512499928474426,\n",
       "  0.8531249761581421,\n",
       "  0.8512499928474426,\n",
       "  0.8518750071525574,\n",
       "  0.8487499952316284,\n",
       "  0.8506249785423279,\n",
       "  0.8568750023841858,\n",
       "  0.8531249761581421,\n",
       "  0.8518750071525574,\n",
       "  0.8550000190734863,\n",
       "  0.8568750023841858,\n",
       "  0.8537499904632568,\n",
       "  0.8525000214576721,\n",
       "  0.8543750047683716,\n",
       "  0.8556249737739563,\n",
       "  0.8531249761581421,\n",
       "  0.8568750023841858]}"
      ]
     },
     "execution_count": 48,
     "metadata": {},
     "output_type": "execute_result"
    }
   ],
   "source": [
    "# History is basically a history object\n",
    "## BUt there is parameter in History which is key-value pair of loss,accuracy,val_accuracy,val_loss\n",
    "\n",
    "history.history"
   ]
  },
  {
   "cell_type": "code",
   "execution_count": 49,
   "metadata": {
    "colab": {
     "base_uri": "https://localhost:8080/"
    },
    "id": "X0Q59VG8Xksz",
    "outputId": "737126d0-e5fa-43c6-b399-add705f70703"
   },
   "outputs": [
    {
     "data": {
      "text/plain": [
       "dict"
      ]
     },
     "execution_count": 49,
     "metadata": {},
     "output_type": "execute_result"
    }
   ],
   "source": [
    "type(history.history)"
   ]
  },
  {
   "cell_type": "code",
   "execution_count": 50,
   "metadata": {
    "colab": {
     "base_uri": "https://localhost:8080/",
     "height": 448
    },
    "id": "hcF5V1gaXkvP",
    "outputId": "787725d6-09d1-47e4-962d-ed1cd5111262"
   },
   "outputs": [
    {
     "data": {
      "text/plain": [
       "[<matplotlib.lines.Line2D at 0x7f9891882610>]"
      ]
     },
     "execution_count": 50,
     "metadata": {},
     "output_type": "execute_result"
    },
    {
     "data": {
      "image/png": "[encoded data removed]",
      "text/plain": [
       "<Figure size 432x288 with 1 Axes>"
      ]
     },
     "metadata": {
      "needs_background": "light"
     },
     "output_type": "display_data"
    }
   ],
   "source": [
    "## Its a dictionary\n",
    "\n",
    "## Lets do the plotting\n",
    "## 1. Loss\n",
    "plt.plot(history.history['loss'])\n",
    "plt.plot(history.history['val_loss'])"
   ]
  },
  {
   "cell_type": "code",
   "execution_count": 51,
   "metadata": {
    "colab": {
     "base_uri": "https://localhost:8080/",
     "height": 448
    },
    "id": "xxl-3HozXkxW",
    "outputId": "41f2bb18-f781-49d1-d180-8af09db624cf"
   },
   "outputs": [
    {
     "data": {
      "text/plain": [
       "[<matplotlib.lines.Line2D at 0x7f9891a36a30>]"
      ]
     },
     "execution_count": 51,
     "metadata": {},
     "output_type": "execute_result"
    },
    {
     "data": {
      "image/png": "[encoded data removed]",
      "text/plain": [
       "<Figure size 432x288 with 1 Axes>"
      ]
     },
     "metadata": {
      "needs_background": "light"
     },
     "output_type": "display_data"
    }
   ],
   "source": [
    "## 2. accuracy\n",
    "plt.plot(history.history['accuracy'])\n",
    "plt.plot(history.history['val_accuracy'])"
   ]
  },
  {
   "cell_type": "code",
   "execution_count": null,
   "metadata": {
    "id": "ByQM5g8gxQnA"
   },
   "outputs": [],
   "source": [
    "## So this all about the ANN/DNN CLASSIFIER"
   ]
  }
 ],
 "metadata": {
  "accelerator": "GPU",
  "colab": {
   "gpuType": "T4",
   "provenance": []
  },
  "kernelspec": {
   "display_name": "Python 3 (ipykernel)",
   "language": "python",
   "name": "python3"
  },
  "language_info": {
   "codemirror_mode": {
    "name": "ipython",
    "version": 3
   },
   "file_extension": ".py",
   "mimetype": "text/x-python",
   "name": "python",
   "nbconvert_exporter": "python",
   "pygments_lexer": "ipython3",
   "version": "3.9.12"
  }
 },
 "nbformat": 4,
 "nbformat_minor": 1
}
