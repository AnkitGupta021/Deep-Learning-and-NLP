{
 "cells": [
  {
   "cell_type": "code",
   "execution_count": 1,
   "id": "0e957cb0",
   "metadata": {},
   "outputs": [],
   "source": [
    "## We are going to use MNIST Keras Dataset to see how we can create a ANN Model and the idea is learn and\n",
    "## observe how does the coding part works not to find the highest accuracy"
   ]
  },
  {
   "cell_type": "code",
   "execution_count": null,
   "id": "99faa8fa",
   "metadata": {},
   "outputs": [],
   "source": []
  }
 ],
 "metadata": {
  "kernelspec": {
   "display_name": "Python 3 (ipykernel)",
   "language": "python",
   "name": "python3"
  },
  "language_info": {
   "codemirror_mode": {
    "name": "ipython",
    "version": 3
   },
   "file_extension": ".py",
   "mimetype": "text/x-python",
   "name": "python",
   "nbconvert_exporter": "python",
   "pygments_lexer": "ipython3",
   "version": "3.9.12"
  }
 },
 "nbformat": 4,
 "nbformat_minor": 5
}
