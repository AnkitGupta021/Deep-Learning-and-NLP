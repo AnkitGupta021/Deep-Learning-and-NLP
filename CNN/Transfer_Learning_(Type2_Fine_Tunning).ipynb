{
  "nbformat": 4,
  "nbformat_minor": 0,
  "metadata": {
    "colab": {
      "provenance": [],
      "gpuType": "T4"
    },
    "kernelspec": {
      "name": "python3",
      "display_name": "Python 3"
    },
    "language_info": {
      "name": "python"
    },
    "accelerator": "GPU"
  },
  "cells": [
    {
      "cell_type": "markdown",
      "source": [
        "Transfer Learning has 2 types.\n",
        "1. Feature Extraction\n",
        "2. Fine Tunning\n",
        "\n",
        "This code is for Type 2: **Fine Tunning**.\n",
        "In Fine Tunning, we freeze the first few convolution layer of the pre-trained model to prevent them getting trained and we focus on mainly Last conv layer and FC layer and build the a new model and train these layers to predict the output.\n",
        "\n",
        "\n",
        "Code will consist of 2 Type of Techniques.\n",
        "1. Fine Tunning without Data Augmentation\n",
        "2. Fine Tunning with Data Augmentation.\n",
        "\n",
        "Dataset used will be a Cats Vs Dogs Classifier data from Kaggle.com\n",
        "and the pretrainned model we will be using is VGG16"
      ],
      "metadata": {
        "id": "IS36YSDwlvOJ"
      }
    },
    {
      "cell_type": "code",
      "execution_count": 1,
      "metadata": {
        "id": "cD0OTzX7j4A7"
      },
      "outputs": [],
      "source": [
        "!mkdir -p ~/.kaggle\n",
        "!cp kaggle.json ~/.kaggle/"
      ]
    },
    {
      "cell_type": "code",
      "source": [
        "!kaggle datasets download -d salader/dogs-vs-cats"
      ],
      "metadata": {
        "colab": {
          "base_uri": "https://localhost:8080/"
        },
        "id": "bkLB-SlSmiOi",
        "outputId": "81ed9beb-94eb-449a-a868-03fcbe7bce2e"
      },
      "execution_count": 2,
      "outputs": [
        {
          "output_type": "stream",
          "name": "stdout",
          "text": [
            "Warning: Your Kaggle API key is readable by other users on this system! To fix this, you can run 'chmod 600 /root/.kaggle/kaggle.json'\n",
            "Downloading dogs-vs-cats.zip to /content\n",
            "100% 1.06G/1.06G [00:10<00:00, 170MB/s]\n",
            "100% 1.06G/1.06G [00:10<00:00, 110MB/s]\n"
          ]
        }
      ]
    },
    {
      "cell_type": "code",
      "source": [
        "import zipfile\n",
        "zip = zipfile.ZipFile('/content/dogs-vs-cats.zip')\n",
        "zip.extractall('/content/')\n",
        "zip.close()"
      ],
      "metadata": {
        "id": "wohkTX48moAx"
      },
      "execution_count": 3,
      "outputs": []
    },
    {
      "cell_type": "code",
      "source": [
        "# Importing the dependencies\n",
        "\n",
        "import tensorflow as tf\n",
        "from tensorflow import keras\n",
        "from keras import Sequential\n",
        "from keras.layers import Dense, Flatten\n",
        "from keras.applications.vgg16 import VGG16\n",
        "from keras.preprocessing.image import ImageDataGenerator, load_img , array_to_img , img_to_array\n",
        "\n",
        "import matplotlib.pyplot as plt\n"
      ],
      "metadata": {
        "id": "PLTofwMtm2tH"
      },
      "execution_count": 4,
      "outputs": []
    },
    {
      "cell_type": "markdown",
      "source": [
        "#Transfer Learning(Type :II Fine Tunning) without Data Augmentation"
      ],
      "metadata": {
        "id": "jCJUNKe0ntrb"
      }
    },
    {
      "cell_type": "code",
      "source": [
        "# Initializing the VGG16 Model Object (Pre-Trained Model)\n",
        "\n",
        "conv_base = VGG16(\n",
        "    weights = 'imagenet',\n",
        "    include_top= False, # To eliminate FC Layer part (ANN part)\n",
        "    input_shape = (150,150,3)\n",
        "    )\n",
        "\n",
        "conv_base.summary()"
      ],
      "metadata": {
        "colab": {
          "base_uri": "https://localhost:8080/"
        },
        "id": "3AXQEIQtnq9b",
        "outputId": "69e6a6bb-1bdc-4611-b4e1-13e26d3a40ca"
      },
      "execution_count": 15,
      "outputs": [
        {
          "output_type": "stream",
          "name": "stdout",
          "text": [
            "Model: \"vgg16\"\n",
            "_________________________________________________________________\n",
            " Layer (type)                Output Shape              Param #   \n",
            "=================================================================\n",
            " input_2 (InputLayer)        [(None, 150, 150, 3)]     0         \n",
            "                                                                 \n",
            " block1_conv1 (Conv2D)       (None, 150, 150, 64)      1792      \n",
            "                                                                 \n",
            " block1_conv2 (Conv2D)       (None, 150, 150, 64)      36928     \n",
            "                                                                 \n",
            " block1_pool (MaxPooling2D)  (None, 75, 75, 64)        0         \n",
            "                                                                 \n",
            " block2_conv1 (Conv2D)       (None, 75, 75, 128)       73856     \n",
            "                                                                 \n",
            " block2_conv2 (Conv2D)       (None, 75, 75, 128)       147584    \n",
            "                                                                 \n",
            " block2_pool (MaxPooling2D)  (None, 37, 37, 128)       0         \n",
            "                                                                 \n",
            " block3_conv1 (Conv2D)       (None, 37, 37, 256)       295168    \n",
            "                                                                 \n",
            " block3_conv2 (Conv2D)       (None, 37, 37, 256)       590080    \n",
            "                                                                 \n",
            " block3_conv3 (Conv2D)       (None, 37, 37, 256)       590080    \n",
            "                                                                 \n",
            " block3_pool (MaxPooling2D)  (None, 18, 18, 256)       0         \n",
            "                                                                 \n",
            " block4_conv1 (Conv2D)       (None, 18, 18, 512)       1180160   \n",
            "                                                                 \n",
            " block4_conv2 (Conv2D)       (None, 18, 18, 512)       2359808   \n",
            "                                                                 \n",
            " block4_conv3 (Conv2D)       (None, 18, 18, 512)       2359808   \n",
            "                                                                 \n",
            " block4_pool (MaxPooling2D)  (None, 9, 9, 512)         0         \n",
            "                                                                 \n",
            " block5_conv1 (Conv2D)       (None, 9, 9, 512)         2359808   \n",
            "                                                                 \n",
            " block5_conv2 (Conv2D)       (None, 9, 9, 512)         2359808   \n",
            "                                                                 \n",
            " block5_conv3 (Conv2D)       (None, 9, 9, 512)         2359808   \n",
            "                                                                 \n",
            " block5_pool (MaxPooling2D)  (None, 4, 4, 512)         0         \n",
            "                                                                 \n",
            "=================================================================\n",
            "Total params: 14714688 (56.13 MB)\n",
            "Trainable params: 14714688 (56.13 MB)\n",
            "Non-trainable params: 0 (0.00 Byte)\n",
            "_________________________________________________________________\n"
          ]
        }
      ]
    },
    {
      "cell_type": "markdown",
      "source": [
        "As we can see the last Layer is MaxPooling Hence FC Layer(ANN Part) is eliminated"
      ],
      "metadata": {
        "id": "xpZieN__oiUc"
      }
    },
    {
      "cell_type": "code",
      "source": [
        "# ## Freezeing the Training for first 4 Conv layer and Activating for the last layer\n",
        "\n",
        "conv_base.trainable = True # This will set all trainable parameters of all conv layer to False\n",
        "\n",
        "x = False\n",
        "\n",
        "# Apply The Changes to the last Layer\n",
        "\n",
        "for i in conv_base.layers:\n",
        "  if i.name == 'block5_conv1' :\n",
        "    x = True\n",
        "  if x :\n",
        "    i.trainable = True\n",
        "  else:\n",
        "    i.trainable=False\n",
        "\n",
        "## Checking Result\n",
        "\n",
        "for i in conv_base.layers:\n",
        "  print(i.name , i.trainable)\n"
      ],
      "metadata": {
        "colab": {
          "base_uri": "https://localhost:8080/"
        },
        "id": "4vdI6-nLoYGs",
        "outputId": "5ba75976-5a5e-410a-afff-b20d821ecbb1"
      },
      "execution_count": 16,
      "outputs": [
        {
          "output_type": "stream",
          "name": "stdout",
          "text": [
            "input_2 False\n",
            "block1_conv1 False\n",
            "block1_conv2 False\n",
            "block1_pool False\n",
            "block2_conv1 False\n",
            "block2_conv2 False\n",
            "block2_pool False\n",
            "block3_conv1 False\n",
            "block3_conv2 False\n",
            "block3_conv3 False\n",
            "block3_pool False\n",
            "block4_conv1 False\n",
            "block4_conv2 False\n",
            "block4_conv3 False\n",
            "block4_pool False\n",
            "block5_conv1 True\n",
            "block5_conv2 True\n",
            "block5_conv3 True\n",
            "block5_pool True\n"
          ]
        }
      ]
    },
    {
      "cell_type": "markdown",
      "source": [
        "As we can see only the last layer parameters are true now and for rest it false.\n"
      ],
      "metadata": {
        "id": "ntxIGRsZwUSu"
      }
    },
    {
      "cell_type": "code",
      "source": [
        "\n",
        "## Checking the conv_base summary after making changes into trainable paramerts\n",
        "\n",
        "conv_base.summary()"
      ],
      "metadata": {
        "colab": {
          "base_uri": "https://localhost:8080/"
        },
        "id": "ZjW844tLsniR",
        "outputId": "070afad4-35df-43a6-ae56-e12a181e6f29"
      },
      "execution_count": 17,
      "outputs": [
        {
          "output_type": "stream",
          "name": "stdout",
          "text": [
            "Model: \"vgg16\"\n",
            "_________________________________________________________________\n",
            " Layer (type)                Output Shape              Param #   \n",
            "=================================================================\n",
            " input_2 (InputLayer)        [(None, 150, 150, 3)]     0         \n",
            "                                                                 \n",
            " block1_conv1 (Conv2D)       (None, 150, 150, 64)      1792      \n",
            "                                                                 \n",
            " block1_conv2 (Conv2D)       (None, 150, 150, 64)      36928     \n",
            "                                                                 \n",
            " block1_pool (MaxPooling2D)  (None, 75, 75, 64)        0         \n",
            "                                                                 \n",
            " block2_conv1 (Conv2D)       (None, 75, 75, 128)       73856     \n",
            "                                                                 \n",
            " block2_conv2 (Conv2D)       (None, 75, 75, 128)       147584    \n",
            "                                                                 \n",
            " block2_pool (MaxPooling2D)  (None, 37, 37, 128)       0         \n",
            "                                                                 \n",
            " block3_conv1 (Conv2D)       (None, 37, 37, 256)       295168    \n",
            "                                                                 \n",
            " block3_conv2 (Conv2D)       (None, 37, 37, 256)       590080    \n",
            "                                                                 \n",
            " block3_conv3 (Conv2D)       (None, 37, 37, 256)       590080    \n",
            "                                                                 \n",
            " block3_pool (MaxPooling2D)  (None, 18, 18, 256)       0         \n",
            "                                                                 \n",
            " block4_conv1 (Conv2D)       (None, 18, 18, 512)       1180160   \n",
            "                                                                 \n",
            " block4_conv2 (Conv2D)       (None, 18, 18, 512)       2359808   \n",
            "                                                                 \n",
            " block4_conv3 (Conv2D)       (None, 18, 18, 512)       2359808   \n",
            "                                                                 \n",
            " block4_pool (MaxPooling2D)  (None, 9, 9, 512)         0         \n",
            "                                                                 \n",
            " block5_conv1 (Conv2D)       (None, 9, 9, 512)         2359808   \n",
            "                                                                 \n",
            " block5_conv2 (Conv2D)       (None, 9, 9, 512)         2359808   \n",
            "                                                                 \n",
            " block5_conv3 (Conv2D)       (None, 9, 9, 512)         2359808   \n",
            "                                                                 \n",
            " block5_pool (MaxPooling2D)  (None, 4, 4, 512)         0         \n",
            "                                                                 \n",
            "=================================================================\n",
            "Total params: 14714688 (56.13 MB)\n",
            "Trainable params: 7079424 (27.01 MB)\n",
            "Non-trainable params: 7635264 (29.13 MB)\n",
            "_________________________________________________________________\n"
          ]
        }
      ]
    },
    {
      "cell_type": "markdown",
      "source": [
        "As we can see No of trainingable parameters are redcued to 7M from 14M\n"
      ],
      "metadata": {
        "id": "TPSKlTyVr3qw"
      }
    },
    {
      "cell_type": "code",
      "source": [
        "## Building the Model\n",
        "\n",
        "model = Sequential()\n",
        "\n",
        "## Adding pre-trained model Conv_base and Flattening it\n",
        "\n",
        "model.add(conv_base)\n",
        "model.add(Flatten())\n",
        "\n",
        "## Building Futher ANN\n",
        "\n",
        "model.add(Dense(256, activation='relu'))\n",
        "model.add(Dense(1, activation ='sigmoid'))\n",
        "\n",
        "model.summary()"
      ],
      "metadata": {
        "colab": {
          "base_uri": "https://localhost:8080/"
        },
        "id": "onsoJW61pG4H",
        "outputId": "5688d9b5-ac77-4fb0-a875-6cc66f1b5b18"
      },
      "execution_count": 27,
      "outputs": [
        {
          "output_type": "stream",
          "name": "stdout",
          "text": [
            "Model: \"sequential_2\"\n",
            "_________________________________________________________________\n",
            " Layer (type)                Output Shape              Param #   \n",
            "=================================================================\n",
            " vgg16 (Functional)          (None, 4, 4, 512)         14714688  \n",
            "                                                                 \n",
            " flatten_2 (Flatten)         (None, 8192)              0         \n",
            "                                                                 \n",
            " dense_4 (Dense)             (None, 256)               2097408   \n",
            "                                                                 \n",
            " dense_5 (Dense)             (None, 1)                 257       \n",
            "                                                                 \n",
            "=================================================================\n",
            "Total params: 16812353 (64.13 MB)\n",
            "Trainable params: 9177089 (35.01 MB)\n",
            "Non-trainable params: 7635264 (29.13 MB)\n",
            "_________________________________________________________________\n"
          ]
        }
      ]
    },
    {
      "cell_type": "code",
      "source": [
        "# Generators\n",
        "\n",
        "train_ds = keras.utils.image_dataset_from_directory(\n",
        "    directory = '/content/train',\n",
        "    label_mode = 'int',\n",
        "    labels = 'inferred',\n",
        "    batch_size = 32,\n",
        "    image_size=(150,150)\n",
        ")\n",
        "\n",
        "validation_ds = keras.utils.image_dataset_from_directory(\n",
        "    directory = '/content/test',\n",
        "    label_mode = 'int',\n",
        "    labels = 'inferred',\n",
        "    batch_size = 32,\n",
        "    image_size=(150,150)\n",
        ")"
      ],
      "metadata": {
        "colab": {
          "base_uri": "https://localhost:8080/"
        },
        "id": "NrbQFrDxpJFz",
        "outputId": "7ec03255-dd0a-41b2-e6f2-e504b8b44730"
      },
      "execution_count": 19,
      "outputs": [
        {
          "output_type": "stream",
          "name": "stdout",
          "text": [
            "Found 20000 files belonging to 2 classes.\n",
            "Found 5000 files belonging to 2 classes.\n"
          ]
        }
      ]
    },
    {
      "cell_type": "code",
      "source": [
        "## Normalization\n",
        "\n",
        "def normalize(image, label):\n",
        "  image = tf.cast(image/255.0, tf.float16)\n",
        "\n",
        "  return image, label\n",
        "\n",
        "train_ds = train_ds.map(normalize)\n",
        "validation_ds = validation_ds.map(normalize)"
      ],
      "metadata": {
        "id": "CnI9DCqkxHFk"
      },
      "execution_count": 20,
      "outputs": []
    },
    {
      "cell_type": "code",
      "source": [
        "# Compiling the Model\n",
        "# It is advisable to use RMSprop as an optimizer for Fine Tunning with low learing rate.\n",
        "\n",
        "model.compile(optimizer = keras.optimizers.RMSprop(learning_rate = 1e-5), loss = 'binary_crossentropy', metrics=['accuracy'])"
      ],
      "metadata": {
        "id": "ztEESQqfxlDn"
      },
      "execution_count": 22,
      "outputs": []
    },
    {
      "cell_type": "code",
      "source": [
        "# Fitting the Model\n",
        "\n",
        "history = model.fit(train_ds, epochs = 10, validation_data = validation_ds)"
      ],
      "metadata": {
        "colab": {
          "base_uri": "https://localhost:8080/"
        },
        "id": "6ewr0mt2x8mb",
        "outputId": "a7bfee36-ab61-4f04-bd19-400e2554ecfe"
      },
      "execution_count": 23,
      "outputs": [
        {
          "output_type": "stream",
          "name": "stdout",
          "text": [
            "Epoch 1/10\n",
            "625/625 [==============================] - 63s 99ms/step - loss: 0.2341 - accuracy: 0.9021 - val_loss: 0.1541 - val_accuracy: 0.9390\n",
            "Epoch 2/10\n",
            "625/625 [==============================] - 62s 99ms/step - loss: 0.1332 - accuracy: 0.9480 - val_loss: 0.1343 - val_accuracy: 0.9448\n",
            "Epoch 3/10\n",
            "625/625 [==============================] - 62s 99ms/step - loss: 0.0914 - accuracy: 0.9666 - val_loss: 0.1282 - val_accuracy: 0.9482\n",
            "Epoch 4/10\n",
            "625/625 [==============================] - 62s 99ms/step - loss: 0.0642 - accuracy: 0.9772 - val_loss: 0.1228 - val_accuracy: 0.9510\n",
            "Epoch 5/10\n",
            "625/625 [==============================] - 62s 99ms/step - loss: 0.0444 - accuracy: 0.9861 - val_loss: 0.1546 - val_accuracy: 0.9434\n",
            "Epoch 6/10\n",
            "625/625 [==============================] - 62s 99ms/step - loss: 0.0296 - accuracy: 0.9922 - val_loss: 0.1307 - val_accuracy: 0.9524\n",
            "Epoch 7/10\n",
            "625/625 [==============================] - 62s 98ms/step - loss: 0.0187 - accuracy: 0.9959 - val_loss: 0.1372 - val_accuracy: 0.9526\n",
            "Epoch 8/10\n",
            "625/625 [==============================] - 62s 98ms/step - loss: 0.0122 - accuracy: 0.9976 - val_loss: 0.1514 - val_accuracy: 0.9496\n",
            "Epoch 9/10\n",
            "625/625 [==============================] - 62s 99ms/step - loss: 0.0075 - accuracy: 0.9987 - val_loss: 0.1730 - val_accuracy: 0.9502\n",
            "Epoch 10/10\n",
            "625/625 [==============================] - 62s 98ms/step - loss: 0.0051 - accuracy: 0.9987 - val_loss: 0.1844 - val_accuracy: 0.9508\n"
          ]
        }
      ]
    },
    {
      "cell_type": "code",
      "source": [
        "## Plotting the accuracy\n",
        "\n",
        "import matplotlib.pyplot as plt\n",
        "\n",
        "plt.plot(history.history['accuracy'], color = 'red', label = 'Training_Accuracy')\n",
        "plt.plot(history.history['val_accuracy'], color = 'blue', label = 'Validation_Accuracy')\n",
        "plt.legend()\n",
        "plt.show()"
      ],
      "metadata": {
        "colab": {
          "base_uri": "https://localhost:8080/",
          "height": 430
        },
        "id": "E8aW_XOMzVBw",
        "outputId": "c3f39df4-bdf8-4bc7-d7d2-fc173d1c02c1"
      },
      "execution_count": 24,
      "outputs": [
        {
          "output_type": "display_data",
          "data": {
            "text/plain": [
              "<Figure size 640x480 with 1 Axes>"
            ],
            "image/png": "[encoded data removed]"
          },
          "metadata": {}
        }
      ]
    },
    {
      "cell_type": "code",
      "source": [
        "## Plotting the Losses\n",
        "\n",
        "import matplotlib.pyplot as plt\n",
        "\n",
        "plt.plot(history.history['loss'], color = 'red', label = 'Training_Loss')\n",
        "plt.plot(history.history['val_loss'], color = 'blue', label = 'Validation_Loss')\n",
        "plt.legend()\n",
        "plt.show()"
      ],
      "metadata": {
        "id": "42eAE2MBz8bJ",
        "colab": {
          "base_uri": "https://localhost:8080/",
          "height": 430
        },
        "outputId": "60f51e1d-3f6f-4e46-cf09-fb4ec4265b9b"
      },
      "execution_count": 25,
      "outputs": [
        {
          "output_type": "display_data",
          "data": {
            "text/plain": [
              "<Figure size 640x480 with 1 Axes>"
            ],
            "image/png": "[encoded data removed]"
          },
          "metadata": {}
        }
      ]
    },
    {
      "cell_type": "markdown",
      "source": [
        "Model is showing great result. lets try with data augmentation."
      ],
      "metadata": {
        "id": "Y6GpJKOs0AqZ"
      }
    },
    {
      "cell_type": "markdown",
      "source": [
        "#Transfer Learning(Type :II Fine Tunning) with Data Augmentation"
      ],
      "metadata": {
        "id": "1GdlghA20GQc"
      }
    },
    {
      "cell_type": "code",
      "source": [
        "batch_size = 32\n",
        "\n",
        "train_img_gen = ImageDataGenerator(\n",
        "    rescale = 1/255.0,\n",
        "    horizontal_flip=True,\n",
        "    shear_range=0.2,\n",
        "    zoom_range= 0.2\n",
        ")\n",
        "\n",
        "test_img_gen = ImageDataGenerator(rescale = 1/255.0)\n",
        "\n",
        "train_ds1 = train_img_gen.flow_from_directory(\n",
        "    directory = '/content/train',\n",
        "    target_size = (150,150),\n",
        "    batch_size = batch_size,\n",
        "    class_mode='binary'\n",
        "\n",
        ")\n",
        "\n",
        "validation_ds1 = test_img_gen.flow_from_directory(\n",
        "    directory = '/content/test',\n",
        "    target_size = (150,150),\n",
        "    batch_size = batch_size,\n",
        "    class_mode='binary'\n",
        ")"
      ],
      "metadata": {
        "id": "l2VmFPqOz8dv",
        "colab": {
          "base_uri": "https://localhost:8080/"
        },
        "outputId": "77337feb-4b5a-4bdf-ced7-3a46227038b5"
      },
      "execution_count": 26,
      "outputs": [
        {
          "output_type": "stream",
          "name": "stdout",
          "text": [
            "Found 20000 images belonging to 2 classes.\n",
            "Found 5000 images belonging to 2 classes.\n"
          ]
        }
      ]
    },
    {
      "cell_type": "code",
      "source": [
        "# Rerunning the Model above Model again before compiling stage"
      ],
      "metadata": {
        "id": "TxbNWVgLz8iB"
      },
      "execution_count": null,
      "outputs": []
    },
    {
      "cell_type": "code",
      "source": [
        "# Compiling the Model\n",
        "\n",
        "model.compile(optimizer = keras.optimizers.RMSprop(learning_rate = 1e-5), loss = 'binary_crossentropy', metrics=['accuracy'])"
      ],
      "metadata": {
        "id": "0_5DhC4tz8nm"
      },
      "execution_count": 29,
      "outputs": []
    },
    {
      "cell_type": "code",
      "source": [
        "# Training the Model\n",
        "\n",
        "history1 = model.fit(train_ds1, epochs = 10, validation_data = validation_ds1)"
      ],
      "metadata": {
        "id": "L5wkOscfz8pK",
        "colab": {
          "base_uri": "https://localhost:8080/"
        },
        "outputId": "449d59e0-c806-46cf-8a3c-dc866d235441"
      },
      "execution_count": 30,
      "outputs": [
        {
          "output_type": "stream",
          "name": "stdout",
          "text": [
            "Epoch 1/10\n",
            "625/625 [==============================] - 155s 245ms/step - loss: 0.1464 - accuracy: 0.9424 - val_loss: 0.1340 - val_accuracy: 0.9476\n",
            "Epoch 2/10\n",
            "625/625 [==============================] - 156s 249ms/step - loss: 0.1007 - accuracy: 0.9591 - val_loss: 0.1858 - val_accuracy: 0.9294\n",
            "Epoch 3/10\n",
            "625/625 [==============================] - 154s 246ms/step - loss: 0.0866 - accuracy: 0.9662 - val_loss: 0.1128 - val_accuracy: 0.9556\n",
            "Epoch 4/10\n",
            "625/625 [==============================] - 155s 248ms/step - loss: 0.0744 - accuracy: 0.9718 - val_loss: 0.1187 - val_accuracy: 0.9548\n",
            "Epoch 5/10\n",
            "625/625 [==============================] - 156s 250ms/step - loss: 0.0644 - accuracy: 0.9750 - val_loss: 0.1210 - val_accuracy: 0.9562\n",
            "Epoch 6/10\n",
            "625/625 [==============================] - 155s 248ms/step - loss: 0.0534 - accuracy: 0.9804 - val_loss: 0.1231 - val_accuracy: 0.9570\n",
            "Epoch 7/10\n",
            "625/625 [==============================] - 157s 251ms/step - loss: 0.0526 - accuracy: 0.9811 - val_loss: 0.1300 - val_accuracy: 0.9542\n",
            "Epoch 8/10\n",
            "625/625 [==============================] - 155s 248ms/step - loss: 0.0447 - accuracy: 0.9836 - val_loss: 0.1445 - val_accuracy: 0.9532\n",
            "Epoch 9/10\n",
            "625/625 [==============================] - 157s 252ms/step - loss: 0.0424 - accuracy: 0.9846 - val_loss: 0.1288 - val_accuracy: 0.9568\n",
            "Epoch 10/10\n",
            "625/625 [==============================] - 156s 250ms/step - loss: 0.0347 - accuracy: 0.9882 - val_loss: 0.1331 - val_accuracy: 0.9580\n"
          ]
        }
      ]
    },
    {
      "cell_type": "code",
      "source": [
        "## Plotting the accuracy\n",
        "\n",
        "import matplotlib.pyplot as plt\n",
        "\n",
        "plt.plot(history1.history['accuracy'], color = 'red', label = 'Training_Accuracy')\n",
        "plt.plot(history1.history['val_accuracy'], color = 'blue', label = 'Validation_Accuracy')\n",
        "plt.legend()\n",
        "plt.show()"
      ],
      "metadata": {
        "id": "B2dcdlwgz8qZ",
        "colab": {
          "base_uri": "https://localhost:8080/",
          "height": 430
        },
        "outputId": "f9707e44-5e1e-4524-d3a9-d31179ac961b"
      },
      "execution_count": 31,
      "outputs": [
        {
          "output_type": "display_data",
          "data": {
            "text/plain": [
              "<Figure size 640x480 with 1 Axes>"
            ],
            "image/png": "[encoded data removed]"
          },
          "metadata": {}
        }
      ]
    },
    {
      "cell_type": "code",
      "source": [
        "## Plotting the Losses\n",
        "\n",
        "import matplotlib.pyplot as plt\n",
        "\n",
        "plt.plot(history1.history['loss'], color = 'red', label = 'Training_Loss')\n",
        "plt.plot(history1.history['val_loss'], color = 'blue', label = 'Validation_Loss')\n",
        "plt.legend()\n",
        "plt.show()"
      ],
      "metadata": {
        "id": "6vp7Ihrcz8rw",
        "colab": {
          "base_uri": "https://localhost:8080/",
          "height": 430
        },
        "outputId": "55269269-660b-4222-a362-7aca882ee306"
      },
      "execution_count": 32,
      "outputs": [
        {
          "output_type": "display_data",
          "data": {
            "text/plain": [
              "<Figure size 640x480 with 1 Axes>"
            ],
            "image/png": "[encoded data removed]"
          },
          "metadata": {}
        }
      ]
    },
    {
      "cell_type": "code",
      "source": [
        "# Overfitting has been reduced drastically."
      ],
      "metadata": {
        "id": "ek3wIlEkz8td"
      },
      "execution_count": null,
      "outputs": []
    },
    {
      "cell_type": "code",
      "source": [],
      "metadata": {
        "id": "6Kg3BFIUz8uz"
      },
      "execution_count": null,
      "outputs": []
    },
    {
      "cell_type": "code",
      "source": [],
      "metadata": {
        "id": "PPMTjSkPz8we"
      },
      "execution_count": null,
      "outputs": []
    },
    {
      "cell_type": "code",
      "source": [],
      "metadata": {
        "id": "AVOyImB-z8x_"
      },
      "execution_count": null,
      "outputs": []
    },
    {
      "cell_type": "code",
      "source": [],
      "metadata": {
        "id": "Ksd8mvUZz8zy"
      },
      "execution_count": null,
      "outputs": []
    },
    {
      "cell_type": "code",
      "source": [],
      "metadata": {
        "id": "N86ruUZrz81_"
      },
      "execution_count": null,
      "outputs": []
    },
    {
      "cell_type": "code",
      "source": [],
      "metadata": {
        "id": "X61x6VIBz83v"
      },
      "execution_count": null,
      "outputs": []
    },
    {
      "cell_type": "code",
      "source": [],
      "metadata": {
        "id": "PvPDIhG7z87t"
      },
      "execution_count": null,
      "outputs": []
    },
    {
      "cell_type": "code",
      "source": [],
      "metadata": {
        "id": "-ibERfw8z9Bi"
      },
      "execution_count": null,
      "outputs": []
    },
    {
      "cell_type": "code",
      "source": [],
      "metadata": {
        "id": "k6L6ts4Pz9Ec"
      },
      "execution_count": null,
      "outputs": []
    },
    {
      "cell_type": "code",
      "source": [],
      "metadata": {
        "id": "u41M8hiCz9GF"
      },
      "execution_count": null,
      "outputs": []
    },
    {
      "cell_type": "code",
      "source": [],
      "metadata": {
        "id": "EfwU1VDNz9IJ"
      },
      "execution_count": null,
      "outputs": []
    }
  ]
}