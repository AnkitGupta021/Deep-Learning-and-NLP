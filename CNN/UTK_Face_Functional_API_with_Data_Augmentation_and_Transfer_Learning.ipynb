{
  "nbformat": 4,
  "nbformat_minor": 0,
  "metadata": {
    "colab": {
      "provenance": [],
      "gpuType": "T4"
    },
    "kernelspec": {
      "name": "python3",
      "display_name": "Python 3"
    },
    "language_info": {
      "name": "python"
    },
    "accelerator": "GPU"
  },
  "cells": [
    {
      "cell_type": "markdown",
      "source": [
        "In this code we wil be using the concern of Functional API along with Data Augmentation\n",
        "We wil be using the follow dataset from Kaggle which is UTKFace\n",
        "Link is below :\n",
        "https://www.kaggle.com/datasets/jangedoo/utkface-new\n",
        "\n",
        "DataSet Description-\n",
        "\n",
        "UTKFace dataset is a large-scale face dataset with long age span (range from 0 to 116 years old). The dataset consists of over 20,000 face images with annotations of age, gender, and ethnicity. The images cover large variation in pose, facial expression, illumination, occlusion, resolution, etc.\n",
        "\n",
        "Task - TO BUILD A MODEL WITH CAN PREDICT THE AGE AND GENDER OF THE PERSON WHEN PASS THE IMAGE.\n",
        "\n",
        "Model Description : Function API Model with Single Input and Multiple Output (2 Output) with Data Augmentation."
      ],
      "metadata": {
        "id": "eCUj-Da9Cwg6"
      }
    },
    {
      "cell_type": "code",
      "execution_count": 1,
      "metadata": {
        "id": "jLGhReQi1DWG"
      },
      "outputs": [],
      "source": [
        "!mkdir -p ~/.kaggle\n",
        "!cp kaggle.json ~/.kaggle/"
      ]
    },
    {
      "cell_type": "code",
      "source": [
        "!kaggle datasets download -d jangedoo/utkface-new"
      ],
      "metadata": {
        "colab": {
          "base_uri": "https://localhost:8080/"
        },
        "id": "8pmDoJyz1paz",
        "outputId": "1864a90a-1db2-4875-ac8e-77ba519cced8"
      },
      "execution_count": 2,
      "outputs": [
        {
          "output_type": "stream",
          "name": "stdout",
          "text": [
            "Warning: Your Kaggle API key is readable by other users on this system! To fix this, you can run 'chmod 600 /root/.kaggle/kaggle.json'\n",
            "Downloading utkface-new.zip to /content\n",
            " 99% 329M/331M [00:01<00:00, 205MB/s]\n",
            "100% 331M/331M [00:01<00:00, 187MB/s]\n"
          ]
        }
      ]
    },
    {
      "cell_type": "code",
      "source": [
        "import zipfile\n",
        "zip = zipfile.ZipFile('/content/utkface-new.zip')\n",
        "zip.extractall('/content/')\n",
        "zip.close()"
      ],
      "metadata": {
        "id": "Q7EpwoM_1tXg"
      },
      "execution_count": 3,
      "outputs": []
    },
    {
      "cell_type": "code",
      "source": [
        "# Importing the dependencies\n",
        "\n",
        "import os\n",
        "import numpy as np\n",
        "import pandas as pd\n",
        "import matplotlib.pyplot as plt\n",
        "import seaborn as sns"
      ],
      "metadata": {
        "id": "BzbwR4_P18PU"
      },
      "execution_count": 4,
      "outputs": []
    },
    {
      "cell_type": "code",
      "source": [
        "# Storing Folder Path\n",
        "\n",
        "folder_path = '/content/utkface_aligned_cropped/UTKFace'\n"
      ],
      "metadata": {
        "id": "KSvujL7e2XqJ"
      },
      "execution_count": 5,
      "outputs": []
    },
    {
      "cell_type": "code",
      "source": [
        "# This code is to extract the age, gender and image path from the dataset\n",
        "# As per the discription the Image name 100_0_0_20170112213500903 , consist of 3 things\n",
        "# First part tells the age, 100\n",
        "# Second is the gender , 0 - Male, 1 - Female\n",
        "# So we will extact these both info and then create a df from it.\n",
        "\n",
        "# We will be using following fucntion to operation the operation\n",
        "# os.listdir('path') This will store the image name in the form of string\n",
        "# .split('_') will convert the string into list of character split by _,\n",
        "# eg \"100_0_0_20170112213500903\".split('_') > ['100', '0','0', '20170112213500903']\n",
        "# '100' - Age , 0th index of list\n",
        "# '0' - Gender , 1th index of list\n",
        "\n",
        "age = []\n",
        "gender = []\n",
        "img_path =[]\n",
        "for i in os.listdir(folder_path):\n",
        "  age.append(int(i.split('_')[0]))  # Store the age\n",
        "  gender.append(int(i.split('_')[1])) # Store the gender\n",
        "  img_path.append(i) # Store the path\n",
        ""
      ],
      "metadata": {
        "id": "W61zfrEV2oA4"
      },
      "execution_count": 6,
      "outputs": []
    },
    {
      "cell_type": "code",
      "source": [
        "# creating a dataframe\n",
        "\n",
        "df = pd.DataFrame({'Age':age, 'Gender':gender, 'Image_Path':img_path})\n",
        "df.head()"
      ],
      "metadata": {
        "colab": {
          "base_uri": "https://localhost:8080/",
          "height": 206
        },
        "id": "dsVvMH5n3Ugk",
        "outputId": "a3500f64-6931-40f0-c0ad-478ca8587a44"
      },
      "execution_count": 7,
      "outputs": [
        {
          "output_type": "execute_result",
          "data": {
            "text/plain": [
              "   Age  Gender                             Image_Path\n",
              "0    9       0   9_0_0_20170110220058915.jpg.chip.jpg\n",
              "1   52       0  52_0_0_20170117161042224.jpg.chip.jpg\n",
              "2   33       0  33_0_0_20170105164910285.jpg.chip.jpg\n",
              "3   16       0  16_0_0_20170110231919941.jpg.chip.jpg\n",
              "4   36       1  36_1_1_20170116011443442.jpg.chip.jpg"
            ],
            "text/html": [
              "\n",
              "  <div id=\"df-84def89f-b47f-4b6d-8087-709a14e50e7e\" class=\"colab-df-container\">\n",
              "    <div>\n",
              "<style scoped>\n",
              "    .dataframe tbody tr th:only-of-type {\n",
              "        vertical-align: middle;\n",
              "    }\n",
              "\n",
              "    .dataframe tbody tr th {\n",
              "        vertical-align: top;\n",
              "    }\n",
              "\n",
              "    .dataframe thead th {\n",
              "        text-align: right;\n",
              "    }\n",
              "</style>\n",
              "<table border=\"1\" class=\"dataframe\">\n",
              "  <thead>\n",
              "    <tr style=\"text-align: right;\">\n",
              "      <th></th>\n",
              "      <th>Age</th>\n",
              "      <th>Gender</th>\n",
              "      <th>Image_Path</th>\n",
              "    </tr>\n",
              "  </thead>\n",
              "  <tbody>\n",
              "    <tr>\n",
              "      <th>0</th>\n",
              "      <td>9</td>\n",
              "      <td>0</td>\n",
              "      <td>9_0_0_20170110220058915.jpg.chip.jpg</td>\n",
              "    </tr>\n",
              "    <tr>\n",
              "      <th>1</th>\n",
              "      <td>52</td>\n",
              "      <td>0</td>\n",
              "      <td>52_0_0_20170117161042224.jpg.chip.jpg</td>\n",
              "    </tr>\n",
              "    <tr>\n",
              "      <th>2</th>\n",
              "      <td>33</td>\n",
              "      <td>0</td>\n",
              "      <td>33_0_0_20170105164910285.jpg.chip.jpg</td>\n",
              "    </tr>\n",
              "    <tr>\n",
              "      <th>3</th>\n",
              "      <td>16</td>\n",
              "      <td>0</td>\n",
              "      <td>16_0_0_20170110231919941.jpg.chip.jpg</td>\n",
              "    </tr>\n",
              "    <tr>\n",
              "      <th>4</th>\n",
              "      <td>36</td>\n",
              "      <td>1</td>\n",
              "      <td>36_1_1_20170116011443442.jpg.chip.jpg</td>\n",
              "    </tr>\n",
              "  </tbody>\n",
              "</table>\n",
              "</div>\n",
              "    <div class=\"colab-df-buttons\">\n",
              "\n",
              "  <div class=\"colab-df-container\">\n",
              "    <button class=\"colab-df-convert\" onclick=\"convertToInteractive('df-84def89f-b47f-4b6d-8087-709a14e50e7e')\"\n",
              "            title=\"Convert this dataframe to an interactive table.\"\n",
              "            style=\"display:none;\">\n",
              "\n",
              "  <svg xmlns=\"http://www.w3.org/2000/svg\" height=\"24px\" viewBox=\"0 -960 960 960\">\n",
              "    <path d=\"M120-120v-720h720v720H120Zm60-500h600v-160H180v160Zm220 220h160v-160H400v160Zm0 220h160v-160H400v160ZM180-400h160v-160H180v160Zm440 0h160v-160H620v160ZM180-180h160v-160H180v160Zm440 0h160v-160H620v160Z\"/>\n",
              "  </svg>\n",
              "    </button>\n",
              "\n",
              "  <style>\n",
              "    .colab-df-container {\n",
              "      display:flex;\n",
              "      gap: 12px;\n",
              "    }\n",
              "\n",
              "    .colab-df-convert {\n",
              "      background-color: #E8F0FE;\n",
              "      border: none;\n",
              "      border-radius: 50%;\n",
              "      cursor: pointer;\n",
              "      display: none;\n",
              "      fill: #1967D2;\n",
              "      height: 32px;\n",
              "      padding: 0 0 0 0;\n",
              "      width: 32px;\n",
              "    }\n",
              "\n",
              "    .colab-df-convert:hover {\n",
              "      background-color: #E2EBFA;\n",
              "      box-shadow: 0px 1px 2px rgba(60, 64, 67, 0.3), 0px 1px 3px 1px rgba(60, 64, 67, 0.15);\n",
              "      fill: #174EA6;\n",
              "    }\n",
              "\n",
              "    .colab-df-buttons div {\n",
              "      margin-bottom: 4px;\n",
              "    }\n",
              "\n",
              "    [theme=dark] .colab-df-convert {\n",
              "      background-color: #3B4455;\n",
              "      fill: #D2E3FC;\n",
              "    }\n",
              "\n",
              "    [theme=dark] .colab-df-convert:hover {\n",
              "      background-color: #434B5C;\n",
              "      box-shadow: 0px 1px 3px 1px rgba(0, 0, 0, 0.15);\n",
              "      filter: drop-shadow(0px 1px 2px rgba(0, 0, 0, 0.3));\n",
              "      fill: #FFFFFF;\n",
              "    }\n",
              "  </style>\n",
              "\n",
              "    <script>\n",
              "      const buttonEl =\n",
              "        document.querySelector('#df-84def89f-b47f-4b6d-8087-709a14e50e7e button.colab-df-convert');\n",
              "      buttonEl.style.display =\n",
              "        google.colab.kernel.accessAllowed ? 'block' : 'none';\n",
              "\n",
              "      async function convertToInteractive(key) {\n",
              "        const element = document.querySelector('#df-84def89f-b47f-4b6d-8087-709a14e50e7e');\n",
              "        const dataTable =\n",
              "          await google.colab.kernel.invokeFunction('convertToInteractive',\n",
              "                                                    [key], {});\n",
              "        if (!dataTable) return;\n",
              "\n",
              "        const docLinkHtml = 'Like what you see? Visit the ' +\n",
              "          '<a target=\"_blank\" href=https://colab.research.google.com/notebooks/data_table.ipynb>data table notebook</a>'\n",
              "          + ' to learn more about interactive tables.';\n",
              "        element.innerHTML = '';\n",
              "        dataTable['output_type'] = 'display_data';\n",
              "        await google.colab.output.renderOutput(dataTable, element);\n",
              "        const docLink = document.createElement('div');\n",
              "        docLink.innerHTML = docLinkHtml;\n",
              "        element.appendChild(docLink);\n",
              "      }\n",
              "    </script>\n",
              "  </div>\n",
              "\n",
              "\n",
              "<div id=\"df-5b5c82d4-9c20-495b-88d3-9903abe783c9\">\n",
              "  <button class=\"colab-df-quickchart\" onclick=\"quickchart('df-5b5c82d4-9c20-495b-88d3-9903abe783c9')\"\n",
              "            title=\"Suggest charts.\"\n",
              "            style=\"display:none;\">\n",
              "\n",
              "<svg xmlns=\"http://www.w3.org/2000/svg\" height=\"24px\"viewBox=\"0 0 24 24\"\n",
              "     width=\"24px\">\n",
              "    <g>\n",
              "        <path d=\"M19 3H5c-1.1 0-2 .9-2 2v14c0 1.1.9 2 2 2h14c1.1 0 2-.9 2-2V5c0-1.1-.9-2-2-2zM9 17H7v-7h2v7zm4 0h-2V7h2v10zm4 0h-2v-4h2v4z\"/>\n",
              "    </g>\n",
              "</svg>\n",
              "  </button>\n",
              "\n",
              "<style>\n",
              "  .colab-df-quickchart {\n",
              "      --bg-color: #E8F0FE;\n",
              "      --fill-color: #1967D2;\n",
              "      --hover-bg-color: #E2EBFA;\n",
              "      --hover-fill-color: #174EA6;\n",
              "      --disabled-fill-color: #AAA;\n",
              "      --disabled-bg-color: #DDD;\n",
              "  }\n",
              "\n",
              "  [theme=dark] .colab-df-quickchart {\n",
              "      --bg-color: #3B4455;\n",
              "      --fill-color: #D2E3FC;\n",
              "      --hover-bg-color: #434B5C;\n",
              "      --hover-fill-color: #FFFFFF;\n",
              "      --disabled-bg-color: #3B4455;\n",
              "      --disabled-fill-color: #666;\n",
              "  }\n",
              "\n",
              "  .colab-df-quickchart {\n",
              "    background-color: var(--bg-color);\n",
              "    border: none;\n",
              "    border-radius: 50%;\n",
              "    cursor: pointer;\n",
              "    display: none;\n",
              "    fill: var(--fill-color);\n",
              "    height: 32px;\n",
              "    padding: 0;\n",
              "    width: 32px;\n",
              "  }\n",
              "\n",
              "  .colab-df-quickchart:hover {\n",
              "    background-color: var(--hover-bg-color);\n",
              "    box-shadow: 0 1px 2px rgba(60, 64, 67, 0.3), 0 1px 3px 1px rgba(60, 64, 67, 0.15);\n",
              "    fill: var(--button-hover-fill-color);\n",
              "  }\n",
              "\n",
              "  .colab-df-quickchart-complete:disabled,\n",
              "  .colab-df-quickchart-complete:disabled:hover {\n",
              "    background-color: var(--disabled-bg-color);\n",
              "    fill: var(--disabled-fill-color);\n",
              "    box-shadow: none;\n",
              "  }\n",
              "\n",
              "  .colab-df-spinner {\n",
              "    border: 2px solid var(--fill-color);\n",
              "    border-color: transparent;\n",
              "    border-bottom-color: var(--fill-color);\n",
              "    animation:\n",
              "      spin 1s steps(1) infinite;\n",
              "  }\n",
              "\n",
              "  @keyframes spin {\n",
              "    0% {\n",
              "      border-color: transparent;\n",
              "      border-bottom-color: var(--fill-color);\n",
              "      border-left-color: var(--fill-color);\n",
              "    }\n",
              "    20% {\n",
              "      border-color: transparent;\n",
              "      border-left-color: var(--fill-color);\n",
              "      border-top-color: var(--fill-color);\n",
              "    }\n",
              "    30% {\n",
              "      border-color: transparent;\n",
              "      border-left-color: var(--fill-color);\n",
              "      border-top-color: var(--fill-color);\n",
              "      border-right-color: var(--fill-color);\n",
              "    }\n",
              "    40% {\n",
              "      border-color: transparent;\n",
              "      border-right-color: var(--fill-color);\n",
              "      border-top-color: var(--fill-color);\n",
              "    }\n",
              "    60% {\n",
              "      border-color: transparent;\n",
              "      border-right-color: var(--fill-color);\n",
              "    }\n",
              "    80% {\n",
              "      border-color: transparent;\n",
              "      border-right-color: var(--fill-color);\n",
              "      border-bottom-color: var(--fill-color);\n",
              "    }\n",
              "    90% {\n",
              "      border-color: transparent;\n",
              "      border-bottom-color: var(--fill-color);\n",
              "    }\n",
              "  }\n",
              "</style>\n",
              "\n",
              "  <script>\n",
              "    async function quickchart(key) {\n",
              "      const quickchartButtonEl =\n",
              "        document.querySelector('#' + key + ' button');\n",
              "      quickchartButtonEl.disabled = true;  // To prevent multiple clicks.\n",
              "      quickchartButtonEl.classList.add('colab-df-spinner');\n",
              "      try {\n",
              "        const charts = await google.colab.kernel.invokeFunction(\n",
              "            'suggestCharts', [key], {});\n",
              "      } catch (error) {\n",
              "        console.error('Error during call to suggestCharts:', error);\n",
              "      }\n",
              "      quickchartButtonEl.classList.remove('colab-df-spinner');\n",
              "      quickchartButtonEl.classList.add('colab-df-quickchart-complete');\n",
              "    }\n",
              "    (() => {\n",
              "      let quickchartButtonEl =\n",
              "        document.querySelector('#df-5b5c82d4-9c20-495b-88d3-9903abe783c9 button');\n",
              "      quickchartButtonEl.style.display =\n",
              "        google.colab.kernel.accessAllowed ? 'block' : 'none';\n",
              "    })();\n",
              "  </script>\n",
              "</div>\n",
              "    </div>\n",
              "  </div>\n"
            ]
          },
          "metadata": {},
          "execution_count": 7
        }
      ]
    },
    {
      "cell_type": "code",
      "source": [
        "# checking the shape of dataframe\n",
        "\n",
        "df.shape"
      ],
      "metadata": {
        "colab": {
          "base_uri": "https://localhost:8080/"
        },
        "id": "aCArB7eT3XWM",
        "outputId": "6350b292-edd9-4fde-c876-2fe8bea12907"
      },
      "execution_count": 8,
      "outputs": [
        {
          "output_type": "execute_result",
          "data": {
            "text/plain": [
              "(23708, 3)"
            ]
          },
          "metadata": {},
          "execution_count": 8
        }
      ]
    },
    {
      "cell_type": "code",
      "source": [
        "# Splitting the data\n",
        "\n",
        "train = df.iloc[0:20000, :]\n",
        "test = df.iloc[20000:,: ]"
      ],
      "metadata": {
        "id": "TrJBDpb533yM"
      },
      "execution_count": 9,
      "outputs": []
    },
    {
      "cell_type": "code",
      "source": [
        "# training shape\n",
        "\n",
        "train.shape"
      ],
      "metadata": {
        "colab": {
          "base_uri": "https://localhost:8080/"
        },
        "id": "L4wSzN1H4XVw",
        "outputId": "5b848785-1051-4656-9233-4ca089919a1c"
      },
      "execution_count": 10,
      "outputs": [
        {
          "output_type": "execute_result",
          "data": {
            "text/plain": [
              "(20000, 3)"
            ]
          },
          "metadata": {},
          "execution_count": 10
        }
      ]
    },
    {
      "cell_type": "code",
      "source": [
        "# test shape\n",
        "\n",
        "test.shape"
      ],
      "metadata": {
        "colab": {
          "base_uri": "https://localhost:8080/"
        },
        "id": "xwT0qOSE4Ykh",
        "outputId": "6c7bd610-b6bd-45e2-99ba-f73678a23949"
      },
      "execution_count": 11,
      "outputs": [
        {
          "output_type": "execute_result",
          "data": {
            "text/plain": [
              "(3708, 3)"
            ]
          },
          "metadata": {},
          "execution_count": 11
        }
      ]
    },
    {
      "cell_type": "markdown",
      "source": [
        "# Applying Data Augmentation"
      ],
      "metadata": {
        "id": "af0HP8D34tDM"
      }
    },
    {
      "cell_type": "code",
      "source": [
        "from keras.preprocessing.image import ImageDataGenerator\n",
        "\n",
        "train_ds = ImageDataGenerator( rescale= 1/255.0,\n",
        "                              rotation_range= 30,\n",
        "                               width_shift_range= 0.2,\n",
        "                               height_shift_range= 0.2,\n",
        "                               shear_range= 0.2,\n",
        "                               zoom_range=0.2,\n",
        "                               horizontal_flip= True)\n",
        "\n",
        "validation_ds = ImageDataGenerator(rescale= 1.0/255.0)"
      ],
      "metadata": {
        "id": "69wNQ_uH4pP-"
      },
      "execution_count": 12,
      "outputs": []
    },
    {
      "cell_type": "code",
      "source": [
        "# Creating Generator >> we will using <ImageDataGenerator_obj>.flow_from_dataframe()\n",
        "\n",
        "train_gen = train_ds.flow_from_dataframe(train ,\n",
        "                                         directory= folder_path,\n",
        "                                         x_col = 'Image_Path',\n",
        "                                         y_col = ['Age', 'Gender'],\n",
        "                                         target_size = (200,200),\n",
        "                                         class_mode='multi_output')\n",
        "\n",
        "test_gen = validation_ds.flow_from_dataframe(test,\n",
        "                                             directory=folder_path,\n",
        "                                             x_col = 'Image_Path',\n",
        "                                             y_col = ['Age','Gender'],\n",
        "                                             target_size = (200,200),\n",
        "                                             class_mode = 'multi_output')"
      ],
      "metadata": {
        "colab": {
          "base_uri": "https://localhost:8080/"
        },
        "id": "qYR644fO5Po9",
        "outputId": "b216d890-7a9e-4133-adf8-8107102c3f71"
      },
      "execution_count": 13,
      "outputs": [
        {
          "output_type": "stream",
          "name": "stdout",
          "text": [
            "Found 20000 validated image filenames.\n",
            "Found 3708 validated image filenames.\n"
          ]
        }
      ]
    },
    {
      "cell_type": "markdown",
      "source": [
        "# Applying Transfer Learning (Feature Extraction)"
      ],
      "metadata": {
        "id": "65WLAxOMHqox"
      }
    },
    {
      "cell_type": "code",
      "source": [
        "# We wil be using VGG16() for transfer learning with Feature Extraction.\n",
        "\n",
        "\n",
        "# importing the dependencies\n",
        "\n",
        "from keras.applications.vgg16 import VGG16, preprocess_input\n",
        "from keras.layers import *\n",
        "from keras.models import Model"
      ],
      "metadata": {
        "id": "dU__eE-T7OWW"
      },
      "execution_count": 14,
      "outputs": []
    },
    {
      "cell_type": "code",
      "source": [
        "# declaring the pretrained model object\n",
        "\n",
        "conv_base = VGG16(include_top=False , input_shape=(200,200,3))\n",
        "\n",
        "# Freezing the training of conv layers\n",
        "\n",
        "conv_base.trainable = False"
      ],
      "metadata": {
        "colab": {
          "base_uri": "https://localhost:8080/"
        },
        "id": "NahQXLP58Bxn",
        "outputId": "f71dcc3c-0fb1-40c5-a05d-e48a143b5953"
      },
      "execution_count": 15,
      "outputs": [
        {
          "output_type": "stream",
          "name": "stdout",
          "text": [
            "Downloading data from https://storage.googleapis.com/tensorflow/keras-applications/vgg16/vgg16_weights_tf_dim_ordering_tf_kernels_notop.h5\n",
            "58889256/58889256 [==============================] - 0s 0us/step\n"
          ]
        }
      ]
    },
    {
      "cell_type": "code",
      "source": [
        "# Checking the summary\n",
        "\n",
        "conv_base.summary()"
      ],
      "metadata": {
        "colab": {
          "base_uri": "https://localhost:8080/"
        },
        "id": "xpQDnGKF8clS",
        "outputId": "43b7db5c-fd8b-47b6-b262-d27e9db20dae"
      },
      "execution_count": 16,
      "outputs": [
        {
          "output_type": "stream",
          "name": "stdout",
          "text": [
            "Model: \"vgg16\"\n",
            "_________________________________________________________________\n",
            " Layer (type)                Output Shape              Param #   \n",
            "=================================================================\n",
            " input_1 (InputLayer)        [(None, 200, 200, 3)]     0         \n",
            "                                                                 \n",
            " block1_conv1 (Conv2D)       (None, 200, 200, 64)      1792      \n",
            "                                                                 \n",
            " block1_conv2 (Conv2D)       (None, 200, 200, 64)      36928     \n",
            "                                                                 \n",
            " block1_pool (MaxPooling2D)  (None, 100, 100, 64)      0         \n",
            "                                                                 \n",
            " block2_conv1 (Conv2D)       (None, 100, 100, 128)     73856     \n",
            "                                                                 \n",
            " block2_conv2 (Conv2D)       (None, 100, 100, 128)     147584    \n",
            "                                                                 \n",
            " block2_pool (MaxPooling2D)  (None, 50, 50, 128)       0         \n",
            "                                                                 \n",
            " block3_conv1 (Conv2D)       (None, 50, 50, 256)       295168    \n",
            "                                                                 \n",
            " block3_conv2 (Conv2D)       (None, 50, 50, 256)       590080    \n",
            "                                                                 \n",
            " block3_conv3 (Conv2D)       (None, 50, 50, 256)       590080    \n",
            "                                                                 \n",
            " block3_pool (MaxPooling2D)  (None, 25, 25, 256)       0         \n",
            "                                                                 \n",
            " block4_conv1 (Conv2D)       (None, 25, 25, 512)       1180160   \n",
            "                                                                 \n",
            " block4_conv2 (Conv2D)       (None, 25, 25, 512)       2359808   \n",
            "                                                                 \n",
            " block4_conv3 (Conv2D)       (None, 25, 25, 512)       2359808   \n",
            "                                                                 \n",
            " block4_pool (MaxPooling2D)  (None, 12, 12, 512)       0         \n",
            "                                                                 \n",
            " block5_conv1 (Conv2D)       (None, 12, 12, 512)       2359808   \n",
            "                                                                 \n",
            " block5_conv2 (Conv2D)       (None, 12, 12, 512)       2359808   \n",
            "                                                                 \n",
            " block5_conv3 (Conv2D)       (None, 12, 12, 512)       2359808   \n",
            "                                                                 \n",
            " block5_pool (MaxPooling2D)  (None, 6, 6, 512)         0         \n",
            "                                                                 \n",
            "=================================================================\n",
            "Total params: 14714688 (56.13 MB)\n",
            "Trainable params: 0 (0.00 Byte)\n",
            "Non-trainable params: 14714688 (56.13 MB)\n",
            "_________________________________________________________________\n"
          ]
        }
      ]
    },
    {
      "cell_type": "markdown",
      "source": [
        "# Building the Model"
      ],
      "metadata": {
        "id": "wFRIpQqKIW5o"
      }
    },
    {
      "cell_type": "code",
      "source": [
        "# Defining the Layers\n",
        "\n",
        "# Storing the output of last conv layer to perform the futher operation\n",
        "\n",
        "output = conv_base.layers[-1].output\n",
        "\n",
        "# Flattening\n",
        "flatten = Flatten()(output)\n",
        "\n",
        "# creating the braches\n",
        "\n",
        "dense1 = Dense(512, activation = 'relu')(flatten) # branch 1\n",
        "dense2 = Dense(512, activation = 'relu')(flatten) # branch 2\n",
        "\n",
        "# adding layers to different branches\n",
        "\n",
        "dense3 = Dense(512, activation = 'relu')(dense1) # branch 1 layer\n",
        "dense4 = Dense(512, activation = 'relu')(dense2) # branch 2 layer\n",
        "\n",
        "# creating the outputs\n",
        "\n",
        "out1 = Dense(1, activation='linear', name = 'Age')(dense3)\n",
        "out2 = Dense(1, activation = 'sigmoid', name = 'Gender')(dense4)\n",
        "\n",
        "# defining the model object\n",
        "\n",
        "model = Model(inputs= conv_base.input, outputs= [out1,out2])\n",
        "\n",
        "# checking the summary\n",
        "model.summary()"
      ],
      "metadata": {
        "colab": {
          "base_uri": "https://localhost:8080/"
        },
        "id": "xV8_dpQm8idV",
        "outputId": "78187131-fe90-4b8a-e121-da1929e9a6ca"
      },
      "execution_count": 17,
      "outputs": [
        {
          "output_type": "stream",
          "name": "stdout",
          "text": [
            "Model: \"model\"\n",
            "__________________________________________________________________________________________________\n",
            " Layer (type)                Output Shape                 Param #   Connected to                  \n",
            "==================================================================================================\n",
            " input_1 (InputLayer)        [(None, 200, 200, 3)]        0         []                            \n",
            "                                                                                                  \n",
            " block1_conv1 (Conv2D)       (None, 200, 200, 64)         1792      ['input_1[0][0]']             \n",
            "                                                                                                  \n",
            " block1_conv2 (Conv2D)       (None, 200, 200, 64)         36928     ['block1_conv1[0][0]']        \n",
            "                                                                                                  \n",
            " block1_pool (MaxPooling2D)  (None, 100, 100, 64)         0         ['block1_conv2[0][0]']        \n",
            "                                                                                                  \n",
            " block2_conv1 (Conv2D)       (None, 100, 100, 128)        73856     ['block1_pool[0][0]']         \n",
            "                                                                                                  \n",
            " block2_conv2 (Conv2D)       (None, 100, 100, 128)        147584    ['block2_conv1[0][0]']        \n",
            "                                                                                                  \n",
            " block2_pool (MaxPooling2D)  (None, 50, 50, 128)          0         ['block2_conv2[0][0]']        \n",
            "                                                                                                  \n",
            " block3_conv1 (Conv2D)       (None, 50, 50, 256)          295168    ['block2_pool[0][0]']         \n",
            "                                                                                                  \n",
            " block3_conv2 (Conv2D)       (None, 50, 50, 256)          590080    ['block3_conv1[0][0]']        \n",
            "                                                                                                  \n",
            " block3_conv3 (Conv2D)       (None, 50, 50, 256)          590080    ['block3_conv2[0][0]']        \n",
            "                                                                                                  \n",
            " block3_pool (MaxPooling2D)  (None, 25, 25, 256)          0         ['block3_conv3[0][0]']        \n",
            "                                                                                                  \n",
            " block4_conv1 (Conv2D)       (None, 25, 25, 512)          1180160   ['block3_pool[0][0]']         \n",
            "                                                                                                  \n",
            " block4_conv2 (Conv2D)       (None, 25, 25, 512)          2359808   ['block4_conv1[0][0]']        \n",
            "                                                                                                  \n",
            " block4_conv3 (Conv2D)       (None, 25, 25, 512)          2359808   ['block4_conv2[0][0]']        \n",
            "                                                                                                  \n",
            " block4_pool (MaxPooling2D)  (None, 12, 12, 512)          0         ['block4_conv3[0][0]']        \n",
            "                                                                                                  \n",
            " block5_conv1 (Conv2D)       (None, 12, 12, 512)          2359808   ['block4_pool[0][0]']         \n",
            "                                                                                                  \n",
            " block5_conv2 (Conv2D)       (None, 12, 12, 512)          2359808   ['block5_conv1[0][0]']        \n",
            "                                                                                                  \n",
            " block5_conv3 (Conv2D)       (None, 12, 12, 512)          2359808   ['block5_conv2[0][0]']        \n",
            "                                                                                                  \n",
            " block5_pool (MaxPooling2D)  (None, 6, 6, 512)            0         ['block5_conv3[0][0]']        \n",
            "                                                                                                  \n",
            " flatten (Flatten)           (None, 18432)                0         ['block5_pool[0][0]']         \n",
            "                                                                                                  \n",
            " dense (Dense)               (None, 512)                  9437696   ['flatten[0][0]']             \n",
            "                                                                                                  \n",
            " dense_1 (Dense)             (None, 512)                  9437696   ['flatten[0][0]']             \n",
            "                                                                                                  \n",
            " dense_2 (Dense)             (None, 512)                  262656    ['dense[0][0]']               \n",
            "                                                                                                  \n",
            " dense_3 (Dense)             (None, 512)                  262656    ['dense_1[0][0]']             \n",
            "                                                                                                  \n",
            " Age (Dense)                 (None, 1)                    513       ['dense_2[0][0]']             \n",
            "                                                                                                  \n",
            " Gender (Dense)              (None, 1)                    513       ['dense_3[0][0]']             \n",
            "                                                                                                  \n",
            "==================================================================================================\n",
            "Total params: 34116418 (130.14 MB)\n",
            "Trainable params: 19401730 (74.01 MB)\n",
            "Non-trainable params: 14714688 (56.13 MB)\n",
            "__________________________________________________________________________________________________\n"
          ]
        }
      ]
    },
    {
      "cell_type": "code",
      "source": [
        "# Plotting the Model Architecture\n",
        "\n",
        "from keras.src.utils import plot_model\n",
        "\n",
        "plot_model(model)"
      ],
      "metadata": {
        "colab": {
          "base_uri": "https://localhost:8080/",
          "height": 1000
        },
        "id": "koFSAsbK9_27",
        "outputId": "90c50231-a29a-49a5-c1a1-45fcdb497e27"
      },
      "execution_count": 18,
      "outputs": [
        {
          "output_type": "execute_result",
          "data": {
            "image/png": "[encoded data removed]",
            "text/plain": [
              "<IPython.core.display.Image object>"
            ]
          },
          "metadata": {},
          "execution_count": 18
        }
      ]
    },
    {
      "cell_type": "code",
      "source": [
        "# compiling the model\n",
        "# Since there are 2 Output, she we will have to define 2 loss and 2 metrics,\n",
        "# regression(Age) : loss = 'mse' , metrics ='mse'\n",
        "# classification(Gender) : loss = 'binary_crossentropy' , metrics = 'accuracy'\n",
        "\n",
        "model.compile(optimizer = 'adam', loss = {'Age':'mse', 'Gender':'binary_crossentropy'}, metrics ={'Age':'mse','Gender': 'accuracy'})"
      ],
      "metadata": {
        "id": "wHbwVY4e-Ign"
      },
      "execution_count": 19,
      "outputs": []
    },
    {
      "cell_type": "code",
      "source": [
        "## Training the Model\n",
        "\n",
        "history = model.fit(train_gen, batch_size = 32, epochs=10, validation_data = test_gen)"
      ],
      "metadata": {
        "colab": {
          "base_uri": "https://localhost:8080/"
        },
        "id": "NPDyxYuc-qtZ",
        "outputId": "f2f25a3b-b45b-4de3-9de2-d0c1fe2a51ad"
      },
      "execution_count": 20,
      "outputs": [
        {
          "output_type": "stream",
          "name": "stdout",
          "text": [
            "Epoch 1/10\n",
            "625/625 [==============================] - 255s 383ms/step - loss: 203.3819 - Age_loss: 202.8591 - Gender_loss: 0.5227 - Age_mse: 202.8591 - Gender_accuracy: 0.7437 - val_loss: 208.6685 - val_Age_loss: 208.3149 - val_Gender_loss: 0.3537 - val_Age_mse: 208.3149 - val_Gender_accuracy: 0.8452\n",
            "Epoch 2/10\n",
            "625/625 [==============================] - 238s 381ms/step - loss: 164.0625 - Age_loss: 163.6280 - Gender_loss: 0.4344 - Age_mse: 163.6280 - Gender_accuracy: 0.7919 - val_loss: 131.1606 - val_Age_loss: 130.8329 - val_Gender_loss: 0.3277 - val_Age_mse: 130.8329 - val_Gender_accuracy: 0.8517\n",
            "Epoch 3/10\n",
            "625/625 [==============================] - 241s 385ms/step - loss: 153.8909 - Age_loss: 153.4754 - Gender_loss: 0.4155 - Age_mse: 153.4754 - Gender_accuracy: 0.8016 - val_loss: 132.0109 - val_Age_loss: 131.6935 - val_Gender_loss: 0.3175 - val_Age_mse: 131.6935 - val_Gender_accuracy: 0.8536\n",
            "Epoch 4/10\n",
            "625/625 [==============================] - 242s 387ms/step - loss: 149.9598 - Age_loss: 149.5479 - Gender_loss: 0.4118 - Age_mse: 149.5479 - Gender_accuracy: 0.8038 - val_loss: 120.6950 - val_Age_loss: 120.3812 - val_Gender_loss: 0.3138 - val_Age_mse: 120.3812 - val_Gender_accuracy: 0.8587\n",
            "Epoch 5/10\n",
            "625/625 [==============================] - 238s 381ms/step - loss: 143.6255 - Age_loss: 143.2289 - Gender_loss: 0.3966 - Age_mse: 143.2289 - Gender_accuracy: 0.8127 - val_loss: 121.5932 - val_Age_loss: 121.2855 - val_Gender_loss: 0.3077 - val_Age_mse: 121.2855 - val_Gender_accuracy: 0.8630\n",
            "Epoch 6/10\n",
            "625/625 [==============================] - 246s 394ms/step - loss: 140.3062 - Age_loss: 139.9265 - Gender_loss: 0.3796 - Age_mse: 139.9265 - Gender_accuracy: 0.8266 - val_loss: 113.1387 - val_Age_loss: 112.8349 - val_Gender_loss: 0.3038 - val_Age_mse: 112.8349 - val_Gender_accuracy: 0.8630\n",
            "Epoch 7/10\n",
            "625/625 [==============================] - 240s 384ms/step - loss: 137.5237 - Age_loss: 137.1401 - Gender_loss: 0.3836 - Age_mse: 137.1401 - Gender_accuracy: 0.8237 - val_loss: 106.4103 - val_Age_loss: 106.0867 - val_Gender_loss: 0.3236 - val_Age_mse: 106.0867 - val_Gender_accuracy: 0.8484\n",
            "Epoch 8/10\n",
            "625/625 [==============================] - 246s 393ms/step - loss: 134.7173 - Age_loss: 134.3369 - Gender_loss: 0.3804 - Age_mse: 134.3369 - Gender_accuracy: 0.8237 - val_loss: 109.7483 - val_Age_loss: 109.4305 - val_Gender_loss: 0.3177 - val_Age_mse: 109.4305 - val_Gender_accuracy: 0.8598\n",
            "Epoch 9/10\n",
            "625/625 [==============================] - 241s 386ms/step - loss: 131.3607 - Age_loss: 130.9855 - Gender_loss: 0.3751 - Age_mse: 130.9855 - Gender_accuracy: 0.8264 - val_loss: 112.1052 - val_Age_loss: 111.7977 - val_Gender_loss: 0.3075 - val_Age_mse: 111.7977 - val_Gender_accuracy: 0.8595\n",
            "Epoch 10/10\n",
            "625/625 [==============================] - 241s 386ms/step - loss: 130.3530 - Age_loss: 129.9821 - Gender_loss: 0.3710 - Age_mse: 129.9821 - Gender_accuracy: 0.8290 - val_loss: 153.6616 - val_Age_loss: 153.3626 - val_Gender_loss: 0.2990 - val_Age_mse: 153.3626 - val_Gender_accuracy: 0.8673\n"
          ]
        }
      ]
    },
    {
      "cell_type": "code",
      "source": [],
      "metadata": {
        "id": "wa6aPOfYLK-o"
      },
      "execution_count": null,
      "outputs": []
    }
  ]
}