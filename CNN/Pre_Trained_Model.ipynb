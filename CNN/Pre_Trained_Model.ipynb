{
  "nbformat": 4,
  "nbformat_minor": 0,
  "metadata": {
    "colab": {
      "provenance": []
    },
    "kernelspec": {
      "name": "python3",
      "display_name": "Python 3"
    },
    "language_info": {
      "name": "python"
    }
  },
  "cells": [
    {
      "cell_type": "code",
      "execution_count": 12,
      "metadata": {
        "id": "PgVXACwylv6z"
      },
      "outputs": [],
      "source": [
        "# Importing Dependencies\n",
        "\n",
        "import tensorflow as tf\n",
        "from tensorflow import keras\n",
        "from keras.preprocessing import image\n",
        "from keras.applications import resnet50\n",
        "from keras.applications.resnet50 import ResNet50, preprocess_input, decode_predictions\n",
        "\n",
        "import numpy as np"
      ]
    },
    {
      "cell_type": "code",
      "source": [
        "# Loading the Model\n",
        "\n",
        "model = ResNet50(weights = 'imagenet')"
      ],
      "metadata": {
        "colab": {
          "base_uri": "https://localhost:8080/"
        },
        "id": "YO_zeXfPmbZ-",
        "outputId": "c2499d25-13f7-4677-eba4-ce605100dc58"
      },
      "execution_count": 4,
      "outputs": [
        {
          "output_type": "stream",
          "name": "stdout",
          "text": [
            "Downloading data from https://storage.googleapis.com/tensorflow/keras-applications/resnet/resnet50_weights_tf_dim_ordering_tf_kernels.h5\n",
            "102967424/102967424 [==============================] - 1s 0us/step\n"
          ]
        }
      ]
    },
    {
      "cell_type": "code",
      "source": [
        "img_path = '/content/Bread.jpeg'\n",
        "bread_image = image.load_img(img_path, target_size = (224,224))\n",
        "bread_image_arry = image.img_to_array(bread_image) # Converting Into Array\n",
        "\n",
        "bread_image_arry = np.expand_dims(bread_image_arry, axis =0) # Converting into Batch\n",
        "\n",
        "bread_image_arry = preprocess_input(bread_image_arry) # The images are converted from RGB to BGR, then each color channel is\n",
        "                                                      #zero-centered with respect to the ImageNet dataset, without scaling.\n",
        "\n",
        "# Do the Model predictions\n",
        "\n",
        "pred = model.predict(bread_image_arry)\n",
        "\n",
        "# Printing Top 3 Predictions\n",
        "\n",
        "print('Predictions : ', decode_predictions(pred, top=3)[0])"
      ],
      "metadata": {
        "colab": {
          "base_uri": "https://localhost:8080/"
        },
        "id": "em9_0Tt5mmxs",
        "outputId": "d8e67ffb-153d-4b8e-df73-2deda416274f"
      },
      "execution_count": 10,
      "outputs": [
        {
          "output_type": "stream",
          "name": "stdout",
          "text": [
            "1/1 [==============================] - 0s 205ms/step\n",
            "Predictions :  [('n07684084', 'French_loaf', 0.9601534), ('n03961711', 'plate_rack', 0.0063564326), ('n02776631', 'bakery', 0.0060672886)]\n"
          ]
        }
      ]
    },
    {
      "cell_type": "code",
      "source": [],
      "metadata": {
        "id": "ERNL3_OFrOpz"
      },
      "execution_count": null,
      "outputs": []
    }
  ]
}