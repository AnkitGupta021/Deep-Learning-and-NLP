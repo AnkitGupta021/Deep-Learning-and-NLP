{
 "cells": [
  {
   "cell_type": "markdown",
   "id": "eea49ff9",
   "metadata": {},
   "source": [
    "POS Tagging (Parts of Speech Tagging) in simple words is a task of labelling each word in sentence with its appropriate part of speech.\n",
    "In traditional grammer, a part of sepech os a category of words that have similar grammetical properties.\n",
    "In this code we will used spacy library to do POS tagging\n",
    "#### POS Tagging is Pre-processing Step"
   ]
  },
  {
   "cell_type": "code",
   "execution_count": 1,
   "id": "9e79b2f8",
   "metadata": {},
   "outputs": [],
   "source": [
    "import spacy"
   ]
  },
  {
   "cell_type": "code",
   "execution_count": 2,
   "id": "c7b37d33",
   "metadata": {},
   "outputs": [],
   "source": [
    "# To perform the tast we use spacy.load() and we pass 'en_core_web_sm'\n",
    "# This will import english language dictionary\n",
    "\n",
    "nlp = spacy.load('en_core_web_sm')"
   ]
  },
  {
   "cell_type": "code",
   "execution_count": 3,
   "id": "be4ab7af",
   "metadata": {},
   "outputs": [],
   "source": [
    "# Create document > Documents are basically sentences on which we need to work.\n",
    "# We create document using nlp object \n",
    "\n",
    "doc = nlp(u'I will google about facebook')"
   ]
  },
  {
   "cell_type": "code",
   "execution_count": 4,
   "id": "fe1e0fb7",
   "metadata": {},
   "outputs": [
    {
     "data": {
      "text/plain": [
       "'I will google about facebook'"
      ]
     },
     "execution_count": 4,
     "metadata": {},
     "output_type": "execute_result"
    }
   ],
   "source": [
    "# This doc object has some attributes, one of them is .text which will return the entire document as it is.\n",
    "doc.text"
   ]
  },
  {
   "cell_type": "code",
   "execution_count": 5,
   "id": "15b2177c",
   "metadata": {},
   "outputs": [
    {
     "data": {
      "text/plain": [
       "I"
      ]
     },
     "execution_count": 5,
     "metadata": {},
     "output_type": "execute_result"
    }
   ],
   "source": [
    "# Indexing can use on this document object to extract each word of the document, like list\n",
    "\n",
    "doc[0]  # will give 1st word of the document "
   ]
  },
  {
   "cell_type": "code",
   "execution_count": 6,
   "id": "8fbf79fe",
   "metadata": {},
   "outputs": [
    {
     "data": {
      "text/plain": [
       "will"
      ]
     },
     "execution_count": 6,
     "metadata": {},
     "output_type": "execute_result"
    }
   ],
   "source": [
    "doc[1] # wil give 2nd word of the document"
   ]
  },
  {
   "cell_type": "code",
   "execution_count": 7,
   "id": "8cb5051b",
   "metadata": {},
   "outputs": [
    {
     "data": {
      "text/plain": [
       "facebook"
      ]
     },
     "execution_count": 7,
     "metadata": {},
     "output_type": "execute_result"
    }
   ],
   "source": [
    "doc[-1] # will give last word of the document"
   ]
  },
  {
   "cell_type": "code",
   "execution_count": 8,
   "id": "cb2c87a8",
   "metadata": {},
   "outputs": [
    {
     "data": {
      "text/plain": [
       "'I'"
      ]
     },
     "execution_count": 8,
     "metadata": {},
     "output_type": "execute_result"
    }
   ],
   "source": [
    "# We can also use .text and indexing to print each word\n",
    "\n",
    "doc[0].text"
   ]
  },
  {
   "cell_type": "code",
   "execution_count": 9,
   "id": "c1fec033",
   "metadata": {},
   "outputs": [
    {
     "data": {
      "text/plain": [
       "'PRON'"
      ]
     },
     "execution_count": 9,
     "metadata": {},
     "output_type": "execute_result"
    }
   ],
   "source": [
    "# Now as soon as we create a document its pos tagging is done automatically.\n",
    "# There are 2 type of POS tagging\n",
    "# > Coarse gained POS tagging - In coarse-grained tagging, words are assigned to broader categories, \n",
    "# usually collapsing several related fine-grained categories into a single, more general category.\n",
    "# For example, in a coarse-grained tagging system, various types of nouns like proper nouns, common nouns, \n",
    "# and pronouns might all be labeled simply as \"Noun.\"\n",
    "# To access the coarse gained tagging of a particular word, we use indexing followed by the attribue , .pos_\n",
    "\n",
    "# > Fine gained POS Tagging - In fine-grained tagging, the system differentiates between more specific grammatical \n",
    "# categories, providing a more detailed analysis of the text.\n",
    "#For instance, in a fine-grained tagging system, nouns may be further categorized into proper nouns, common nouns\n",
    "# and pronouns, each receiving a distinct tag.\n",
    "# # To access the coarse gained tagging of a particular word, we use indexing followed by the attribue , .tag_\n",
    "\n",
    "\n",
    "# To check the POS tagging of a particular word, we use Indexing then then use attribute .pos_\n",
    "\n",
    "#To check Coarse graind POS tagging for the 1st word.\n",
    "\n",
    "doc[0].pos_"
   ]
  },
  {
   "cell_type": "code",
   "execution_count": 10,
   "id": "228c3fcf",
   "metadata": {},
   "outputs": [
    {
     "data": {
      "text/plain": [
       "'PRP'"
      ]
     },
     "execution_count": 10,
     "metadata": {},
     "output_type": "execute_result"
    }
   ],
   "source": [
    "#To check Fine graind POS tagging for the 1st word. (More Detailed Version)\n",
    "\n",
    "doc[0].tag_"
   ]
  },
  {
   "cell_type": "code",
   "execution_count": 11,
   "id": "9bb3489d",
   "metadata": {},
   "outputs": [
    {
     "data": {
      "text/plain": [
       "'verb, base form'"
      ]
     },
     "execution_count": 11,
     "metadata": {},
     "output_type": "execute_result"
    }
   ],
   "source": [
    "#Some we don't under a particular abbreviation given give python like PRP,PRON so to check the abbreviation\n",
    "# we using the attribute spacy.explain(<abbreivation name>)\n",
    "\n",
    "spacy.explain('VB')"
   ]
  },
  {
   "cell_type": "code",
   "execution_count": 12,
   "id": "76de45f8",
   "metadata": {},
   "outputs": [
    {
     "name": "stdout",
     "output_type": "stream",
     "text": [
      "I ---> PRON PRP pronoun, personal\n",
      "will ---> AUX MD verb, modal auxiliary\n",
      "google ---> VERB VB verb, base form\n",
      "about ---> ADP IN conjunction, subordinating or preposition\n",
      "facebook ---> NOUN NN noun, singular or mass\n"
     ]
    }
   ],
   "source": [
    "# Since the document is an iterable object we can use loop to print each word in a document, along with its \n",
    "# Coarse Grained POS Tagging, Fine Gained POS tagging and Explaining the abbreviation of Fine Gained POS Tagging\n",
    "\n",
    "for word in doc:\n",
    "    print(word.text,\"--->\",word.pos_, word.tag_,spacy.explain(word.tag_))"
   ]
  },
  {
   "cell_type": "code",
   "execution_count": 13,
   "id": "5f01b2fd",
   "metadata": {},
   "outputs": [
    {
     "name": "stdout",
     "output_type": "stream",
     "text": [
      "I ---> PRON PRP pronoun, personal\n",
      "left ---> VERB VBD verb, past tense\n",
      "the ---> DET DT determiner\n",
      "room ---> NOUN NN noun, singular or mass\n"
     ]
    }
   ],
   "source": [
    "# print details of Document 2\n",
    "doc2 = nlp(u'I left the room')\n",
    "for word in doc2:\n",
    "    print(word.text,\"--->\",word.pos_, word.tag_,spacy.explain(word.tag_))"
   ]
  },
  {
   "cell_type": "code",
   "execution_count": 14,
   "id": "421539bd",
   "metadata": {},
   "outputs": [
    {
     "name": "stdout",
     "output_type": "stream",
     "text": [
      "To ---> ADP IN conjunction, subordinating or preposition\n",
      "the ---> DET DT determiner\n",
      "left ---> NOUN NN noun, singular or mass\n",
      "of ---> ADP IN conjunction, subordinating or preposition\n",
      "the ---> DET DT determiner\n",
      "room ---> NOUN NN noun, singular or mass\n"
     ]
    }
   ],
   "source": [
    "# print details of Document 2\n",
    "\n",
    "doc3 = nlp(u'To the left of the room')\n",
    "for word in doc3:\n",
    "    print(word.text,\"--->\",word.pos_, word.tag_,spacy.explain(word.tag_))"
   ]
  },
  {
   "cell_type": "code",
   "execution_count": 15,
   "id": "803ca413",
   "metadata": {},
   "outputs": [
    {
     "name": "stdout",
     "output_type": "stream",
     "text": [
      "I ---> PRON PRP pronoun, personal\n",
      "read ---> VERB VBP verb, non-3rd person singular present\n",
      "books ---> NOUN NNS noun, plural\n",
      "on ---> ADP IN conjunction, subordinating or preposition\n",
      "history ---> NOUN NN noun, singular or mass\n"
     ]
    }
   ],
   "source": [
    "# print details of Document 2\n",
    "\n",
    "doc4 = nlp(u'I read books on history')\n",
    "for word in doc4:\n",
    "    print(word.text,\"--->\",word.pos_, word.tag_,spacy.explain(word.tag_))"
   ]
  },
  {
   "cell_type": "code",
   "execution_count": 16,
   "id": "2568e1de",
   "metadata": {},
   "outputs": [
    {
     "name": "stdout",
     "output_type": "stream",
     "text": [
      "I ---> PRON PRP pronoun, personal\n",
      "have ---> AUX VBP verb, non-3rd person singular present\n",
      "read ---> VERB VBN verb, past participle\n",
      "a ---> DET DT determiner\n",
      "book ---> NOUN NN noun, singular or mass\n",
      "on ---> ADP IN conjunction, subordinating or preposition\n",
      "history ---> NOUN NN noun, singular or mass\n"
     ]
    }
   ],
   "source": [
    "# print details of Document 2\n",
    "\n",
    "doc5 = nlp(u'I have read a book on history')\n",
    "for word in doc5:\n",
    "    print(word.text,\"--->\",word.pos_, word.tag_,spacy.explain(word.tag_))"
   ]
  },
  {
   "cell_type": "code",
   "execution_count": 17,
   "id": "bcf1f459",
   "metadata": {},
   "outputs": [
    {
     "data": {
      "text/html": [
       "<span class=\"tex2jax_ignore\"><svg xmlns=\"http://www.w3.org/2000/svg\" xmlns:xlink=\"http://www.w3.org/1999/xlink\" xml:lang=\"en\" id=\"985ccf13a27f4886b3a03cec4c2728d1-0\" class=\"displacy\" width=\"1625\" height=\"399.5\" direction=\"ltr\" style=\"max-width: none; height: 399.5px; color: #000000; background: #ffffff; font-family: Arial; direction: ltr\">\n",
       "<text class=\"displacy-token\" fill=\"currentColor\" text-anchor=\"middle\" y=\"309.5\">\n",
       "    <tspan class=\"displacy-word\" fill=\"currentColor\" x=\"50\">The</tspan>\n",
       "    <tspan class=\"displacy-tag\" dy=\"2em\" fill=\"currentColor\" x=\"50\">DET</tspan>\n",
       "</text>\n",
       "\n",
       "<text class=\"displacy-token\" fill=\"currentColor\" text-anchor=\"middle\" y=\"309.5\">\n",
       "    <tspan class=\"displacy-word\" fill=\"currentColor\" x=\"225\">quick</tspan>\n",
       "    <tspan class=\"displacy-tag\" dy=\"2em\" fill=\"currentColor\" x=\"225\">ADJ</tspan>\n",
       "</text>\n",
       "\n",
       "<text class=\"displacy-token\" fill=\"currentColor\" text-anchor=\"middle\" y=\"309.5\">\n",
       "    <tspan class=\"displacy-word\" fill=\"currentColor\" x=\"400\">brown</tspan>\n",
       "    <tspan class=\"displacy-tag\" dy=\"2em\" fill=\"currentColor\" x=\"400\">ADJ</tspan>\n",
       "</text>\n",
       "\n",
       "<text class=\"displacy-token\" fill=\"currentColor\" text-anchor=\"middle\" y=\"309.5\">\n",
       "    <tspan class=\"displacy-word\" fill=\"currentColor\" x=\"575\">fox</tspan>\n",
       "    <tspan class=\"displacy-tag\" dy=\"2em\" fill=\"currentColor\" x=\"575\">NOUN</tspan>\n",
       "</text>\n",
       "\n",
       "<text class=\"displacy-token\" fill=\"currentColor\" text-anchor=\"middle\" y=\"309.5\">\n",
       "    <tspan class=\"displacy-word\" fill=\"currentColor\" x=\"750\">jumped</tspan>\n",
       "    <tspan class=\"displacy-tag\" dy=\"2em\" fill=\"currentColor\" x=\"750\">VERB</tspan>\n",
       "</text>\n",
       "\n",
       "<text class=\"displacy-token\" fill=\"currentColor\" text-anchor=\"middle\" y=\"309.5\">\n",
       "    <tspan class=\"displacy-word\" fill=\"currentColor\" x=\"925\">over</tspan>\n",
       "    <tspan class=\"displacy-tag\" dy=\"2em\" fill=\"currentColor\" x=\"925\">ADP</tspan>\n",
       "</text>\n",
       "\n",
       "<text class=\"displacy-token\" fill=\"currentColor\" text-anchor=\"middle\" y=\"309.5\">\n",
       "    <tspan class=\"displacy-word\" fill=\"currentColor\" x=\"1100\">the</tspan>\n",
       "    <tspan class=\"displacy-tag\" dy=\"2em\" fill=\"currentColor\" x=\"1100\">DET</tspan>\n",
       "</text>\n",
       "\n",
       "<text class=\"displacy-token\" fill=\"currentColor\" text-anchor=\"middle\" y=\"309.5\">\n",
       "    <tspan class=\"displacy-word\" fill=\"currentColor\" x=\"1275\">lazy</tspan>\n",
       "    <tspan class=\"displacy-tag\" dy=\"2em\" fill=\"currentColor\" x=\"1275\">ADJ</tspan>\n",
       "</text>\n",
       "\n",
       "<text class=\"displacy-token\" fill=\"currentColor\" text-anchor=\"middle\" y=\"309.5\">\n",
       "    <tspan class=\"displacy-word\" fill=\"currentColor\" x=\"1450\">dog</tspan>\n",
       "    <tspan class=\"displacy-tag\" dy=\"2em\" fill=\"currentColor\" x=\"1450\">NOUN</tspan>\n",
       "</text>\n",
       "\n",
       "<g class=\"displacy-arrow\">\n",
       "    <path class=\"displacy-arc\" id=\"arrow-985ccf13a27f4886b3a03cec4c2728d1-0-0\" stroke-width=\"2px\" d=\"M70,264.5 C70,2.0 575.0,2.0 575.0,264.5\" fill=\"none\" stroke=\"currentColor\"/>\n",
       "    <text dy=\"1.25em\" style=\"font-size: 0.8em; letter-spacing: 1px\">\n",
       "        <textPath xlink:href=\"#arrow-985ccf13a27f4886b3a03cec4c2728d1-0-0\" class=\"displacy-label\" startOffset=\"50%\" side=\"left\" fill=\"currentColor\" text-anchor=\"middle\">det</textPath>\n",
       "    </text>\n",
       "    <path class=\"displacy-arrowhead\" d=\"M70,266.5 L62,254.5 78,254.5\" fill=\"currentColor\"/>\n",
       "</g>\n",
       "\n",
       "<g class=\"displacy-arrow\">\n",
       "    <path class=\"displacy-arc\" id=\"arrow-985ccf13a27f4886b3a03cec4c2728d1-0-1\" stroke-width=\"2px\" d=\"M245,264.5 C245,89.5 570.0,89.5 570.0,264.5\" fill=\"none\" stroke=\"currentColor\"/>\n",
       "    <text dy=\"1.25em\" style=\"font-size: 0.8em; letter-spacing: 1px\">\n",
       "        <textPath xlink:href=\"#arrow-985ccf13a27f4886b3a03cec4c2728d1-0-1\" class=\"displacy-label\" startOffset=\"50%\" side=\"left\" fill=\"currentColor\" text-anchor=\"middle\">amod</textPath>\n",
       "    </text>\n",
       "    <path class=\"displacy-arrowhead\" d=\"M245,266.5 L237,254.5 253,254.5\" fill=\"currentColor\"/>\n",
       "</g>\n",
       "\n",
       "<g class=\"displacy-arrow\">\n",
       "    <path class=\"displacy-arc\" id=\"arrow-985ccf13a27f4886b3a03cec4c2728d1-0-2\" stroke-width=\"2px\" d=\"M420,264.5 C420,177.0 565.0,177.0 565.0,264.5\" fill=\"none\" stroke=\"currentColor\"/>\n",
       "    <text dy=\"1.25em\" style=\"font-size: 0.8em; letter-spacing: 1px\">\n",
       "        <textPath xlink:href=\"#arrow-985ccf13a27f4886b3a03cec4c2728d1-0-2\" class=\"displacy-label\" startOffset=\"50%\" side=\"left\" fill=\"currentColor\" text-anchor=\"middle\">amod</textPath>\n",
       "    </text>\n",
       "    <path class=\"displacy-arrowhead\" d=\"M420,266.5 L412,254.5 428,254.5\" fill=\"currentColor\"/>\n",
       "</g>\n",
       "\n",
       "<g class=\"displacy-arrow\">\n",
       "    <path class=\"displacy-arc\" id=\"arrow-985ccf13a27f4886b3a03cec4c2728d1-0-3\" stroke-width=\"2px\" d=\"M595,264.5 C595,177.0 740.0,177.0 740.0,264.5\" fill=\"none\" stroke=\"currentColor\"/>\n",
       "    <text dy=\"1.25em\" style=\"font-size: 0.8em; letter-spacing: 1px\">\n",
       "        <textPath xlink:href=\"#arrow-985ccf13a27f4886b3a03cec4c2728d1-0-3\" class=\"displacy-label\" startOffset=\"50%\" side=\"left\" fill=\"currentColor\" text-anchor=\"middle\">nsubj</textPath>\n",
       "    </text>\n",
       "    <path class=\"displacy-arrowhead\" d=\"M595,266.5 L587,254.5 603,254.5\" fill=\"currentColor\"/>\n",
       "</g>\n",
       "\n",
       "<g class=\"displacy-arrow\">\n",
       "    <path class=\"displacy-arc\" id=\"arrow-985ccf13a27f4886b3a03cec4c2728d1-0-4\" stroke-width=\"2px\" d=\"M770,264.5 C770,177.0 915.0,177.0 915.0,264.5\" fill=\"none\" stroke=\"currentColor\"/>\n",
       "    <text dy=\"1.25em\" style=\"font-size: 0.8em; letter-spacing: 1px\">\n",
       "        <textPath xlink:href=\"#arrow-985ccf13a27f4886b3a03cec4c2728d1-0-4\" class=\"displacy-label\" startOffset=\"50%\" side=\"left\" fill=\"currentColor\" text-anchor=\"middle\">prep</textPath>\n",
       "    </text>\n",
       "    <path class=\"displacy-arrowhead\" d=\"M915.0,266.5 L923.0,254.5 907.0,254.5\" fill=\"currentColor\"/>\n",
       "</g>\n",
       "\n",
       "<g class=\"displacy-arrow\">\n",
       "    <path class=\"displacy-arc\" id=\"arrow-985ccf13a27f4886b3a03cec4c2728d1-0-5\" stroke-width=\"2px\" d=\"M1120,264.5 C1120,89.5 1445.0,89.5 1445.0,264.5\" fill=\"none\" stroke=\"currentColor\"/>\n",
       "    <text dy=\"1.25em\" style=\"font-size: 0.8em; letter-spacing: 1px\">\n",
       "        <textPath xlink:href=\"#arrow-985ccf13a27f4886b3a03cec4c2728d1-0-5\" class=\"displacy-label\" startOffset=\"50%\" side=\"left\" fill=\"currentColor\" text-anchor=\"middle\">det</textPath>\n",
       "    </text>\n",
       "    <path class=\"displacy-arrowhead\" d=\"M1120,266.5 L1112,254.5 1128,254.5\" fill=\"currentColor\"/>\n",
       "</g>\n",
       "\n",
       "<g class=\"displacy-arrow\">\n",
       "    <path class=\"displacy-arc\" id=\"arrow-985ccf13a27f4886b3a03cec4c2728d1-0-6\" stroke-width=\"2px\" d=\"M1295,264.5 C1295,177.0 1440.0,177.0 1440.0,264.5\" fill=\"none\" stroke=\"currentColor\"/>\n",
       "    <text dy=\"1.25em\" style=\"font-size: 0.8em; letter-spacing: 1px\">\n",
       "        <textPath xlink:href=\"#arrow-985ccf13a27f4886b3a03cec4c2728d1-0-6\" class=\"displacy-label\" startOffset=\"50%\" side=\"left\" fill=\"currentColor\" text-anchor=\"middle\">amod</textPath>\n",
       "    </text>\n",
       "    <path class=\"displacy-arrowhead\" d=\"M1295,266.5 L1287,254.5 1303,254.5\" fill=\"currentColor\"/>\n",
       "</g>\n",
       "\n",
       "<g class=\"displacy-arrow\">\n",
       "    <path class=\"displacy-arc\" id=\"arrow-985ccf13a27f4886b3a03cec4c2728d1-0-7\" stroke-width=\"2px\" d=\"M945,264.5 C945,2.0 1450.0,2.0 1450.0,264.5\" fill=\"none\" stroke=\"currentColor\"/>\n",
       "    <text dy=\"1.25em\" style=\"font-size: 0.8em; letter-spacing: 1px\">\n",
       "        <textPath xlink:href=\"#arrow-985ccf13a27f4886b3a03cec4c2728d1-0-7\" class=\"displacy-label\" startOffset=\"50%\" side=\"left\" fill=\"currentColor\" text-anchor=\"middle\">pobj</textPath>\n",
       "    </text>\n",
       "    <path class=\"displacy-arrowhead\" d=\"M1450.0,266.5 L1458.0,254.5 1442.0,254.5\" fill=\"currentColor\"/>\n",
       "</g>\n",
       "</svg></span>"
      ],
      "text/plain": [
       "<IPython.core.display.HTML object>"
      ]
     },
     "metadata": {},
     "output_type": "display_data"
    }
   ],
   "source": [
    "# Visualization of POS Tagging\n",
    "# To plot the POS Tagging, we use a function in spcay library name displacy.render()\n",
    "# We pass 3 argument here,\n",
    "# < document name , style, jupyter=True (since we are working in jupyter notebook)\n",
    "\n",
    "doc6 = nlp(u'The quick brown fox jumped over the lazy dog')\n",
    "\n",
    "spacy.displacy.render(doc6,style='dep', jupyter=True)"
   ]
  },
  {
   "cell_type": "code",
   "execution_count": 18,
   "id": "a49c62f5",
   "metadata": {},
   "outputs": [
    {
     "data": {
      "text/html": [
       "<span class=\"tex2jax_ignore\"><svg xmlns=\"http://www.w3.org/2000/svg\" xmlns:xlink=\"http://www.w3.org/1999/xlink\" xml:lang=\"en\" id=\"acbe78ed059040ee81b9b8c8b020ee37-0\" class=\"displacy\" width=\"770\" height=\"257.0\" direction=\"ltr\" style=\"max-width: none; height: 257.0px; color: #fff; background: #00a65a; font-family: Arial; direction: ltr\">\n",
       "<text class=\"displacy-token\" fill=\"currentColor\" text-anchor=\"middle\" y=\"167.0\">\n",
       "    <tspan class=\"displacy-word\" fill=\"currentColor\" x=\"50\">The</tspan>\n",
       "    <tspan class=\"displacy-tag\" dy=\"2em\" fill=\"currentColor\" x=\"50\">DET</tspan>\n",
       "</text>\n",
       "\n",
       "<text class=\"displacy-token\" fill=\"currentColor\" text-anchor=\"middle\" y=\"167.0\">\n",
       "    <tspan class=\"displacy-word\" fill=\"currentColor\" x=\"130\">quick</tspan>\n",
       "    <tspan class=\"displacy-tag\" dy=\"2em\" fill=\"currentColor\" x=\"130\">ADJ</tspan>\n",
       "</text>\n",
       "\n",
       "<text class=\"displacy-token\" fill=\"currentColor\" text-anchor=\"middle\" y=\"167.0\">\n",
       "    <tspan class=\"displacy-word\" fill=\"currentColor\" x=\"210\">brown</tspan>\n",
       "    <tspan class=\"displacy-tag\" dy=\"2em\" fill=\"currentColor\" x=\"210\">ADJ</tspan>\n",
       "</text>\n",
       "\n",
       "<text class=\"displacy-token\" fill=\"currentColor\" text-anchor=\"middle\" y=\"167.0\">\n",
       "    <tspan class=\"displacy-word\" fill=\"currentColor\" x=\"290\">fox</tspan>\n",
       "    <tspan class=\"displacy-tag\" dy=\"2em\" fill=\"currentColor\" x=\"290\">NOUN</tspan>\n",
       "</text>\n",
       "\n",
       "<text class=\"displacy-token\" fill=\"currentColor\" text-anchor=\"middle\" y=\"167.0\">\n",
       "    <tspan class=\"displacy-word\" fill=\"currentColor\" x=\"370\">jumped</tspan>\n",
       "    <tspan class=\"displacy-tag\" dy=\"2em\" fill=\"currentColor\" x=\"370\">VERB</tspan>\n",
       "</text>\n",
       "\n",
       "<text class=\"displacy-token\" fill=\"currentColor\" text-anchor=\"middle\" y=\"167.0\">\n",
       "    <tspan class=\"displacy-word\" fill=\"currentColor\" x=\"450\">over</tspan>\n",
       "    <tspan class=\"displacy-tag\" dy=\"2em\" fill=\"currentColor\" x=\"450\">ADP</tspan>\n",
       "</text>\n",
       "\n",
       "<text class=\"displacy-token\" fill=\"currentColor\" text-anchor=\"middle\" y=\"167.0\">\n",
       "    <tspan class=\"displacy-word\" fill=\"currentColor\" x=\"530\">the</tspan>\n",
       "    <tspan class=\"displacy-tag\" dy=\"2em\" fill=\"currentColor\" x=\"530\">DET</tspan>\n",
       "</text>\n",
       "\n",
       "<text class=\"displacy-token\" fill=\"currentColor\" text-anchor=\"middle\" y=\"167.0\">\n",
       "    <tspan class=\"displacy-word\" fill=\"currentColor\" x=\"610\">lazy</tspan>\n",
       "    <tspan class=\"displacy-tag\" dy=\"2em\" fill=\"currentColor\" x=\"610\">ADJ</tspan>\n",
       "</text>\n",
       "\n",
       "<text class=\"displacy-token\" fill=\"currentColor\" text-anchor=\"middle\" y=\"167.0\">\n",
       "    <tspan class=\"displacy-word\" fill=\"currentColor\" x=\"690\">dog</tspan>\n",
       "    <tspan class=\"displacy-tag\" dy=\"2em\" fill=\"currentColor\" x=\"690\">NOUN</tspan>\n",
       "</text>\n",
       "\n",
       "<g class=\"displacy-arrow\">\n",
       "    <path class=\"displacy-arc\" id=\"arrow-acbe78ed059040ee81b9b8c8b020ee37-0-0\" stroke-width=\"2px\" d=\"M62,122.0 62,82.0 290.0,82.0 290.0,122.0\" fill=\"none\" stroke=\"currentColor\"/>\n",
       "    <text dy=\"1.25em\" style=\"font-size: 0.8em; letter-spacing: 1px\">\n",
       "        <textPath xlink:href=\"#arrow-acbe78ed059040ee81b9b8c8b020ee37-0-0\" class=\"displacy-label\" startOffset=\"50%\" side=\"left\" fill=\"currentColor\" text-anchor=\"middle\">det</textPath>\n",
       "    </text>\n",
       "    <path class=\"displacy-arrowhead\" d=\"M62,124.0 L58,116.0 66,116.0\" fill=\"currentColor\"/>\n",
       "</g>\n",
       "\n",
       "<g class=\"displacy-arrow\">\n",
       "    <path class=\"displacy-arc\" id=\"arrow-acbe78ed059040ee81b9b8c8b020ee37-0-1\" stroke-width=\"2px\" d=\"M142,122.0 142,95.33333333333333 287.0,95.33333333333333 287.0,122.0\" fill=\"none\" stroke=\"currentColor\"/>\n",
       "    <text dy=\"1.25em\" style=\"font-size: 0.8em; letter-spacing: 1px\">\n",
       "        <textPath xlink:href=\"#arrow-acbe78ed059040ee81b9b8c8b020ee37-0-1\" class=\"displacy-label\" startOffset=\"50%\" side=\"left\" fill=\"currentColor\" text-anchor=\"middle\">amod</textPath>\n",
       "    </text>\n",
       "    <path class=\"displacy-arrowhead\" d=\"M142,124.0 L138,116.0 146,116.0\" fill=\"currentColor\"/>\n",
       "</g>\n",
       "\n",
       "<g class=\"displacy-arrow\">\n",
       "    <path class=\"displacy-arc\" id=\"arrow-acbe78ed059040ee81b9b8c8b020ee37-0-2\" stroke-width=\"2px\" d=\"M222,122.0 222,108.66666666666667 284.0,108.66666666666667 284.0,122.0\" fill=\"none\" stroke=\"currentColor\"/>\n",
       "    <text dy=\"1.25em\" style=\"font-size: 0.8em; letter-spacing: 1px\">\n",
       "        <textPath xlink:href=\"#arrow-acbe78ed059040ee81b9b8c8b020ee37-0-2\" class=\"displacy-label\" startOffset=\"50%\" side=\"left\" fill=\"currentColor\" text-anchor=\"middle\">amod</textPath>\n",
       "    </text>\n",
       "    <path class=\"displacy-arrowhead\" d=\"M222,124.0 L218,116.0 226,116.0\" fill=\"currentColor\"/>\n",
       "</g>\n",
       "\n",
       "<g class=\"displacy-arrow\">\n",
       "    <path class=\"displacy-arc\" id=\"arrow-acbe78ed059040ee81b9b8c8b020ee37-0-3\" stroke-width=\"2px\" d=\"M302,122.0 302,108.66666666666667 364.0,108.66666666666667 364.0,122.0\" fill=\"none\" stroke=\"currentColor\"/>\n",
       "    <text dy=\"1.25em\" style=\"font-size: 0.8em; letter-spacing: 1px\">\n",
       "        <textPath xlink:href=\"#arrow-acbe78ed059040ee81b9b8c8b020ee37-0-3\" class=\"displacy-label\" startOffset=\"50%\" side=\"left\" fill=\"currentColor\" text-anchor=\"middle\">nsubj</textPath>\n",
       "    </text>\n",
       "    <path class=\"displacy-arrowhead\" d=\"M302,124.0 L298,116.0 306,116.0\" fill=\"currentColor\"/>\n",
       "</g>\n",
       "\n",
       "<g class=\"displacy-arrow\">\n",
       "    <path class=\"displacy-arc\" id=\"arrow-acbe78ed059040ee81b9b8c8b020ee37-0-4\" stroke-width=\"2px\" d=\"M382,122.0 382,108.66666666666667 444.0,108.66666666666667 444.0,122.0\" fill=\"none\" stroke=\"currentColor\"/>\n",
       "    <text dy=\"1.25em\" style=\"font-size: 0.8em; letter-spacing: 1px\">\n",
       "        <textPath xlink:href=\"#arrow-acbe78ed059040ee81b9b8c8b020ee37-0-4\" class=\"displacy-label\" startOffset=\"50%\" side=\"left\" fill=\"currentColor\" text-anchor=\"middle\">prep</textPath>\n",
       "    </text>\n",
       "    <path class=\"displacy-arrowhead\" d=\"M444.0,124.0 L448.0,116.0 440.0,116.0\" fill=\"currentColor\"/>\n",
       "</g>\n",
       "\n",
       "<g class=\"displacy-arrow\">\n",
       "    <path class=\"displacy-arc\" id=\"arrow-acbe78ed059040ee81b9b8c8b020ee37-0-5\" stroke-width=\"2px\" d=\"M542,122.0 542,95.33333333333333 687.0,95.33333333333333 687.0,122.0\" fill=\"none\" stroke=\"currentColor\"/>\n",
       "    <text dy=\"1.25em\" style=\"font-size: 0.8em; letter-spacing: 1px\">\n",
       "        <textPath xlink:href=\"#arrow-acbe78ed059040ee81b9b8c8b020ee37-0-5\" class=\"displacy-label\" startOffset=\"50%\" side=\"left\" fill=\"currentColor\" text-anchor=\"middle\">det</textPath>\n",
       "    </text>\n",
       "    <path class=\"displacy-arrowhead\" d=\"M542,124.0 L538,116.0 546,116.0\" fill=\"currentColor\"/>\n",
       "</g>\n",
       "\n",
       "<g class=\"displacy-arrow\">\n",
       "    <path class=\"displacy-arc\" id=\"arrow-acbe78ed059040ee81b9b8c8b020ee37-0-6\" stroke-width=\"2px\" d=\"M622,122.0 622,108.66666666666667 684.0,108.66666666666667 684.0,122.0\" fill=\"none\" stroke=\"currentColor\"/>\n",
       "    <text dy=\"1.25em\" style=\"font-size: 0.8em; letter-spacing: 1px\">\n",
       "        <textPath xlink:href=\"#arrow-acbe78ed059040ee81b9b8c8b020ee37-0-6\" class=\"displacy-label\" startOffset=\"50%\" side=\"left\" fill=\"currentColor\" text-anchor=\"middle\">amod</textPath>\n",
       "    </text>\n",
       "    <path class=\"displacy-arrowhead\" d=\"M622,124.0 L618,116.0 626,116.0\" fill=\"currentColor\"/>\n",
       "</g>\n",
       "\n",
       "<g class=\"displacy-arrow\">\n",
       "    <path class=\"displacy-arc\" id=\"arrow-acbe78ed059040ee81b9b8c8b020ee37-0-7\" stroke-width=\"2px\" d=\"M462,122.0 462,82.0 690.0,82.0 690.0,122.0\" fill=\"none\" stroke=\"currentColor\"/>\n",
       "    <text dy=\"1.25em\" style=\"font-size: 0.8em; letter-spacing: 1px\">\n",
       "        <textPath xlink:href=\"#arrow-acbe78ed059040ee81b9b8c8b020ee37-0-7\" class=\"displacy-label\" startOffset=\"50%\" side=\"left\" fill=\"currentColor\" text-anchor=\"middle\">pobj</textPath>\n",
       "    </text>\n",
       "    <path class=\"displacy-arrowhead\" d=\"M690.0,124.0 L694.0,116.0 686.0,116.0\" fill=\"currentColor\"/>\n",
       "</g>\n",
       "</svg></span>"
      ],
      "text/plain": [
       "<IPython.core.display.HTML object>"
      ]
     },
     "metadata": {},
     "output_type": "display_data"
    }
   ],
   "source": [
    "# Now there we can make our document more informatice by passing different value in option attritute\n",
    "\n",
    "#Creating a dictionary\n",
    "\n",
    "option = {'distance':80,\n",
    "         'compact':True,\n",
    "         'color':'#fff',\n",
    "         'bg':'#00a65a'}\n",
    "\n",
    "#passing in function\n",
    "spacy.displacy.render(doc6, style='dep', options=option)"
   ]
  },
  {
   "cell_type": "markdown",
   "id": "53c974df",
   "metadata": {},
   "source": [
    "## Note: Differnt options can be explored from the official documentation of Spcay Library"
   ]
  },
  {
   "cell_type": "code",
   "execution_count": null,
   "id": "717150af",
   "metadata": {},
   "outputs": [],
   "source": []
  }
 ],
 "metadata": {
  "kernelspec": {
   "display_name": "Python 3 (ipykernel)",
   "language": "python",
   "name": "python3"
  },
  "language_info": {
   "codemirror_mode": {
    "name": "ipython",
    "version": 3
   },
   "file_extension": ".py",
   "mimetype": "text/x-python",
   "name": "python",
   "nbconvert_exporter": "python",
   "pygments_lexer": "ipython3",
   "version": "3.12.7"
  }
 },
 "nbformat": 4,
 "nbformat_minor": 5
}
