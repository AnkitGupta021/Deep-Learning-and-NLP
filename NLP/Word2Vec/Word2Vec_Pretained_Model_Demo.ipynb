{
 "cells": [
  {
   "cell_type": "markdown",
   "metadata": {
    "id": "EhX6zTBzSV-N"
   },
   "source": [
    "The purpose of this code is just to show how word2vec representation look of a particular word in a pretained Model.\n",
    "Here we are using pre-trained Google News Model to see how word2vec actually looks like.\n",
    "Model is trained on 3B words corpus and each vector is of 300-D\n",
    "We are using this model from Kaggle.com.\n",
    "We will just import the model in our collab and then see a a word2vec representation of few words.\n",
    "To get it word2vec is right format we'll gensim library."
   ]
  },
  {
   "cell_type": "code",
   "execution_count": 5,
   "metadata": {
    "id": "CMRQ-vvGMyRr"
   },
   "outputs": [],
   "source": [
    "import gensim\n",
    "from gensim.models import Word2Vec, KeyedVectors"
   ]
  },
  {
   "cell_type": "code",
   "execution_count": 12,
   "metadata": {
    "id": "PNl3M8S-PWtE"
   },
   "outputs": [],
   "source": [
    "!mkdir -p ~/.kaggle\n",
    "!cp kaggle.json ~/.kaggle/"
   ]
  },
  {
   "cell_type": "code",
   "execution_count": 13,
   "metadata": {
    "colab": {
     "base_uri": "https://localhost:8080/"
    },
    "id": "4dihAqhfP8Mn",
    "outputId": "d3da1826-ab5d-4588-9177-27311c8e436a"
   },
   "outputs": [
    {
     "name": "stdout",
     "output_type": "stream",
     "text": [
      "Warning: Your Kaggle API key is readable by other users on this system! To fix this, you can run 'chmod 600 /root/.kaggle/kaggle.json'\n",
      "Downloading googlenewsvectorsnegative300.zip to /content\n",
      "100% 3.17G/3.17G [00:33<00:00, 92.1MB/s]\n",
      "100% 3.17G/3.17G [00:33<00:00, 102MB/s] \n"
     ]
    }
   ],
   "source": [
    "!kaggle datasets download -d leadbest/googlenewsvectorsnegative300"
   ]
  },
  {
   "cell_type": "code",
   "execution_count": 14,
   "metadata": {
    "id": "xIB4QCbWQDl5"
   },
   "outputs": [],
   "source": [
    "import zipfile\n",
    "zip = zipfile.ZipFile('/content/googlenewsvectorsnegative300.zip')\n",
    "zip.extractall('/content/')\n",
    "zip.close()"
   ]
  },
  {
   "cell_type": "code",
   "execution_count": 18,
   "metadata": {
    "id": "w0iZeedBQVbC"
   },
   "outputs": [],
   "source": [
    "#creating a model object\n",
    "\n",
    "model = KeyedVectors.load_word2vec_format('/content/GoogleNews-vectors-negative300.bin', binary = True)"
   ]
  },
  {
   "cell_type": "markdown",
   "metadata": {
    "id": "9MedUeLkTQ9Z"
   },
   "source": [
    "Now this model object consist of vec repsentation of 3B words each 300-D.So we can search any word and it should give us Vec representation for the same."
   ]
  },
  {
   "cell_type": "code",
   "execution_count": 21,
   "metadata": {
    "colab": {
     "base_uri": "https://localhost:8080/"
    },
    "id": "kb47uvj4Qz4X",
    "outputId": "acf75428-2464-4239-f228-cf1541f50723"
   },
   "outputs": [
    {
     "data": {
      "text/plain": [
       "array([-9.76562500e-02,  3.19824219e-02,  2.57812500e-01, -4.15039062e-02,\n",
       "        1.01562500e-01, -1.00585938e-01,  1.46484375e-01, -1.99218750e-01,\n",
       "        1.53320312e-01,  6.34765625e-02,  8.39843750e-02, -3.00781250e-01,\n",
       "        6.34765625e-02,  2.08984375e-01, -2.11914062e-01,  1.88476562e-01,\n",
       "       -8.34960938e-02,  3.28125000e-01,  2.79296875e-01, -1.40625000e-01,\n",
       "       -1.68945312e-01,  2.04101562e-01,  4.90722656e-02, -6.98852539e-03,\n",
       "        9.42382812e-02,  9.84191895e-04,  3.12500000e-02,  2.48046875e-01,\n",
       "        3.35937500e-01,  2.63671875e-01,  5.68847656e-02,  3.04687500e-01,\n",
       "        1.21582031e-01, -1.97265625e-01,  1.72119141e-02,  9.96093750e-02,\n",
       "        2.27539062e-01, -1.20605469e-01,  1.23535156e-01,  3.78906250e-01,\n",
       "        2.36816406e-02, -1.86523438e-01,  6.29882812e-02,  1.52343750e-01,\n",
       "        3.73535156e-02, -1.69921875e-01,  1.06445312e-01, -4.98046875e-02,\n",
       "       -6.20117188e-02,  1.68945312e-01,  4.41894531e-02,  2.78320312e-02,\n",
       "       -1.10839844e-01,  4.49218750e-02,  2.78320312e-02, -4.45312500e-01,\n",
       "        3.49121094e-02, -6.22558594e-02, -3.93066406e-02, -2.01171875e-01,\n",
       "       -3.04687500e-01, -1.00585938e-01, -1.64062500e-01,  1.52343750e-01,\n",
       "        1.10351562e-01, -1.53320312e-01, -7.12890625e-02,  7.95898438e-02,\n",
       "        1.87500000e-01,  6.88476562e-02,  2.44140625e-01, -6.56127930e-04,\n",
       "       -1.91406250e-01,  3.49121094e-02,  1.97753906e-02, -5.41992188e-02,\n",
       "        3.32031250e-02, -2.08007812e-01,  9.86328125e-02, -1.90429688e-01,\n",
       "       -6.07910156e-02, -2.07031250e-01, -2.18505859e-02,  8.78906250e-02,\n",
       "        2.08984375e-01, -2.36328125e-01, -9.17968750e-02,  2.26562500e-01,\n",
       "       -3.93066406e-02,  9.13085938e-02,  1.13525391e-02, -1.55273438e-01,\n",
       "        6.78710938e-02, -4.90722656e-02,  2.51770020e-03, -4.66308594e-02,\n",
       "        9.17968750e-02,  1.05957031e-01,  2.10937500e-01,  4.24804688e-02,\n",
       "       -4.95605469e-02,  1.76757812e-01,  3.32031250e-01, -4.22363281e-02,\n",
       "        2.03125000e-01,  2.98828125e-01,  1.21093750e-01, -4.85839844e-02,\n",
       "       -1.41601562e-01, -2.51953125e-01, -2.20703125e-01,  2.23632812e-01,\n",
       "        2.22167969e-02,  1.09375000e-01,  3.14453125e-01,  3.71093750e-01,\n",
       "       -4.83398438e-02,  2.77343750e-01,  1.27563477e-02, -9.61914062e-02,\n",
       "       -2.03125000e-01, -1.55273438e-01,  1.10351562e-01, -6.54296875e-02,\n",
       "       -2.75390625e-01, -2.34375000e-01, -3.78906250e-01, -8.30078125e-02,\n",
       "       -1.25000000e-01, -1.40625000e-01, -9.27734375e-03, -4.21875000e-01,\n",
       "       -1.17187500e-01, -2.41210938e-01,  3.44238281e-02,  5.34057617e-03,\n",
       "       -2.98828125e-01,  3.45703125e-01, -6.54296875e-02,  5.54199219e-02,\n",
       "       -5.17578125e-02, -1.12792969e-01,  2.01171875e-01,  2.97851562e-02,\n",
       "        1.05468750e-01,  2.75390625e-01,  1.02050781e-01, -1.66992188e-01,\n",
       "       -7.08007812e-02, -2.96875000e-01,  1.50390625e-01,  2.94921875e-01,\n",
       "       -1.97265625e-01,  4.85839844e-02, -4.27734375e-01,  1.55639648e-02,\n",
       "        1.20605469e-01, -1.70898438e-01,  6.68945312e-02, -1.50390625e-01,\n",
       "       -5.27343750e-02,  6.49414062e-02,  3.78417969e-02,  1.74560547e-02,\n",
       "        1.44531250e-01, -1.47460938e-01,  1.07421875e-01, -1.96289062e-01,\n",
       "       -5.20019531e-02, -6.29882812e-02, -1.71875000e-01,  2.25830078e-02,\n",
       "       -5.27954102e-03, -1.22558594e-01, -6.25000000e-02,  8.85009766e-04,\n",
       "        1.84326172e-02,  1.12792969e-01, -1.11328125e-01,  1.00731850e-05,\n",
       "        2.41210938e-01,  6.64062500e-02, -2.45361328e-02,  1.89208984e-02,\n",
       "       -1.83105469e-02,  3.06640625e-01,  1.83105469e-02, -3.85742188e-02,\n",
       "        1.81640625e-01,  2.27355957e-03,  1.45507812e-01,  6.73828125e-02,\n",
       "       -1.68457031e-02,  1.87500000e-01, -1.21093750e-01,  2.17285156e-02,\n",
       "        1.29882812e-01,  1.55273438e-01, -7.81250000e-02,  5.05371094e-02,\n",
       "       -7.66601562e-02, -1.18164062e-01,  4.51660156e-02, -3.71093750e-02,\n",
       "        2.48046875e-01, -3.10546875e-01,  1.98242188e-01, -2.37304688e-01,\n",
       "       -2.18505859e-02, -9.76562500e-02, -1.08032227e-02,  1.69921875e-01,\n",
       "        1.13769531e-01, -5.17578125e-02, -1.94335938e-01,  9.47265625e-02,\n",
       "        1.28906250e-01,  2.05078125e-02, -2.77343750e-01, -8.69140625e-02,\n",
       "        1.26342773e-02, -4.57031250e-01, -1.33789062e-01, -8.15429688e-02,\n",
       "        2.89062500e-01,  1.89453125e-01,  1.62109375e-01, -1.64794922e-02,\n",
       "        3.75366211e-03, -1.38671875e-01, -1.04980469e-01, -1.20117188e-01,\n",
       "       -1.13525391e-02,  5.15136719e-02,  4.68750000e-02, -8.93554688e-02,\n",
       "        2.56347656e-02, -2.77343750e-01,  1.05468750e-01, -1.03027344e-01,\n",
       "        2.07031250e-01, -1.67968750e-01,  1.99218750e-01,  1.67236328e-02,\n",
       "       -1.80664062e-01,  1.06445312e-01, -3.39843750e-01, -5.81054688e-02,\n",
       "       -3.35937500e-01,  4.39453125e-02,  8.59375000e-02,  4.44335938e-02,\n",
       "        2.74658203e-03,  1.70898438e-01,  7.42187500e-02, -3.06396484e-02,\n",
       "       -7.86132812e-02,  5.03540039e-03, -1.16699219e-01,  3.18359375e-01,\n",
       "        2.63671875e-01, -9.47265625e-02,  1.21582031e-01,  1.52343750e-01,\n",
       "       -2.33398438e-01,  3.84765625e-01, -1.13281250e-01,  4.15039062e-02,\n",
       "       -2.20703125e-01,  1.05590820e-02, -3.41796875e-02,  7.56835938e-02,\n",
       "       -2.36328125e-01, -6.98242188e-02,  3.03955078e-02, -2.00195312e-01,\n",
       "        1.74804688e-01, -1.57226562e-01, -3.95507812e-02, -2.69531250e-01,\n",
       "       -1.11816406e-01,  1.04980469e-01,  1.14746094e-01, -2.47955322e-04,\n",
       "       -1.42578125e-01, -1.63085938e-01, -2.63671875e-01,  1.44531250e-01,\n",
       "        1.63085938e-01,  2.19726562e-02, -2.06054688e-01, -3.17382812e-02,\n",
       "       -1.56250000e-01, -1.09375000e-01,  4.57031250e-01,  2.71484375e-01,\n",
       "        6.12792969e-02,  2.01416016e-03, -1.21582031e-01,  1.58203125e-01],\n",
       "      dtype=float32)"
      ]
     },
     "execution_count": 21,
     "metadata": {},
     "output_type": "execute_result"
    }
   ],
   "source": [
    "model['football']"
   ]
  },
  {
   "cell_type": "markdown",
   "metadata": {
    "id": "2oTTMO-ZTvhR"
   },
   "source": [
    "As we can observe,it is Dense vector with mostly Non-Zero Values between -3 to 3 and 300D"
   ]
  },
  {
   "cell_type": "markdown",
   "metadata": {
    "id": "rRDLb2MLWI4M"
   },
   "source": [
    "There are different functon that we can use in gensim library\n",
    "Like  finding similar word ,compare similarity, find odd one out,\n",
    "Do vector airthematic."
   ]
  },
  {
   "cell_type": "code",
   "execution_count": 22,
   "metadata": {
    "colab": {
     "base_uri": "https://localhost:8080/"
    },
    "id": "s7XDnrPCRc_a",
    "outputId": "a13ad42a-fea3-44c9-961d-2c2aad894b6b"
   },
   "outputs": [
    {
     "data": {
      "text/plain": [
       "[('woman', 0.7664012908935547),\n",
       " ('boy', 0.6824871301651001),\n",
       " ('teenager', 0.6586930155754089),\n",
       " ('teenage_girl', 0.6147903203964233),\n",
       " ('girl', 0.5921714305877686),\n",
       " ('suspected_purse_snatcher', 0.571636438369751),\n",
       " ('robber', 0.5585119128227234),\n",
       " ('Robbery_suspect', 0.5584409832954407),\n",
       " ('teen_ager', 0.5549196600914001),\n",
       " ('men', 0.5489763021469116)]"
      ]
     },
     "execution_count": 22,
     "metadata": {},
     "output_type": "execute_result"
    }
   ],
   "source": [
    "# Checking similar word, using .most_similar() > convert word into vector first then find the similar words\n",
    "model.most_similar('man')"
   ]
  },
  {
   "cell_type": "code",
   "execution_count": 23,
   "metadata": {
    "colab": {
     "base_uri": "https://localhost:8080/"
    },
    "id": "eGLtokkHUg9n",
    "outputId": "2e305a58-f865-4a98-cf95-27c1ce2bf7eb"
   },
   "outputs": [
    {
     "data": {
      "text/plain": [
       "[('cricketing', 0.8372225761413574),\n",
       " ('cricketers', 0.8165745735168457),\n",
       " ('Test_cricket', 0.8094819188117981),\n",
       " ('Twenty##_cricket', 0.8068488240242004),\n",
       " ('Twenty##', 0.7624265551567078),\n",
       " ('Cricket', 0.75413978099823),\n",
       " ('cricketer', 0.7372578382492065),\n",
       " ('twenty##', 0.7316356897354126),\n",
       " ('T##_cricket', 0.7304614186286926),\n",
       " ('West_Indies_cricket', 0.6987985968589783)]"
      ]
     },
     "execution_count": 23,
     "metadata": {},
     "output_type": "execute_result"
    }
   ],
   "source": [
    "# Checking similar word, using .most_similar()\n",
    "model.most_similar('cricket')"
   ]
  },
  {
   "cell_type": "code",
   "execution_count": 24,
   "metadata": {
    "colab": {
     "base_uri": "https://localhost:8080/"
    },
    "id": "bp-76Z-eUhGM",
    "outputId": "6a1db621-dbdf-4bc6-95e5-e7353559ceed"
   },
   "outputs": [
    {
     "data": {
      "text/plain": [
       "[('Facebook', 0.7563533186912537),\n",
       " ('FaceBook', 0.7076998949050903),\n",
       " ('twitter', 0.6988552212715149),\n",
       " ('myspace', 0.6941817998886108),\n",
       " ('Twitter', 0.664244532585144),\n",
       " ('twitter_facebook', 0.6572229862213135),\n",
       " ('Facebook.com', 0.6529868245124817),\n",
       " ('myspace_facebook', 0.6370643973350525),\n",
       " ('facebook_twitter', 0.6367618441581726),\n",
       " ('linkedin', 0.6356592774391174)]"
      ]
     },
     "execution_count": 24,
     "metadata": {},
     "output_type": "execute_result"
    }
   ],
   "source": [
    "# Checking similar word, using .most_similar()\n",
    "model.most_similar('facebook')"
   ]
  },
  {
   "cell_type": "code",
   "execution_count": 25,
   "metadata": {
    "colab": {
     "base_uri": "https://localhost:8080/"
    },
    "id": "DQ7FZ8vfUhJ2",
    "outputId": "92d2075d-c024-4598-abb7-2422780cd30b"
   },
   "outputs": [
    {
     "data": {
      "text/plain": [
       "0.76640123"
      ]
     },
     "execution_count": 25,
     "metadata": {},
     "output_type": "execute_result"
    }
   ],
   "source": [
    "#compare the similaries using .similarity > first convert words into vector and then compare and result in #\n",
    "# Highe # means Highly Similary\n",
    "model.similarity('man','woman')"
   ]
  },
  {
   "cell_type": "code",
   "execution_count": 27,
   "metadata": {
    "colab": {
     "base_uri": "https://localhost:8080/"
    },
    "id": "C28MUsTsUhPn",
    "outputId": "4103be8f-9432-4013-fe2f-6119efab7434"
   },
   "outputs": [
    {
     "data": {
      "text/plain": [
       "-0.032995153"
      ]
     },
     "execution_count": 27,
     "metadata": {},
     "output_type": "execute_result"
    }
   ],
   "source": [
    "#compare the similaries using .similarity\n",
    "model.similarity('man','PHP')"
   ]
  },
  {
   "cell_type": "markdown",
   "metadata": {
    "id": "wM7OnIs6XTvq"
   },
   "source": [
    "-ve value means not very similar"
   ]
  },
  {
   "cell_type": "code",
   "execution_count": 30,
   "metadata": {
    "colab": {
     "base_uri": "https://localhost:8080/",
     "height": 35
    },
    "id": "uJLkovqsUhTx",
    "outputId": "6268e345-b5f8-4528-d5c9-ce9d172d63b8"
   },
   "outputs": [
    {
     "data": {
      "application/vnd.google.colaboratory.intrinsic+json": {
       "type": "string"
      },
      "text/plain": [
       "'monkey'"
      ]
     },
     "execution_count": 30,
     "metadata": {},
     "output_type": "execute_result"
    }
   ],
   "source": [
    "#finding odd one out using .doesn't_match()\n",
    "model.doesnt_match(['PHP', 'monkey', 'Java'])"
   ]
  },
  {
   "cell_type": "code",
   "execution_count": 32,
   "metadata": {
    "colab": {
     "base_uri": "https://localhost:8080/"
    },
    "id": "GhLDhT4SUhX2",
    "outputId": "5255ffc5-05be-4494-866e-fa6efc021714"
   },
   "outputs": [
    {
     "data": {
      "text/plain": [
       "[('king', 0.8449392318725586),\n",
       " ('queen', 0.7300517559051514),\n",
       " ('monarch', 0.645466148853302),\n",
       " ('princess', 0.6156251430511475),\n",
       " ('crown_prince', 0.5818676352500916),\n",
       " ('prince', 0.5777117609977722),\n",
       " ('kings', 0.5613663792610168),\n",
       " ('sultan', 0.5376775860786438),\n",
       " ('Queen_Consort', 0.5344247817993164),\n",
       " ('queens', 0.5289887189865112)]"
      ]
     },
     "execution_count": 32,
     "metadata": {},
     "output_type": "execute_result"
    }
   ],
   "source": [
    "#Vector Airthematic and finding the similar word\n",
    "\n",
    "vec = model['king'] - model['man'] + model['woman']\n",
    "model.most_similar(vec)"
   ]
  },
  {
   "cell_type": "code",
   "execution_count": 33,
   "metadata": {
    "colab": {
     "base_uri": "https://localhost:8080/"
    },
    "id": "QSX0fpnRUhig",
    "outputId": "3f3c0ea6-6df6-4a5c-ed9c-acf0d7b4534e"
   },
   "outputs": [
    {
     "data": {
      "text/plain": [
       "[('INR', 0.6442341208457947),\n",
       " ('GBP', 0.5040826797485352),\n",
       " ('£_##.###m', 0.4540838301181793),\n",
       " ('England', 0.44649264216423035),\n",
       " ('£', 0.43340998888015747),\n",
       " ('Â_£', 0.4307197630405426),\n",
       " ('stg###', 0.4299262464046478),\n",
       " ('£_#.##m', 0.42561301589012146),\n",
       " ('Pounds_Sterling', 0.42512619495391846),\n",
       " ('GBP##', 0.42464491724967957)]"
      ]
     },
     "execution_count": 33,
     "metadata": {},
     "output_type": "execute_result"
    }
   ],
   "source": [
    "#Vector Airthematic and finding the similar word\n",
    "\n",
    "vec = model['INR'] - model['India'] + model['England']\n",
    "model.most_similar(vec)"
   ]
  },
  {
   "cell_type": "code",
   "execution_count": 34,
   "metadata": {
    "colab": {
     "base_uri": "https://localhost:8080/"
    },
    "id": "Qf1f2nRwV9j8",
    "outputId": "19d4820b-c9ff-4174-8f41-9b65c25f65a1"
   },
   "outputs": [
    {
     "data": {
      "text/plain": [
       "array([ 0.0402832 ,  0.06433105, -0.08557129,  0.26586914,  0.23339844,\n",
       "        0.00976562,  0.01049805, -0.18261719,  0.27368164, -0.07946777,\n",
       "       -0.20568848, -0.14550781, -0.26123047,  0.12817383,  0.1428833 ,\n",
       "        0.17749023, -0.41516113, -0.10693359, -0.02166748, -0.16918945,\n",
       "       -0.08747292, -0.121521  , -0.09388733, -0.05371094, -0.07080078,\n",
       "        0.08740234, -0.42382812,  0.22216797,  0.09155273,  0.08203125,\n",
       "        0.03320312, -0.18804932,  0.01074219, -0.20489502, -0.48254395,\n",
       "       -0.35302734,  0.10583496, -0.48754883, -0.2607422 ,  0.13061523,\n",
       "       -0.02258301, -0.2434082 ,  0.2770996 , -0.26611328, -0.29370117,\n",
       "       -0.03344727,  0.3380127 ,  0.33007812, -0.4663086 , -0.01757812,\n",
       "       -0.01928711,  0.28759766,  0.14305878, -0.13842773, -0.12353516,\n",
       "       -0.07446289,  0.10253906,  0.23822021,  0.00585938, -0.00488281,\n",
       "       -0.19281006, -0.02148438, -0.05444336, -0.22021484,  0.14160156,\n",
       "       -0.12524414,  0.00708008,  0.20166016, -0.0279541 ,  0.1484375 ,\n",
       "        0.32147217, -0.7043457 ,  0.11206055,  0.15344238, -0.2514038 ,\n",
       "       -0.34472656, -0.1586914 ,  0.04321289,  0.09082031, -0.2993164 ,\n",
       "       -0.00740814, -0.36523438, -0.375     ,  0.1352539 ,  0.3491211 ,\n",
       "        0.14458466,  0.13336182,  0.0234375 ,  0.02001953,  0.04229069,\n",
       "        0.1772461 ,  0.28051758, -0.04238892,  0.12176514, -0.1300354 ,\n",
       "        0.2211914 , -0.29296875, -0.31201172, -0.26464844, -0.10864258,\n",
       "        0.31619072, -0.2614746 ,  0.03091431, -0.06860352,  0.12854004,\n",
       "       -0.03735352, -0.00537109,  0.2234497 ,  0.2467041 , -0.19580078,\n",
       "        0.00805664, -0.15222168,  0.14111328,  0.03515625,  0.02368164,\n",
       "       -0.08789062, -0.01831055,  0.17236328,  0.40234375, -0.01464844,\n",
       "        0.27441406, -0.24414062,  0.2788086 , -0.06787109,  0.46679688,\n",
       "       -0.10791016, -0.09448242,  0.21704102, -0.06445312,  0.2006836 ,\n",
       "       -0.09472656, -0.16210938,  0.1105957 , -0.39819336,  0.01818848,\n",
       "       -0.3930664 ,  0.15893555,  0.27441406, -0.14086914,  0.09301758,\n",
       "        0.21972656,  0.13330078,  0.01611328, -0.10595703, -0.16064453,\n",
       "       -0.16186523, -0.16900635, -0.08197021, -0.15119934, -0.27416992,\n",
       "        0.00878906, -0.24804688,  0.10861206,  0.11816406,  0.23510742,\n",
       "        0.1381836 , -0.09570312, -0.08666992, -0.00463867,  0.08599854,\n",
       "        0.36083984,  0.5239258 ,  0.3890381 ,  0.21484375, -0.46191406,\n",
       "       -0.10351562,  0.37231445, -0.04541016, -0.19192505, -0.14013672,\n",
       "       -0.47558594, -0.02380371, -0.19165039,  0.25756836, -0.10546875,\n",
       "       -0.08300781, -0.29101562, -0.37109375,  0.3293457 ,  0.00488281,\n",
       "       -0.01220703, -0.2277832 ,  0.30615234,  0.08007812, -0.4437256 ,\n",
       "        0.06811523, -0.22460938, -0.1496582 ,  0.12841797,  0.00158691,\n",
       "       -0.24707031,  0.14160156,  0.00115967, -0.4243164 ,  0.03271484,\n",
       "       -0.02246094,  0.23339844,  0.04232788, -0.06835938,  0.01654053,\n",
       "       -0.1899414 ,  0.36108398,  0.12390137, -0.1159668 , -0.11560059,\n",
       "       -0.18066406, -0.25      ,  0.17626953,  0.24853516, -0.27075195,\n",
       "       -0.01269531, -0.08538818,  0.03677368, -0.14135742, -0.31640625,\n",
       "       -0.37226868,  0.5476074 , -0.15332031, -0.05395508,  0.1003418 ,\n",
       "        0.02587891,  0.3166504 ,  0.08740234, -0.13183594, -0.20654297,\n",
       "        0.15130615, -0.08822632, -0.19384766,  0.07421875, -0.29013062,\n",
       "       -0.02636719,  0.02905273, -0.5371094 , -0.1965332 , -0.27062988,\n",
       "        0.15332031,  0.22973633, -0.07226562, -0.24902344, -0.3149414 ,\n",
       "        0.06787109, -0.46484375,  0.50268555,  0.0090332 , -0.2746582 ,\n",
       "        0.36828613, -0.2861328 ,  0.11669922, -0.27648926,  0.23059082,\n",
       "        0.6381836 ,  0.01208496, -0.17114258,  0.14456177,  0.30664062,\n",
       "        0.20898438, -0.15185547, -0.065979  ,  0.2084961 ,  0.03637695,\n",
       "        0.22912598, -0.00341797, -0.07754517,  0.02392578, -0.22070312,\n",
       "        0.1694336 , -0.15820312, -0.5053711 ,  0.09667969, -0.40625   ,\n",
       "        0.01525879,  0.0925293 ,  0.02978516,  0.03686523,  0.31054688,\n",
       "       -0.11352539,  0.42077637, -0.01831055,  0.08447266, -0.1171875 ,\n",
       "       -0.00717163,  0.26550293,  0.31152344, -0.09204102, -0.34033203,\n",
       "       -0.12963867, -0.09301758, -0.08789062,  0.19348145, -0.08111572,\n",
       "        0.10351562,  0.17675781, -0.20983887,  0.06872559,  0.19189453,\n",
       "        0.08789062,  0.09472656, -0.11647034,  0.2084961 ,  0.09667969],\n",
       "      dtype=float32)"
      ]
     },
     "execution_count": 34,
     "metadata": {},
     "output_type": "execute_result"
    }
   ],
   "source": [
    "vec"
   ]
  },
  {
   "cell_type": "code",
   "execution_count": null,
   "metadata": {
    "id": "qATTNE1rV9nG"
   },
   "outputs": [],
   "source": []
  },
  {
   "cell_type": "code",
   "execution_count": null,
   "metadata": {
    "id": "r3J0MqhLV9qu"
   },
   "outputs": [],
   "source": []
  },
  {
   "cell_type": "code",
   "execution_count": null,
   "metadata": {
    "id": "AscGMxx2V9tX"
   },
   "outputs": [],
   "source": []
  },
  {
   "cell_type": "code",
   "execution_count": null,
   "metadata": {
    "id": "qutBfh1sV9us"
   },
   "outputs": [],
   "source": []
  },
  {
   "cell_type": "code",
   "execution_count": null,
   "metadata": {
    "id": "ANqhgqxMV9xF"
   },
   "outputs": [],
   "source": []
  },
  {
   "cell_type": "code",
   "execution_count": null,
   "metadata": {
    "id": "IzX4HPm1V9zN"
   },
   "outputs": [],
   "source": []
  },
  {
   "cell_type": "code",
   "execution_count": null,
   "metadata": {
    "id": "2QBU07FhV90_"
   },
   "outputs": [],
   "source": []
  },
  {
   "cell_type": "code",
   "execution_count": null,
   "metadata": {
    "id": "LGom5b5LV92e"
   },
   "outputs": [],
   "source": []
  },
  {
   "cell_type": "markdown",
   "metadata": {
    "id": "Iwjzy3EPSUw6"
   },
   "source": []
  }
 ],
 "metadata": {
  "accelerator": "GPU",
  "colab": {
   "gpuType": "T4",
   "provenance": []
  },
  "kernelspec": {
   "display_name": "Python 3 (ipykernel)",
   "language": "python",
   "name": "python3"
  },
  "language_info": {
   "codemirror_mode": {
    "name": "ipython",
    "version": 3
   },
   "file_extension": ".py",
   "mimetype": "text/x-python",
   "name": "python",
   "nbconvert_exporter": "python",
   "pygments_lexer": "ipython3",
   "version": "3.12.7"
  }
 },
 "nbformat": 4,
 "nbformat_minor": 4
}
